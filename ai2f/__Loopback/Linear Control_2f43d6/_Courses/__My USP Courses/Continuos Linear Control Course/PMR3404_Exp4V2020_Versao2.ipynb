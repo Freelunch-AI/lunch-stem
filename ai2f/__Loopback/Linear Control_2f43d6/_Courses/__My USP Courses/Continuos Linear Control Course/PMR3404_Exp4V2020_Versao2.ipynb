{
  "nbformat": 4,
  "nbformat_minor": 0,
  "metadata": {
    "kernelspec": {
      "display_name": "Python 3",
      "language": "python",
      "name": "python3"
    },
    "language_info": {
      "codemirror_mode": {
        "name": "ipython",
        "version": 3
      },
      "file_extension": ".py",
      "mimetype": "text/x-python",
      "name": "python",
      "nbconvert_exporter": "python",
      "pygments_lexer": "ipython3",
      "version": "3.7.6"
    },
    "colab": {
      "name": "PMR3404_Exp4V2020.ipynb",
      "provenance": []
    }
  },
  "cells": [
    {
      "cell_type": "markdown",
      "metadata": {
        "id": "VFAa1Rcp4My6",
        "colab_type": "text"
      },
      "source": [
        "# PMR3404 - Controle I\n",
        "# Experiência 4: Projeto de controladores no domínio da frequência"
      ]
    },
    {
      "cell_type": "markdown",
      "metadata": {
        "id": "xFvc1adG4My7",
        "colab_type": "text"
      },
      "source": [
        "# Identificação\n",
        "\n",
        "**Aluno : Bruno Scaglione**           **NUSP: 10335812**\n",
        "\n",
        "**Turma de Laboratório: 2**\n",
        "\n",
        "**Professor: Newton**"
      ]
    },
    {
      "cell_type": "markdown",
      "metadata": {
        "id": "fPYXxlcK4My8",
        "colab_type": "text"
      },
      "source": [
        "**OBSERVAÇÕES:**\n",
        "\n",
        "1. Você deve submeter o seu relatório num único arquivo compactado contendo o seu arquivo formato jupyter notebook .ipynb com todas as células dos scripts executadas para verificação,\n",
        "2. Todos os gráficos devem ser na versão final do tipo inline para permanecer na célula de execução. Não será necessário colocar os gráficos na área de Markdown,\n",
        "3. As células são interdependentes, ou seja, é necessário a execução das células de maneira sequencial pois a execução dos scripts de cada exercício depende de valores de variáveis de células anteriores.\n"
      ]
    },
    {
      "cell_type": "markdown",
      "metadata": {
        "id": "-TJ1LeyG4My9",
        "colab_type": "text"
      },
      "source": [
        "# Exercício 1: Projeto com controlador avanço de fase"
      ]
    },
    {
      "cell_type": "markdown",
      "metadata": {
        "id": "-38OpeQP4My-",
        "colab_type": "text"
      },
      "source": [
        "O controlador por avanço de fase pode ser escrito através da seguinte equação:\n",
        "$$\n",
        "G_c(s) = K_c \\alpha\\frac{Ts+1}{\\alpha Ts+1} = K_c \\frac{s+\\frac{1}{T}}{s+\\frac{1}{\\alpha T}}\n",
        "$$\n",
        "\n",
        "Um diagrama de Bode para $K_c=1$ e $\\alpha=0.1$ é ilustrado abaixo:\n",
        "\n",
        "<img src=\"./Figuras/leadcontrol.png\" width=\"50%\" height=\"50%\"/>\n",
        "\n",
        "Seja o seguinte sistema:\n",
        "$$\n",
        "G(s) = \\frac{4}{s(\\frac{5}{2}s+1)(\\frac{1}{6}s+1)}\n",
        "$$\n",
        "\n",
        "O sistema de controle em malha fechada correspondente é ilustrado na figura abaixo:\n",
        "\n",
        "<img src=\"./Figuras/cloop.png\" width=\"30%\" height=\"30%\"/>\n",
        "\n",
        "Esse sistema é estável como pode ser visto no diagrama de Bode de malha aberta entretanto as margens de estabilidade são bem pequenas. A resposta a degrau unitário enfatiza esse aspecto pelo comportamento bastante oscilatório.\n",
        "\n",
        "<img src=\"./Figuras/bodeleadinicial1.png\" width=\"40%\" height=\"40%\"/>\n",
        "\n",
        "<img src=\"./Figuras/respostadegrauiniciallead1.png\" width=\"40%\" height=\"40%\"/>\n",
        "\n",
        "Para esse sistema projete um controlador avanço de fase que atenda às seguintes especificações:\n",
        "- Constante de erro de velocidade $K_v=10$,\n",
        "- Margem de Ganho $G_m \\ge 10$dB,\n",
        "- Margem de Fase $P_m \\ge 30^o$."
      ]
    },
    {
      "cell_type": "markdown",
      "metadata": {
        "id": "CP3FqlDk4My_",
        "colab_type": "text"
      },
      "source": [
        "## Passo 1: Ajuste da constante de erro de velocidade estático\n",
        "\n",
        "Seja $G_1(s)=KG(s)$\n",
        "Determinar o valor de $K$ que atende o requisito da constante de erro estático de velocidade $K_v$:\n",
        "$$\n",
        "K_v=\\lim_{s\\rightarrow 0}sG_c(s)G(s) =\n",
        "$$\n",
        "\n",
        "$$\n",
        "K = 2,5\n",
        "$$\n"
      ]
    },
    {
      "cell_type": "code",
      "metadata": {
        "id": "czBYd_3X4MzA",
        "colab_type": "code",
        "colab": {
          "base_uri": "https://localhost:8080/",
          "height": 34
        },
        "outputId": "6e3d5bed-b4dc-4654-fe57-1fea2f40faa1"
      },
      "source": [
        "K= 2.5\n",
        "print(\"K = \",K)"
      ],
      "execution_count": 4,
      "outputs": [
        {
          "output_type": "stream",
          "text": [
            "K =  2.5\n"
          ],
          "name": "stdout"
        }
      ]
    },
    {
      "cell_type": "code",
      "metadata": {
        "id": "D4xfq3IeT2_C",
        "colab_type": "code",
        "colab": {
          "base_uri": "https://localhost:8080/",
          "height": 176
        },
        "outputId": "aa957622-2108-4123-e015-1aacf7af33aa"
      },
      "source": [
        "!pip install control"
      ],
      "execution_count": 5,
      "outputs": [
        {
          "output_type": "stream",
          "text": [
            "Requirement already satisfied: control in /usr/local/lib/python3.6/dist-packages (0.8.3)\n",
            "Requirement already satisfied: scipy in /usr/local/lib/python3.6/dist-packages (from control) (1.4.1)\n",
            "Requirement already satisfied: numpy in /usr/local/lib/python3.6/dist-packages (from control) (1.18.5)\n",
            "Requirement already satisfied: matplotlib in /usr/local/lib/python3.6/dist-packages (from control) (3.2.2)\n",
            "Requirement already satisfied: python-dateutil>=2.1 in /usr/local/lib/python3.6/dist-packages (from matplotlib->control) (2.8.1)\n",
            "Requirement already satisfied: pyparsing!=2.0.4,!=2.1.2,!=2.1.6,>=2.0.1 in /usr/local/lib/python3.6/dist-packages (from matplotlib->control) (2.4.7)\n",
            "Requirement already satisfied: kiwisolver>=1.0.1 in /usr/local/lib/python3.6/dist-packages (from matplotlib->control) (1.2.0)\n",
            "Requirement already satisfied: cycler>=0.10 in /usr/local/lib/python3.6/dist-packages (from matplotlib->control) (0.10.0)\n",
            "Requirement already satisfied: six>=1.5 in /usr/local/lib/python3.6/dist-packages (from python-dateutil>=2.1->matplotlib->control) (1.12.0)\n"
          ],
          "name": "stdout"
        }
      ]
    },
    {
      "cell_type": "markdown",
      "metadata": {
        "id": "5MqRuO1s4MzE",
        "colab_type": "text"
      },
      "source": [
        "## Passo 2:\n",
        "\n",
        "Utilizando o valor de $K$ obtido no passo 1 obtenha o diagrama de Bode para $G_1(j\\omega)$. \n",
        "\n",
        "verifique no diagrama de Bode a Margem de Ganho $G_m$, a frequência de crossover de ganho $\\omega_{cg}$, a Margem de Fase $P_m$ do sistema compensado $G_c(s)G(s)$, a frequência de crossover de fase $\\omega_{cp}$ e preencha a tabela abaixo:\n",
        "\n",
        "|$G_m$ | $\\omega_{cg}$ | $Pm$ | $\\omega_{cp}$ |\n",
        "|:--|:--|:--|:--|\n",
        "| -3.88 dB | 1.93 rad/s | -6.14 graus| 1.55 rad/s |\n",
        "\n",
        "**Obs: utilize o script abaixo.**"
      ]
    },
    {
      "cell_type": "code",
      "metadata": {
        "id": "Q7ATlzSc4MzF",
        "colab_type": "code",
        "colab": {
          "base_uri": "https://localhost:8080/",
          "height": 316
        },
        "outputId": "859633f0-7f82-4f72-9485-a70070047e32"
      },
      "source": [
        "# inline para graficos sem interacao\n",
        "# qt para grafico em janela separada com interacao (melhora visualizacao)\n",
        "%matplotlib inline\n",
        "#%matplotlib qt\n",
        "import numpy as np\n",
        "import control.matlab as co\n",
        "import matplotlib.pyplot as plt\n",
        "s=co.tf('s')\n",
        "#\n",
        "# Sistema\n",
        "G = 4/(s*((5/2)*s+1)*((1/6)*s+1))\n",
        "G1 = K*G\n",
        "#\n",
        "# Utiliza a funcao bode mas sem display grafico\n",
        "# Aproveita informacoes de modulo, fase e frequencia angular\n",
        "# Geracao da escala da frequencia angular rad/s\n",
        "omega = np.logspace(0,2,num=100,base=10)\n",
        "mag,phase,omega = co.bode(G1,dB=True,Plot=False)\n",
        "# Converte para dB e graus\n",
        "magdB = 20*np.log10(mag)\n",
        "phase_deg = phase*180.0/np.pi\n",
        "# Utiliza a funcao margin() que calcula\n",
        "# As margens de estabilidade com suas respetivas freq. de crossover\n",
        "Gm,Pm,Wcg,Wcp = co.margin(G1)\n",
        "GmdB = 20*np.log10(Gm)\n",
        "\n",
        "##Plot Gain and Phase\n",
        "f, (ax1,ax2) = plt.subplots(2,1)\n",
        "ax1.semilogx(omega,magdB)\n",
        "ax1.grid(which=\"both\")\n",
        "ax1.set_xlabel('Frequency (rad/s)')\n",
        "ax1.set_ylabel('Magnitude (dB)')\n",
        "ax2.semilogx(omega,phase_deg)\n",
        "ax2.grid(which=\"both\")\n",
        "ax2.set_xlabel('Frequency (rad/s)')\n",
        "ax2.set_ylabel('Phase (deg)')\n",
        "ax1.set_title('Gm = '+str(np.round(GmdB,2))+' dB (at '+str(np.round(Wcg,2))+' rad/s), Pm = '+str(np.round(Pm,2))+' deg (at '+str(np.round(Wcp,2))+' rad/s)')\n",
        "###Plot the zero dB line\n",
        "ax1.plot(omega,0*omega,'k--',lineWidth=2)\n",
        "###Plot the -180 deg lin\n",
        "ax2.plot(omega,-180+0*omega,'k--',lineWidth=2)\n",
        "##Plot the vertical line from -180 to 0 at Wcg\n",
        "ax2.plot([Wcg,Wcg],[-180,0],'r--',lineWidth=2)\n",
        "##Plot the vertical line from -180+Pm to 0 at Wcp\n",
        "ax2.plot([Wcp,Wcp],[-180+Pm,0],'g--',lineWidth=2)\n",
        "##Plot the vertical line from min(magdB) to 0-GmdB at Wcg\n",
        "ax1.plot([Wcg,Wcg],[np.min(magdB),0-GmdB],'r--',lineWidth=2)\n",
        "##Plot the vertical line from min(magdB) to 0db at Wcp\n",
        "ax1.plot([Wcp,Wcp],[np.min(magdB),0],'g--',lineWidth=2)\n"
      ],
      "execution_count": 6,
      "outputs": [
        {
          "output_type": "execute_result",
          "data": {
            "text/plain": [
              "[<matplotlib.lines.Line2D at 0x7ff57ad408d0>]"
            ]
          },
          "metadata": {
            "tags": []
          },
          "execution_count": 6
        },
        {
          "output_type": "display_data",
          "data": {
            "image/png": "[encoded data removed]",
            "text/plain": [
              "<Figure size 432x288 with 2 Axes>"
            ]
          },
          "metadata": {
            "tags": [],
            "needs_background": "light"
          }
        }
      ]
    },
    {
      "cell_type": "markdown",
      "metadata": {
        "id": "IgxG7x8O4MzI",
        "colab_type": "text"
      },
      "source": [
        "## Passo 3:\n",
        "\n",
        "Determinar o ângulo de fase $\\Phi_m$ que deve ser adicionado para atender à especificação de projeto.\n",
        "\n",
        "Calcula-se a diferença entre a atual margem de fase $Pm_a$ e a margem de fase mínima especificada pelo projeto $Pm_c$.\n",
        "**Obs: Usualmente adiciona-se $5^o$ à esse valor já que o ponto de crossover de fase $\\omega_{cp}$ se desloca para direita. Se for desejado uma margem de fase maior que o mínimo especificado o valor do ângulo de fase $\\Phi_m$ deve ser aumentado.**\n",
        "\n",
        "**Utilizei $15^o$ como delta, pois $5^o$ não era o suficiente para compensar o deslocamento de $\\omega_{cp}$**\n",
        "\n",
        "$$\n",
        "\\Phi_m = 51.14^o\n",
        "$$\n"
      ]
    },
    {
      "cell_type": "markdown",
      "metadata": {
        "id": "Ku2C4tRN4MzJ",
        "colab_type": "text"
      },
      "source": [
        "## Passo 4:\n",
        "\n",
        "Dado o ângulo de fase máximo que se deseja acrescentar $\\Phi_m$, o parâmetro $\\alpha$ pode ser calculado através da seguinte equação:\n",
        "$$\n",
        "\\sin \\Phi_m = \\frac{1-\\alpha}{1+\\alpha},\n",
        "$$\n",
        "ou ainda:\n",
        "$$\n",
        "\\alpha = \\frac{1-\\sin \\Phi_m}{1+\\sin \\Phi_m} = 0.12\n",
        "$$\n",
        "\n",
        "**Obs: utilize o script abaixo.**"
      ]
    },
    {
      "cell_type": "code",
      "metadata": {
        "id": "63BYHDpR4MzJ",
        "colab_type": "code",
        "colab": {
          "base_uri": "https://localhost:8080/",
          "height": 34
        },
        "outputId": "6d51ff42-d2aa-4178-8a2e-904414e09e87"
      },
      "source": [
        "import numpy as np\n",
        "phim = 51.14  # insira o valor do angulo aqui, unidade em graus\n",
        "# funcao seno so admite angulo em rad\n",
        "senophim = np.sin(np.radians(phim))\n",
        "alpha = (1-senophim)/(1+senophim)\n",
        "print(\"alpha = \",round(alpha,2)) # Arredonda para 2 casas decimais"
      ],
      "execution_count": 7,
      "outputs": [
        {
          "output_type": "stream",
          "text": [
            "alpha =  0.12\n"
          ],
          "name": "stdout"
        }
      ]
    },
    {
      "cell_type": "markdown",
      "metadata": {
        "id": "Es1zNpkj4MzM",
        "colab_type": "text"
      },
      "source": [
        "**Continuação passo 4:**\n",
        "\n",
        "Determinar a frequência angular $\\omega_m$ que corresponde ao ponto onde o controlador tem o maior avanço de fase $\\Phi_m$.\n",
        "\n",
        "Sabemos que a seguinte equação pode ser utilizada:\n",
        "$$\n",
        "\\omega_m = \\frac{1}{\\sqrt{\\alpha}T},\n",
        "$$\n",
        "no entanto não sabemos ainda o valor de $T$. Obs: o zero do controlador é definido por $s=-1/T$ e o pólo $s=-1/\\alpha T$.\n",
        "\n",
        "$$\n",
        "\\left| \\frac{1+j\\omega T}{1+j\\alpha T} \\right|_{\\omega=\\omega_m}=\\frac{1}{\\sqrt{\\alpha}}\n",
        "$$\n",
        "ou em dB:\n",
        "$$\n",
        "20 \\log \\left( \\frac{1}{\\sqrt{\\alpha}} \\right) = 9.05\n",
        "$$\n",
        "**Obs: utilize o script abaixo**\n",
        "\n",
        "Procura-se agora no diagrama de Bode do módulo de $G_1(j\\omega)$ a frequência angular $\\omega$ onde o módulo é igual a:\n",
        "$$\n",
        "|G_1(j\\omega)|= -20 \\log \\left( \\frac{1}{\\sqrt{\\alpha}} \\right)\n",
        "$$\n",
        "\n",
        "Essa frequência que corresponde ao maior avanço de fase do controlador é também a nova frequência de crossover:\n",
        "\n",
        "Fiz pelo matlab essa parte\n",
        "$$\n",
        "\\omega_c = 3.155 rad/s\n",
        "$$"
      ]
    },
    {
      "cell_type": "code",
      "metadata": {
        "id": "3ZdgSm4j4MzN",
        "colab_type": "code",
        "colab": {
          "base_uri": "https://localhost:8080/",
          "height": 34
        },
        "outputId": "52646723-6010-4fe4-d495-8fb26362fc2e"
      },
      "source": [
        "print(\"20 log(1/sqrt(alpha)) =\",round(20*np.log10(1/np.sqrt(alpha)),2))"
      ],
      "execution_count": 8,
      "outputs": [
        {
          "output_type": "stream",
          "text": [
            "20 log(1/sqrt(alpha)) = 9.05\n"
          ],
          "name": "stdout"
        }
      ]
    },
    {
      "cell_type": "markdown",
      "metadata": {
        "id": "nE5DJ9EF4MzQ",
        "colab_type": "text"
      },
      "source": [
        "## Passo 5: Cálculo das frequências de canto\n",
        "\n",
        "Sabendo o valor de $\\omega_m$ e $\\alpha$ podemos o valor das frequências de canto (pólo e zero) do controlador através das seguintes equações:\n",
        "\n",
        "$$\n",
        "\\frac{1}{T}=\\sqrt{\\alpha}\\omega_c = 1.11 rad/s\n",
        "$$ \n",
        "\n",
        "$$\n",
        "\\frac{1}{\\alpha T}=\\frac{\\omega_c}{\\sqrt{\\alpha}} = 8.94 rad/s\n",
        "$$\n",
        "\n",
        "**Obs: utilize o script abaixo:**"
      ]
    },
    {
      "cell_type": "code",
      "metadata": {
        "id": "PLI55N434MzR",
        "colab_type": "code",
        "colab": {
          "base_uri": "https://localhost:8080/",
          "height": 52
        },
        "outputId": "9034cef6-1a65-4409-a780-94d4f975f853"
      },
      "source": [
        "# a variavel alpha deve estar definida na celula acima\n",
        "# coloque aqui o valor escolhido\n",
        "omegac = 3.155\n",
        "T=1/round(np.sqrt(alpha)*omegac,2)\n",
        "print(\"1/T = \",1/T)\n",
        "print(\"1/(alpha T) = \",round(omegac/np.sqrt(alpha),2))"
      ],
      "execution_count": 9,
      "outputs": [
        {
          "output_type": "stream",
          "text": [
            "1/T =  1.11\n",
            "1/(alpha T) =  8.94\n"
          ],
          "name": "stdout"
        }
      ]
    },
    {
      "cell_type": "markdown",
      "metadata": {
        "id": "8tK_EVJe4MzV",
        "colab_type": "text"
      },
      "source": [
        "## Passo 6: Cálculo de $K_c$:\n",
        "$$\n",
        "K_c=\\frac{K}{\\alpha}\n",
        "$$\n",
        "\n",
        "Podemos escrever agora:\n",
        "$$\n",
        "G_c(s) = K_c\\alpha \\frac{Ts+1}{\\alpha Ts+1}= \\frac{2.252s + 2.5}{0.1121s + 1}\n",
        "$$"
      ]
    },
    {
      "cell_type": "code",
      "metadata": {
        "id": "z9FJDfu54MzW",
        "colab_type": "code",
        "colab": {
          "base_uri": "https://localhost:8080/",
          "height": 123
        },
        "outputId": "d70168f5-eb35-4a9b-e09d-a9d7d25b5bff"
      },
      "source": [
        "Kc = K/alpha\n",
        "print(\"Kc = \", round(K/alpha,2))\n",
        "Gc= Kc * alpha * ((T*s+1)/(alpha*T*s+1))\n",
        "print(\"Gc = \",Gc)"
      ],
      "execution_count": 10,
      "outputs": [
        {
          "output_type": "stream",
          "text": [
            "Kc =  20.09\n",
            "Gc =  \n",
            "2.252 s + 2.5\n",
            "-------------\n",
            "0.1121 s + 1\n",
            "\n"
          ],
          "name": "stdout"
        }
      ]
    },
    {
      "cell_type": "markdown",
      "metadata": {
        "id": "C6b8byL34MzZ",
        "colab_type": "text"
      },
      "source": [
        "## Passo 7: Verificação do projeto\n",
        "\n",
        "a) Domínio da frequência:\n",
        "\n",
        "Para observar o resultado no domínio da frequência colocaremos em um único gráfico o Diagrama de Bode de 3 sistemas:\n",
        "1. $G_1(s)=KG(s)$: a margem de fase é inicialmente medida nesse sistema,\n",
        "2. $G_c(s)/K$: o ganho de compensação na frequência de crossover é medido nesse sistema,\n",
        "3. $Gc(s)G(s)$: sistema compensado.\n",
        "\n",
        "**Obs: utilize o script abaixo**\n",
        "\n",
        "verifique no diagrama de Bode a Margem de Ganho $G_m$, a frequência de crossover de ganho $\\omega_{cg}$, a Margem de Fase $P_m$ do sistema compensado $G_c(s)G(s)$, a frequência de crossover de fase $\\omega_{cp}$ e preencha a tabela abaixo:\n",
        "\n",
        "|$G_m$ | $\\omega_{cg}$ | $Pm$ | $\\omega_{cp}$ |\n",
        "|:--|:--|:--|:--|\n",
        "| 10.39 | 3.16 | 30.58 | 6.56 |"
      ]
    },
    {
      "cell_type": "code",
      "metadata": {
        "id": "lGvs4BfC4Mza",
        "colab_type": "code",
        "colab": {
          "base_uri": "https://localhost:8080/",
          "height": 316
        },
        "outputId": "322186bb-a189-4673-c896-3aedde655a12"
      },
      "source": [
        "# inline para graficos sem interacao\n",
        "# qt para grafico em janela separada com interacao (melhora visualizacao)\n",
        "%matplotlib inline\n",
        "#%matplotlib qt\n",
        "import numpy as np\n",
        "import control.matlab as co\n",
        "import matplotlib.pyplot as plt\n",
        "s=co.tf('s')\n",
        "#\n",
        "# Sistema\n",
        "# G1 ja deve estar definido nas celulas acima\n",
        "#\n",
        "# Controlador Gck = Gc/K\n",
        "# Gc e K ja devem estar definidos\n",
        "#\n",
        "Gck = Gc/K\n",
        "#\n",
        "# Malha aberta\n",
        "openloop = Gc*G\n",
        "#\n",
        "# Geracao da escala da frequencia angular rad/s\n",
        "# 10**fi ---> 10**ff\n",
        "fi=-2\n",
        "ff=2\n",
        "omega = np.logspace(fi,ff,num=100,base=10)\n",
        "# Utiliza a funcao bode mas sem display grafico\n",
        "# Aproveita informacoes de modulo, fase\n",
        "# a escala omega e' imposta \n",
        "mag,phase,omega1 = co.bode(openloop,omega,dB=True,Plot=False)\n",
        "# Converte para dB e graus\n",
        "magdB = 20*np.log10(mag)\n",
        "phase_deg = phase*180.0/np.pi\n",
        "#\n",
        "# Utiliza a funcao margin() que calcula\n",
        "# as margens de estabilidade com suas respetivas freq. de crossover\n",
        "# de Gc(s)G(s)=openloop\n",
        "Gm,Pm,Wcg,Wcp = co.margin(openloop)\n",
        "# Converte para dB\n",
        "GmdB = 20*np.log10(Gm)\n",
        "#\n",
        "# Diagrama de Bode de G1\n",
        "#\n",
        "magg1,phaseg1,omega1 = co.bode(G1,omega,dB=True,Plot=False)\n",
        "# Converte para dB e graus\n",
        "magg1dB = 20*np.log10(magg1)\n",
        "phaseg1_deg = phaseg1*180.0/np.pi\n",
        "#\n",
        "# Diagrama de Bode de Gc(s)/K\n",
        "#\n",
        "maggck,phasegck,omega1 = co.bode(Gck,omega,dB=True,Plot=False)\n",
        "# Converte para dB e graus\n",
        "maggckdB = 20*np.log10(maggck)\n",
        "phasegck_deg = phasegck*180.0/np.pi\n",
        "#\n",
        "# Coloca tudo no grafico\n",
        "# G1(s), Gc(s)/K, Gc(s)G(s)\n",
        "#\n",
        "f, (ax1,ax2) = plt.subplots(2,1)\n",
        "ax1.semilogx(omega,magdB,omega,magg1dB,omega,maggckdB)\n",
        "ax1.grid(which=\"both\")\n",
        "ax1.set_xlabel('Frequency (rad/s)')\n",
        "ax1.set_ylabel('Magnitude (dB)')\n",
        "ax2.semilogx(omega,phase_deg,omega,phaseg1_deg,omega,phasegck_deg)\n",
        "ax2.grid(which=\"both\")\n",
        "ax2.set_xlabel('Frequency (rad/s)')\n",
        "ax2.set_ylabel('Phase (deg)')\n",
        "ax1.set_title('Gm = '+str(np.round(GmdB,2))+' dB (at '+str(np.round(Wcg,2))+' rad/s), Pm = '+str(np.round(Pm,2))+' deg (at '+str(np.round(Wcp,2))+' rad/s)')\n",
        "#\n",
        "# linhas auxiliares no grafico\n",
        "#\n",
        "###Plot the zero dB line\n",
        "ax1.plot(omega,0*omega,'k--',lineWidth=2)\n",
        "###Plot the -180 deg lin\n",
        "ax2.plot(omega,-180+0*omega,'k--',lineWidth=2)\n",
        "##Plot the vertical line from -180 to 0 at Wcg\n",
        "ax2.plot([Wcg,Wcg],[-180,0],'r--',lineWidth=2)\n",
        "##Plot the vertical line from -180+Pm to 0 at Wcp\n",
        "ax2.plot([Wcp,Wcp],[-180+Pm,0],'g--',lineWidth=2)\n",
        "##Plot the vertical line from min(magdB) to 0-GmdB at Wcg\n",
        "ax1.plot([Wcg,Wcg],[np.min(magdB),0-GmdB],'r--',lineWidth=2)\n",
        "##Plot the vertical line from min(magdB) to 0db at Wcp\n",
        "ax1.plot([Wcp,Wcp],[np.min(magdB),0],'g--',lineWidth=2)"
      ],
      "execution_count": 11,
      "outputs": [
        {
          "output_type": "execute_result",
          "data": {
            "text/plain": [
              "[<matplotlib.lines.Line2D at 0x7ff57a5f3b38>]"
            ]
          },
          "metadata": {
            "tags": []
          },
          "execution_count": 11
        },
        {
          "output_type": "display_data",
          "data": {
            "image/png": "[encoded data removed]",
            "text/plain": [
              "<Figure size 432x288 with 2 Axes>"
            ]
          },
          "metadata": {
            "tags": [],
            "needs_background": "light"
          }
        }
      ]
    },
    {
      "cell_type": "markdown",
      "metadata": {
        "id": "oUOIWy4a4Mzf",
        "colab_type": "text"
      },
      "source": [
        "## Continuação passo 7:\n",
        "\n",
        "**b) Domínio do tempo**\n",
        "\n",
        "Para o domínio do tempo será comparado o sistema inicial $G(s)$ e o sistema compensado\n",
        "$G_c(s)G(s)$ ambos em malha fechada:\n",
        "\n",
        "$$\n",
        "\\frac{Y(s)}{R(s)}=\\frac{G(s)}{1+G(s)}\n",
        "$$\n",
        "e\n",
        "$$\n",
        "\\frac{Y(s)}{R(s)}=\\frac{Gc(s)G(s)}{1+G_c(s)G(s)}\n",
        "$$\n",
        "\n",
        "b-1) Resposta a degrau unitário:\n",
        "\n",
        "**Obs: utilize o script abaixo**\n",
        "\n",
        "Anote na tabela a seguir as grandezas tempo de subida $t_r$, tempo de acomodação $t_s$, máximo sobresinal $M_p$ e valor máximo de esforço de controle $\\max u(t)$ (Estimar o valor pelo gráfico).\n",
        "\n",
        "|Sistema | $t_r$ | $t_s$ | $M_p$ | $$\\max u(t)$$ |\n",
        "|:--|:--|:--|:--|:--|\n",
        "| $$\\frac{G(s)}{1+G(s)}$$ |0.91 seg|54.06 seg|82.29|1.25|\n",
        "| $$\\frac{G_c(s)G(s)}{1+G_c(s)G(s)}$$ |0.34 seg| 3.15 seg |48.51|20|\n",
        "\n",
        "- Compare as duas soluções.\n",
        "\n",
        "**O sistema compensado reage mais rapidamente, estabiliza mais rápido e oscila com menor amplitude, uma resposta transiente significativamente melhor. Porém ao custo de aumentar bastante o esforço de controle na reação à mudança do setpoint. Isso pode exigir bastante do atuador.**\n"
      ]
    },
    {
      "cell_type": "code",
      "metadata": {
        "id": "luVIF44_4Mzg",
        "colab_type": "code",
        "colab": {
          "base_uri": "https://localhost:8080/",
          "height": 1000
        },
        "outputId": "a49c60cf-97dc-4170-e409-27a3fae57a09"
      },
      "source": [
        "# inline para graficos sem interacao\n",
        "# qt para grafico em janela separada com interacao\n",
        "%matplotlib inline\n",
        "#%matplotlib qt\n",
        "#\n",
        "# R(s)  E(s |------|  Y(s)\n",
        "#---->(+)---| G(s) |------->\n",
        "#    _ ^    |------|    |\n",
        "#      |-----------------\n",
        "#\n",
        "# R(s)  E(s)|-------|  |------|  Y(s)\n",
        "#---->(+)---| Gc(s) |--| G(s) |------->\n",
        "#    _ ^    |-------|  |------|    |\n",
        "#      |--------------------------- \n",
        "#\n",
        "cloop1 = co.feedback(G,1)\n",
        "print('\\nPOLOS E ZEROS DE MALHA FECHADA')\n",
        "print('-------------')\n",
        "print('Polos e zeros cloop1')\n",
        "print('Polos = ',co.pole(cloop1))\n",
        "print('Zeros = ',co.zero(cloop1))\n",
        "print('COEF. DE AMORTECIMENTO E FREQ. NATURAL')\n",
        "print('_____Polos____________zeta_______omegan')\n",
        "co.damp(cloop1)\n",
        "cloop2 = co.feedback(Gc*G,1)\n",
        "print('\\nPOLOS E ZEROS DE MALHA FECHADA')\n",
        "print('-------------')\n",
        "print('Polos e zeros cloop2')\n",
        "print('Polos = ',co.pole(cloop2))\n",
        "print('Zeros = ',co.zero(cloop2))\n",
        "print('COEF. DE AMORTECIMENTO E FREQ. NATURAL')\n",
        "print('_____Polos____________zeta_______omegan')\n",
        "co.damp(cloop2)\n",
        "# base de tempo t\n",
        "plt.figure(1)\n",
        "t=[x*0.05 for x in range(0,200)]\n",
        "y1, t = co.step(cloop1,t)\n",
        "y2, t = co.step(cloop2,t)\n",
        "plt.plot(t,y1,t,y2)\n",
        "plt.title('Resposta a degrau do sistema em malha fechada')\n",
        "plt.xlabel('tempo (s)')\n",
        "plt.ylabel('y')\n",
        "plt.grid()\n",
        "# Calcula as caracteristicas da resposta transitoria\n",
        "#  stepinfo(sys, T=None, SettlingTimeThreshold=0.02, RiseTimeLimits=(0.1,0.9))\n",
        "#  S: a dictionary containing:\n",
        "#        RiseTime: Time from 10% to 90% of the steady-state value.\n",
        "#        SettlingTime: Time to enter inside a default error of 2%\n",
        "#        SettlingMin: Minimum value after RiseTime\n",
        "#        SettlingMax: Maximum value after RiseTime\n",
        "#        Overshoot: Percentage of the Peak relative to steady value\n",
        "#        Undershoot: Percentage of undershoot\n",
        "#        Peak: Absolute peak value\n",
        "#        PeakTime: time of the Peak\n",
        "#        SteadyStateValue: Steady-state value\n",
        "S1 = co.stepinfo(cloop1)\n",
        "print('-------------')\n",
        "print('CARACTERISTICAS DA RESPOSTA TRANSITORIA DO SISTEMA cloop1')\n",
        "print('tempo de subida tr = ','%.2f' % S1['RiseTime'],'seg')\n",
        "print('tempo de acomodacao ts = ','%.2f' % S1['SettlingTime'],'seg')\n",
        "print('maximo sobresinal Mp = ',S1['Overshoot'])\n",
        "print('valor de pico ymax = ','%.2f' % S1['Peak'])\n",
        "print('instante de pico tp = ','%.2f' % S1['PeakTime'],'seg')\n",
        "print('valor de regime estacionario yss = ','%.2f' % S1['SteadyStateValue'])\n",
        "S2 = co.stepinfo(cloop2)\n",
        "print('-------------')\n",
        "print('CARACTERISTICAS DA RESPOSTA TRANSITORIA DO SISTEMA cloop2')\n",
        "print('tempo de subida tr = ','%.2f' % S2['RiseTime'],'seg')\n",
        "print('tempo de acomodacao ts = ','%.2f' % S2['SettlingTime'],'seg')\n",
        "print('maximo sobresinal Mp = ',S2['Overshoot'])\n",
        "print('valor de pico ymax = ','%.2f' % S2['Peak'])\n",
        "print('instante de pico tp = ','%.2f' % S2['PeakTime'],'seg')\n",
        "print('valor de regime estacionario yss = ','%.2f' % S2['SteadyStateValue'])\n",
        "# Esforco de controle\n",
        "esforco1 = co.feedback(1,G)\n",
        "esforco2 = co.feedback(Gc,G)\n",
        "vp1, t = co.step(esforco1,t)\n",
        "vp2, t = co.step(esforco2,t)\n",
        "plt.figure(2)\n",
        "plt.plot(t,vp1,t,vp2)\n",
        "plt.title('Esforco de controle')\n",
        "plt.xlabel('tempo (s)')\n",
        "plt.ylabel('u(t)')\n",
        "plt.grid()"
      ],
      "execution_count": 12,
      "outputs": [
        {
          "output_type": "stream",
          "text": [
            "\n",
            "POLOS E ZEROS DE MALHA FECHADA\n",
            "-------------\n",
            "Polos e zeros cloop1\n",
            "Polos =  [-6.2615623 +0.j         -0.06921885+1.23627361j -0.06921885-1.23627361j]\n",
            "Zeros =  []\n",
            "COEF. DE AMORTECIMENTO E FREQ. NATURAL\n",
            "_____Polos____________zeta_______omegan\n",
            "_____Eigenvalue______ Damping___ Frequency_\n",
            "    -6.262                     1      6.262\n",
            "  -0.06922    +1.236j     0.0559      1.238\n",
            "  -0.06922    -1.236j     0.0559      1.238\n",
            "\n",
            "POLOS E ZEROS DE MALHA FECHADA\n",
            "-------------\n",
            "Polos e zeros cloop2\n",
            "Polos =  [-11.65949837+0.j          -1.16011802+3.51380426j\n",
            "  -1.16011802-3.51380426j  -1.34105196+0.j        ]\n",
            "Zeros =  [-1.11]\n",
            "COEF. DE AMORTECIMENTO E FREQ. NATURAL\n",
            "_____Polos____________zeta_______omegan\n",
            "_____Eigenvalue______ Damping___ Frequency_\n",
            "    -11.66                     1      11.66\n",
            "     -1.16    +3.514j     0.3135        3.7\n",
            "     -1.16    -3.514j     0.3135        3.7\n",
            "    -1.341                     1      1.341\n",
            "-------------\n",
            "CARACTERISTICAS DA RESPOSTA TRANSITORIA DO SISTEMA cloop1\n",
            "tempo de subida tr =  0.91 seg\n",
            "tempo de acomodacao ts =  54.06 seg\n",
            "maximo sobresinal Mp =  82.29046946783491\n",
            "valor de pico ymax =  1.82\n",
            "instante de pico tp =  2.73 seg\n",
            "valor de regime estacionario yss =  1.00\n",
            "-------------\n",
            "CARACTERISTICAS DA RESPOSTA TRANSITORIA DO SISTEMA cloop2\n",
            "tempo de subida tr =  0.34 seg\n",
            "tempo de acomodacao ts =  3.15 seg\n",
            "maximo sobresinal Mp =  48.51301579253455\n",
            "valor de pico ymax =  1.49\n",
            "instante de pico tp =  0.95 seg\n",
            "valor de regime estacionario yss =  1.00\n"
          ],
          "name": "stdout"
        },
        {
          "output_type": "display_data",
          "data": {
            "image/png": "[encoded data removed]",
            "text/plain": [
              "<Figure size 432x288 with 1 Axes>"
            ]
          },
          "metadata": {
            "tags": [],
            "needs_background": "light"
          }
        },
        {
          "output_type": "display_data",
          "data": {
            "image/png": "[encoded data removed]",
            "text/plain": [
              "<Figure size 432x288 with 1 Axes>"
            ]
          },
          "metadata": {
            "tags": [],
            "needs_background": "light"
          }
        }
      ]
    },
    {
      "cell_type": "markdown",
      "metadata": {
        "id": "0Tn1sTrP4Mzk",
        "colab_type": "text"
      },
      "source": [
        "b-2) Resposta a rampa:\n",
        "\n",
        "**Obs: utilize o script abaixo**\n",
        "\n",
        "- O erro estático $e_{ss}$ não é nulo. Justifique.\n",
        "\n",
        "**O sistema teria que ter dois polos na origem para ter $e_{ss}$ nulo para uma entrada em rampa. Pois com um pólo na origem apenas, $K_v$ assume um valor real constante, nesse exercício $K_v$ = 10. Logo  $e_{ss} = \\frac{1}{10}$**\n"
      ]
    },
    {
      "cell_type": "code",
      "metadata": {
        "id": "LX2cpjYt4Mzl",
        "colab_type": "code",
        "colab": {
          "base_uri": "https://localhost:8080/",
          "height": 294
        },
        "outputId": "28eaff8e-6bbe-49ca-cf59-99d2a5b963e9"
      },
      "source": [
        "# inline para graficos sem interacao\n",
        "# qt para grafico em janela separada com interacao\n",
        "%matplotlib inline\n",
        "#%matplotlib qt\n",
        "# Calculo da resposta a rampa\n",
        "t=[x*0.05 for x in range(0,150)]\n",
        "u = t.copy()\n",
        "y1, tempo, x1 = co.lsim(cloop1,u,t)\n",
        "y2, tempo, x2 = co.lsim(cloop2,u,t)\n",
        "plt.plot(t,u,t,y1,t,y2)\n",
        "plt.title('Resposta a rampa do sistema em malha fechada')\n",
        "plt.xlabel('tempo (s)')\n",
        "plt.ylabel('y')\n",
        "plt.grid()"
      ],
      "execution_count": 13,
      "outputs": [
        {
          "output_type": "display_data",
          "data": {
            "image/png": "[encoded data removed]",
            "text/plain": [
              "<Figure size 432x288 with 1 Axes>"
            ]
          },
          "metadata": {
            "tags": [],
            "needs_background": "light"
          }
        }
      ]
    },
    {
      "cell_type": "markdown",
      "metadata": {
        "id": "yvm0PyP94Mzu",
        "colab_type": "text"
      },
      "source": [
        "# Exercício 2: Projeto com controlador atraso de fase"
      ]
    },
    {
      "cell_type": "markdown",
      "metadata": {
        "id": "RNYv7EbZ4Mzv",
        "colab_type": "text"
      },
      "source": [
        "O controlador por atraso de fase pode ser escrito através da seguinte equação:\n",
        "$$\n",
        "G_c(s) = K_c \\beta \\frac{Ts+1}{\\beta Ts+1} = K_c \\frac{s+\\frac{1}{T}}{s+\\frac{1}{\\beta T}}\n",
        "$$\n",
        "\n",
        "Um diagrama de Bode para $K_c=1$ e $\\beta=10$ é ilustrado abaixo:\n",
        "\n",
        "<img src=\"./Figuras/lagcontrol.png\" width=\"50%\" height=\"50%\"/>\n",
        "\n",
        "Seja o sistema definido por:\n",
        "$$\n",
        "G(s) = \\frac{1}{s(s+1)(s+0.5)},\n",
        "$$\n",
        "\n",
        "O sistema de controle em malha fechada correspondente é ilustrado na figura abaixo:\n",
        "\n",
        "<img src=\"./Figuras/cloop.png\" width=\"30%\" height=\"30%\"/>\n",
        "\n",
        "Esse sistema é instável como pode ser visto no diagrama de Bode de malha aberta e pela resposta a degrau unitário.\n",
        "\n",
        "<img src=\"./Figuras/bodelaginicial.png\" width=\"40%\" height=\"40%\"/>\n",
        "\n",
        "<img src=\"./Figuras/respostadegrauiniciallag.png\" width=\"40%\" height=\"40%\"/>\n",
        "\n",
        "Para esse sistema projete um controlador atraso de fase que atenda às seguintes especificações:\n",
        "- Constante de erro de velocidade $K_v=20$\n",
        "- Margem de Ganho $G_m \\ge 10$ dB\n",
        "- Margem de Fase $P_m \\ge 40$\n"
      ]
    },
    {
      "cell_type": "markdown",
      "metadata": {
        "id": "9LNjA0Dt4Mzw",
        "colab_type": "text"
      },
      "source": [
        "## Passo 1: Ajuste da constante de erro de velocidade estático\n",
        "\n",
        "Seja $G_1(s)=KG(s)$\n",
        "Determinar o valor de $K$ que atende o requisito da constante de erro estático de velocidade $K_v$:\n",
        "$$\n",
        "K_v=\\lim_{s\\rightarrow 0}sG_c(s)G(s) = 20\n",
        "$$\n",
        "\n",
        "$$\n",
        "K = 10\n",
        "$$\n",
        "\n",
        "**Obs: insira o valor de $K$ obtido na célula abaixo**"
      ]
    },
    {
      "cell_type": "code",
      "metadata": {
        "id": "XzqdlvwC4Mzx",
        "colab_type": "code",
        "colab": {}
      },
      "source": [
        "K= 10"
      ],
      "execution_count": 14,
      "outputs": []
    },
    {
      "cell_type": "markdown",
      "metadata": {
        "id": "3p21ohdb4Mz1",
        "colab_type": "text"
      },
      "source": [
        "## Passo 2:\n",
        "\n",
        "Utilizando o valor de $K$ obtido no passo 1 obtenha o diagrama de Bode para $G_1(j\\omega)$.\n",
        "\n",
        "Verifique no diagrama de Bode a Margem de Ganho $G_m$, a frequência de crossover de ganho $\\omega_{cg}$, a Margem de Fase $P_m$, a frequência de crossover de fase $\\omega_{cp}$ e preencha a tabela abaixo:\n",
        "\n",
        "|$G_m$ | $\\omega_{cg}$ | $Pm$ | $\\omega_{cp}$ |\n",
        "|:--|:--|:--|:--|\n",
        "| -10.46 | 1.21 | -28.08 | 0.71 |\n",
        "\n",
        "Se a margem de fase não for satisfatória procure a frequência angular onde a fase é $-180^o + P_{mc} + (5^o a 12^o)$.\n",
        "**Onde $P_{mc}$ é a especificação de projeto para a margem de Fase e o ângulo adicional tenta compensar o atraso de fase introduzido pelo controlador.**\n",
        "\n",
        "**Assumindo delta = $12^o$**\n",
        "\n",
        "$$\n",
        "\\omega_{cp} = 0.232 rad/s\n",
        "$$\n",
        "\n",
        "**Obs: utilize o script abaixo.**\n",
        "\n",
        "**Para analisar utilize a opção qt para melhor visualização , ao final mantenha a célula ativa com gráfico inline**"
      ]
    },
    {
      "cell_type": "code",
      "metadata": {
        "id": "wp5hfvkj4Mz3",
        "colab_type": "code",
        "colab": {
          "base_uri": "https://localhost:8080/",
          "height": 405
        },
        "outputId": "b15ff81f-afa1-46fd-9ef2-26125dcf0736"
      },
      "source": [
        "# inline para graficos sem interacao\n",
        "# qt para grafico em janela separada com interacao (melhora visualizacao)\n",
        "%matplotlib inline\n",
        "#%matplotlib qt\n",
        "import numpy as np\n",
        "import control.matlab as co\n",
        "import matplotlib.pyplot as plt\n",
        "s=co.tf('s')\n",
        "#\n",
        "# Sistema\n",
        "G  = 1/(s*(s+1)*(s+0.5))\n",
        "G1 = K*G\n",
        "print(\"G1 = \",G1)\n",
        "#\n",
        "# Utiliza a funcao bode mas sem display grafico\n",
        "# Aproveita informacoes de modulo, fase e frequencia angular\n",
        "# Geracao da escala da frequencia angular rad/s\n",
        "omega = np.logspace(0,2,num=100,base=10)\n",
        "mag,phase,omega = co.bode(G1,dB=True,Plot=False)\n",
        "# Converte para dB e graus\n",
        "magdB = 20*np.log10(mag)\n",
        "phase_deg = phase*180.0/np.pi\n",
        "# Utiliza a funcao margin() que calcula\n",
        "# As margens de estabilidade com suas respetivas freq. de crossover\n",
        "Gm,Pm,Wcg,Wcp = co.margin(G1)\n",
        "GmdB = 20*np.log10(Gm)\n",
        "##Plot Gain and Phase\n",
        "f, (ax1,ax2) = plt.subplots(2,1)\n",
        "ax1.semilogx(omega,magdB)\n",
        "ax1.grid(which=\"both\")\n",
        "ax1.set_xlabel('Frequency (rad/s)')\n",
        "ax1.set_ylabel('Magnitude (dB)')\n",
        "ax2.semilogx(omega,phase_deg)\n",
        "ax2.grid(which=\"both\")\n",
        "ax2.set_xlabel('Frequency (rad/s)')\n",
        "ax2.set_ylabel('Phase (deg)')\n",
        "ax1.set_title('Gm = '+str(np.round(GmdB,2))+' dB (at '+str(np.round(Wcg,2))+' rad/s), Pm = '+str(np.round(Pm,2))+' deg (at '+str(np.round(Wcp,2))+' rad/s)')\n",
        "###Plot the zero dB line\n",
        "ax1.plot(omega,0*omega,'k--',lineWidth=2)\n",
        "###Plot the -180 deg lin\n",
        "ax2.plot(omega,-180+0*omega,'k--',lineWidth=2)\n",
        "##Plot the vertical line from -180 to 0 at Wcg\n",
        "ax2.plot([Wcg,Wcg],[-180,0],'r--',lineWidth=2)\n",
        "##Plot the vertical line from -180+Pm to 0 at Wcp\n",
        "ax2.plot([Wcp,Wcp],[-180+Pm,0],'g--',lineWidth=2)\n",
        "##Plot the vertical line from min(magdB) to 0-GmdB at Wcg\n",
        "ax1.plot([Wcg,Wcg],[np.min(magdB),0-GmdB],'r--',lineWidth=2)\n",
        "##Plot the vertical line from min(magdB) to 0db at Wcp\n",
        "ax1.plot([Wcp,Wcp],[np.min(magdB),0],'g--',lineWidth=2)\n"
      ],
      "execution_count": 15,
      "outputs": [
        {
          "output_type": "stream",
          "text": [
            "G1 =  \n",
            "          10\n",
            "---------------------\n",
            "s^3 + 1.5 s^2 + 0.5 s\n",
            "\n"
          ],
          "name": "stdout"
        },
        {
          "output_type": "execute_result",
          "data": {
            "text/plain": [
              "[<matplotlib.lines.Line2D at 0x7ff577ad5e80>]"
            ]
          },
          "metadata": {
            "tags": []
          },
          "execution_count": 15
        },
        {
          "output_type": "display_data",
          "data": {
            "image/png": "[encoded data removed]",
            "text/plain": [
              "<Figure size 432x288 with 2 Axes>"
            ]
          },
          "metadata": {
            "tags": [],
            "needs_background": "light"
          }
        }
      ]
    },
    {
      "cell_type": "markdown",
      "metadata": {
        "id": "VWbHIWX04Mz6",
        "colab_type": "text"
      },
      "source": [
        "## Passo 3: Escolha da frequência de canto $\\omega_z=1/T$\n",
        "\n",
        "Para evitar os efeitos do atraso de fase do controlador a posição da frequência de canto correspondente ao zero do controlador é escolhido de uma oitava (metade) a uma década (dez vezes menor) abaixo da frequência de crossover\n",
        "$\\omega_{cp}$ escolhida.\n",
        "\n",
        "Indique abaixo a frequência escolhida:\n",
        "\n",
        "Escolhendo um fator de 10 vezes menor:\n",
        "$$\n",
        "\\omega_z=1/T=0.0232\n",
        "$$\n",
        "\n",
        "**Obs: utilize o script abaixo**"
      ]
    },
    {
      "cell_type": "code",
      "metadata": {
        "id": "cqpcyznl4Mz7",
        "colab_type": "code",
        "colab": {
          "base_uri": "https://localhost:8080/",
          "height": 52
        },
        "outputId": "7ece93ba-1ffe-4bab-f16e-dd5e2c5985e4"
      },
      "source": [
        "omegaz = 0.0232\n",
        "print(\"omegaz = \",omegaz)\n",
        "T = 1/omegaz\n",
        "print(\"T = \",T)"
      ],
      "execution_count": 16,
      "outputs": [
        {
          "output_type": "stream",
          "text": [
            "omegaz =  0.0232\n",
            "T =  43.10344827586207\n"
          ],
          "name": "stdout"
        }
      ]
    },
    {
      "cell_type": "markdown",
      "metadata": {
        "id": "arcAvP7E4M0A",
        "colab_type": "text"
      },
      "source": [
        "## Passo 4: Determinação de $\\beta$\n",
        "\n",
        "Determinar a atenuação do controlador para que na frequência de crossover escolhida $\\omega_{cp}$ o sistema compensado $G_c(s)G(s)$ tenha ganho $0$ dB.\n",
        "\n",
        "Ou seja, $|G_c(j\\omega_{cp})/K|$ deve ser o mesmo que $|G_1(j\\omega_{cp})|$ com sinal  oposto.\n",
        "Essa atenuação pode ser estimada como $-20\\log \\beta$.\n",
        "\n",
        "-$|G_1(j\\omega_{cp})|=|G_c(j\\omega_{cp})/K|= -20\\log \\beta$\n",
        "\n",
        "\n",
        "Indique abaixo\n",
        "\n",
        "$$\n",
        "\\beta = 858.025\n",
        "$$\n",
        "e\n",
        "$$\n",
        "\\omega = 1/(\\beta T)= 0.000027 rad/s\n",
        "$$\n",
        "\n",
        "**Obs: utilize o script abaixo**"
      ]
    },
    {
      "cell_type": "code",
      "metadata": {
        "id": "VDoVtuRT4M0B",
        "colab_type": "code",
        "colab": {
          "base_uri": "https://localhost:8080/",
          "height": 52
        },
        "outputId": "df15b323-eb53-4d4b-e502-755f339b5265"
      },
      "source": [
        "# x é igual a -|G1(jwcp)|\n",
        "x= -58.67\n",
        "beta = 10**(-x/20)\n",
        "print(\"beta = \",beta)\n",
        "w = 1/(beta*T)\n",
        "print(\"w = \", w)"
      ],
      "execution_count": 30,
      "outputs": [
        {
          "output_type": "stream",
          "text": [
            "beta =  858.025114722603\n",
            "w =  2.703883557942298e-05\n"
          ],
          "name": "stdout"
        }
      ]
    },
    {
      "cell_type": "markdown",
      "metadata": {
        "id": "EPI7dfB54M0G",
        "colab_type": "text"
      },
      "source": [
        "## Passo 5: Constante $K_c$\n",
        "\n",
        "O valor de $K_c$ pode ser determinado através de:\n",
        "\n",
        "$$\n",
        "K_c = \\frac{K}{\\beta}\n",
        "$$\n",
        "\n",
        "**Obs: utilize o script abaixo**"
      ]
    },
    {
      "cell_type": "code",
      "metadata": {
        "id": "EAsP715g4M0H",
        "colab_type": "code",
        "colab": {
          "base_uri": "https://localhost:8080/",
          "height": 34
        },
        "outputId": "da6822d2-288d-47e3-8e4e-9c2f5e6cbc54"
      },
      "source": [
        "Kc=K/beta\n",
        "print(\"Kc = \",Kc)"
      ],
      "execution_count": 18,
      "outputs": [
        {
          "output_type": "stream",
          "text": [
            "Kc =  0.011654670508371974\n"
          ],
          "name": "stdout"
        }
      ]
    },
    {
      "cell_type": "markdown",
      "metadata": {
        "id": "06kPfIwB4M0M",
        "colab_type": "text"
      },
      "source": [
        "## Passo 6: Controlador $Gc(s)$\n",
        "\n",
        "Podemos agora definir o controlador\n",
        "$$\n",
        "G_c(s) = K_c \\beta \\frac{Ts+1}{\\beta Ts+1} =K \\frac{Ts+1}{\\beta Ts+1}\n",
        "$$\n",
        "e\n",
        "$$\n",
        "G_c(s)/K = \\frac{Ts+1}{\\beta Ts+1}\n",
        "$$\n",
        "\n",
        "**Obs: utilize o script abaixo**"
      ]
    },
    {
      "cell_type": "code",
      "metadata": {
        "id": "wplaYz-u4M0N",
        "colab_type": "code",
        "colab": {
          "base_uri": "https://localhost:8080/",
          "height": 194
        },
        "outputId": "714eb79e-33e6-4ac6-ed48-203c66db7e88"
      },
      "source": [
        "Gc = K*(T*s+1)/(beta*T*s+1)\n",
        "print(\"Gc = \",Gc)\n",
        "Gck = Gc/K\n",
        "print(\"Gck = \",Gck)"
      ],
      "execution_count": 19,
      "outputs": [
        {
          "output_type": "stream",
          "text": [
            "Gc =  \n",
            "  431 s + 10\n",
            "---------------\n",
            "3.698e+04 s + 1\n",
            "\n",
            "Gck =  \n",
            "   431 s + 10\n",
            "----------------\n",
            "3.698e+05 s + 10\n",
            "\n"
          ],
          "name": "stdout"
        }
      ]
    },
    {
      "cell_type": "markdown",
      "metadata": {
        "id": "-gYCssYf4M0R",
        "colab_type": "text"
      },
      "source": [
        "## Passo 6: Verificação\n",
        "\n",
        "a) Domínio da frequência:\n",
        "\n",
        "Para observar o resultado no domínio da frequência colocaremos em um único gráfico o Diagrama de Bode de 3 sistemas:\n",
        "1. $G_1(s)=KG(s)$: a margem de fase é inicialmente medida nesse sistema,\n",
        "2. $G_c(s)/K$: o ganho de compensação na frequência de crossover é medido nesse sistema,\n",
        "3. $Gc(s)G(s)$: sistema compensado.\n",
        "\n",
        "verifique no diagrama de Bode a Margem de Ganho $G_m$, a frequência de crossover de ganho $\\omega_{cg}$, a Margem de Fase $P_m$ do sistema compensado $G_c(s)G(s)$, a frequência de crossover de fase $\\omega_{cp}$ e preencha a tabela abaixo:\n",
        "\n",
        "|$G_m$ | $\\omega_{cg}$ | $Pm$ | $\\omega_{cp}$ |\n",
        "|:--|:--|:--|:--|\n",
        "| 35.55 | 0.03 rad/s | 46.85 | 0.68 rad/s |\n",
        "\n",
        "**Obs: utilize o script abaixo**"
      ]
    },
    {
      "cell_type": "code",
      "metadata": {
        "id": "phI02jH04M0S",
        "colab_type": "code",
        "colab": {
          "base_uri": "https://localhost:8080/",
          "height": 316
        },
        "outputId": "5e5e2f71-3657-4351-c693-82b6e9e7c048"
      },
      "source": [
        "#%matplotlib qt\n",
        "%matplotlib inline\n",
        "import numpy as np\n",
        "import control.matlab as co\n",
        "import matplotlib.pyplot as plt\n",
        "s=co.tf('s')\n",
        "#\n",
        "# Sistema\n",
        "# G1 ja deve estar definido nas celulas acima\n",
        "#\n",
        "# Controlador Gck = Gc/K\n",
        "#\n",
        "# Malha aberta\n",
        "openloop = Gc*G\n",
        "#\n",
        "# Geracao da escala da frequencia angular rad/s\n",
        "# 10**fi ---> 10**ff\n",
        "fi=-4\n",
        "ff=1\n",
        "omega = np.logspace(fi,ff,num=100,base=10)\n",
        "# Utiliza a funcao bode mas sem display grafico\n",
        "# Aproveita informacoes de modulo, fase\n",
        "# a escala omega e' imposta \n",
        "mag,phase,omega1 = co.bode(openloop,omega,dB=True,Plot=False)\n",
        "# Converte para dB e graus\n",
        "magdB = 20*np.log10(mag)\n",
        "phase_deg = phase*180.0/np.pi\n",
        "#\n",
        "# Utiliza a funcao margin() que calcula\n",
        "# as margens de estabilidade com suas respetivas freq. de crossover\n",
        "# de Gc(s)G(s)=openloop\n",
        "Gm,Pm,Wcg,Wcp = co.margin(openloop)\n",
        "# Converte para dB\n",
        "GmdB = 20*np.log10(Gm)\n",
        "#\n",
        "# Diagrama de Bode de G1\n",
        "#\n",
        "magg1,phaseg1,omega1 = co.bode(G1,omega,dB=True,Plot=False)\n",
        "# Converte para dB e graus\n",
        "magg1dB = 20*np.log10(magg1)\n",
        "phaseg1_deg = phaseg1*180.0/np.pi\n",
        "#\n",
        "# Diagrama de Bode de Gc(s)/K\n",
        "#\n",
        "maggck,phasegck,omega1 = co.bode(Gck,omega,dB=True,Plot=False)\n",
        "# Converte para dB e graus\n",
        "maggckdB = 20*np.log10(maggck)\n",
        "phasegck_deg = phasegck*180.0/np.pi\n",
        "#\n",
        "# Coloca tudo no grafico\n",
        "# G1(s), Gc(s)/K, Gc(s)G(s)\n",
        "#\n",
        "f, (ax1,ax2) = plt.subplots(2,1)\n",
        "ax1.semilogx(omega,magdB,omega,magg1dB,omega,maggckdB)\n",
        "ax1.grid(which=\"both\")\n",
        "ax1.set_xlabel('Frequency (rad/s)')\n",
        "ax1.set_ylabel('Magnitude (dB)')\n",
        "ax2.semilogx(omega,phase_deg,omega,phaseg1_deg,omega,phasegck_deg)\n",
        "ax2.grid(which=\"both\")\n",
        "ax2.set_xlabel('Frequency (rad/s)')\n",
        "ax2.set_ylabel('Phase (deg)')\n",
        "ax1.set_title('Gm = '+str(np.round(GmdB,2))+' dB (at '+str(np.round(Wcg,2))+' rad/s), Pm = '+str(np.round(Pm,2))+' deg (at '+str(np.round(Wcp,2))+' rad/s)')\n",
        "#\n",
        "# linhas auxiliares no grafico\n",
        "#\n",
        "###Plot the zero dB line\n",
        "ax1.plot(omega,0*omega,'k--',lineWidth=2)\n",
        "###Plot the -180 deg lin\n",
        "ax2.plot(omega,-180+0*omega,'k--',lineWidth=2)\n",
        "##Plot the vertical line from -180 to 0 at Wcg\n",
        "ax2.plot([Wcg,Wcg],[-180,0],'r--',lineWidth=2)\n",
        "##Plot the vertical line from -180+Pm to 0 at Wcp\n",
        "ax2.plot([Wcp,Wcp],[-180+Pm,0],'g--',lineWidth=2)\n",
        "##Plot the vertical line from min(magdB) to 0-GmdB at Wcg\n",
        "ax1.plot([Wcg,Wcg],[np.min(magdB),0-GmdB],'r--',lineWidth=2)\n",
        "##Plot the vertical line from min(magdB) to 0db at Wcp\n",
        "ax1.plot([Wcp,Wcp],[np.min(magdB),0],'g--',lineWidth=2)"
      ],
      "execution_count": 20,
      "outputs": [
        {
          "output_type": "execute_result",
          "data": {
            "text/plain": [
              "[<matplotlib.lines.Line2D at 0x7ff577848be0>]"
            ]
          },
          "metadata": {
            "tags": []
          },
          "execution_count": 20
        },
        {
          "output_type": "display_data",
          "data": {
            "image/png": "[encoded data removed]",
            "text/plain": [
              "<Figure size 432x288 with 2 Axes>"
            ]
          },
          "metadata": {
            "tags": [],
            "needs_background": "light"
          }
        }
      ]
    },
    {
      "cell_type": "markdown",
      "metadata": {
        "id": "e7iZsxAd4M0X",
        "colab_type": "text"
      },
      "source": [
        "## Continuação passo 6:\n",
        "\n",
        "**b) Domínio do tempo**\n",
        "\n",
        "Para o domínio do tempo será comparado o sistema inicial $G(s)$ e o sistema compensado\n",
        "$G_c(s)G(s)$ ambos em malha fechada:\n",
        "\n",
        "$$\n",
        "\\frac{Y(s)}{R(s)}=\\frac{G(s)}{1+G(s)}\n",
        "$$\n",
        "e\n",
        "$$\n",
        "\\frac{Y(s)}{R(s)}=\\frac{Gc(s)G(s)}{1+G_c(s)G(s)}\n",
        "$$\n",
        "\n",
        "b-1) Resposta a degrau unitário:\n",
        "\n",
        "**Obs: utilize o script abaixo**\n",
        "\n",
        "Anote na tabela a seguir as grandezas tempo de subida $t_r$, tempo de acomodação $t_s$, máximo sobresinal $M_p$ e valor máximo de esforço de controle $\\max u(t)$ (Estimar o valor pelo gráfico) para o sistema compensado. Para o sistema não compensado não é possível definir tais grandezas porque o sistema é instável.\n",
        "\n",
        "|Sistema | $t_r$ | $t_s$ | $M_p$ | $$\\max u(t)$$ |\n",
        "|:--|:--|:--|:--|:--|\n",
        "| $$\\frac{G_c(s)G(s)}{1+G_c(s)G(s)}$$ |37.39 seg|314.78 seg|33.277|0.1|\n",
        "\n",
        "- Compare as duas soluções.\n",
        "\n",
        "**O sistema compensado tem uma resposta muito lenta, o que é ruim dependendo da aplicação; porém não apresenta carácter oscilatório e exige muito pouco do sistema de atuação, o que é bom. Em termos de comparação com o sistema não compensado, este é estável e o outro não.**\n"
      ]
    },
    {
      "cell_type": "code",
      "metadata": {
        "id": "tQ7PstD14M0Y",
        "colab_type": "code",
        "colab": {
          "base_uri": "https://localhost:8080/",
          "height": 1000
        },
        "outputId": "67d80496-95d2-47d2-b2ce-bb087965b23d"
      },
      "source": [
        "# inline para graficos sem interacao\n",
        "# qt para grafico em janela separada com interacao\n",
        "%matplotlib inline\n",
        "#%matplotlib qt\n",
        "#\n",
        "# R(s)  E(s |------|  Y(s)\n",
        "#---->(+)---| G(s) |------->\n",
        "#    _ ^    |------|    |\n",
        "#      |-----------------\n",
        "#\n",
        "# R(s)  E(s)|-------|  |------|  Y(s)\n",
        "#---->(+)---| Gc(s) |--| G(s) |------->\n",
        "#    _ ^    |-------|  |------|    |\n",
        "#      |--------------------------- \n",
        "#\n",
        "cloop1 = co.feedback(G,1)\n",
        "print('\\nPOLOS E ZEROS DE MALHA FECHADA')\n",
        "print('-------------')\n",
        "print('Polos e zeros cloop1')\n",
        "print('Polos = ',co.pole(cloop1))\n",
        "print('Zeros = ',co.zero(cloop1))\n",
        "print('COEF. DE AMORTECIMENTO E FREQ. NATURAL')\n",
        "print('_____Polos____________zeta_______omegan')\n",
        "co.damp(cloop1)\n",
        "cloop2 = co.feedback(Gc*G,1)\n",
        "print('\\nPOLOS E ZEROS DE MALHA FECHADA')\n",
        "print('-------------')\n",
        "print('Polos e zeros cloop2')\n",
        "print('Polos = ',co.pole(cloop2))\n",
        "print('Zeros = ',co.zero(cloop2))\n",
        "print('COEF. DE AMORTECIMENTO E FREQ. NATURAL')\n",
        "print('_____Polos____________zeta_______omegan')\n",
        "co.damp(cloop2)\n",
        "S2 = co.stepinfo(cloop2)\n",
        "S2 = co.stepinfo(cloop2)\n",
        "print('-------------')\n",
        "print('CARACTERISTICAS DA RESPOSTA TRANSITORIA DO SISTEMA cloop2')\n",
        "print('tempo de subida tr = ','%.2f' % S2['RiseTime'],'seg')\n",
        "print('tempo de acomodacao ts = ','%.2f' % S2['SettlingTime'],'seg')\n",
        "print('maximo sobresinal Mp = ',S2['Overshoot'])\n",
        "print('valor de pico ymax = ','%.2f' % S2['Peak'])\n",
        "print('instante de pico tp = ','%.2f' % S2['PeakTime'],'seg')\n",
        "print('valor de regime estacionario yss = ','%.2f' % S2['SteadyStateValue'])\n",
        "# base de tempo t\n",
        "plt.figure(1)\n",
        "t=[x*0.1 for x in range(0,500)]\n",
        "y1, t = co.step(cloop1,t)\n",
        "y2, t = co.step(cloop2,t)\n",
        "plt.plot(t,y1,t,y2)\n",
        "plt.title('Resposta a degrau do sistema em malha fechada')\n",
        "plt.xlabel('tempo (s)')\n",
        "plt.ylabel('y')\n",
        "plt.grid()\n",
        "# Calcula as caracteristicas da resposta transitoria\n",
        "#  S: a dictionary containing:\n",
        "#        RiseTime: Time from 10% to 90% of the steady-state value.\n",
        "#        SettlingTime: Time to enter inside a default error of 2%\n",
        "#        SettlingMin: Minimum value after RiseTime\n",
        "#        SettlingMax: Maximum value after RiseTime\n",
        "#        Overshoot: Percentage of the Peak relative to steady value\n",
        "#        Undershoot: Percentage of undershoot\n",
        "#        Peak: Absolute peak value\n",
        "#        PeakTime: time of the Peak\n",
        "#        SteadyStateValue: Steady-state value\n",
        "# Esforco de controle\n",
        "esforco1 = co.feedback(1,G)\n",
        "esforco2 = co.feedback(Gc,G)\n",
        "vp1, t = co.step(esforco1,t)\n",
        "vp2, t = co.step(esforco2,t)\n",
        "Se = co.stepinfo(esforco2)\n",
        "# a escala do grafico tava muito alta para determinar o esforco de controle máx\n",
        "# entao fiz o stepinfo e peguei o ymax\n",
        "print('-------------')\n",
        "print('CARACTERISTICAS DA RESPOSTA TRANSITORIA DO SISTEMA esforco2')\n",
        "print('tempo de subida tr = ','%.2f' % Se['RiseTime'],'seg')\n",
        "print('tempo de acomodacao ts = ','%.2f' % Se['SettlingTime'],'seg')\n",
        "print('maximo sobresinal Mp = ',Se['Overshoot'])\n",
        "print('valor de pico ymax = ','%.2f' % Se['Peak'])\n",
        "print('instante de pico tp = ','%.2f' % Se['PeakTime'],'seg')\n",
        "print('valor de regime estacionario yss = ','%.2f' % Se['SteadyStateValue'])\n",
        "plt.figure(2)\n",
        "plt.plot(t,vp1,t,vp2)\n",
        "plt.title('Esforco de controle')\n",
        "plt.xlabel('tempo (s)')\n",
        "plt.ylabel('u(t)')\n",
        "plt.grid()"
      ],
      "execution_count": 28,
      "outputs": [
        {
          "output_type": "stream",
          "text": [
            "\n",
            "POLOS E ZEROS DE MALHA FECHADA\n",
            "-------------\n",
            "Polos e zeros cloop1\n",
            "Polos =  [-1.58315637+0.j         0.04157819+0.7936755j  0.04157819-0.7936755j]\n",
            "Zeros =  []\n",
            "COEF. DE AMORTECIMENTO E FREQ. NATURAL\n",
            "_____Polos____________zeta_______omegan\n",
            "_____Eigenvalue______ Damping___ Frequency_\n",
            "    -1.583                     1      1.583\n",
            "   0.04158   +0.7937j   -0.05232     0.7948\n",
            "   0.04158   -0.7937j   -0.05232     0.7948\n",
            "\n",
            "POLOS E ZEROS DE MALHA FECHADA\n",
            "-------------\n",
            "Polos e zeros cloop2\n",
            "Polos =  [-1.02138852+0.j         -0.45539875+0.j         -0.01161988+0.02112545j\n",
            " -0.01161988-0.02112545j]\n",
            "Zeros =  [-0.0232]\n",
            "COEF. DE AMORTECIMENTO E FREQ. NATURAL\n",
            "_____Polos____________zeta_______omegan\n",
            "_____Eigenvalue______ Damping___ Frequency_\n",
            "    -1.021                     1      1.021\n",
            "   -0.4554                     1     0.4554\n",
            "  -0.01162  +0.02113j     0.4819    0.02411\n",
            "  -0.01162  -0.02113j     0.4819    0.02411\n",
            "-------------\n",
            "CARACTERISTICAS DA RESPOSTA TRANSITORIA DO SISTEMA cloop2\n",
            "tempo de subida tr =  37.39 seg\n",
            "tempo de acomodacao ts =  314.78 seg\n",
            "maximo sobresinal Mp =  33.277333485319005\n",
            "valor de pico ymax =  1.33\n",
            "instante de pico tp =  101.31 seg\n",
            "valor de regime estacionario yss =  1.00\n",
            "-------------\n",
            "CARACTERISTICAS DA RESPOSTA TRANSITORIA DO SISTEMA esforco2\n",
            "tempo de subida tr =  0.00 seg\n",
            "tempo de acomodacao ts =  584.93 seg\n",
            "maximo sobresinal Mp =  -105.84438288179427\n",
            "valor de pico ymax =  0.01\n",
            "instante de pico tp =  5.43 seg\n",
            "valor de regime estacionario yss =  0.00\n"
          ],
          "name": "stdout"
        },
        {
          "output_type": "display_data",
          "data": {
            "image/png": "[encoded data removed]",
            "text/plain": [
              "<Figure size 432x288 with 1 Axes>"
            ]
          },
          "metadata": {
            "tags": [],
            "needs_background": "light"
          }
        },
        {
          "output_type": "display_data",
          "data": {
            "image/png": "[encoded data removed]",
            "text/plain": [
              "<Figure size 432x288 with 1 Axes>"
            ]
          },
          "metadata": {
            "tags": [],
            "needs_background": "light"
          }
        }
      ]
    },
    {
      "cell_type": "markdown",
      "metadata": {
        "id": "GJLJ36ow4M0c",
        "colab_type": "text"
      },
      "source": [
        "b-2) Resposta a rampa:\n",
        "\n",
        "**Obs: utilize o script abaixo**\n",
        "\n",
        "- O erro estático $e_{ss}$ não é nulo. Justifique.\n",
        "\n",
        "\n",
        "**O sistema teria que ter dois polos na origem para ter $e_{ss}$ nulo para uma entrada em rampa. Pois com um pólo na origem apenas, $K_v$ assume um valor real constante, nesse exercício $K_v$ = 20. Logo  $e_{ss} = \\frac{1}{20}$**\n"
      ]
    },
    {
      "cell_type": "code",
      "metadata": {
        "id": "2OrM51kz4M0d",
        "colab_type": "code",
        "colab": {
          "base_uri": "https://localhost:8080/",
          "height": 294
        },
        "outputId": "5a204efd-a787-4127-9cc5-0ff382bfd885"
      },
      "source": [
        "# inline para graficos sem interacao\n",
        "# qt para grafico em janela separada com interacao\n",
        "%matplotlib inline\n",
        "#%matplotlib qt\n",
        "# Calculo da resposta a rampa\n",
        "#t=[x*0.05 for x in range(0,50)]\n",
        "u = t.copy()\n",
        "y1, tempo, x1 = co.lsim(cloop1,u,t)\n",
        "y2, tempo, x2 = co.lsim(cloop2,u,t)\n",
        "plt.plot(t,u,t,y1,t,y2)\n",
        "plt.title('Resposta a rampa do sistema em malha fechada')\n",
        "plt.xlabel('tempo (s)')\n",
        "plt.ylabel('y')\n",
        "plt.grid()"
      ],
      "execution_count": 29,
      "outputs": [
        {
          "output_type": "display_data",
          "data": {
            "image/png": "[encoded data removed]",
            "text/plain": [
              "<Figure size 432x288 with 1 Axes>"
            ]
          },
          "metadata": {
            "tags": [],
            "needs_background": "light"
          }
        }
      ]
    }
  ]
}