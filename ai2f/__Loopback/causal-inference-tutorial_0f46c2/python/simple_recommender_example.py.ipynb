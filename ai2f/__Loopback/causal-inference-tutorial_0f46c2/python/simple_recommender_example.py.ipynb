{
 "cells": [
  {
   "cell_type": "markdown",
   "metadata": {},
   "source": [
    "# Causal inference tutorial: A simple example\n",
    "Estimate the causal effect of a recommender system based on logs. "
   ]
  },
  {
   "cell_type": "code",
   "execution_count": null,
   "metadata": {},
   "outputs": [],
   "source": [
    "## CAUSAL INFERENCE TUTORIAL\n",
    "## Author: Amit Sharma\n",
    "## Script to estimate causal effect of recommendations on a website.\n",
    "\n",
    "# Library for easy manipulation of data frames.\n",
    "import numpy as np\n",
    "import pandas as pd\n",
    "\n",
    "# A parameter for the number of recommendations shown to the user\n",
    "MAX_SHOWN_RECS = 3"
   ]
  },
  {
   "cell_type": "markdown",
   "metadata": {},
   "source": [
    "## Different causal inference estimation methods"
   ]
  },
  {
   "cell_type": "code",
   "execution_count": null,
   "metadata": {},
   "outputs": [],
   "source": [
    "def naive_observational_estimate(user_visits):\n",
    "  # Naive observational estimate\n",
    "  # Simply the fraction of visits that resulted in a recommendation click-through.\n",
    "  est = np.sum(user_visits[\"is_rec_visit\"])/len(user_visits[\"is_rec_visit\"])\n",
    "  print(\"Mean estimate: {0}\".format(est))\n",
    "  return(est)\n",
    "\n",
    "def stratified_by_activity_estimate(user_visits):\n",
    "  # Stratified observational estimate by activity level of each user.\n",
    "  grouped = user_visits.groupby('activity_level')\n",
    "  grouped = grouped.agg({'is_rec_visit': lambda x: np.sum(x)/x.size })\n",
    "  est = grouped.rename(columns= {'is_rec_visit':'stratified_estimate'})\n",
    "  print(\"Mean estimate: {0}\".format(np.mean(est['stratified_estimate'])))\n",
    "  return(est)\n",
    "\n",
    "def stratified_by_category_estimate(user_visits):\n",
    "  # Stratified observational estimate by app category \n",
    "  grouped = user_visits.groupby('category')\n",
    "  grouped = grouped.agg({'is_rec_visit': lambda x: np.sum(x)/x.size })\n",
    "  est = grouped.rename(columns= {'is_rec_visit':'stratified_estimate'})\n",
    "  print(\"Mean estimate: {0}\".format(np.mean(est['stratified_estimate'])))\n",
    "  return(est)\n",
    "\n",
    "def fully_conditioned_estimate(user_visits):\n",
    "  # Stratified observational estimate by both user activity level and app category.\n",
    "  grouped = user_visits.groupby(['activity_level', 'category'])\n",
    "  grouped = grouped.agg({'is_rec_visit': lambda x: np.sum(x)/x.size })\n",
    "  est = grouped.rename(columns= {'is_rec_visit':'stratified_estimate'})\n",
    "  print(\"Mean estimate: {0}\".format(np.mean(est['stratified_estimate'])))\n",
    "  return(est)\n",
    "\n",
    "def ranking_discontinuity_estimate(user_visits):\n",
    "  # Regression discontinuity estimate for the causal effect of recommendation system.\n",
    "  ctr_by_rank = user_visits.groupby('rec_rank')\n",
    "  ctr_by_rank = ctr_by_rank.agg({'product_id': lambda x: x.size})\n",
    "  ctr_by_rank = ctr_by_rank.rename(columns={'product_id':'num_clicks_by_rank'})\n",
    "  ctr_by_rank = ctr_by_rank.reset_index()\n",
    "  sum_num_clicks = np.sum(ctr_by_rank['num_clicks_by_rank'])\n",
    "  ctr_by_rank['ctr_estimate_by_rank'] = ctr_by_rank['num_clicks_by_rank']/sum_num_clicks\n",
    "\n",
    "  \n",
    "  # Comparing the last shown recommendation and the first not-shown recommendation.\n",
    "  # Assuming that there are no position order effects in recommendation click-throughs.\n",
    "  print(ctr_by_rank)\n",
    "  est1 = ctr_by_rank.loc[ctr_by_rank.rec_rank==MAX_SHOWN_RECS, 'ctr_estimate_by_rank']\n",
    "  est2 = ctr_by_rank.loc[ctr_by_rank.rec_rank==(MAX_SHOWN_RECS+1), 'ctr_estimate_by_rank']\n",
    "  est = est1.iloc[0] -est2.iloc[0]\n",
    "  upper_bound_est = est*MAX_SHOWN_RECS\n",
    "  print(\"Mean estimate: {0}\".format(upper_bound_est))\n",
    "  return(upper_bound_est)"
   ]
  },
  {
   "cell_type": "markdown",
   "metadata": {},
   "source": [
    "##  Reading app visit logs for two different algorithms."
   ]
  },
  {
   "cell_type": "code",
   "execution_count": null,
   "metadata": {},
   "outputs": [],
   "source": [
    "  \n",
    "  user_app_visits_A = pd.read_csv(\"../datasets/user_app_visits_A.csv\")\n",
    "  user_app_visits_B = pd.read_csv(\"../datasets/user_app_visits_B.csv\")"
   ]
  },
  {
   "cell_type": "markdown",
   "metadata": {},
   "source": [
    "### GOAL 1: COMPARE ALGORITHM A VERSUS B\n",
    "**Naive estimate**"
   ]
  },
  {
   "cell_type": "code",
   "execution_count": null,
   "metadata": {},
   "outputs": [],
   "source": [
    "  naive_observational_estimate(user_app_visits_A)\n",
    "  naive_observational_estimate(user_app_visits_B) "
   ]
  },
  {
   "cell_type": "markdown",
   "metadata": {},
   "source": [
    " **Stratified estimate** (by user activity level)"
   ]
  },
  {
   "cell_type": "code",
   "execution_count": null,
   "metadata": {},
   "outputs": [],
   "source": [
    "\n",
    "  print(stratified_by_activity_estimate(user_app_visits_A))\n",
    "  print(stratified_by_activity_estimate(user_app_visits_B))"
   ]
  },
  {
   "cell_type": "markdown",
   "metadata": {},
   "source": [
    " **Stratified estimate** (by app category)"
   ]
  },
  {
   "cell_type": "code",
   "execution_count": null,
   "metadata": {},
   "outputs": [],
   "source": [
    "  print(stratified_by_category_estimate(user_app_visits_A))\n",
    "  print(stratified_by_category_estimate(user_app_visits_B))"
   ]
  },
  {
   "cell_type": "code",
   "execution_count": null,
   "metadata": {},
   "outputs": [],
   "source": [
    "  print(fully_conditioned_estimate(user_app_visits_A))\n",
    "  print(fully_conditioned_estimate(user_app_visits_B))  "
   ]
  },
  {
   "cell_type": "code",
   "execution_count": null,
   "metadata": {},
   "outputs": [],
   "source": [
    "  # GOAL 2: FIND THE CAUSAL EFFECT OF SHOWING RECOMMENDATIONS\n",
    "  # Regression discontinuity estimate for Algorithm A\n",
    "  print(naive_observational_estimate(user_app_visits_A))\n",
    "  ranking_discontinuity_estimate(user_app_visits_A)\n"
   ]
  }
 ],
 "metadata": {
  "kernelspec": {
   "display_name": "Python 3",
   "language": "python",
   "name": "python3"
  },
  "language_info": {
   "codemirror_mode": {
    "name": "ipython",
    "version": 3
   },
   "file_extension": ".py",
   "mimetype": "text/x-python",
   "name": "python",
   "nbconvert_exporter": "python",
   "pygments_lexer": "ipython3",
   "version": "3.5.2"
  }
 },
 "nbformat": 4,
 "nbformat_minor": 2
}
