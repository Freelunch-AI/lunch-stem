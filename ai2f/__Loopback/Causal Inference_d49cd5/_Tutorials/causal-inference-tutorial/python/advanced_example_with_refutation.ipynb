{
 "cells": [
  {
   "cell_type": "markdown",
   "metadata": {},
   "source": [
    "# Getting started with causal inference: A more advanced example\n",
    "\n",
    "We will load in a sample dataset and estimate causal effect from a (pre-specified)treatment variable to a (pre-specified) outcome variable.\n",
    "\n",
    "First, let us add required path for python to find DoWhy code and load required packages."
   ]
  },
  {
   "cell_type": "code",
   "execution_count": 1,
   "metadata": {},
   "outputs": [],
   "source": [
    "import numpy as np\n",
    "import pandas as pd\n",
    "from collections import namedtuple\n",
    "import datasets "
   ]
  },
  {
   "cell_type": "markdown",
   "metadata": {},
   "source": [
    "Let us first load a dataset. For simplicity, we simulate a dataset with linear relationships between common causes and treatment, and common causes and outcome. \n",
    "\n",
    "Beta is the true causal effect. "
   ]
  },
  {
   "cell_type": "code",
   "execution_count": 2,
   "metadata": {},
   "outputs": [
    {
     "name": "stdout",
     "output_type": "stream",
     "text": [
      "     v         y   Z0\n",
      "0  0.0 -4.023765  1.0\n",
      "1  0.0 -2.948458  1.0\n",
      "2  0.0 -7.349936  1.0\n",
      "3  0.0 -2.757042  1.0\n",
      "4  0.0 -3.890549  1.0\n"
     ]
    }
   ],
   "source": [
    "data = datasets.linear_dataset(beta=10,\n",
    "        num_common_causes=5,\n",
    "        num_instruments=2,\n",
    "        num_samples=10000, \n",
    "        treatment_is_binary=True)\n",
    "df = data[\"df\"]\n",
    "print(df[[\"v\", \"y\", \"Z0\"]].head())  "
   ]
  },
  {
   "cell_type": "markdown",
   "metadata": {},
   "source": [
    "Note that we are using a pandas dataframe to load the data."
   ]
  },
  {
   "cell_type": "markdown",
   "metadata": {},
   "source": [
    "## Step 1, Model: Input causal graph"
   ]
  },
  {
   "cell_type": "markdown",
   "metadata": {},
   "source": [
    "We now input a causal graph in the DOT graph format."
   ]
  },
  {
   "cell_type": "markdown",
   "metadata": {},
   "source": [
    "<img src=\"advanced_causal_model.png\">"
   ]
  },
  {
   "cell_type": "markdown",
   "metadata": {},
   "source": [
    "We get a more complicated causal graph. Now identification and estimation needs to be done."
   ]
  },
  {
   "cell_type": "markdown",
   "metadata": {},
   "source": [
    "## Step 2, Identify: Use graph criteria"
   ]
  },
  {
   "cell_type": "markdown",
   "metadata": {},
   "source": [
    "Estimand type: ate\n",
    "### Estimand : 1\n",
    "**Estimand name**: backdoor\n",
    "\n",
    "**Estimand expression**:\n",
    "\n",
    "d                                      \n",
    "──(Expectation(y|X2,Z0,X1,X4,X0,Z1,X3))\n",
    "\n",
    "dv                                     \n",
    "\n",
    "**Estimand assumption 1**, \n",
    "\n",
    "Unconfoundedness: If U→v and U→y then P(y|v,X2,Z0,X1,X4,X0,Z1,X3,U) = P(y|v,X2,Z0,X1,X4,X0,Z1,X3)\n",
    "\n",
    "### Estimand : 2\n",
    "**Estimand name**: iv\n",
    "\n",
    "**Estimand expression**:\n",
    "\n",
    "Expectation(Derivative(y, Z1)/Derivative(v, Z1))\n",
    "\n",
    "**Estimand assumption 1**, \n",
    "\n",
    "Exclusion: If we remove {Z1,Z0}→v, then ¬(Z1,Z0→y)\n",
    "\n",
    "**Estimand assumption 2**, \n",
    "\n",
    "As-if-random: If U→→y then ¬(U →→Z1,Z0)"
   ]
  },
  {
   "cell_type": "markdown",
   "metadata": {},
   "source": [
    "## Step 3: Estimate: Use instrumental variable estimator"
   ]
  },
  {
   "cell_type": "code",
   "execution_count": 3,
   "metadata": {},
   "outputs": [
    {
     "name": "stdout",
     "output_type": "stream",
     "text": [
      "Causal Estimate is 4.72282685699\n"
     ]
    }
   ],
   "source": [
    "    def instrumental_variables_estimator(df, treatment_name=\"v\"):\n",
    "        instrument = df[\"Z0\"]\n",
    "        num_unique_values = len(np.unique(instrument))\n",
    "        instrument_is_binary= (num_unique_values <=2)\n",
    "        if instrument_is_binary:\n",
    "            # Obtain estimate by Wald Estimator\n",
    "            y1_z =np.mean(df[\"y\"][instrument==1])\n",
    "            y0_z = np.mean(df[\"y\"][instrument==0])\n",
    "            x1_z = np.mean(df[treatment_name][instrument==1])\n",
    "            x0_z = np.mean(df[treatment_name][instrument==0])\n",
    "            num = y1_z - y0_z\n",
    "            deno = x1_z - x0_z\n",
    "            iv_est = num/deno\n",
    "        else:\n",
    "            # Obtain estimate by Pearl (1995) ratio estimator.\n",
    "            # y = x+ u; multiply both sides by z and take expectation.\n",
    "            num_yz = np.dot(df[\"y\"], instrument)\n",
    "            deno_xz = np.dot(df[treatment_name], instrument)\n",
    "            iv_est = num_yz/deno_xz\n",
    "\n",
    "        CausalEstimate = namedtuple('CausalEstimate', ['value'])\n",
    "        estimate = CausalEstimate(value= iv_est)\n",
    "        return estimate\n",
    "    \n",
    "causal_estimate = instrumental_variables_estimator(df)\n",
    "print(\"Causal Estimate is \" + str(causal_estimate.value))"
   ]
  },
  {
   "cell_type": "markdown",
   "metadata": {},
   "source": [
    "## Step 4, Refute: Sensitivity analysis\n",
    "\n",
    "Now refuting the obtained estimate."
   ]
  },
  {
   "cell_type": "markdown",
   "metadata": {},
   "source": [
    "### Adding a random common cause variable"
   ]
  },
  {
   "cell_type": "code",
   "execution_count": 4,
   "metadata": {},
   "outputs": [
    {
     "name": "stdout",
     "output_type": "stream",
     "text": [
      "Causal estimate was: 4.722826856987969\n",
      "New refuted estimate is: 4.722826856987969\n"
     ]
    }
   ],
   "source": [
    "    def refute_estimate_random(df, causal_estimate):\n",
    "        num_rows = df.shape[0]\n",
    "        new_data = df.assign(w_random=np.random.randn(num_rows))\n",
    "        new_effect = instrumental_variables_estimator(new_data)\n",
    "        refute = new_effect.value\n",
    "        return(refute)\n",
    "\n",
    "res_random = refute_estimate_random(df, causal_estimate)\n",
    "print(\"Causal estimate was: {0}\".format(causal_estimate.value))\n",
    "print(\"New refuted estimate is: {0}\".format(res_random))"
   ]
  },
  {
   "cell_type": "markdown",
   "metadata": {},
   "source": [
    "### Replacing treatment with a random (placebo) variable"
   ]
  },
  {
   "cell_type": "code",
   "execution_count": 5,
   "metadata": {},
   "outputs": [
    {
     "name": "stdout",
     "output_type": "stream",
     "text": [
      "Causal estimate was: 4.722826856987969\n",
      "New refuted estimate is: -2.556359767707989\n"
     ]
    }
   ],
   "source": [
    " def refute_estimate_placebo(df, estimate, placebo_type=\"permte\", sims=100):                                                      \n",
    "     num_rows = df.shape[0]\n",
    "     refute =0\n",
    "     for i in range(sims):\n",
    "         if placebo_type == \"permute\":                                         \n",
    "             new_treatment =df[\"v\"].sample(frac=1).values\n",
    "         else:                                                                       \n",
    "             new_treatment = np.random.randn(num_rows)                               \n",
    "         new_data = df.assign(placebo=new_treatment)                         \n",
    "\n",
    "         new_estimate = instrumental_variables_estimator(new_data, treatment_name=\"placebo\")\n",
    "\n",
    "         refute += new_estimate.value\n",
    "     refute = refute/sims\n",
    "     return(refute)                                                              \n",
    "\n",
    "res_placebo = refute_estimate_placebo(df, causal_estimate)\n",
    "print(\"Causal estimate was: {0}\".format(causal_estimate.value))\n",
    "print(\"New refuted estimate is: {0}\".format(res_placebo))"
   ]
  },
  {
   "cell_type": "markdown",
   "metadata": {},
   "source": [
    "### Removing a random subset of the data"
   ]
  },
  {
   "cell_type": "code",
   "execution_count": 6,
   "metadata": {},
   "outputs": [
    {
     "name": "stdout",
     "output_type": "stream",
     "text": [
      "Causal estimate was: 4.722826856987969\n",
      "New refuted estimate is: 9.706927626426125\n"
     ]
    }
   ],
   "source": [
    "   def refute_estimate_subset(df, causal_estimate, subset_fraction=0.8):\n",
    "        new_data = df.sample(frac=subset_fraction)\n",
    "        new_effect = instrumental_variables_estimator(new_data)\n",
    "        refute = new_effect.value\n",
    "        return(refute)\n",
    "\n",
    "res_subset = refute_estimate_subset(df, causal_estimate)\n",
    "print(\"Causal estimate was: {0}\".format(causal_estimate.value))\n",
    "print(\"New refuted estimate is: {0}\".format(res_subset))\n"
   ]
  },
  {
   "cell_type": "markdown",
   "metadata": {},
   "source": [
    "As you can see, our estimate is somewhat sensitive to simple refutations."
   ]
  }
 ],
 "metadata": {
  "kernelspec": {
   "display_name": "Python 3",
   "language": "python",
   "name": "python3"
  },
  "language_info": {
   "codemirror_mode": {
    "name": "ipython",
    "version": 3
   },
   "file_extension": ".py",
   "mimetype": "text/x-python",
   "name": "python",
   "nbconvert_exporter": "python",
   "pygments_lexer": "ipython3",
   "version": "3.5.2"
  }
 },
 "nbformat": 4,
 "nbformat_minor": 2
}
