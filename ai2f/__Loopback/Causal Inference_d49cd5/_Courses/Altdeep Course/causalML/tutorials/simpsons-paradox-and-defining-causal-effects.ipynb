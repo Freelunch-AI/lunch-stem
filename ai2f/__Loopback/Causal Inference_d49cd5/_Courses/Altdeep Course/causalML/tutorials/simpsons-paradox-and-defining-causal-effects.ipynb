{
  "nbformat": 4,
  "nbformat_minor": 0,
  "metadata": {
    "colab": {
      "name": "Simpsons paradox and defining causal effects.ipynb",
      "provenance": [],
      "collapsed_sections": [
        "FzDOYbCQKrdg"
      ]
    },
    "kernelspec": {
      "name": "python3",
      "display_name": "Python 3"
    },
    "language_info": {
      "name": "python"
    }
  },
  "cells": [
    {
      "cell_type": "markdown",
      "metadata": {
        "id": "XmNWj4xOKm_m"
      },
      "source": [
        "# Simpsons Paradox"
      ]
    },
    {
      "cell_type": "markdown",
      "metadata": {
        "id": "FzDOYbCQKrdg"
      },
      "source": [
        "## Installing Packages"
      ]
    },
    {
      "cell_type": "code",
      "metadata": {
        "colab": {
          "base_uri": "https://localhost:8080/"
        },
        "id": "lu3G1QguKpmr",
        "outputId": "9e41e6a8-aa53-4cb8-9a46-3d522878ac64"
      },
      "source": [
        "pip install pandas"
      ],
      "execution_count": null,
      "outputs": [
        {
          "output_type": "stream",
          "text": [
            "Requirement already satisfied: pandas in /usr/local/lib/python3.7/dist-packages (1.1.5)\n",
            "Requirement already satisfied: pytz>=2017.2 in /usr/local/lib/python3.7/dist-packages (from pandas) (2018.9)\n",
            "Requirement already satisfied: numpy>=1.15.4 in /usr/local/lib/python3.7/dist-packages (from pandas) (1.19.5)\n",
            "Requirement already satisfied: python-dateutil>=2.7.3 in /usr/local/lib/python3.7/dist-packages (from pandas) (2.8.1)\n",
            "Requirement already satisfied: six>=1.5 in /usr/local/lib/python3.7/dist-packages (from python-dateutil>=2.7.3->pandas) (1.15.0)\n"
          ],
          "name": "stdout"
        }
      ]
    },
    {
      "cell_type": "code",
      "metadata": {
        "colab": {
          "base_uri": "https://localhost:8080/"
        },
        "id": "2ih6YvoeZkIM",
        "outputId": "4d7061cf-d739-4204-a5b5-da7418128800"
      },
      "source": [
        "pip install pgmpy"
      ],
      "execution_count": null,
      "outputs": [
        {
          "output_type": "stream",
          "text": [
            "Requirement already satisfied: pgmpy in /usr/local/lib/python3.7/dist-packages (0.1.15)\n",
            "Requirement already satisfied: pyparsing in /usr/local/lib/python3.7/dist-packages (from pgmpy) (2.4.7)\n",
            "Requirement already satisfied: torch in /usr/local/lib/python3.7/dist-packages (from pgmpy) (1.9.0+cu102)\n",
            "Requirement already satisfied: joblib in /usr/local/lib/python3.7/dist-packages (from pgmpy) (1.0.1)\n",
            "Requirement already satisfied: scipy in /usr/local/lib/python3.7/dist-packages (from pgmpy) (1.4.1)\n",
            "Requirement already satisfied: pandas in /usr/local/lib/python3.7/dist-packages (from pgmpy) (1.1.5)\n",
            "Requirement already satisfied: tqdm in /usr/local/lib/python3.7/dist-packages (from pgmpy) (4.41.1)\n",
            "Requirement already satisfied: numpy in /usr/local/lib/python3.7/dist-packages (from pgmpy) (1.19.5)\n",
            "Requirement already satisfied: statsmodels in /usr/local/lib/python3.7/dist-packages (from pgmpy) (0.10.2)\n",
            "Requirement already satisfied: networkx in /usr/local/lib/python3.7/dist-packages (from pgmpy) (2.5.1)\n",
            "Requirement already satisfied: scikit-learn in /usr/local/lib/python3.7/dist-packages (from pgmpy) (0.22.2.post1)\n",
            "Requirement already satisfied: typing-extensions in /usr/local/lib/python3.7/dist-packages (from torch->pgmpy) (3.7.4.3)\n",
            "Requirement already satisfied: pytz>=2017.2 in /usr/local/lib/python3.7/dist-packages (from pandas->pgmpy) (2018.9)\n",
            "Requirement already satisfied: python-dateutil>=2.7.3 in /usr/local/lib/python3.7/dist-packages (from pandas->pgmpy) (2.8.1)\n",
            "Requirement already satisfied: patsy>=0.4.0 in /usr/local/lib/python3.7/dist-packages (from statsmodels->pgmpy) (0.5.1)\n",
            "Requirement already satisfied: decorator<5,>=4.3 in /usr/local/lib/python3.7/dist-packages (from networkx->pgmpy) (4.4.2)\n",
            "Requirement already satisfied: six>=1.5 in /usr/local/lib/python3.7/dist-packages (from python-dateutil>=2.7.3->pandas->pgmpy) (1.15.0)\n"
          ],
          "name": "stdout"
        }
      ]
    },
    {
      "cell_type": "markdown",
      "metadata": {
        "id": "W1JXAKrCCdFe"
      },
      "source": [
        "## Importing packages"
      ]
    },
    {
      "cell_type": "code",
      "metadata": {
        "id": "8GNoPLN_QfAQ"
      },
      "source": [
        "import pandas as pd\n",
        "from pgmpy.models import BayesianModel as bm\n",
        "from pgmpy.inference import VariableElimination\n"
      ],
      "execution_count": null,
      "outputs": []
    },
    {
      "cell_type": "markdown",
      "metadata": {
        "id": "7_L0SLHRCkPN"
      },
      "source": [
        "## Read data"
      ]
    },
    {
      "cell_type": "code",
      "metadata": {
        "id": "gnIGHvHWGB5f"
      },
      "source": [
        "click_data = pd.read_csv(\"clickdata.csv\",usecols=('X','Y','Z'))\n"
      ],
      "execution_count": null,
      "outputs": []
    },
    {
      "cell_type": "code",
      "metadata": {
        "colab": {
          "base_uri": "https://localhost:8080/",
          "height": 433
        },
        "id": "P0Tn4caRGOu2",
        "outputId": "d6293435-af3f-4b4b-937a-cbd2b68cccc4"
      },
      "source": [
        "click_data"
      ],
      "execution_count": null,
      "outputs": [
        {
          "output_type": "execute_result",
          "data": {
            "text/html": [
              "<div>\n",
              "<style scoped>\n",
              "    .dataframe tbody tr th:only-of-type {\n",
              "        vertical-align: middle;\n",
              "    }\n",
              "\n",
              "    .dataframe tbody tr th {\n",
              "        vertical-align: top;\n",
              "    }\n",
              "\n",
              "    .dataframe thead th {\n",
              "        text-align: right;\n",
              "    }\n",
              "</style>\n",
              "<table border=\"1\" class=\"dataframe\">\n",
              "  <thead>\n",
              "    <tr style=\"text-align: right;\">\n",
              "      <th></th>\n",
              "      <th>X</th>\n",
              "      <th>Y</th>\n",
              "      <th>Z</th>\n",
              "    </tr>\n",
              "  </thead>\n",
              "  <tbody>\n",
              "    <tr>\n",
              "      <th>0</th>\n",
              "      <td>unengaged</td>\n",
              "      <td>no click</td>\n",
              "      <td>young</td>\n",
              "    </tr>\n",
              "    <tr>\n",
              "      <th>1</th>\n",
              "      <td>unengaged</td>\n",
              "      <td>no click</td>\n",
              "      <td>young</td>\n",
              "    </tr>\n",
              "    <tr>\n",
              "      <th>2</th>\n",
              "      <td>unengaged</td>\n",
              "      <td>no click</td>\n",
              "      <td>young</td>\n",
              "    </tr>\n",
              "    <tr>\n",
              "      <th>3</th>\n",
              "      <td>unengaged</td>\n",
              "      <td>no click</td>\n",
              "      <td>young</td>\n",
              "    </tr>\n",
              "    <tr>\n",
              "      <th>4</th>\n",
              "      <td>unengaged</td>\n",
              "      <td>no click</td>\n",
              "      <td>young</td>\n",
              "    </tr>\n",
              "    <tr>\n",
              "      <th>...</th>\n",
              "      <td>...</td>\n",
              "      <td>...</td>\n",
              "      <td>...</td>\n",
              "    </tr>\n",
              "    <tr>\n",
              "      <th>115</th>\n",
              "      <td>engaged</td>\n",
              "      <td>click</td>\n",
              "      <td>young</td>\n",
              "    </tr>\n",
              "    <tr>\n",
              "      <th>116</th>\n",
              "      <td>engaged</td>\n",
              "      <td>click</td>\n",
              "      <td>young</td>\n",
              "    </tr>\n",
              "    <tr>\n",
              "      <th>117</th>\n",
              "      <td>engaged</td>\n",
              "      <td>click</td>\n",
              "      <td>old</td>\n",
              "    </tr>\n",
              "    <tr>\n",
              "      <th>118</th>\n",
              "      <td>engaged</td>\n",
              "      <td>click</td>\n",
              "      <td>old</td>\n",
              "    </tr>\n",
              "    <tr>\n",
              "      <th>119</th>\n",
              "      <td>engaged</td>\n",
              "      <td>click</td>\n",
              "      <td>old</td>\n",
              "    </tr>\n",
              "  </tbody>\n",
              "</table>\n",
              "<p>120 rows × 3 columns</p>\n",
              "</div>"
            ],
            "text/plain": [
              "             X         Y      Z\n",
              "0    unengaged  no click  young\n",
              "1    unengaged  no click  young\n",
              "2    unengaged  no click  young\n",
              "3    unengaged  no click  young\n",
              "4    unengaged  no click  young\n",
              "..         ...       ...    ...\n",
              "115    engaged     click  young\n",
              "116    engaged     click  young\n",
              "117    engaged     click    old\n",
              "118    engaged     click    old\n",
              "119    engaged     click    old\n",
              "\n",
              "[120 rows x 3 columns]"
            ]
          },
          "metadata": {
            "tags": []
          },
          "execution_count": 231
        }
      ]
    },
    {
      "cell_type": "markdown",
      "metadata": {
        "id": "iB3p2oqKCoX0"
      },
      "source": [
        "## Creating model"
      ]
    },
    {
      "cell_type": "code",
      "metadata": {
        "id": "fYT3vapYZp0e"
      },
      "source": [
        "model = bm()\n",
        "model.add_edges_from(\n",
        "    [\n",
        "      ('Z','X'),\n",
        "      ('X','Y'),\n",
        "      ('Z','Y')\n",
        "      \n",
        "    ]\n",
        ")\n",
        "\n",
        "model.fit(click_data)"
      ],
      "execution_count": null,
      "outputs": []
    },
    {
      "cell_type": "code",
      "metadata": {
        "colab": {
          "base_uri": "https://localhost:8080/"
        },
        "id": "At8YrKtN7LXf",
        "outputId": "b6e6fb06-4316-4a0d-d35a-f07ce23f4c7f"
      },
      "source": [
        "print(model.get_cpds()[0])"
      ],
      "execution_count": null,
      "outputs": [
        {
          "output_type": "stream",
          "text": [
            "+----------+-----+\n",
            "| Z(old)   | 0.5 |\n",
            "+----------+-----+\n",
            "| Z(young) | 0.5 |\n",
            "+----------+-----+\n"
          ],
          "name": "stdout"
        }
      ]
    },
    {
      "cell_type": "code",
      "metadata": {
        "colab": {
          "base_uri": "https://localhost:8080/"
        },
        "id": "2LJTSpp67NMl",
        "outputId": "105f94b5-8128-4e97-e137-61c33a16c417"
      },
      "source": [
        "print(model.get_cpds()[1])"
      ],
      "execution_count": null,
      "outputs": [
        {
          "output_type": "stream",
          "text": [
            "+--------------+--------------------+--------------------+\n",
            "| Z            | Z(old)             | Z(young)           |\n",
            "+--------------+--------------------+--------------------+\n",
            "| X(engaged)   | 0.6666666666666666 | 0.3333333333333333 |\n",
            "+--------------+--------------------+--------------------+\n",
            "| X(unengaged) | 0.3333333333333333 | 0.6666666666666666 |\n",
            "+--------------+--------------------+--------------------+\n"
          ],
          "name": "stdout"
        }
      ]
    },
    {
      "cell_type": "code",
      "metadata": {
        "colab": {
          "base_uri": "https://localhost:8080/"
        },
        "id": "1GMV5hMN7xSg",
        "outputId": "84907f19-6081-498b-d9ec-a233c6141d52"
      },
      "source": [
        "print(model.get_cpds()[2])"
      ],
      "execution_count": null,
      "outputs": [
        {
          "output_type": "stream",
          "text": [
            "+-------------+------------+------------+--------------+--------------+\n",
            "| X           | X(engaged) | X(engaged) | X(unengaged) | X(unengaged) |\n",
            "+-------------+------------+------------+--------------+--------------+\n",
            "| Z           | Z(old)     | Z(young)   | Z(old)       | Z(young)     |\n",
            "+-------------+------------+------------+--------------+--------------+\n",
            "| Y(click)    | 0.075      | 0.4        | 0.05         | 0.3          |\n",
            "+-------------+------------+------------+--------------+--------------+\n",
            "| Y(no click) | 0.925      | 0.6        | 0.95         | 0.7          |\n",
            "+-------------+------------+------------+--------------+--------------+\n"
          ],
          "name": "stdout"
        }
      ]
    },
    {
      "cell_type": "markdown",
      "metadata": {
        "id": "qDA1yQ8FCtgY"
      },
      "source": [
        "## Inference"
      ]
    },
    {
      "cell_type": "code",
      "metadata": {
        "id": "6ax4TEXoZxyY"
      },
      "source": [
        "inference = VariableElimination(model)"
      ],
      "execution_count": null,
      "outputs": []
    },
    {
      "cell_type": "code",
      "metadata": {
        "colab": {
          "base_uri": "https://localhost:8080/"
        },
        "id": "O7s45xHjalJo",
        "outputId": "71f23da0-ba0f-478d-b77f-a218059d8d2f"
      },
      "source": [
        "theta_u = inference.query(['Y'],{'X': 'unengaged'})"
      ],
      "execution_count": null,
      "outputs": [
        {
          "output_type": "stream",
          "text": [
            "Finding Elimination Order: : 100%|██████████| 1/1 [00:00<00:00, 273.89it/s]\n",
            "Eliminating: Z: 100%|██████████| 1/1 [00:00<00:00, 162.60it/s]\n"
          ],
          "name": "stderr"
        }
      ]
    },
    {
      "cell_type": "code",
      "metadata": {
        "colab": {
          "base_uri": "https://localhost:8080/"
        },
        "id": "w3Qb_ZkU041S",
        "outputId": "d68b9457-358a-4891-e89c-a3bb5096c36a"
      },
      "source": [
        "print(theta_u)\n",
        "theta_u.values[0]"
      ],
      "execution_count": null,
      "outputs": [
        {
          "output_type": "stream",
          "text": [
            "+-------------+----------+\n",
            "| Y           |   phi(Y) |\n",
            "+=============+==========+\n",
            "| Y(click)    |   0.2167 |\n",
            "+-------------+----------+\n",
            "| Y(no click) |   0.7833 |\n",
            "+-------------+----------+\n"
          ],
          "name": "stdout"
        },
        {
          "output_type": "execute_result",
          "data": {
            "text/plain": [
              "0.21666666666666667"
            ]
          },
          "metadata": {
            "tags": []
          },
          "execution_count": 221
        }
      ]
    },
    {
      "cell_type": "code",
      "metadata": {
        "colab": {
          "base_uri": "https://localhost:8080/"
        },
        "id": "jf7cXIc51SR_",
        "outputId": "442c74d5-84a7-44b4-a2e3-22529e22e33c"
      },
      "source": [
        "theta_e = inference.query(['Y'],{'X': 'engaged'})"
      ],
      "execution_count": null,
      "outputs": [
        {
          "output_type": "stream",
          "text": [
            "Finding Elimination Order: : 100%|██████████| 1/1 [00:00<00:00, 241.38it/s]\n",
            "Eliminating: Z: 100%|██████████| 1/1 [00:00<00:00, 236.77it/s]\n"
          ],
          "name": "stderr"
        }
      ]
    },
    {
      "cell_type": "code",
      "metadata": {
        "colab": {
          "base_uri": "https://localhost:8080/"
        },
        "id": "qv6Pg8Zb1l1E",
        "outputId": "23f8c5fb-9d2a-453c-9f6b-9c54452d1f02"
      },
      "source": [
        "print(theta_e)\n",
        "theta_e.values[0]"
      ],
      "execution_count": null,
      "outputs": [
        {
          "output_type": "stream",
          "text": [
            "+-------------+----------+\n",
            "| Y           |   phi(Y) |\n",
            "+=============+==========+\n",
            "| Y(click)    |   0.1833 |\n",
            "+-------------+----------+\n",
            "| Y(no click) |   0.8167 |\n",
            "+-------------+----------+\n"
          ],
          "name": "stdout"
        },
        {
          "output_type": "execute_result",
          "data": {
            "text/plain": [
              "0.18333333333333332"
            ]
          },
          "metadata": {
            "tags": []
          },
          "execution_count": 223
        }
      ]
    },
    {
      "cell_type": "code",
      "metadata": {
        "colab": {
          "base_uri": "https://localhost:8080/"
        },
        "id": "kyfQH6Ei1rXz",
        "outputId": "68d6ba73-383f-4ef0-b89d-ef565f434b38"
      },
      "source": [
        "theta_e.values[0] - theta_u.values[0]"
      ],
      "execution_count": null,
      "outputs": [
        {
          "output_type": "execute_result",
          "data": {
            "text/plain": [
              "-0.033333333333333354"
            ]
          },
          "metadata": {
            "tags": []
          },
          "execution_count": 224
        }
      ]
    },
    {
      "cell_type": "markdown",
      "metadata": {
        "id": "xeDNpcSzCxDO"
      },
      "source": [
        "## Updated model inference"
      ]
    },
    {
      "cell_type": "code",
      "metadata": {
        "id": "LDGta6tq6gDD"
      },
      "source": [
        "model = model.do('X')\n",
        "inference = VariableElimination(model)"
      ],
      "execution_count": null,
      "outputs": []
    },
    {
      "cell_type": "code",
      "metadata": {
        "colab": {
          "base_uri": "https://localhost:8080/"
        },
        "id": "TimVKaq_9F5y",
        "outputId": "039280f4-0ff1-4761-cf66-9b4bdd672ac5"
      },
      "source": [
        "gamma_u = inference.query(['Y'],{'X': 'unengaged'})"
      ],
      "execution_count": null,
      "outputs": [
        {
          "output_type": "stream",
          "text": [
            "Finding Elimination Order: : 100%|██████████| 1/1 [00:00<00:00, 311.45it/s]\n",
            "Eliminating: Z: 100%|██████████| 1/1 [00:00<00:00, 265.87it/s]\n"
          ],
          "name": "stderr"
        }
      ]
    },
    {
      "cell_type": "code",
      "metadata": {
        "colab": {
          "base_uri": "https://localhost:8080/"
        },
        "id": "nf3IVCXs9rHi",
        "outputId": "17b8cff2-462b-41c5-f13a-4c6f82f5ebba"
      },
      "source": [
        "print(gamma_u)"
      ],
      "execution_count": null,
      "outputs": [
        {
          "output_type": "stream",
          "text": [
            "+-------------+----------+\n",
            "| Y           |   phi(Y) |\n",
            "+=============+==========+\n",
            "| Y(click)    |   0.1750 |\n",
            "+-------------+----------+\n",
            "| Y(no click) |   0.8250 |\n",
            "+-------------+----------+\n"
          ],
          "name": "stdout"
        }
      ]
    },
    {
      "cell_type": "code",
      "metadata": {
        "colab": {
          "base_uri": "https://localhost:8080/"
        },
        "id": "YYploxwT9w1M",
        "outputId": "40449fd0-9322-4273-ff2f-c7da5bbaf598"
      },
      "source": [
        "gamma_e = inference.query(['Y'],{'X': 'engaged'})"
      ],
      "execution_count": null,
      "outputs": [
        {
          "output_type": "stream",
          "text": [
            "Finding Elimination Order: : 100%|██████████| 1/1 [00:00<00:00, 120.37it/s]\n",
            "Eliminating: Z: 100%|██████████| 1/1 [00:00<00:00, 176.91it/s]\n"
          ],
          "name": "stderr"
        }
      ]
    },
    {
      "cell_type": "code",
      "metadata": {
        "colab": {
          "base_uri": "https://localhost:8080/"
        },
        "id": "3RNWIiW996j5",
        "outputId": "d36730a6-cc28-4372-9a88-9a451459e828"
      },
      "source": [
        "print(gamma_e)"
      ],
      "execution_count": null,
      "outputs": [
        {
          "output_type": "stream",
          "text": [
            "+-------------+----------+\n",
            "| Y           |   phi(Y) |\n",
            "+=============+==========+\n",
            "| Y(click)    |   0.2375 |\n",
            "+-------------+----------+\n",
            "| Y(no click) |   0.7625 |\n",
            "+-------------+----------+\n"
          ],
          "name": "stdout"
        }
      ]
    },
    {
      "cell_type": "code",
      "metadata": {
        "colab": {
          "base_uri": "https://localhost:8080/"
        },
        "id": "VDpzSrfqBqz7",
        "outputId": "778ad6be-597f-4ff1-a899-f43df39b52c3"
      },
      "source": [
        "gamma_e.values[0] - gamma_u.values[0]"
      ],
      "execution_count": null,
      "outputs": [
        {
          "output_type": "execute_result",
          "data": {
            "text/plain": [
              "0.06250000000000003"
            ]
          },
          "metadata": {
            "tags": []
          },
          "execution_count": 230
        }
      ]
    },
    {
      "cell_type": "markdown",
      "metadata": {
        "id": "jZ_OPXgdQC7B"
      },
      "source": [
        ""
      ]
    }
  ]
}