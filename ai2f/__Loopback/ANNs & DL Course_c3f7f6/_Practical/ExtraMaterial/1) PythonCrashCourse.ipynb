{
 "cells": [
  {
   "cell_type": "markdown",
   "metadata": {
    "id": "2fI2ZJwi0WeF"
   },
   "source": [
    "# Python3 Crash Course"
   ]
  },
  {
   "cell_type": "markdown",
   "metadata": {
    "id": "onlLcdpMCAXS"
   },
   "source": [
    "#### print(), variables and input()"
   ]
  },
  {
   "cell_type": "code",
   "execution_count": null,
   "metadata": {
    "colab": {
     "base_uri": "https://localhost:8080/"
    },
    "executionInfo": {
     "elapsed": 226,
     "status": "ok",
     "timestamp": 1632250384801,
     "user": {
      "displayName": "Eugenio Lomurno",
      "photoUrl": "https://lh3.googleusercontent.com/a/default-user=s64",
      "userId": "00192456819128711881"
     },
     "user_tz": -120
    },
    "id": "200BJjK40Rx7",
    "outputId": "0d622eaf-5879-4a3b-e60b-de72de9c339b"
   },
   "outputs": [
    {
     "name": "stdout",
     "output_type": "stream",
     "text": [
      "Hello World\n"
     ]
    }
   ],
   "source": [
    "# The notorious 'Hello World'\n",
    "print('Hello World')   "
   ]
  },
  {
   "cell_type": "code",
   "execution_count": null,
   "metadata": {
    "colab": {
     "base_uri": "https://localhost:8080/"
    },
    "executionInfo": {
     "elapsed": 9,
     "status": "ok",
     "timestamp": 1632250385022,
     "user": {
      "displayName": "Eugenio Lomurno",
      "photoUrl": "https://lh3.googleusercontent.com/a/default-user=s64",
      "userId": "00192456819128711881"
     },
     "user_tz": -120
    },
    "id": "7A1gV9L01YYg",
    "outputId": "7c18313c-48d6-49ce-e077-073c41daa553"
   },
   "outputs": [
    {
     "name": "stdout",
     "output_type": "stream",
     "text": [
      "3\n",
      "4.5\n",
      "Hello World\n"
     ]
    }
   ],
   "source": [
    "# Python code to declare and print simple variables\n",
    "myInteger = 3\n",
    "print(myInteger)\n",
    "  \n",
    "myFloat = 4.5\n",
    "print(myFloat)\n",
    "  \n",
    "myString = 'Hello World'\n",
    "print(myString)"
   ]
  },
  {
   "cell_type": "code",
   "execution_count": null,
   "metadata": {
    "colab": {
     "base_uri": "https://localhost:8080/"
    },
    "executionInfo": {
     "elapsed": 7,
     "status": "ok",
     "timestamp": 1632250385022,
     "user": {
      "displayName": "Eugenio Lomurno",
      "photoUrl": "https://lh3.googleusercontent.com/a/default-user=s64",
      "userId": "00192456819128711881"
     },
     "user_tz": -120
    },
    "id": "61KiZfWyrJJM",
    "outputId": "6fb50ce9-a961-4b89-abd5-531887fe92f6"
   },
   "outputs": [
    {
     "name": "stdout",
     "output_type": "stream",
     "text": [
      "My integer: 3\n",
      "My float: 4.500000\n",
      "My float (truncated): 4.50\n",
      "My string: Hello World\n"
     ]
    }
   ],
   "source": [
    "# C-like way to print variables\n",
    "print('My integer: %d' % myInteger)\n",
    "print('My float: %f' % myFloat)\n",
    "print('My float (truncated): %.2f' % myFloat)\n",
    "print('My string: %s' % myString)"
   ]
  },
  {
   "cell_type": "code",
   "execution_count": null,
   "metadata": {
    "colab": {
     "base_uri": "https://localhost:8080/"
    },
    "executionInfo": {
     "elapsed": 5,
     "status": "ok",
     "timestamp": 1632250385736,
     "user": {
      "displayName": "Eugenio Lomurno",
      "photoUrl": "https://lh3.googleusercontent.com/a/default-user=s64",
      "userId": "00192456819128711881"
     },
     "user_tz": -120
    },
    "id": "lHETEZXn3VZx",
    "outputId": "0d3e8542-7ba9-461d-8abd-142ab1c6b30b"
   },
   "outputs": [
    {
     "name": "stdout",
     "output_type": "stream",
     "text": [
      "Never forget the \"No Free Lunch\" theorem\n",
      "Never forget the \"No Free Lunch\" theorem\n"
     ]
    }
   ],
   "source": [
    "# Concatenate two strings inside the print function\n",
    "string1 = 'Never forget the'\n",
    "string2 = '\\\"No Free Lunch\\\" theorem'\n",
    "print(string1+\" \"+string2)\n",
    "print(string1,string2)"
   ]
  },
  {
   "cell_type": "code",
   "execution_count": null,
   "metadata": {
    "colab": {
     "base_uri": "https://localhost:8080/"
    },
    "executionInfo": {
     "elapsed": 4,
     "status": "ok",
     "timestamp": 1632250385988,
     "user": {
      "displayName": "Eugenio Lomurno",
      "photoUrl": "https://lh3.googleusercontent.com/a/default-user=s64",
      "userId": "00192456819128711881"
     },
     "user_tz": -120
    },
    "id": "q2P0PQlHB6yU",
    "outputId": "2e972c57-acc7-4e22-cc46-4f2f79424261"
   },
   "outputs": [
    {
     "name": "stdout",
     "output_type": "stream",
     "text": [
      "I argue that if the input is a tensor with shape (13,1) and the first hidden dense layer has 10 neurons, there will be 140 parameters.\n"
     ]
    }
   ],
   "source": [
    "# Format string in print function\n",
    "a = 13\n",
    "b = 10\n",
    "print('I argue that if the input is a tensor with shape ({},1) and the first hidden dense layer has {} neurons, there will be {} parameters.'.format(a,b,((a+1)*b)))"
   ]
  },
  {
   "cell_type": "code",
   "execution_count": null,
   "metadata": {
    "colab": {
     "base_uri": "https://localhost:8080/"
    },
    "executionInfo": {
     "elapsed": 4499,
     "status": "ok",
     "timestamp": 1632250397458,
     "user": {
      "displayName": "Eugenio Lomurno",
      "photoUrl": "https://lh3.googleusercontent.com/a/default-user=s64",
      "userId": "00192456819128711881"
     },
     "user_tz": -120
    },
    "id": "XzPKOjumWbw9",
    "outputId": "1ec92b68-bd9d-47e6-d2a2-2babdaff13f4"
   },
   "outputs": [
    {
     "name": "stdout",
     "output_type": "stream",
     "text": [
      "Enter your input: Welcome!\n",
      "Welcome!\n"
     ]
    }
   ],
   "source": [
    "# Input output basics\n",
    "var = input('Enter your input: ') \n",
    "print(var)"
   ]
  },
  {
   "cell_type": "markdown",
   "metadata": {
    "id": "IJD-68eVeWgp"
   },
   "source": [
    "#### if, else, elif"
   ]
  },
  {
   "cell_type": "code",
   "execution_count": null,
   "metadata": {
    "colab": {
     "base_uri": "https://localhost:8080/"
    },
    "executionInfo": {
     "elapsed": 214,
     "status": "ok",
     "timestamp": 1632250399550,
     "user": {
      "displayName": "Eugenio Lomurno",
      "photoUrl": "https://lh3.googleusercontent.com/a/default-user=s64",
      "userId": "00192456819128711881"
     },
     "user_tz": -120
    },
    "id": "MnJj9nUQebhO",
    "outputId": "ad530203-2e51-47b8-9c5a-e184151b4f6b"
   },
   "outputs": [
    {
     "name": "stdout",
     "output_type": "stream",
     "text": [
      "First is greater.\n"
     ]
    }
   ],
   "source": [
    "# A simple if else statement\n",
    "first = 3\n",
    "second = 2\n",
    "if (first>second):\n",
    "    print('First is greater.')\n",
    "else:\n",
    "    print('Second is greater.')"
   ]
  },
  {
   "cell_type": "code",
   "execution_count": null,
   "metadata": {
    "colab": {
     "base_uri": "https://localhost:8080/"
    },
    "executionInfo": {
     "elapsed": 4,
     "status": "ok",
     "timestamp": 1632250399785,
     "user": {
      "displayName": "Eugenio Lomurno",
      "photoUrl": "https://lh3.googleusercontent.com/a/default-user=s64",
      "userId": "00192456819128711881"
     },
     "user_tz": -120
    },
    "id": "tFcPc-rYfyxg",
    "outputId": "5006ac13-51c6-451c-fea5-38ba1b102f0e"
   },
   "outputs": [
    {
     "name": "stdout",
     "output_type": "stream",
     "text": [
      "a or b = True\n",
      "a and b = False\n",
      "not a = False\n"
     ]
    }
   ],
   "source": [
    "# Example with logical operators\n",
    "a = True\n",
    "b = False\n",
    "\n",
    "if (a or b):\n",
    "    print('a or b = True')\n",
    "else:\n",
    "    print('a or b = False')\n",
    "\n",
    "if (a and b):\n",
    "    print('a and b = True')\n",
    "else:\n",
    "    print('a and b = False')\n",
    "\n",
    "if (not a):\n",
    "    print('not a = True')\n",
    "else:\n",
    "    print('not a = False')"
   ]
  },
  {
   "cell_type": "code",
   "execution_count": null,
   "metadata": {
    "colab": {
     "base_uri": "https://localhost:8080/"
    },
    "executionInfo": {
     "elapsed": 8,
     "status": "ok",
     "timestamp": 1632250400117,
     "user": {
      "displayName": "Eugenio Lomurno",
      "photoUrl": "https://lh3.googleusercontent.com/a/default-user=s64",
      "userId": "00192456819128711881"
     },
     "user_tz": -120
    },
    "id": "uUbfh2NRgo57",
    "outputId": "a8014c9f-2c17-4a61-a934-7a771995833a"
   },
   "outputs": [
    {
     "name": "stdout",
     "output_type": "stream",
     "text": [
      "All the conditions are True\n",
      "All the conditions are True\n"
     ]
    }
   ],
   "source": [
    "# Nested if else statement\n",
    "a = 10\n",
    "b = 5\n",
    "condition1 = a > b\n",
    "condition2 = True\n",
    "\n",
    "if (condition1):\n",
    "    if(condition2):\n",
    "        print('All the conditions are True')\n",
    "\n",
    "if (condition1 and condition2):\n",
    "    print('All the conditions are True')"
   ]
  },
  {
   "cell_type": "code",
   "execution_count": null,
   "metadata": {
    "colab": {
     "base_uri": "https://localhost:8080/"
    },
    "executionInfo": {
     "elapsed": 6,
     "status": "ok",
     "timestamp": 1632250400118,
     "user": {
      "displayName": "Eugenio Lomurno",
      "photoUrl": "https://lh3.googleusercontent.com/a/default-user=s64",
      "userId": "00192456819128711881"
     },
     "user_tz": -120
    },
    "id": "FxSkoQzjhMzt",
    "outputId": "ea807121-55c7-432a-b1a2-da7aab6d8ec9"
   },
   "outputs": [
    {
     "name": "stdout",
     "output_type": "stream",
     "text": [
      "Let's survive and conquer the solar system!\n"
     ]
    }
   ],
   "source": [
    "# Example with elif statement\n",
    "reduced_emissions = True\n",
    "business_as_usual = False\n",
    "\n",
    "if (reduced_emissions and not business_as_usual):\n",
    "    print('Let\\'s survive and conquer the solar system!')\n",
    "elif (reduced_emissions and business_as_usual):\n",
    "    print('Wait and hope.')\n",
    "elif (not reduced_emissions and not business_as_usual):\n",
    "    print('There is some air in this pollution...')\n",
    "else:\n",
    "    print('Milan has the sea! (For real...)')"
   ]
  },
  {
   "cell_type": "markdown",
   "metadata": {
    "id": "ua3vbK-sZLk1"
   },
   "source": [
    "#### lists and cycles"
   ]
  },
  {
   "cell_type": "code",
   "execution_count": null,
   "metadata": {
    "colab": {
     "base_uri": "https://localhost:8080/"
    },
    "executionInfo": {
     "elapsed": 4,
     "status": "ok",
     "timestamp": 1632250400402,
     "user": {
      "displayName": "Eugenio Lomurno",
      "photoUrl": "https://lh3.googleusercontent.com/a/default-user=s64",
      "userId": "00192456819128711881"
     },
     "user_tz": -120
    },
    "id": "fBbMjRhOZQPH",
    "outputId": "102bcfcc-4eaa-431c-8fd2-f2d5408948c9"
   },
   "outputs": [
    {
     "name": "stdout",
     "output_type": "stream",
     "text": [
      "['Single string']\n",
      "Length: 1\n",
      "['Multiple', 'strings']\n",
      "Length: 2\n"
     ]
    }
   ],
   "source": [
    "# Empty list\n",
    "myList = []\n",
    "\n",
    "# List with one element\n",
    "myList = ['Single string']\n",
    "print(myList)\n",
    "print('Length:',len(myList))\n",
    "\n",
    "# List with many elements\n",
    "myList = ['Multiple','strings']\n",
    "print(myList)\n",
    "print('Length:',len(myList))"
   ]
  },
  {
   "cell_type": "code",
   "execution_count": null,
   "metadata": {
    "colab": {
     "base_uri": "https://localhost:8080/"
    },
    "executionInfo": {
     "elapsed": 6,
     "status": "ok",
     "timestamp": 1632250400625,
     "user": {
      "displayName": "Eugenio Lomurno",
      "photoUrl": "https://lh3.googleusercontent.com/a/default-user=s64",
      "userId": "00192456819128711881"
     },
     "user_tz": -120
    },
    "id": "xCMByD4RZQL0",
    "outputId": "d1505ba9-b852-4c54-e147-79cf3ce40de1"
   },
   "outputs": [
    {
     "name": "stdout",
     "output_type": "stream",
     "text": [
      "[1, 2, 0.15, 123]\n",
      "Length: 4\n"
     ]
    }
   ],
   "source": [
    "# Append an element to a list\n",
    "myList = [1,2]\n",
    "myList.append(.15)\n",
    "myList.append(123)\n",
    "print(myList)\n",
    "print('Length:',len(myList))"
   ]
  },
  {
   "cell_type": "code",
   "execution_count": null,
   "metadata": {
    "colab": {
     "base_uri": "https://localhost:8080/"
    },
    "executionInfo": {
     "elapsed": 4,
     "status": "ok",
     "timestamp": 1632250400835,
     "user": {
      "displayName": "Eugenio Lomurno",
      "photoUrl": "https://lh3.googleusercontent.com/a/default-user=s64",
      "userId": "00192456819128711881"
     },
     "user_tz": -120
    },
    "id": "PYva4MegbBVx",
    "outputId": "e2242a31-1b6c-4658-a9d3-bbf0d579ae20"
   },
   "outputs": [
    {
     "name": "stdout",
     "output_type": "stream",
     "text": [
      "['BEGIN', ': ', 'a', 1, 0.01]\n",
      "Length: 5\n"
     ]
    }
   ],
   "source": [
    "# Insert an element to a list \n",
    "# NOTE: lists can include elements of different types\n",
    "myList = ['a',1,1e-2]\n",
    "myList.insert(0,'BEGIN')\n",
    "myList.insert(1,': ')\n",
    "print(myList)\n",
    "print('Length:',len(myList))"
   ]
  },
  {
   "cell_type": "code",
   "execution_count": null,
   "metadata": {
    "colab": {
     "base_uri": "https://localhost:8080/"
    },
    "executionInfo": {
     "elapsed": 5,
     "status": "ok",
     "timestamp": 1632250403148,
     "user": {
      "displayName": "Eugenio Lomurno",
      "photoUrl": "https://lh3.googleusercontent.com/a/default-user=s64",
      "userId": "00192456819128711881"
     },
     "user_tz": -120
    },
    "id": "v3oVs-L2cVq8",
    "outputId": "9f116d1a-c445-4d0e-fc76-e5b0cf7a29af"
   },
   "outputs": [
    {
     "name": "stdout",
     "output_type": "stream",
     "text": [
      "Element at position 0: 10\n",
      "Last element: 14\n"
     ]
    }
   ],
   "source": [
    "# Access an element of a list  \n",
    "myList = [10,11,12,13,14]\n",
    "position = 0\n",
    "print('Element at position {}: {}'.format(position,myList[position]))\n",
    "print('Last element:',myList[-1])"
   ]
  },
  {
   "cell_type": "code",
   "execution_count": null,
   "metadata": {
    "colab": {
     "base_uri": "https://localhost:8080/"
    },
    "executionInfo": {
     "elapsed": 233,
     "status": "ok",
     "timestamp": 1632256654168,
     "user": {
      "displayName": "Eugenio Lomurno",
      "photoUrl": "https://lh3.googleusercontent.com/a/default-user=s64",
      "userId": "00192456819128711881"
     },
     "user_tz": -120
    },
    "id": "0ICqurgLdmSw",
    "outputId": "b93aad54-91ce-4647-85b2-fe022241ce6a"
   },
   "outputs": [
    {
     "name": "stdout",
     "output_type": "stream",
     "text": [
      "[10, 11, 12, 13, 14, 15, 16, 17, 18, 19, 13]\n",
      "[10, 11, 12, 14, 15, 16, 17, 18, 19, 13]\n"
     ]
    }
   ],
   "source": [
    "# Delete the first instance of an element of a list\n",
    "myList = [10,11,12,13,14,15,16,17,18,19,13]\n",
    "print(myList)\n",
    "elem = 13\n",
    "myList.remove(elem)\n",
    "print(myList)"
   ]
  },
  {
   "cell_type": "code",
   "execution_count": null,
   "metadata": {
    "colab": {
     "base_uri": "https://localhost:8080/"
    },
    "executionInfo": {
     "elapsed": 4,
     "status": "ok",
     "timestamp": 1632250405229,
     "user": {
      "displayName": "Eugenio Lomurno",
      "photoUrl": "https://lh3.googleusercontent.com/a/default-user=s64",
      "userId": "00192456819128711881"
     },
     "user_tz": -120
    },
    "id": "YPmL6zgVLFpa",
    "outputId": "7a4ea8bb-c7e8-4035-a6e9-1ba18ab62fce"
   },
   "outputs": [
    {
     "name": "stdout",
     "output_type": "stream",
     "text": [
      "[10, 11, 12, 14, 15, 16, 17, 18, 19]\n",
      "[11, 12, 14, 15, 16, 17, 18, 19]\n",
      "[11, 12, 14, 15, 16, 17]\n",
      "[10, 12, 15, 17, 19]\n"
     ]
    }
   ],
   "source": [
    "# Slice operation on lists \n",
    "# NOTE: the slice operation is not inplace, i.e. if it is not explicitly saved into a variable the result will be lost\n",
    "# The whole list\n",
    "print(myList[::])\n",
    "\n",
    "# The whole list starting from the first element\n",
    "print(myList[1::])\n",
    "\n",
    "# The whole list starting from the first element until the third last \n",
    "print(myList[1:-2:])\n",
    "\n",
    "# The elements of the list with even index\n",
    "print(myList[::2])"
   ]
  },
  {
   "cell_type": "code",
   "execution_count": null,
   "metadata": {
    "colab": {
     "base_uri": "https://localhost:8080/"
    },
    "executionInfo": {
     "elapsed": 210,
     "status": "ok",
     "timestamp": 1632250406568,
     "user": {
      "displayName": "Eugenio Lomurno",
      "photoUrl": "https://lh3.googleusercontent.com/a/default-user=s64",
      "userId": "00192456819128711881"
     },
     "user_tz": -120
    },
    "id": "zAH64RyF6KvU",
    "outputId": "9dca897e-bfd2-4038-d17b-5545109b7180"
   },
   "outputs": [
    {
     "name": "stdout",
     "output_type": "stream",
     "text": [
      "Iteration numeber 1\ti=0\n",
      "Iteration numeber 2\ti=1\n",
      "Iteration numeber 3\ti=2\n",
      "Iteration numeber 4\ti=3\n",
      "Iteration numeber 5\ti=4\n",
      "Iteration numeber 6\ti=5\n",
      "Iteration numeber 7\ti=6\n",
      "Iteration numeber 8\ti=7\n",
      "Iteration numeber 9\ti=8\n",
      "Iteration numeber 10\ti=9\n",
      "List: [0, 2, 4, 6, 8, 10, 12, 14, 16, 18]\n"
     ]
    }
   ],
   "source": [
    "# Simple for cycle\n",
    "for i in range(10):\n",
    "    print('Iteration numeber {}\\ti={}'.format(i+1,i))\n",
    "\n",
    "# Populate a list with a cycle\n",
    "myList = []\n",
    "for num in range(0,20,2):\n",
    "    myList.append(num)\n",
    "print('List:', myList)"
   ]
  },
  {
   "cell_type": "code",
   "execution_count": null,
   "metadata": {
    "colab": {
     "base_uri": "https://localhost:8080/"
    },
    "executionInfo": {
     "elapsed": 4,
     "status": "ok",
     "timestamp": 1632250406780,
     "user": {
      "displayName": "Eugenio Lomurno",
      "photoUrl": "https://lh3.googleusercontent.com/a/default-user=s64",
      "userId": "00192456819128711881"
     },
     "user_tz": -120
    },
    "id": "uSkCgK4b7mAU",
    "outputId": "29f679ce-96e5-4e99-9aa1-65b1bafdd11a"
   },
   "outputs": [
    {
     "name": "stdout",
     "output_type": "stream",
     "text": [
      "List\n",
      "0\n",
      "2\n",
      "4\n",
      "6\n",
      "8\n",
      "10\n",
      "12\n",
      "14\n",
      "16\n",
      "18\n"
     ]
    }
   ],
   "source": [
    "# Print the elements in a list\n",
    "print('List')\n",
    "for elem in myList:\n",
    "    print(elem)"
   ]
  },
  {
   "cell_type": "code",
   "execution_count": null,
   "metadata": {
    "colab": {
     "base_uri": "https://localhost:8080/"
    },
    "executionInfo": {
     "elapsed": 7,
     "status": "ok",
     "timestamp": 1632250408539,
     "user": {
      "displayName": "Eugenio Lomurno",
      "photoUrl": "https://lh3.googleusercontent.com/a/default-user=s64",
      "userId": "00192456819128711881"
     },
     "user_tz": -120
    },
    "id": "iqxyeNMM8xNR",
    "outputId": "df10a04e-49db-4a0b-9088-1d19bf1abfbf"
   },
   "outputs": [
    {
     "name": "stdout",
     "output_type": "stream",
     "text": [
      "Index: 0\tValue: 0\n",
      "Index: 1\tValue: 2\n",
      "Index: 2\tValue: 4\n",
      "Index: 3\tValue: 6\n",
      "Index: 4\tValue: 8\n",
      "Index: 5\tValue: 10\n",
      "Index: 6\tValue: 12\n",
      "Index: 7\tValue: 14\n",
      "Index: 8\tValue: 16\n",
      "Index: 9\tValue: 18\n"
     ]
    }
   ],
   "source": [
    "# Exploit the enumerate function to count and access the elements of a list simultaneously\n",
    "for count, value in enumerate(myList):\n",
    "    print('Index: {}\\tValue: {}'.format(count, value))"
   ]
  },
  {
   "cell_type": "markdown",
   "metadata": {
    "id": "UO1ENESOKXmf"
   },
   "source": [
    "#### functions\n",
    "\n"
   ]
  },
  {
   "cell_type": "code",
   "execution_count": null,
   "metadata": {
    "colab": {
     "base_uri": "https://localhost:8080/"
    },
    "executionInfo": {
     "elapsed": 231,
     "status": "ok",
     "timestamp": 1632256319538,
     "user": {
      "displayName": "Eugenio Lomurno",
      "photoUrl": "https://lh3.googleusercontent.com/a/default-user=s64",
      "userId": "00192456819128711881"
     },
     "user_tz": -120
    },
    "id": "LPKPkXmVk7-S",
    "outputId": "18115800-c103-4a0e-9c94-fe39051db970"
   },
   "outputs": [
    {
     "name": "stdout",
     "output_type": "stream",
     "text": [
      "My Python function\n"
     ]
    }
   ],
   "source": [
    "# A simple Python function\n",
    "# A function must be declared always before its usage\n",
    "# In Notebooks, it is sufficient to execute the cell in which it is defined to have it globally available\n",
    "def my_function():\n",
    "    print('My Python function')\n",
    "my_function()"
   ]
  },
  {
   "cell_type": "code",
   "execution_count": null,
   "metadata": {
    "colab": {
     "base_uri": "https://localhost:8080/"
    },
    "executionInfo": {
     "elapsed": 7,
     "status": "ok",
     "timestamp": 1632250411555,
     "user": {
      "displayName": "Eugenio Lomurno",
      "photoUrl": "https://lh3.googleusercontent.com/a/default-user=s64",
      "userId": "00192456819128711881"
     },
     "user_tz": -120
    },
    "id": "7ix9HFh4mODx",
    "outputId": "4a476395-081a-4171-ad86-7cabe9f7f92b"
   },
   "outputs": [
    {
     "name": "stdout",
     "output_type": "stream",
     "text": [
      "25\n",
      "1\n"
     ]
    }
   ],
   "source": [
    "# A simple Python function to compute the square of the input\n",
    "def square(x):\n",
    "    print(x*x)\n",
    "square(5)\n",
    "square(-1)"
   ]
  },
  {
   "cell_type": "code",
   "execution_count": null,
   "metadata": {
    "colab": {
     "base_uri": "https://localhost:8080/"
    },
    "executionInfo": {
     "elapsed": 9,
     "status": "ok",
     "timestamp": 1632250411847,
     "user": {
      "displayName": "Eugenio Lomurno",
      "photoUrl": "https://lh3.googleusercontent.com/a/default-user=s64",
      "userId": "00192456819128711881"
     },
     "user_tz": -120
    },
    "id": "2-U0SBQZmzCk",
    "outputId": "caa3afec-b268-4d52-8b3e-50a41733b263"
   },
   "outputs": [
    {
     "name": "stdout",
     "output_type": "stream",
     "text": [
      "This is an example to concatenate two strings\n"
     ]
    }
   ],
   "source": [
    "# A simple Python function that receives as input two strings and returns their concatenation\n",
    "def concatenate(str1, str2):\n",
    "    return str1+str2\n",
    "newString = concatenate('This is an example ','to concatenate two strings')\n",
    "print(newString)"
   ]
  },
  {
   "cell_type": "code",
   "execution_count": null,
   "metadata": {
    "colab": {
     "base_uri": "https://localhost:8080/"
    },
    "executionInfo": {
     "elapsed": 7,
     "status": "ok",
     "timestamp": 1632250411848,
     "user": {
      "displayName": "Eugenio Lomurno",
      "photoUrl": "https://lh3.googleusercontent.com/a/default-user=s64",
      "userId": "00192456819128711881"
     },
     "user_tz": -120
    },
    "id": "l9rBjDLAnsUc",
    "outputId": "6e220ca9-f77f-420d-8c4b-9cb12fe4cf09"
   },
   "outputs": [
    {
     "name": "stdout",
     "output_type": "stream",
     "text": [
      "25\n",
      "115\n"
     ]
    }
   ],
   "source": [
    "# Python program to demonstrate default arguments\n",
    "def addition(x, y=10):\n",
    "    print(x+y)\n",
    "addition(15)\n",
    "addition(15,100)"
   ]
  },
  {
   "cell_type": "code",
   "execution_count": null,
   "metadata": {
    "colab": {
     "base_uri": "https://localhost:8080/"
    },
    "executionInfo": {
     "elapsed": 5,
     "status": "ok",
     "timestamp": 1632250412063,
     "user": {
      "displayName": "Eugenio Lomurno",
      "photoUrl": "https://lh3.googleusercontent.com/a/default-user=s64",
      "userId": "00192456819128711881"
     },
     "user_tz": -120
    },
    "id": "oAKh9ACTpBy6",
    "outputId": "8f91bbfd-744b-4897-e442-bd3ea6bad646"
   },
   "outputs": [
    {
     "name": "stdout",
     "output_type": "stream",
     "text": [
      "Mario Rossi\n",
      "Mario Rossi\n"
     ]
    }
   ],
   "source": [
    "# Python program to demonstrate Keyword Arguments in function calls\n",
    "def student(firstname, lastname):\n",
    "\tprint(firstname, lastname)\n",
    "student(firstname='Mario', lastname='Rossi')\n",
    "student(lastname='Rossi', firstname='Mario')"
   ]
  },
  {
   "cell_type": "code",
   "execution_count": null,
   "metadata": {
    "colab": {
     "base_uri": "https://localhost:8080/"
    },
    "executionInfo": {
     "elapsed": 211,
     "status": "ok",
     "timestamp": 1632250459764,
     "user": {
      "displayName": "Eugenio Lomurno",
      "photoUrl": "https://lh3.googleusercontent.com/a/default-user=s64",
      "userId": "00192456819128711881"
     },
     "user_tz": -120
    },
    "id": "YFhpqbF9qPgn",
    "outputId": "924ccff3-ef6d-4efe-8eef-07819ba799a2"
   },
   "outputs": [
    {
     "name": "stdout",
     "output_type": "stream",
     "text": [
      "This is an example\n",
      "with \n",
      "4\n",
      "arguments\n"
     ]
    }
   ],
   "source": [
    "# Python program to illustrate *args for variable number of arguments\n",
    "def argsFunction(*argv):\n",
    "    for arg in argv:\n",
    "        print(arg)\n",
    "argsFunction('This is an example', 'with ', 4, 'arguments')"
   ]
  },
  {
   "cell_type": "code",
   "execution_count": null,
   "metadata": {
    "colab": {
     "base_uri": "https://localhost:8080/"
    },
    "executionInfo": {
     "elapsed": 216,
     "status": "ok",
     "timestamp": 1632250596632,
     "user": {
      "displayName": "Eugenio Lomurno",
      "photoUrl": "https://lh3.googleusercontent.com/a/default-user=s64",
      "userId": "00192456819128711881"
     },
     "user_tz": -120
    },
    "id": "-7UxFvUGtNNu",
    "outputId": "51c2cf86-eefe-487d-fe4a-d3e17b6e0ed1"
   },
   "outputs": [
    {
     "name": "stdout",
     "output_type": "stream",
     "text": [
      "first -> Try\n",
      "then -> Repeat\n",
      "lastly -> Succeed\n"
     ]
    }
   ],
   "source": [
    "# Python program to illustrate **kargs for variable number of keyword arguments\n",
    "def kwargsFunction(**kwargs):\n",
    "    for key, value in kwargs.items():\n",
    "        print(\"%s -> %s\" % (key, value))\n",
    "kwargsFunction(first='Try', then='Repeat', lastly='Succeed')"
   ]
  },
  {
   "cell_type": "markdown",
   "metadata": {
    "id": "zNrVYKLsuDcF"
   },
   "source": [
    "NOTE: Until now no function has modified its input!"
   ]
  },
  {
   "cell_type": "code",
   "execution_count": null,
   "metadata": {
    "colab": {
     "base_uri": "https://localhost:8080/"
    },
    "executionInfo": {
     "elapsed": 209,
     "status": "ok",
     "timestamp": 1632251194238,
     "user": {
      "displayName": "Eugenio Lomurno",
      "photoUrl": "https://lh3.googleusercontent.com/a/default-user=s64",
      "userId": "00192456819128711881"
     },
     "user_tz": -120
    },
    "id": "1_pK_r7JuNjU",
    "outputId": "23c24ef2-4652-4ffe-c6d8-dde47259ff60"
   },
   "outputs": [
    {
     "name": "stdout",
     "output_type": "stream",
     "text": [
      "Before: 10\n",
      "After: 10\n"
     ]
    }
   ],
   "source": [
    "# Example of Python function that does not modify the caller variable\n",
    "def wrongFunction(x):\n",
    "    x = x*x\n",
    "var = 10\n",
    "print('Before:', var)\n",
    "wrongFunction(var)\n",
    "print('After:', var)"
   ]
  },
  {
   "cell_type": "code",
   "execution_count": null,
   "metadata": {
    "colab": {
     "base_uri": "https://localhost:8080/"
    },
    "executionInfo": {
     "elapsed": 210,
     "status": "ok",
     "timestamp": 1632251265036,
     "user": {
      "displayName": "Eugenio Lomurno",
      "photoUrl": "https://lh3.googleusercontent.com/a/default-user=s64",
      "userId": "00192456819128711881"
     },
     "user_tz": -120
    },
    "id": "T-uS0CxVutnH",
    "outputId": "2d13e597-550d-43c7-92b2-9e08c85d70a1"
   },
   "outputs": [
    {
     "name": "stdout",
     "output_type": "stream",
     "text": [
      "Before: 10\n",
      "After: 100\n"
     ]
    }
   ],
   "source": [
    "# Example of Python function that modifies the caller variable \n",
    "def correctFunction(x):\n",
    "    x = x*x\n",
    "    return x\n",
    "var = 10\n",
    "print('Before:', var)\n",
    "var = correctFunction(var)\n",
    "print('After:', var)"
   ]
  },
  {
   "cell_type": "code",
   "execution_count": null,
   "metadata": {
    "colab": {
     "base_uri": "https://localhost:8080/"
    },
    "executionInfo": {
     "elapsed": 322,
     "status": "ok",
     "timestamp": 1632256528396,
     "user": {
      "displayName": "Eugenio Lomurno",
      "photoUrl": "https://lh3.googleusercontent.com/a/default-user=s64",
      "userId": "00192456819128711881"
     },
     "user_tz": -120
    },
    "id": "Iw5oLiKUDxVJ",
    "outputId": "cee7c3d8-a96c-4001-95ac-86d01ca9aaac"
   },
   "outputs": [
    {
     "name": "stdout",
     "output_type": "stream",
     "text": [
      "Base: 10\n",
      "Square: 100\n",
      "Cube: 1000\n"
     ]
    }
   ],
   "source": [
    "# Example of Python function that returns more than one value\n",
    "def multiReturnFunction(x):\n",
    "    return x*x, x*x*x\n",
    "var = 10\n",
    "square, cube = multiReturnFunction(var)\n",
    "print('Base:', var)\n",
    "print('Square:', square)\n",
    "print('Cube:', cube)"
   ]
  },
  {
   "cell_type": "code",
   "execution_count": null,
   "metadata": {
    "colab": {
     "base_uri": "https://localhost:8080/"
    },
    "executionInfo": {
     "elapsed": 215,
     "status": "ok",
     "timestamp": 1632251497674,
     "user": {
      "displayName": "Eugenio Lomurno",
      "photoUrl": "https://lh3.googleusercontent.com/a/default-user=s64",
      "userId": "00192456819128711881"
     },
     "user_tz": -120
    },
    "id": "bQxvCcNKwXpX",
    "outputId": "107d4c96-34b3-4735-97e0-72e9ec9b6436"
   },
   "outputs": [
    {
     "name": "stdout",
     "output_type": "stream",
     "text": [
      "Before: ['a', 15, 1.3]\n",
      "After: ['An element of a list modified in a function also remains modified in the caller, so beware!', 15, 1.3]\n"
     ]
    }
   ],
   "source": [
    "# Functions and lists\n",
    "# Lists are passed by reference (like arrays in C and differently from Matlab)\n",
    "def listFunction(lst):\n",
    "    lst[0] = 'An element of a list modified in a function also remains modified in the caller, so beware!'\n",
    "\n",
    "myList = ['a', 15, 1.3]\n",
    "print('Before:', myList)\n",
    "listFunction(myList)\n",
    "print('After:', myList)"
   ]
  },
  {
   "cell_type": "code",
   "execution_count": null,
   "metadata": {
    "colab": {
     "base_uri": "https://localhost:8080/"
    },
    "executionInfo": {
     "elapsed": 227,
     "status": "ok",
     "timestamp": 1632252036384,
     "user": {
      "displayName": "Eugenio Lomurno",
      "photoUrl": "https://lh3.googleusercontent.com/a/default-user=s64",
      "userId": "00192456819128711881"
     },
     "user_tz": -120
    },
    "id": "Yhz0GzOpymDB",
    "outputId": "76a9f5f9-cf3a-4f30-b381-cd3c48de57bd"
   },
   "outputs": [
    {
     "name": "stdout",
     "output_type": "stream",
     "text": [
      "64\n"
     ]
    }
   ],
   "source": [
    "# Anonymous/Lambda function\n",
    "cube = lambda x : x*x*x\n",
    "print(cube(4))"
   ]
  },
  {
   "cell_type": "code",
   "execution_count": null,
   "metadata": {
    "colab": {
     "base_uri": "https://localhost:8080/"
    },
    "executionInfo": {
     "elapsed": 4,
     "status": "ok",
     "timestamp": 1632252037145,
     "user": {
      "displayName": "Eugenio Lomurno",
      "photoUrl": "https://lh3.googleusercontent.com/a/default-user=s64",
      "userId": "00192456819128711881"
     },
     "user_tz": -120
    },
    "id": "QeZ0EVqlzXqQ",
    "outputId": "b522f9c4-602a-4335-8322-439c2ba7997f"
   },
   "outputs": [
    {
     "name": "stdout",
     "output_type": "stream",
     "text": [
      "1\n",
      "0\n"
     ]
    }
   ],
   "source": [
    "# Anonymous/Lambda function with if else statement\n",
    "even = lambda x : 1 if x%2 == 0 else 0\n",
    "print(even(8))\n",
    "print(even(7))"
   ]
  },
  {
   "cell_type": "code",
   "execution_count": null,
   "metadata": {
    "colab": {
     "base_uri": "https://localhost:8080/"
    },
    "executionInfo": {
     "elapsed": 216,
     "status": "ok",
     "timestamp": 1632252228650,
     "user": {
      "displayName": "Eugenio Lomurno",
      "photoUrl": "https://lh3.googleusercontent.com/a/default-user=s64",
      "userId": "00192456819128711881"
     },
     "user_tz": -120
    },
    "id": "PKk5vSoZu7rD",
    "outputId": "37244fb9-d074-4373-9353-fbd105e95773"
   },
   "outputs": [
    {
     "name": "stdout",
     "output_type": "stream",
     "text": [
      "3 is odd\n",
      "10 is even\n"
     ]
    }
   ],
   "source": [
    "# Nested function: functions can be defined within the body of another function\n",
    "def func(x):\n",
    "    def oddFunc(x):\n",
    "        print(x,'is odd')\n",
    "    def evenFunc(x):\n",
    "        print(x, 'is even')\n",
    "    if (x%2==0):\n",
    "        evenFunc(x)\n",
    "    else:\n",
    "        oddFunc(x)\n",
    "func(3)\n",
    "func(10)"
   ]
  },
  {
   "cell_type": "markdown",
   "metadata": {
    "id": "-TcHmVtZ07WZ"
   },
   "source": [
    "#### classes"
   ]
  },
  {
   "cell_type": "code",
   "execution_count": null,
   "metadata": {
    "colab": {
     "base_uri": "https://localhost:8080/"
    },
    "executionInfo": {
     "elapsed": 226,
     "status": "ok",
     "timestamp": 1632253252986,
     "user": {
      "displayName": "Eugenio Lomurno",
      "photoUrl": "https://lh3.googleusercontent.com/a/default-user=s64",
      "userId": "00192456819128711881"
     },
     "user_tz": -120
    },
    "id": "uWDBlhjh09V8",
    "outputId": "7dd0c14a-1027-4ee9-b811-3cd2e730aa2b"
   },
   "outputs": [
    {
     "name": "stdout",
     "output_type": "stream",
     "text": [
      "First attribute\n",
      "First attribute\n",
      "Second attribute\n",
      "Second attribute\n"
     ]
    }
   ],
   "source": [
    "# A simple Python class\n",
    "class ToyClass:\n",
    "    # Class attributes\n",
    "    attr1 = 'First attribute'\n",
    "    attr2 = 'Second attribute'\n",
    " \n",
    "    # Class methods\n",
    "    def printAttr1(self):\n",
    "        print(self.attr1)\n",
    "    def printAttr2(self):\n",
    "        print(self.attr2)\n",
    " \n",
    "# Object of the newly defined class \n",
    "object1 = ToyClass()\n",
    "object1.printAttr1()\n",
    "print(object1.attr1)\n",
    "object1.printAttr2()\n",
    "print(object1.attr2)"
   ]
  },
  {
   "cell_type": "code",
   "execution_count": null,
   "metadata": {
    "colab": {
     "base_uri": "https://localhost:8080/"
    },
    "executionInfo": {
     "elapsed": 238,
     "status": "ok",
     "timestamp": 1632253199924,
     "user": {
      "displayName": "Eugenio Lomurno",
      "photoUrl": "https://lh3.googleusercontent.com/a/default-user=s64",
      "userId": "00192456819128711881"
     },
     "user_tz": -120
    },
    "id": "X1MAHzHw3Pt6",
    "outputId": "10fda8cf-a89a-46f1-938b-d9ee332a5ebc"
   },
   "outputs": [
    {
     "name": "stdout",
     "output_type": "stream",
     "text": [
      "Roko's basilisk\n"
     ]
    }
   ],
   "source": [
    "# A simple Python class with constructor\n",
    "class NameClass:\n",
    "\n",
    "    # init method or constructor \n",
    "    def __init__(self, name):\n",
    "        self.name = name\n",
    "    def myName(self):\n",
    "        print(self.name)\n",
    " \n",
    "# Object of the newly defined class \n",
    "object2 = NameClass('Roko\\'s basilisk')\n",
    "object2.myName()"
   ]
  },
  {
   "cell_type": "markdown",
   "metadata": {
    "id": "mI5MLdOKKZRr"
   },
   "source": [
    "#### dictionaries"
   ]
  },
  {
   "cell_type": "code",
   "execution_count": null,
   "metadata": {
    "colab": {
     "base_uri": "https://localhost:8080/"
    },
    "executionInfo": {
     "elapsed": 236,
     "status": "ok",
     "timestamp": 1632254045404,
     "user": {
      "displayName": "Eugenio Lomurno",
      "photoUrl": "https://lh3.googleusercontent.com/a/default-user=s64",
      "userId": "00192456819128711881"
     },
     "user_tz": -120
    },
    "id": "MBNfpUxV1B3_",
    "outputId": "fca7385d-b12f-49aa-d0c5-6044d2835a27"
   },
   "outputs": [
    {
     "name": "stdout",
     "output_type": "stream",
     "text": [
      "Empty dictionary: {}\n"
     ]
    }
   ],
   "source": [
    "# Creating an empty dictionary\n",
    "dictionary = {}\n",
    "print(\"Empty dictionary:\", dictionary)"
   ]
  },
  {
   "cell_type": "code",
   "execution_count": null,
   "metadata": {
    "colab": {
     "base_uri": "https://localhost:8080/"
    },
    "executionInfo": {
     "elapsed": 17,
     "status": "ok",
     "timestamp": 1632254046459,
     "user": {
      "displayName": "Eugenio Lomurno",
      "photoUrl": "https://lh3.googleusercontent.com/a/default-user=s64",
      "userId": "00192456819128711881"
     },
     "user_tz": -120
    },
    "id": "kuJjRuBw6oc2",
    "outputId": "b191ee2f-9c61-4f67-9449-5ab6bd78385d"
   },
   "outputs": [
    {
     "name": "stdout",
     "output_type": "stream",
     "text": [
      "Dictionary with the use of integer keys:\n",
      "{1: 'Dense', 2: 'Conv1D', 3: 'Conv2D'}\n"
     ]
    }
   ],
   "source": [
    "# Creating a dictionary with integer keys\n",
    "dictionary = {1: 'Dense', 2: 'Conv1D', 3: 'Conv2D'}\n",
    "print('Dictionary with the use of integer keys:')\n",
    "print(dictionary)"
   ]
  },
  {
   "cell_type": "code",
   "execution_count": null,
   "metadata": {
    "colab": {
     "base_uri": "https://localhost:8080/"
    },
    "executionInfo": {
     "elapsed": 237,
     "status": "ok",
     "timestamp": 1632256583113,
     "user": {
      "displayName": "Eugenio Lomurno",
      "photoUrl": "https://lh3.googleusercontent.com/a/default-user=s64",
      "userId": "00192456819128711881"
     },
     "user_tz": -120
    },
    "id": "brqBF0yb7U5X",
    "outputId": "389fc54d-ebae-4051-d176-33afef51afcb"
   },
   "outputs": [
    {
     "name": "stdout",
     "output_type": "stream",
     "text": [
      "Dense\n",
      "Conv1D\n",
      "Conv2D\n",
      "[1, 2, 3, 4]\n",
      "1\n",
      "2\n",
      "3\n",
      "list\n",
      "Dense\n",
      "Conv1D\n",
      "Conv2D\n",
      "[1, 2, 3, 4]\n"
     ]
    }
   ],
   "source": [
    "# Access dictionary elements\n",
    "dictionary = {1: 'Dense', 2: 'Conv1D', 3: 'Conv2D', 'list': [1,2,3,4]}\n",
    "print(dictionary[1])\n",
    "print(dictionary[2])\n",
    "print(dictionary[3])\n",
    "print(dictionary['list'])\n",
    "\n",
    "# Print all the dictionary keys\n",
    "for key in dictionary.keys():\n",
    "    print(key)\n",
    "\n",
    "# Print all the dictionary values\n",
    "for value in dictionary.values():\n",
    "    print(value)"
   ]
  },
  {
   "cell_type": "markdown",
   "metadata": {
    "id": "PgfAmPQKhkOV"
   },
   "source": [
    "### For further examples visit the GeeksforGeeks Python [tutorial](https://www.geeksforgeeks.org/python-programming-language/)"
   ]
  }
 ],
 "metadata": {
  "colab": {
   "name": "0) Python3 Crash Course.ipynb",
   "provenance": []
  },
  "kernelspec": {
   "display_name": "Python 3",
   "language": "python",
   "name": "python3"
  },
  "language_info": {
   "codemirror_mode": {
    "name": "ipython",
    "version": 3
   },
   "file_extension": ".py",
   "mimetype": "text/x-python",
   "name": "python",
   "nbconvert_exporter": "python",
   "pygments_lexer": "ipython3",
   "version": "3.8.8"
  }
 },
 "nbformat": 4,
 "nbformat_minor": 1
}
