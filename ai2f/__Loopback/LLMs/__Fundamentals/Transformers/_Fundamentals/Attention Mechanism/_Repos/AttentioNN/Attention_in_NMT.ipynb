{
  "nbformat": 4,
  "nbformat_minor": 0,
  "metadata": {
    "colab": {
      "name": "Attention in NMT.ipynb",
      "provenance": [],
      "collapsed_sections": [],
      "include_colab_link": true
    },
    "kernelspec": {
      "name": "python3",
      "display_name": "Python 3"
    },
    "accelerator": "GPU"
  },
  "cells": [
    {
      "cell_type": "markdown",
      "metadata": {
        "id": "view-in-github",
        "colab_type": "text"
      },
      "source": [
        "<a href=\"https://colab.research.google.com/github/zaidalyafeai/AttentioNN/blob/master/Attention_in_NMT.ipynb\" target=\"_parent\"><img src=\"https://colab.research.google.com/assets/colab-badge.svg\" alt=\"Open In Colab\"/></a>"
      ]
    },
    {
      "cell_type": "markdown",
      "metadata": {
        "id": "0RyS3vmbjZbr",
        "colab_type": "text"
      },
      "source": [
        "Some libs to fix Arabic text not showing correctly"
      ]
    },
    {
      "cell_type": "code",
      "metadata": {
        "id": "FBP8CIYuPHlW",
        "colab_type": "code",
        "colab": {
          "base_uri": "https://localhost:8080/",
          "height": 224
        },
        "outputId": "62a87f83-2e6a-43bd-9fe4-b593595ef2d8"
      },
      "source": [
        "!pip install --upgrade arabic-reshaper\n",
        "!pip install python-bidi"
      ],
      "execution_count": 1,
      "outputs": [
        {
          "output_type": "stream",
          "text": [
            "Collecting arabic-reshaper\n",
            "  Downloading https://files.pythonhosted.org/packages/1c/b8/9f87dc2fc6c2e087e448db9e7f66ca4d68c22e9d49a95e5aad22d77c74f1/arabic_reshaper-2.0.15-py3-none-any.whl\n",
            "Requirement already satisfied, skipping upgrade: future in /usr/local/lib/python3.6/dist-packages (from arabic-reshaper) (0.16.0)\n",
            "Requirement already satisfied, skipping upgrade: setuptools in /usr/local/lib/python3.6/dist-packages (from arabic-reshaper) (41.2.0)\n",
            "Installing collected packages: arabic-reshaper\n",
            "Successfully installed arabic-reshaper-2.0.15\n",
            "Collecting python-bidi\n",
            "  Downloading https://files.pythonhosted.org/packages/33/b0/f942d146a2f457233baaafd6bdf624eba8e0f665045b4abd69d1b62d097d/python_bidi-0.4.2-py2.py3-none-any.whl\n",
            "Requirement already satisfied: six in /usr/local/lib/python3.6/dist-packages (from python-bidi) (1.12.0)\n",
            "Installing collected packages: python-bidi\n",
            "Successfully installed python-bidi-0.4.2\n"
          ],
          "name": "stdout"
        }
      ]
    },
    {
      "cell_type": "markdown",
      "metadata": {
        "id": "rLAEegPwkINw",
        "colab_type": "text"
      },
      "source": [
        "Get the dataset and unzip it "
      ]
    },
    {
      "cell_type": "code",
      "metadata": {
        "id": "9xJ2ync1Butl",
        "colab_type": "code",
        "outputId": "451e3a52-597b-4171-8c47-a01da9f15ab5",
        "colab": {
          "base_uri": "https://localhost:8080/",
          "height": 255
        }
      },
      "source": [
        "!wget http://www.manythings.org/anki/ara-eng.zip\n",
        "!unzip ara-eng.zip"
      ],
      "execution_count": 2,
      "outputs": [
        {
          "output_type": "stream",
          "text": [
            "--2019-09-23 14:44:44--  http://www.manythings.org/anki/ara-eng.zip\n",
            "Resolving www.manythings.org (www.manythings.org)... 104.24.108.196, 104.24.109.196, 2606:4700:30::6818:6dc4, ...\n",
            "Connecting to www.manythings.org (www.manythings.org)|104.24.108.196|:80... connected.\n",
            "HTTP request sent, awaiting response... 200 OK\n",
            "Length: 270779 (264K) [application/zip]\n",
            "Saving to: ‘ara-eng.zip’\n",
            "\n",
            "ara-eng.zip         100%[===================>] 264.43K   424KB/s    in 0.6s    \n",
            "\n",
            "2019-09-23 14:44:46 (424 KB/s) - ‘ara-eng.zip’ saved [270779/270779]\n",
            "\n",
            "Archive:  ara-eng.zip\n",
            "  inflating: _about.txt              \n",
            "  inflating: ara.txt                 \n"
          ],
          "name": "stdout"
        }
      ]
    },
    {
      "cell_type": "markdown",
      "metadata": {
        "id": "fO_IJ2_Wr4NG",
        "colab_type": "text"
      },
      "source": [
        "## Introduction\n",
        "Traditional nmt models that use [seq2seq](https://arxiv.org/abs/1409.3215) architectures suffer from a bottleneck problem. Only, the final hidden state is used for the deocder to guess the translation. This results in two problems. First, the decoder doesn't utilize the different hidden states that are created by the individual inputs in the encoder. Second, the decoder is not able to guess which parts of the encoder hidden state to focus on at each step of translation. This creates a problem especially when translating long sequences with many words encoded as one hidden state. In order to resolve both problems we use attention-based nmt. These special seq2seq models try to resolve both problems. They resolve the first problem by encoding all the hidden states of the encoder. Second, they force the deocder to focus on certain parts of the encoder output by applying weights to each input hidden state. \n",
        "In this notebook, I explain attention-based seq2seq using Arabic2English parallel dataset."
      ]
    },
    {
      "cell_type": "markdown",
      "metadata": {
        "id": "y6-QTu27lQbG",
        "colab_type": "text"
      },
      "source": [
        "## Imports"
      ]
    },
    {
      "cell_type": "code",
      "metadata": {
        "id": "G4OCoreFk80h",
        "colab_type": "code",
        "colab": {}
      },
      "source": [
        "import tensorflow as tf\n",
        "import numpy as np\n",
        "from sklearn.model_selection import train_test_split\n",
        "import matplotlib.pyplot as plt\n",
        "import pandas as pd\n",
        "import seaborn as sns\n",
        "import re\n",
        "import arabic_reshaper\n",
        "from bidi.algorithm import get_display\n",
        "tf.enable_eager_execution()"
      ],
      "execution_count": 0,
      "outputs": []
    },
    {
      "cell_type": "markdown",
      "metadata": {
        "id": "e0GpDe37kO8D",
        "colab_type": "text"
      },
      "source": [
        "## Preprocessing\n",
        "\n",
        "In this section we do some preprocessing. Our main task is to map each word to a unique index. "
      ]
    },
    {
      "cell_type": "markdown",
      "metadata": {
        "id": "BfXMenbqkLSi",
        "colab_type": "text"
      },
      "source": [
        "Show first few parallel translations"
      ]
    },
    {
      "cell_type": "code",
      "metadata": {
        "id": "CNFPC8J8iaXd",
        "colab_type": "code",
        "outputId": "3baf6e27-8daf-44fe-f08e-1a88196d6c74",
        "colab": {
          "base_uri": "https://localhost:8080/",
          "height": 102
        }
      },
      "source": [
        "!cat ara.txt | head -5"
      ],
      "execution_count": 2,
      "outputs": [
        {
          "output_type": "stream",
          "text": [
            "Hi.\tمرحبًا.\n",
            "Run!\tاركض!\n",
            "Help!\tالنجدة!\n",
            "Jump!\tاقفز!\n",
            "Stop!\tقف!\n"
          ],
          "name": "stdout"
        }
      ]
    },
    {
      "cell_type": "markdown",
      "metadata": {
        "id": "a3ym9l1vkiNB",
        "colab_type": "text"
      },
      "source": [
        "Read the dataset from the file"
      ]
    },
    {
      "cell_type": "code",
      "metadata": {
        "id": "R7GMWGi8iek6",
        "colab_type": "code",
        "colab": {}
      },
      "source": [
        "with open('ara.txt', 'r') as f:\n",
        "  en2ar = f.readlines()"
      ],
      "execution_count": 0,
      "outputs": []
    },
    {
      "cell_type": "markdown",
      "metadata": {
        "id": "Zw8C5iwjkpSN",
        "colab_type": "text"
      },
      "source": [
        "clean the dataset from special characters"
      ]
    },
    {
      "cell_type": "code",
      "metadata": {
        "id": "teE5EQ4uiyJ6",
        "colab_type": "code",
        "colab": {}
      },
      "source": [
        "def preprocess_stmt(stmt):\n",
        "  #remove new line character\n",
        "  stmt = stmt.replace(\"\\n\", \"\")\n",
        "  \n",
        "  #only keep alphanumerics\n",
        "  stmt = re.sub(r'([^\\s\\w]|_)+', \"\", stmt.lower().strip())\n",
        "  \n",
        "  #here we map all aleph character to one character\n",
        "  stmt = re.sub(r'[آأإا]','ا', stmt)\n",
        "  \n",
        "  #attach start, end special symbols \n",
        "  stmt = '<s> '+stmt+' <e>'\n",
        "  \n",
        "  return stmt\n",
        "\n",
        "en = [preprocess_stmt(stmt.split('\\t')[0]) for stmt in en2ar]\n",
        "ar = [preprocess_stmt(stmt.split('\\t')[1]) for stmt in en2ar]"
      ],
      "execution_count": 0,
      "outputs": []
    },
    {
      "cell_type": "code",
      "metadata": {
        "id": "nrmSmSr3dUEy",
        "colab_type": "code",
        "outputId": "1f862d53-4d29-4ee6-a9cb-9632f9a87cfe",
        "colab": {
          "base_uri": "https://localhost:8080/",
          "height": 34
        }
      },
      "source": [
        "print(ar[0], '==>', en[0])"
      ],
      "execution_count": 5,
      "outputs": [
        {
          "output_type": "stream",
          "text": [
            "<s> مرحبا <e> ==> <s> hi <e>\n"
          ],
          "name": "stdout"
        }
      ]
    },
    {
      "cell_type": "markdown",
      "metadata": {
        "id": "r-HM2shaloAC",
        "colab_type": "text"
      },
      "source": [
        "Map each character to an integer using `tf.keras.preprocessing`"
      ]
    },
    {
      "cell_type": "code",
      "metadata": {
        "id": "kHVexp-pkTcv",
        "colab_type": "code",
        "colab": {}
      },
      "source": [
        "#helper function to find the largest statement in a corpus\n",
        "def get_max_stmt(stmts):\n",
        "  return max([len(stmt) for stmt in stmts])\n",
        "\n",
        "def get_tensors_dicts(stmts):\n",
        "\n",
        "  #tokenzie using spaces and convert to integers \n",
        "  tokenz = tf.keras.preprocessing.text.Tokenizer(split = ' ', filters = \"\")\n",
        "  tokenz.fit_on_texts(stmts)\n",
        "  sequences = tokenz.texts_to_sequences(stmts)\n",
        "\n",
        "  #pad the sequences to have the same length \n",
        "  max_stmt = get_max_stmt(sequences)\n",
        "  output = tf.keras.preprocessing.sequence.pad_sequences(sequences, maxlen = max_stmt, padding = \"post\")\n",
        "  \n",
        "  #create the dictionaries for converting word 2 index and index 2 word \n",
        "  word2index = tokenz.word_index\n",
        "  word2index['<p>'] = 0\n",
        "  index2word = {word2index[k]:k for k in word2index.keys()}\n",
        "  \n",
        "  \n",
        "  return output, word2index, index2word"
      ],
      "execution_count": 0,
      "outputs": []
    },
    {
      "cell_type": "markdown",
      "metadata": {
        "id": "L08abKY_mI5L",
        "colab_type": "text"
      },
      "source": [
        "Get the input tensors and output tensors"
      ]
    },
    {
      "cell_type": "code",
      "metadata": {
        "id": "0aqjlncsn2c3",
        "colab_type": "code",
        "colab": {}
      },
      "source": [
        "input_tensors, input_word2index, input_index2word = get_tensors_dicts(ar)\n",
        "trget_tensors, trget_word2index, trget_index2word = get_tensors_dicts(en)"
      ],
      "execution_count": 0,
      "outputs": []
    },
    {
      "cell_type": "markdown",
      "metadata": {
        "id": "ctm4_VlTmOfP",
        "colab_type": "text"
      },
      "source": [
        "Create the dataset"
      ]
    },
    {
      "cell_type": "code",
      "metadata": {
        "id": "kpVlpeOhpFjo",
        "colab_type": "code",
        "colab": {}
      },
      "source": [
        "BATCH_SIZE = 128\n",
        "#random split\n",
        "input_tensor_train, input_tensor_valid, trget_tensor_train, trget_tensor_valid = train_test_split(input_tensors, trget_tensors, test_size=0.1)\n",
        "\n",
        "#training dataset\n",
        "train_dataset = tf.data.Dataset.from_tensor_slices((input_tensor_train, trget_tensor_train)).shuffle(len(input_tensor_train))\n",
        "train_dataset = train_dataset.batch(BATCH_SIZE, drop_remainder=True)\n",
        "\n",
        "#validation dataset\n",
        "valid_dataset = tf.data.Dataset.from_tensor_slices((input_tensor_valid, trget_tensor_valid)).shuffle(len(input_tensor_valid))\n",
        "valid_dataset = valid_dataset.batch(BATCH_SIZE, drop_remainder=True)"
      ],
      "execution_count": 0,
      "outputs": []
    },
    {
      "cell_type": "markdown",
      "metadata": {
        "id": "180JcjjMmpQz",
        "colab_type": "text"
      },
      "source": [
        "## Create Models\n",
        "Instintiate some variables"
      ]
    },
    {
      "cell_type": "code",
      "metadata": {
        "id": "2eiTtl-imwON",
        "colab_type": "code",
        "colab": {}
      },
      "source": [
        "units = 1024\n",
        "embedding_dim = 256\n",
        "\n",
        "input_vocab_size = len(input_index2word)\n",
        "trget_vocab_size = len(trget_index2word)\n",
        "\n",
        "input_max_length = input_tensor_train.shape[1]\n",
        "trget_max_length = trget_tensor_train.shape[1]"
      ],
      "execution_count": 0,
      "outputs": []
    },
    {
      "cell_type": "markdown",
      "metadata": {
        "id": "dcADa-3dm6Lv",
        "colab_type": "text"
      },
      "source": [
        "## Attention Mechanism\n",
        "\n",
        "As we see from the figure the encoder hidden states $H = [h_1, h_2, \\cdots , h_n]$ and the final hidden state $h_n$ are processed by a special network called the attention network. This results in attention weights which are values between 0 and 1 that tell us which hidden states are most important to us at each stage of the decoder. In this notebook use the following network \n",
        "\n",
        "$$\\text{Attention Network} = \\text{softmax}(V(\\tanh(W_1(H)+ W_2(h))))$$\n",
        "\n",
        "Where $W_1,W_2$ and $V$ are dense layers with $units, units$ and $1$ neurons respectively. This results in an output tensor of size $[\\text{batch_sz}, n, 1]$  called the attention_weights. Then the attention weights are multiplied element wise by $H$ to generate the context vector\n",
        "\n",
        "$$\\text{Context Vector} = \\text{attention_weights} \\odot H$$\n",
        "Finally the context vector is concatenated by the embedded input vector to the decoder."
      ]
    },
    {
      "cell_type": "markdown",
      "metadata": {
        "id": "Lu0e9nuLj8kL",
        "colab_type": "text"
      },
      "source": [
        "![alt text](https://raw.githubusercontent.com/zaidalyafeai/AttentioNN/master/images/attention.png)"
      ]
    },
    {
      "cell_type": "markdown",
      "metadata": {
        "id": "hBKyplPfnBrH",
        "colab_type": "text"
      },
      "source": [
        "### Encoder"
      ]
    },
    {
      "cell_type": "code",
      "metadata": {
        "id": "zsUr6BWIqS_Y",
        "colab_type": "code",
        "colab": {}
      },
      "source": [
        "def gru(units):\n",
        "  return tf.keras.layers.CuDNNGRU(units, \n",
        "                             return_sequences=True, \n",
        "                             return_state=True, \n",
        "                             recurrent_initializer='glorot_uniform')\n",
        "\n",
        "def get_encoder(vocab_size, embedding_dim, enc_units, batch_sz):\n",
        "  \n",
        "    input = tf.keras.layers.Input((input_max_length,))\n",
        "    \n",
        "    # apply embedding output [batch_sz, input_max_length, embedding_dim]\n",
        "    x = tf.keras.layers.Embedding(vocab_size, embedding_dim)(input)\n",
        "    \n",
        "    # apply gru output x:[batch_sz, input_max_length, units] h:[batch_sz, units]\n",
        "    x, h = gru(units)(x)\n",
        "    \n",
        "    return tf.keras.models.Model(inputs = input, outputs = [x, h])"
      ],
      "execution_count": 0,
      "outputs": []
    },
    {
      "cell_type": "markdown",
      "metadata": {
        "id": "0lebNKA7nFg4",
        "colab_type": "text"
      },
      "source": [
        "### Decoder"
      ]
    },
    {
      "cell_type": "code",
      "metadata": {
        "id": "kOBqbMniraMF",
        "colab_type": "code",
        "colab": {}
      },
      "source": [
        "def get_decoder(vocab_size, embedding_dim, units, batch_sz):\n",
        "  \n",
        "  enc_output = tf.keras.layers.Input((input_max_length, units))\n",
        "  enc_hidden = tf.keras.layers.Input((units,))\n",
        "  dec_input = tf.keras.layers.Input((1,))\n",
        "\n",
        "  W1 = tf.keras.layers.Dense(units)\n",
        "  W2 = tf.keras.layers.Dense(units)\n",
        "  V = tf.keras.layers.Dense(1)\n",
        "      \n",
        "  x = tf.keras.layers.Embedding(vocab_size, embedding_dim)(dec_input)\n",
        "  \n",
        "  #1. attention network output [batch_sz, input_max_length, 1]\n",
        "  score = V(tf.nn.tanh(W1(enc_output) + W2(tf.expand_dims(enc_hidden, axis = 1))))\n",
        "\n",
        "  #2. attention weights output [batch_sz, input_max_length , 1]\n",
        "  attention_weights = tf.nn.softmax(score, axis = 1)\n",
        "\n",
        "  #3. context_vector output [batch_sz, 1, units]\n",
        "  context_vector = attention_weights * enc_output\n",
        "  context_vector = tf.reduce_sum(context_vector, axis=1, keepdims = True)\n",
        "  \n",
        "  #3. concatenate with the output [batch_sz, 1, units + embedding_dim]\n",
        "  x = tf.concat([x, context_vector], axis = -1)\n",
        "  \n",
        "  #4. apply GRU output x:[batch_sz, 1, units] h:[batch_sz, units]\n",
        "  x, h = gru(units)(x)\n",
        "  \n",
        "  #5. reshape and dense output [batch_sz, vocab_size]\n",
        "  x = tf.reduce_sum(x, axis = 1)\n",
        "  output = tf.keras.layers.Dense(vocab_size)(x)\n",
        " \n",
        "  return tf.keras.models.Model(inputs = [dec_input, enc_hidden, enc_output], outputs = [output, h, attention_weights])"
      ],
      "execution_count": 0,
      "outputs": []
    },
    {
      "cell_type": "code",
      "metadata": {
        "id": "rBRZUsiW2Nhq",
        "colab_type": "code",
        "colab": {}
      },
      "source": [
        "encoder = get_encoder(input_vocab_size, embedding_dim, units, BATCH_SIZE)\n",
        "decoder = get_decoder(trget_vocab_size, embedding_dim, units, BATCH_SIZE)"
      ],
      "execution_count": 0,
      "outputs": []
    },
    {
      "cell_type": "markdown",
      "metadata": {
        "id": "ZKy5GkHknL_p",
        "colab_type": "text"
      },
      "source": [
        "## Loss function"
      ]
    },
    {
      "cell_type": "code",
      "metadata": {
        "id": "Xl4X9GGr3KWW",
        "colab_type": "code",
        "colab": {}
      },
      "source": [
        "optimizer = tf.train.AdamOptimizer()\n",
        "\n",
        "def loss_function(real, pred):\n",
        "  #here we mask out the 0 index because it doesn't participate in the translation process\n",
        "  mask = 1 - np.equal(real, 0)\n",
        "  loss_ = tf.nn.sparse_softmax_cross_entropy_with_logits(labels=real, logits=pred, ) * mask\n",
        "  return tf.reduce_mean(loss_)"
      ],
      "execution_count": 0,
      "outputs": []
    },
    {
      "cell_type": "markdown",
      "metadata": {
        "id": "pRsAuHdyoTmT",
        "colab_type": "text"
      },
      "source": [
        "## Training"
      ]
    },
    {
      "cell_type": "code",
      "metadata": {
        "id": "3AF1lJol3VAO",
        "colab_type": "code",
        "outputId": "26a15c0d-c3f2-4077-e1d7-c8976491eaf3",
        "colab": {
          "base_uri": "https://localhost:8080/",
          "height": 867
        }
      },
      "source": [
        "import time\n",
        "\n",
        "EPOCHS = 10\n",
        "\n",
        "for epoch in range(EPOCHS):\n",
        "    start = time.time()\n",
        "    \n",
        "    total_loss = 0\n",
        "    \n",
        "    #loop over the training tensors \n",
        "    for (batch, (inp, targ)) in enumerate(train_dataset):\n",
        "      \n",
        "        loss = 0\n",
        "        with tf.GradientTape() as tape:\n",
        "          \n",
        "            #feed the encoder \n",
        "            enc_output, enc_hidden = encoder(inp)\n",
        "            \n",
        "            #create the initial input to the decoder \n",
        "            dec_input = tf.expand_dims([trget_word2index['<s>']] * BATCH_SIZE, 1)      \n",
        "            \n",
        "            # Teacher forcing - feeding the target as the next input\n",
        "            for t in range(1, targ.shape[1]):\n",
        "              \n",
        "                # passing enc_output to the decoder\n",
        "                predictions, enc_hidden, _ = decoder([dec_input, enc_hidden, enc_output])\n",
        "                \n",
        "                # evaluate the loss\n",
        "                loss += loss_function(targ[:, t], predictions)                \n",
        "                \n",
        "                # evaluate the next input \n",
        "                dec_input = tf.expand_dims(targ[:, t], 1)\n",
        "        \n",
        "        #calculate the loss \n",
        "        batch_loss = (loss / int(targ.shape[1]))\n",
        "        total_loss += batch_loss\n",
        "        \n",
        "        # backprop\n",
        "        variables = encoder.variables + decoder.variables\n",
        "        gradients = tape.gradient(loss, variables)\n",
        "        optimizer.apply_gradients(zip(gradients, variables))\n",
        "        \n",
        "        # show ever 100 batch \n",
        "        if batch % 100 == 0:\n",
        "            print('Epoch {} Batch {} Loss {:.4f}'.format(epoch + 1,\n",
        "                                                         batch,\n",
        "                                                         batch_loss.numpy()))\n",
        "        N_BATCH = batch\n",
        "    \n",
        "    #show accumulative loss \n",
        "    print('Epoch {} Train Loss {:.4f}'.format(epoch + 1,\n",
        "                                        total_loss / N_BATCH))\n",
        "    \n",
        "    # enumerate the validation data\n",
        "    total_loss = 0\n",
        "    for (batch, (inp, targ)) in enumerate(valid_dataset):\n",
        "      \n",
        "        loss = 0\n",
        "        \n",
        "        # feed encoder \n",
        "        enc_output, enc_hidden = encoder(inp)\n",
        "\n",
        "        # initial input to the decoder \n",
        "        dec_input = tf.expand_dims([trget_word2index['<s>']] * BATCH_SIZE, 1)      \n",
        "\n",
        "        # Teacher forcing - feeding the target as the next input\n",
        "        for t in range(1, targ.shape[1]):\n",
        "\n",
        "            # passing enc_output to the decoder\n",
        "            predictions, enc_hidden, _ = decoder([dec_input, enc_hidden, enc_output])\n",
        "            loss += loss_function(targ[:, t], predictions)                \n",
        "\n",
        "            # using teacher forcing\n",
        "            dec_input = tf.expand_dims(targ[:, t], 1)\n",
        "        \n",
        "        # evaluate the loss \n",
        "        batch_loss = (loss / int(targ.shape[1]))\n",
        "        total_loss += batch_loss\n",
        "        \n",
        "        N_BATCH = batch\n",
        "    \n",
        "    #show accumulative loss \n",
        "    print('Epoch {} Valid Loss {:.4f}'.format(epoch + 1,\n",
        "                                        total_loss / N_BATCH))\n",
        "    \n",
        "    print('Time taken for 1 epoch {} sec\\n'.format(time.time() - start))\n",
        "    "
      ],
      "execution_count": 40,
      "outputs": [
        {
          "output_type": "stream",
          "text": [
            "Epoch 1 Batch 0 Loss 0.0911\n",
            "Epoch 1 Train Loss 0.0865\n",
            "Epoch 1 Valid Loss 0.8554\n",
            "Time taken for 1 epoch 126.60913157463074 sec\n",
            "\n",
            "Epoch 2 Batch 0 Loss 0.0695\n",
            "Epoch 2 Train Loss 0.0706\n",
            "Epoch 2 Valid Loss 0.8668\n",
            "Time taken for 1 epoch 126.70999240875244 sec\n",
            "\n",
            "Epoch 3 Batch 0 Loss 0.0566\n",
            "Epoch 3 Train Loss 0.0552\n",
            "Epoch 3 Valid Loss 0.8916\n",
            "Time taken for 1 epoch 125.95465111732483 sec\n",
            "\n",
            "Epoch 4 Batch 0 Loss 0.0507\n",
            "Epoch 4 Train Loss 0.0432\n",
            "Epoch 4 Valid Loss 0.8969\n",
            "Time taken for 1 epoch 126.47470831871033 sec\n",
            "\n",
            "Epoch 5 Batch 0 Loss 0.0361\n",
            "Epoch 5 Train Loss 0.0336\n",
            "Epoch 5 Valid Loss 0.8937\n",
            "Time taken for 1 epoch 126.90233731269836 sec\n",
            "\n",
            "Epoch 6 Batch 0 Loss 0.0336\n",
            "Epoch 6 Train Loss 0.0257\n",
            "Epoch 6 Valid Loss 0.9044\n",
            "Time taken for 1 epoch 126.45854306221008 sec\n",
            "\n",
            "Epoch 7 Batch 0 Loss 0.0206\n",
            "Epoch 7 Train Loss 0.0207\n",
            "Epoch 7 Valid Loss 0.9150\n",
            "Time taken for 1 epoch 127.0796217918396 sec\n",
            "\n",
            "Epoch 8 Batch 0 Loss 0.0161\n",
            "Epoch 8 Train Loss 0.0170\n",
            "Epoch 8 Valid Loss 0.9272\n",
            "Time taken for 1 epoch 126.14989590644836 sec\n",
            "\n",
            "Epoch 9 Batch 0 Loss 0.0155\n",
            "Epoch 9 Train Loss 0.0144\n",
            "Epoch 9 Valid Loss 0.9384\n",
            "Time taken for 1 epoch 126.11995792388916 sec\n",
            "\n",
            "Epoch 10 Batch 0 Loss 0.0119\n",
            "Epoch 10 Train Loss 0.0126\n",
            "Epoch 10 Valid Loss 0.9333\n",
            "Time taken for 1 epoch 126.57300758361816 sec\n",
            "\n"
          ],
          "name": "stdout"
        }
      ]
    },
    {
      "cell_type": "markdown",
      "metadata": {
        "id": "6YYvP2cEoXNi",
        "colab_type": "text"
      },
      "source": [
        "## Test"
      ]
    },
    {
      "cell_type": "code",
      "metadata": {
        "id": "tm_qC-bI7q4Q",
        "colab_type": "code",
        "colab": {}
      },
      "source": [
        "def translate(sentence):\n",
        "  \n",
        "    # save the weights \n",
        "    attention_dict = {}\n",
        "    \n",
        "    # preprocess a sentence \n",
        "    sentence = '<s> '+sentence+' <e>'\n",
        "    sentence = sentence.split(' ')\n",
        "    sentence_length = len(sentence)\n",
        "    inputs = [input_word2index[i] for i in sentence]\n",
        "    inputs = tf.keras.preprocessing.sequence.pad_sequences([inputs], maxlen = input_max_length, padding='post')\n",
        "    inputs = tf.convert_to_tensor(inputs)\n",
        "    \n",
        "    result = ''\n",
        "\n",
        "    #feed encoder \n",
        "    enc_out, enc_hidden = encoder(inputs)\n",
        "\n",
        "    # prepare first input to the decoder \n",
        "    dec_input = tf.expand_dims([trget_word2index['<s>']], 0)\n",
        "    attention_matrix = np.empty(shape = (1, input_max_length))\n",
        "    \n",
        "    for t in range(trget_max_length):\n",
        "        \n",
        "        # feed decoder \n",
        "        predictions, enc_hidden, attention_weights = decoder([dec_input, enc_hidden, enc_out])\n",
        "\n",
        "        # predict next word \n",
        "        predicted_id = tf.argmax(predictions[0]).numpy()\n",
        "\n",
        "        result += trget_index2word[predicted_id] + ' '\n",
        "        \n",
        "        # save the weights \n",
        "        attention_weights = attention_weights.numpy().reshape((input_max_length,))[:sentence_length]\n",
        "        attention_dict[trget_index2word[predicted_id]] = attention_weights\n",
        "        \n",
        "        # exit on end token \n",
        "        if trget_index2word[predicted_id] == '<e>':\n",
        "            sentence = [get_display(arabic_reshaper.reshape(word)) for word in sentence]\n",
        "            df = pd.DataFrame(attention_dict, index = sentence)\n",
        "            return result, df\n",
        "        \n",
        "        # the predicted ID is fed back into the model\n",
        "        dec_input = tf.expand_dims([predicted_id], 0)\n",
        "        \n",
        "    df = pd.DataFrame(attention_dict, index = sentence)\n",
        "    return result, df"
      ],
      "execution_count": 0,
      "outputs": []
    },
    {
      "cell_type": "code",
      "metadata": {
        "id": "ciC-vtiz-x4m",
        "colab_type": "code",
        "outputId": "1960096c-2d45-43af-d643-80316cdfdbb6",
        "colab": {
          "base_uri": "https://localhost:8080/",
          "height": 34
        }
      },
      "source": [
        "stmt = \"انا اعلم اين تسكن\"\n",
        "result, df = translate(stmt)\n",
        "print(result)"
      ],
      "execution_count": 52,
      "outputs": [
        {
          "output_type": "stream",
          "text": [
            "i know where you live <e> \n"
          ],
          "name": "stdout"
        }
      ]
    },
    {
      "cell_type": "code",
      "metadata": {
        "id": "qh4nCcDvSEmX",
        "colab_type": "code",
        "outputId": "16d1d3ff-07ae-419e-ff95-114f12f9ea1e",
        "colab": {
          "base_uri": "https://localhost:8080/",
          "height": 612
        }
      },
      "source": [
        "plt.figure(figsize=(20, 10))\n",
        "sns.heatmap(df, square = True)"
      ],
      "execution_count": 53,
      "outputs": [
        {
          "output_type": "execute_result",
          "data": {
            "text/plain": [
              "<matplotlib.axes._subplots.AxesSubplot at 0x7eff4a982b00>"
            ]
          },
          "metadata": {
            "tags": []
          },
          "execution_count": 53
        },
        {
          "output_type": "display_data",
          "data": {
            "image/png": "[encoded data removed]",
            "text/plain": [
              "<Figure size 1440x720 with 2 Axes>"
            ]
          },
          "metadata": {
            "tags": []
          }
        }
      ]
    },
    {
      "cell_type": "markdown",
      "metadata": {
        "id": "rTTZ5IzEx9jG",
        "colab_type": "text"
      },
      "source": [
        "# References\n",
        "\n",
        "1. https://www.tensorflow.org/beta/tutorials/text/nmt_with_attention\n",
        "2. https://medium.com/syncedreview/a-brief-overview-of-attention-mechanism-13c578ba9129"
      ]
    }
  ]
}