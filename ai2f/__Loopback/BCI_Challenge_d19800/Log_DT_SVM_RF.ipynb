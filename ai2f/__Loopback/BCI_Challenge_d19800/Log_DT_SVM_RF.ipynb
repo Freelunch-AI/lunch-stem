{
 "cells": [
  {
   "cell_type": "code",
   "execution_count": null,
   "metadata": {},
   "outputs": [],
   "source": [
    "#Author: Yadi Deng, Haoran Zhang"
   ]
  },
  {
   "cell_type": "code",
   "execution_count": 1,
   "metadata": {},
   "outputs": [],
   "source": [
    "import numpy as np                                      # for dealing with data\n",
    "from scipy.signal import butter, sosfiltfilt, sosfreqz  # for filtering\n",
    "import matplotlib.pyplot as plt                         # for plotting\n",
    "import pandas as pd\n",
    "import os\n",
    "from os import listdir\n",
    "from os.path import isfile, join, isdir"
   ]
  },
  {
   "cell_type": "code",
   "execution_count": 13,
   "metadata": {},
   "outputs": [
    {
     "data": {
      "text/plain": [
       "(16, 340, 56, 260)"
      ]
     },
     "execution_count": 13,
     "metadata": {},
     "output_type": "execute_result"
    }
   ],
   "source": [
    "array = np.load('train_data_56_260_1_40Hz.npy') \n",
    "array.shape"
   ]
  },
  {
   "cell_type": "code",
   "execution_count": 14,
   "metadata": {},
   "outputs": [
    {
     "data": {
      "text/plain": [
       "(10, 340, 56, 260)"
      ]
     },
     "execution_count": 14,
     "metadata": {},
     "output_type": "execute_result"
    }
   ],
   "source": [
    "arrayT = np.load('test_data_56_260_1_40Hz.npy') \n",
    "arrayT.shape"
   ]
  },
  {
   "cell_type": "code",
   "execution_count": 16,
   "metadata": {},
   "outputs": [
    {
     "name": "stdout",
     "output_type": "stream",
     "text": [
      "(5440,)\n"
     ]
    }
   ],
   "source": [
    "label = pd.read_csv('./data/TrainLabels.csv') # put your train label path here\n",
    "y = label['Prediction'].values\n",
    "print(y.shape)"
   ]
  },
  {
   "cell_type": "code",
   "execution_count": 17,
   "metadata": {},
   "outputs": [
    {
     "name": "stdout",
     "output_type": "stream",
     "text": [
      "(3400, 1)\n",
      "(3400,)\n"
     ]
    }
   ],
   "source": [
    "labelT = pd.read_csv('./data/true_labels.csv', header = None) # put your train label path here\n",
    "print(labelT.shape)\n",
    "yT = np.array(labelT).reshape(3400,)\n",
    "print(yT.shape)"
   ]
  },
  {
   "cell_type": "code",
   "execution_count": 18,
   "metadata": {},
   "outputs": [
    {
     "data": {
      "text/plain": [
       "(5440, 210)"
      ]
     },
     "execution_count": 18,
     "metadata": {},
     "output_type": "execute_result"
    }
   ],
   "source": [
    "from pyriemann.estimation import XdawnCovariances\n",
    "from pyriemann.tangentspace import TangentSpace\n",
    "\n",
    "XC = XdawnCovariances(nfilter=5)\n",
    "output = XC.fit_transform(np.reshape(array, (16*340, 56, 260)), y)\n",
    "output = TangentSpace(metric='riemann').fit_transform(output)\n",
    "output.shape"
   ]
  },
  {
   "cell_type": "code",
   "execution_count": 19,
   "metadata": {},
   "outputs": [
    {
     "data": {
      "text/plain": [
       "(3400, 210)"
      ]
     },
     "execution_count": 19,
     "metadata": {},
     "output_type": "execute_result"
    }
   ],
   "source": [
    "\n",
    "outputT = XC.fit_transform(np.reshape(arrayT, (10*340, 56, 260)), yT)\n",
    "outputT = TangentSpace(metric='riemann').fit_transform(outputT)\n",
    "outputT.shape"
   ]
  },
  {
   "cell_type": "code",
   "execution_count": 20,
   "metadata": {},
   "outputs": [
    {
     "name": "stdout",
     "output_type": "stream",
     "text": [
      "(10, 340, 210) (6, 340, 210)\n"
     ]
    }
   ],
   "source": [
    "X = np.reshape(output, (16, 340, 210))\n",
    "data_train = X[:10]\n",
    "data_test = X[-6:]\n",
    "print(data_train.shape, data_test.shape)"
   ]
  },
  {
   "cell_type": "code",
   "execution_count": 21,
   "metadata": {},
   "outputs": [
    {
     "name": "stdout",
     "output_type": "stream",
     "text": [
      "(5440, 210) (5440,) (3400, 210) (3400,)\n"
     ]
    }
   ],
   "source": [
    "# data split\n",
    "y_train, y_test = np.array([]), np.array([])\n",
    "y_train = y\n",
    "\n",
    "y_test = yT\n",
    "\n",
    "X_train = output\n",
    "\n",
    "X_test = outputT\n",
    "\n",
    "print(X_train.shape, y_train.shape, X_test.shape, y_test.shape)"
   ]
  },
  {
   "cell_type": "markdown",
   "metadata": {},
   "source": [
    "## LDA"
   ]
  },
  {
   "cell_type": "markdown",
   "metadata": {},
   "source": [
    "## Logistic Regression"
   ]
  },
  {
   "cell_type": "code",
   "execution_count": 23,
   "metadata": {},
   "outputs": [
    {
     "name": "stderr",
     "output_type": "stream",
     "text": [
      "/Applications/conda/anaconda3/lib/python3.7/site-packages/sklearn/linear_model/logistic.py:433: FutureWarning: Default solver will be changed to 'lbfgs' in 0.22. Specify a solver to silence this warning.\n",
      "  FutureWarning)\n"
     ]
    },
    {
     "data": {
      "text/plain": [
       "LogisticRegression(C=1.0, class_weight=None, dual=False, fit_intercept=True,\n",
       "          intercept_scaling=1, max_iter=100, multi_class='warn',\n",
       "          n_jobs=None, penalty='l2', random_state=None, solver='warn',\n",
       "          tol=0.0001, verbose=0, warm_start=False)"
      ]
     },
     "execution_count": 23,
     "metadata": {},
     "output_type": "execute_result"
    }
   ],
   "source": [
    "logreg = LogisticRegression()\n",
    "logreg.fit(X_train,y_train)"
   ]
  },
  {
   "cell_type": "code",
   "execution_count": 24,
   "metadata": {},
   "outputs": [],
   "source": [
    "y_pred = logreg.predict(X_test)"
   ]
  },
  {
   "cell_type": "code",
   "execution_count": 26,
   "metadata": {},
   "outputs": [
    {
     "name": "stdout",
     "output_type": "stream",
     "text": [
      "              precision    recall  f1-score   support\n",
      "\n",
      "           0       0.60      0.50      0.55       989\n",
      "           1       0.81      0.86      0.84      2411\n",
      "\n",
      "   micro avg       0.76      0.76      0.76      3400\n",
      "   macro avg       0.71      0.68      0.69      3400\n",
      "weighted avg       0.75      0.76      0.75      3400\n",
      "\n"
     ]
    }
   ],
   "source": [
    "from sklearn.metrics import classification_report\n",
    "print(classification_report(y_test, y_pred))"
   ]
  },
  {
   "cell_type": "code",
   "execution_count": 27,
   "metadata": {},
   "outputs": [
    {
     "data": {
      "image/png": "[encoded data removed]",
      "text/plain": [
       "<Figure size 432x288 with 1 Axes>"
      ]
     },
     "metadata": {
      "needs_background": "light"
     },
     "output_type": "display_data"
    }
   ],
   "source": [
    "from sklearn.metrics import roc_auc_score\n",
    "from sklearn.metrics import roc_curve\n",
    "logit_roc_auc = roc_auc_score(y_test, logreg.predict(X_test))\n",
    "fpr, tpr, thresholds = roc_curve(y_test, logreg.predict_proba(X_test)[:,1])\n",
    "plt.figure()\n",
    "plt.plot(fpr, tpr, label='Logistic Regression (area = %0.2f)' % logit_roc_auc)\n",
    "plt.plot([0, 1], [0, 1],'r--')\n",
    "plt.xlim([0.0, 1.0])\n",
    "plt.ylim([0.0, 1.05])\n",
    "plt.xlabel('False Positive Rate')\n",
    "plt.ylabel('True Positive Rate')\n",
    "plt.title('ROC of Logistic Regression')\n",
    "plt.legend(loc=\"lower right\")\n",
    "plt.savefig('Log_ROC')\n",
    "plt.show()"
   ]
  },
  {
   "cell_type": "markdown",
   "metadata": {},
   "source": [
    "## SVM"
   ]
  },
  {
   "cell_type": "code",
   "execution_count": 28,
   "metadata": {},
   "outputs": [
    {
     "name": "stdout",
     "output_type": "stream",
     "text": [
      "ACC:0.757\n",
      "AUC:0.673\n",
      "ACC:0.754\n",
      "AUC:0.651\n",
      "ACC:0.742\n",
      "AUC:0.663\n"
     ]
    }
   ],
   "source": [
    "##SVM import packages\n",
    "from sklearn.svm import SVC\n",
    "from sklearn.model_selection import GridSearchCV\n",
    "from sklearn.model_selection import LeavePGroupsOut\n",
    "from sklearn.model_selection import KFold\n",
    "####SVm with linear\n",
    "###C list as [1,10]\n",
    "###leave 4 groups out\n",
    "clSvm = SVC(kernel = 'linear') \n",
    "p = {'kernel':('linear',), 'C':[0.001,0.1,1,10]}\n",
    "clSvm= GridSearchCV(clSvm, p,cv = KFold(4))\n",
    "clSvm.fit(X_train, y_train )\n",
    "y_hat_Svm = clSvm.predict(X_test)\n",
    "print('ACC:'+ \"{0:.3f}\".format(accuracy_score(y_test, y_hat_Svm)))\n",
    "print('AUC:'+\"{0:.3f}\".format(roc_auc_score(y_test, y_hat_Svm)))\n",
    "##With kerneal as rbf\n",
    "###C list as [1,10]\n",
    "###leave 4 groups out\n",
    "clSvm = SVC(kernel = 'rbf',gamma=\"scale\") \n",
    "parameters = {'kernel':('rbf',), 'C':[0.001,0.1,1,10]}\n",
    "clSvm= GridSearchCV(clSvm, parameters,cv = KFold(4))\n",
    "clSvm.fit(X_train, y_train)\n",
    "y_hat_Svm = clSvm.predict(X_test)\n",
    "print('ACC:'+ \"{0:.3f}\".format(accuracy_score(y_test, y_hat_Svm)))\n",
    "print('AUC:'+\"{0:.3f}\".format(roc_auc_score(y_test, y_hat_Svm)))\n",
    "#With kerneal as sigmoid\n",
    "###C list as [1,10]\n",
    "###leave 4 groups out\n",
    "clSvm = SVC(kernel = 'sigmoid',gamma=\"scale\") \n",
    "parameters = {'kernel':('sigmoid',), 'C':[0.001,0.1,1,10]}\n",
    "clSvm= GridSearchCV(clSvm, parameters,cv =KFold(4))\n",
    "clSvm.fit(X_train, y_train)\n",
    "y_hat_Svm = clSvm.predict(X_test)\n",
    "print('ACC:'+ \"{0:.3f}\".format(accuracy_score(y_test, y_hat_Svm)))\n",
    "print('AUC:'+\"{0:.3f}\".format(roc_auc_score(y_test, y_hat_Svm)))"
   ]
  },
  {
   "cell_type": "markdown",
   "metadata": {},
   "source": [
    "## Decision Tree"
   ]
  },
  {
   "cell_type": "code",
   "execution_count": 29,
   "metadata": {},
   "outputs": [
    {
     "data": {
      "text/plain": [
       "GridSearchCV(cv=4, error_score='raise-deprecating',\n",
       "       estimator=DecisionTreeClassifier(class_weight=None, criterion='gini', max_depth=None,\n",
       "            max_features=None, max_leaf_nodes=None,\n",
       "            min_impurity_decrease=0.0, min_impurity_split=None,\n",
       "            min_samples_leaf=1, min_samples_split=2,\n",
       "            min_weight_fraction_leaf=0.0, presort=False, random_state=None,\n",
       "            splitter='best'),\n",
       "       fit_params=None, iid='warn', n_jobs=None,\n",
       "       param_grid={'min_samples_split': range(10, 500, 20), 'max_depth': range(1, 20, 2)},\n",
       "       pre_dispatch='2*n_jobs', refit=True, return_train_score='warn',\n",
       "       scoring=None, verbose=0)"
      ]
     },
     "execution_count": 29,
     "metadata": {},
     "output_type": "execute_result"
    }
   ],
   "source": [
    "from sklearn.tree import DecisionTreeClassifier\n",
    "from sklearn.model_selection import GridSearchCV\n",
    "clf_tree = DecisionTreeClassifier()\n",
    "parameters = {\n",
    "    'min_samples_split' : range(10,500,20),\n",
    "    'max_depth': range(1,20,2)\n",
    "}\n",
    "dt = GridSearchCV(clf_tree, param_grid = parameters, cv = 4)\n",
    "dt.fit(X_train, y_train)"
   ]
  },
  {
   "cell_type": "code",
   "execution_count": 30,
   "metadata": {},
   "outputs": [
    {
     "data": {
      "text/plain": [
       "{'max_depth': 1, 'min_samples_split': 10}"
      ]
     },
     "execution_count": 30,
     "metadata": {},
     "output_type": "execute_result"
    }
   ],
   "source": [
    "dt.best_params_"
   ]
  },
  {
   "cell_type": "code",
   "execution_count": 31,
   "metadata": {},
   "outputs": [
    {
     "name": "stdout",
     "output_type": "stream",
     "text": [
      "ACC of Decision Tree classifier on test set:0.709\n",
      "AUC of Decision Tree classifier on test set:0.500\n"
     ]
    }
   ],
   "source": [
    "dtc = DecisionTreeClassifier(max_depth = 1, min_samples_split = 10)\n",
    "dtc.fit(X_train,y_train)\n",
    "y_pred_d = dtc.predict(X_test)\n",
    "print('ACC of Decision Tree classifier on test set:'+ \"{0:.3f}\".format(accuracy_score(y_test, y_pred_d)))\n",
    "print('AUC of Decision Tree classifier on test set:'+\"{0:.3f}\".format(roc_auc_score(y_test, y_pred_d)))"
   ]
  },
  {
   "cell_type": "code",
   "execution_count": 43,
   "metadata": {},
   "outputs": [
    {
     "data": {
      "image/png": "[encoded data removed]",
      "text/plain": [
       "<Figure size 432x288 with 1 Axes>"
      ]
     },
     "metadata": {
      "needs_background": "light"
     },
     "output_type": "display_data"
    }
   ],
   "source": [
    "dt_roc_auc = roc_auc_score(y_test, y_pred_d)\n",
    "fpr, tpr, thresholds = roc_curve(y_test, dtc.predict_proba(X_test)[:,1])\n",
    "plt.figure()\n",
    "plt.plot(fpr, tpr, label='Decision Tree (area = %0.2f)' % dt_roc_auc)\n",
    "plt.plot([0, 1], [0, 1],'r--')\n",
    "plt.xlim([0.0, 1.0])\n",
    "plt.ylim([0.0, 1.05])\n",
    "plt.xlabel('False Positive Rate')\n",
    "plt.ylabel('True Positive Rate')\n",
    "plt.title('ROC of Decision Tree (4-fold CV)')\n",
    "plt.legend(loc=\"lower right\")\n",
    "plt.savefig('DT_ROC')\n",
    "plt.show()"
   ]
  },
  {
   "cell_type": "code",
   "execution_count": 33,
   "metadata": {},
   "outputs": [
    {
     "name": "stdout",
     "output_type": "stream",
     "text": [
      "ACC of Decision Tree classifier on test set:0.709\n",
      "AUC of Decision Tree classifier on test set:0.500\n"
     ]
    }
   ],
   "source": [
    "dt_clf = DecisionTreeClassifier()\n",
    "dt_clf.fit(X_train,y_train)\n",
    "y_pred_dt = dtc.predict(X_test)\n",
    "print('ACC of Decision Tree classifier on test set:'+ \"{0:.3f}\".format(accuracy_score(y_test, y_pred_dt)))\n",
    "print('AUC of Decision Tree classifier on test set:'+\"{0:.3f}\".format(roc_auc_score(y_test, y_pred_dt)))"
   ]
  },
  {
   "cell_type": "markdown",
   "metadata": {},
   "source": [
    "## Random Forest"
   ]
  },
  {
   "cell_type": "code",
   "execution_count": 34,
   "metadata": {},
   "outputs": [
    {
     "name": "stdout",
     "output_type": "stream",
     "text": [
      "Fitting 4 folds for each of 32 candidates, totalling 128 fits\n"
     ]
    },
    {
     "name": "stderr",
     "output_type": "stream",
     "text": [
      "[Parallel(n_jobs=-1)]: Using backend LokyBackend with 8 concurrent workers.\n",
      "[Parallel(n_jobs=-1)]: Done  25 tasks      | elapsed:   25.2s\n",
      "/Applications/conda/anaconda3/lib/python3.7/site-packages/sklearn/externals/joblib/externals/loky/process_executor.py:706: UserWarning: A worker stopped while some jobs were given to the executor. This can be caused by a too short worker timeout or by a memory leak.\n",
      "  \"timeout or by a memory leak.\", UserWarning\n",
      "[Parallel(n_jobs=-1)]: Done 128 out of 128 | elapsed:  2.0min finished\n"
     ]
    },
    {
     "data": {
      "text/plain": [
       "{'bootstrap': True, 'max_depth': 100, 'max_features': 3, 'n_estimators': 1000}"
      ]
     },
     "execution_count": 34,
     "metadata": {},
     "output_type": "execute_result"
    }
   ],
   "source": [
    "from sklearn.model_selection import GridSearchCV\n",
    "from sklearn.ensemble import RandomForestRegressor\n",
    "# Create the parameter grid based on the results of random search \n",
    "param_grid = {\n",
    "    'bootstrap': [True],\n",
    "    'max_depth': [80, 90, 100, 110],\n",
    "    'max_features': [2, 3],\n",
    "    'n_estimators': [100, 200, 300, 1000]\n",
    "}\n",
    "# Create a based model\n",
    "rf = RandomForestRegressor()\n",
    "# Instantiate the grid search model\n",
    "grid_search = GridSearchCV(estimator = rf, param_grid = param_grid, \n",
    "                          cv = 4, n_jobs = -1, verbose = 2)\n",
    "# Fit the grid search to the data\n",
    "grid_search.fit(X_train, y_train)\n",
    "grid_search.best_params_"
   ]
  },
  {
   "cell_type": "code",
   "execution_count": 35,
   "metadata": {},
   "outputs": [
    {
     "name": "stdout",
     "output_type": "stream",
     "text": [
      "ACC of Randomforest classifier on test set:0.710\n",
      "AUC of Randomforest classifier on test set:0.501\n"
     ]
    }
   ],
   "source": [
    "from sklearn.ensemble import RandomForestClassifier\n",
    "rf_clf = RandomForestClassifier(n_estimators = 1000,\n",
    " max_features = 3,\n",
    " max_depth = 80,\n",
    " bootstrap = True)\n",
    "rf_clf.fit(X_train,y_train)\n",
    "y_pred_r = rf_clf.predict(X_test)\n",
    "\n",
    "print('ACC of Randomforest classifier on test set:'+ \"{0:.3f}\".format(accuracy_score(y_test, y_pred_r)))\n",
    "print('AUC of Randomforest classifier on test set:'+\"{0:.3f}\".format(roc_auc_score(y_test, y_pred_r)))"
   ]
  },
  {
   "cell_type": "code",
   "execution_count": 36,
   "metadata": {},
   "outputs": [
    {
     "data": {
      "image/png": "[encoded data removed]",
      "text/plain": [
       "<Figure size 432x288 with 1 Axes>"
      ]
     },
     "metadata": {
      "needs_background": "light"
     },
     "output_type": "display_data"
    }
   ],
   "source": [
    "r_roc_auc = roc_auc_score(y_test, y_pred_r)\n",
    "fpr, tpr, thresholds = roc_curve(y_test, rf_clf.predict_proba(X_test)[:,1])\n",
    "plt.figure()\n",
    "plt.plot(fpr, tpr, label='RandomForest (area = %0.2f)' % r_roc_auc)\n",
    "plt.plot([0, 1], [0, 1],'r--')\n",
    "plt.xlim([0.0, 1.0])\n",
    "plt.ylim([0.0, 1.05])\n",
    "plt.xlabel('False Positive Rate')\n",
    "plt.ylabel('True Positive Rate')\n",
    "plt.title('ROC of RandomForest (4-fold CV)')\n",
    "plt.legend(loc=\"lower right\")\n",
    "plt.savefig('Randomforest_ROC')\n",
    "plt.show()"
   ]
  },
  {
   "cell_type": "code",
   "execution_count": 37,
   "metadata": {},
   "outputs": [],
   "source": [
    "log = logreg.predict_proba(X_test)[:,1]\n",
    "np.save('log_labels.npy', log)"
   ]
  },
  {
   "cell_type": "code",
   "execution_count": 38,
   "metadata": {},
   "outputs": [],
   "source": [
    "rf_ = rf_clf.predict_proba(X_test)[:,1]\n",
    "np.save('rf_labels.npy', rf_)"
   ]
  },
  {
   "cell_type": "code",
   "execution_count": 39,
   "metadata": {},
   "outputs": [
    {
     "data": {
      "text/plain": [
       "array([0.89026036, 0.52760977, 0.31320542, ..., 0.57374461, 0.92613669,\n",
       "       0.96021799])"
      ]
     },
     "execution_count": 39,
     "metadata": {},
     "output_type": "execute_result"
    }
   ],
   "source": [
    "np.load('log_labels.npy')"
   ]
  },
  {
   "cell_type": "code",
   "execution_count": 40,
   "metadata": {},
   "outputs": [],
   "source": [
    "dt = dtc.predict_proba(X_test)[:,1]\n",
    "np.save('dt_labels.npy', dt)"
   ]
  },
  {
   "cell_type": "code",
   "execution_count": 41,
   "metadata": {},
   "outputs": [
    {
     "data": {
      "text/plain": [
       "array([0.78886756, 0.78886756, 0.59809853, ..., 0.59809853, 0.59809853,\n",
       "       0.78886756])"
      ]
     },
     "execution_count": 41,
     "metadata": {},
     "output_type": "execute_result"
    }
   ],
   "source": [
    "np.load('dt_labels.npy')"
   ]
  },
  {
   "cell_type": "code",
   "execution_count": null,
   "metadata": {},
   "outputs": [],
   "source": []
  }
 ],
 "metadata": {
  "kernelspec": {
   "display_name": "Python 3",
   "language": "python",
   "name": "python3"
  },
  "language_info": {
   "codemirror_mode": {
    "name": "ipython",
    "version": 3
   },
   "file_extension": ".py",
   "mimetype": "text/x-python",
   "name": "python",
   "nbconvert_exporter": "python",
   "pygments_lexer": "ipython3",
   "version": "3.7.6"
  }
 },
 "nbformat": 4,
 "nbformat_minor": 2
}
