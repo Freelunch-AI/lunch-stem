{
  "cells": [
    {
      "cell_type": "markdown",
      "metadata": {
        "id": "H4d2bZAKKidG"
      },
      "source": [
        "**Attribution:** These notebooks were originally developed by Mary Wootters and have possibly been modified by Nima Anari and Moses Charikar. Please direct any concerns to Nima and Moses.\n"
      ]
    },
    {
      "cell_type": "markdown",
      "metadata": {
        "id": "Xk61FrqrKidQ"
      },
      "source": [
        "# Lecture 14: Greedy algorithms"
      ]
    },
    {
      "cell_type": "markdown",
      "metadata": {
        "id": "trHWGLSrKidS"
      },
      "source": [
        "## Activity selection\n",
        "\n",
        "### Greedy algorithm for selection.\n",
        "\n",
        "Here's a simple greedy algorithm for activity selection."
      ]
    },
    {
      "cell_type": "code",
      "execution_count": null,
      "metadata": {
        "collapsed": true,
        "id": "2NGwyWM_KidU"
      },
      "outputs": [],
      "source": [
        "# activities are sorted by end time\n",
        "def greedyActivitySelection(activities):\n",
        "    schedule = []\n",
        "    currentTime = activities[0][0] - 1 # start before any of the activities start.\n",
        "    for i in range(len(activities)):\n",
        "        start, finish = activities[i]\n",
        "        if start > currentTime:\n",
        "            schedule.append(i)\n",
        "            currentTime = finish\n",
        "    return schedule"
      ]
    },
    {
      "cell_type": "code",
      "execution_count": null,
      "metadata": {
        "id": "L0J26-TMKidX",
        "outputId": "e68edfc1-dee2-49c9-addf-a17d5a7c672a"
      },
      "outputs": [
        {
          "name": "stdout",
          "output_type": "stream",
          "text": [
            "Solution:\n",
            "[1, 4]\n",
            "[5, 7]\n",
            "[8, 10]\n",
            "[13, 15]\n"
          ]
        }
      ],
      "source": [
        "# Sanity check. \n",
        "#\n",
        "# 123456789012345\n",
        "# ####\n",
        "#  ####\n",
        "#   ####\n",
        "#     ###\n",
        "#   ######\n",
        "#      ####\n",
        "#        ###\n",
        "#         ### \n",
        "#     ########\n",
        "#      ########\n",
        "#        #######\n",
        "#             ###\n",
        "\n",
        "# Solution should be:\n",
        "# ####               (1,4)\n",
        "#     ###            (5,7)\n",
        "#        ###         (8,10)\n",
        "#             ###   (13,15)\n",
        "\n",
        "activities = [  [1,4],[2,5],[3,6],[5,7],[3,8],[6,9],[8,10],[9,11],[5,12],[6,13],[8,14],[13,15] ]\n",
        "activityList = greedyActivitySelection(activities)\n",
        "print(\"Solution:\")\n",
        "for act in activityList:\n",
        "    print(activities[act])"
      ]
    },
    {
      "cell_type": "markdown",
      "metadata": {
        "id": "buAH80hWKidZ"
      },
      "source": [
        "### Here's what we'd do if we tried the DP approach instead.\n",
        "\n",
        "Step 1: identify a recursive relationship and write a top-down DP to find the optimal number of activities."
      ]
    },
    {
      "cell_type": "code",
      "execution_count": null,
      "metadata": {
        "collapsed": true,
        "id": "6ENtmuzlKida"
      },
      "outputs": [],
      "source": [
        "# activities are sorted by end time\n",
        "def maxNumActivities(activities, i, A):\n",
        "    if A[i] != None:\n",
        "        return A[i]\n",
        "    istart,ifinish = activities[i]\n",
        "    # this is not a good way to implement this, but the point of this way of writing it is not the implementation\n",
        "    for k in range(len(activities)):\n",
        "        start, finish = activities[k]\n",
        "        if start > ifinish:\n",
        "            valk = maxNumActivities(activities,k,A)\n",
        "            A[i] = valk + 1\n",
        "            return A[i]\n",
        "    A[i] = 0 # there are no more activities here\n",
        "    return A[i] "
      ]
    },
    {
      "cell_type": "markdown",
      "metadata": {
        "id": "jupJAXMbKidb"
      },
      "source": [
        "Step 2: Now let's modify the above to return not just the length but the actual value:"
      ]
    },
    {
      "cell_type": "code",
      "execution_count": null,
      "metadata": {
        "collapsed": true,
        "id": "0bZvFkqDKidc"
      },
      "outputs": [],
      "source": [
        "# activities are sorted by end time\n",
        "def getSchedule(activities, i, A, Next):\n",
        "    if A[i] != None:\n",
        "        return A[i]\n",
        "    istart,ifinish = activities[i]\n",
        "    # this is not a good way to implement this, but the point of this way of writing it is not the implementation\n",
        "    for k in range(len(activities)):\n",
        "        start, finish = activities[k]\n",
        "        if start > ifinish:\n",
        "            Next[i] = k # after i, do k\n",
        "            valk = getSchedule(activities,k,A,Next)\n",
        "            A[i] = valk + 1\n",
        "            return A[i]\n",
        "    A[i] = 0 # there are no more activities here\n",
        "    return A[i] \n",
        "\n",
        "def findBestSchedule(activities):\n",
        "    A = [ None for i in range(len(activities)) ]\n",
        "    Next = [ None for i in range(len(activities)) ]\n",
        "    getSchedule(activities,0, A, Next)\n",
        "    current = 0\n",
        "    schedule = []\n",
        "    while True:\n",
        "        current = Next[current]\n",
        "        if current == None:\n",
        "            break\n",
        "        schedule.append(current)\n",
        "    return schedule"
      ]
    },
    {
      "cell_type": "markdown",
      "metadata": {
        "id": "QMePsK2AKide"
      },
      "source": [
        "Sanity-check:"
      ]
    },
    {
      "cell_type": "code",
      "execution_count": null,
      "metadata": {
        "id": "XViCABqRKide",
        "outputId": "f0a0f0a6-e91f-408e-c3fa-4538e16aeb2d"
      },
      "outputs": [
        {
          "name": "stdout",
          "output_type": "stream",
          "text": [
            "[1, 4]\n",
            "[5, 7]\n",
            "[8, 10]\n",
            "[13, 15]\n"
          ]
        }
      ],
      "source": [
        "activities = [ [-1,0], [1,4],[2,5],[3,6],[5,7],[3,8],[6,9],[8,10],[9,11],[5,12],[6,13],[8,14],[13,15] ]\n",
        "activityList = findBestSchedule(activities)\n",
        "for act in activityList:\n",
        "    print(activities[act])"
      ]
    },
    {
      "cell_type": "markdown",
      "metadata": {
        "id": "V1nP4vqTKidf"
      },
      "source": [
        "But what is this actually doing?  Let's do it again with some print statements."
      ]
    },
    {
      "cell_type": "code",
      "execution_count": null,
      "metadata": {
        "collapsed": true,
        "id": "DAZFY9PkKidg"
      },
      "outputs": [],
      "source": [
        "# activities are sorted by end time\n",
        "def getSchedule(activities, i, A, Next):\n",
        "    if A[i] != None:\n",
        "        return A[i]\n",
        "    istart,ifinish = activities[i]\n",
        "    # this is not a good way to implement this, but the point of this way of writing it is not the implementation\n",
        "    for k in range(len(activities)):\n",
        "        start, finish = activities[k]\n",
        "        if start > ifinish:\n",
        "            Next[i] = k # after i, do k\n",
        "            print(\"After activity\", activities[i], \"I am adding the next thing which is\", activities[k])\n",
        "            valk = getSchedule(activities,k,A,Next)\n",
        "            A[i] = valk + 1\n",
        "            return A[i]\n",
        "    A[i] = 0 # there are no more activities here\n",
        "    return A[i] \n",
        "def findBestSchedule(activities):\n",
        "    A = [ None for i in range(len(activities)) ]\n",
        "    Next = [ None for i in range(len(activities)) ]\n",
        "    getSchedule(activities,0, A, Next)\n",
        "    current = 0\n",
        "    schedule = []\n",
        "    while True:\n",
        "        current = Next[current]\n",
        "        if current == None:\n",
        "            break\n",
        "        schedule.append(current)\n",
        "    return schedule"
      ]
    },
    {
      "cell_type": "code",
      "execution_count": null,
      "metadata": {
        "id": "4ZtLahHCKidg",
        "outputId": "c1d00144-d523-4828-a617-f13b9988277a"
      },
      "outputs": [
        {
          "name": "stdout",
          "output_type": "stream",
          "text": [
            "After activity [-1, 0] I am adding the next thing which is [1, 4]\n",
            "After activity [1, 4] I am adding the next thing which is [5, 7]\n",
            "After activity [5, 7] I am adding the next thing which is [8, 10]\n",
            "After activity [8, 10] I am adding the next thing which is [13, 15]\n",
            "---\n",
            " Solution:\n",
            "[1, 4]\n",
            "[5, 7]\n",
            "[8, 10]\n",
            "[13, 15]\n"
          ]
        }
      ],
      "source": [
        "activities = [ [-1,0], [1,4],[2,5],[3,6],[5,7],[3,8],[6,9],[8,10],[9,11],[5,12],[6,13],[8,14],[13,15] ]\n",
        "activityList = findBestSchedule(activities)\n",
        "print(\"---\\n Solution:\")\n",
        "for act in activityList:\n",
        "    print(activities[act])"
      ]
    },
    {
      "cell_type": "code",
      "execution_count": null,
      "metadata": {
        "collapsed": true,
        "id": "KXmi02kXKidh"
      },
      "outputs": [],
      "source": []
    }
  ],
  "metadata": {
    "kernelspec": {
      "display_name": "Python 3",
      "language": "python",
      "name": "python3"
    },
    "language_info": {
      "codemirror_mode": {
        "name": "ipython",
        "version": 3
      },
      "file_extension": ".py",
      "mimetype": "text/x-python",
      "name": "python",
      "nbconvert_exporter": "python",
      "pygments_lexer": "ipython3",
      "version": "3.4.2"
    },
    "colab": {
      "provenance": []
    }
  },
  "nbformat": 4,
  "nbformat_minor": 0
}