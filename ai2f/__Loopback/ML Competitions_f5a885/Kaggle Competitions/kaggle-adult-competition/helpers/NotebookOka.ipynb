{
 "cells": [
  {
   "cell_type": "markdown",
   "id": "4c706467",
   "metadata": {
    "papermill": {
     "duration": 0.045303,
     "end_time": "2021-11-29T01:32:49.468260",
     "exception": false,
     "start_time": "2021-11-29T01:32:49.422957",
     "status": "completed"
    },
    "tags": []
   },
   "source": [
    "# PMR3508 - Aprendizado de Máquina e Reconhecimento de Padrões\n",
    "\n",
    "Testing kNN with adult database from UCI repository.\n",
    "\n",
    "**Author:** Lucas Hideki Takeuchi Okamura\n",
    "\n",
    "**Hash:** 50\n",
    "\n",
    "## 1. Imports"
   ]
  },
  {
   "cell_type": "code",
   "execution_count": null,
   "id": "408e68ad",
   "metadata": {
    "ExecuteTime": {
     "end_time": "2021-11-11T19:35:28.680201Z",
     "start_time": "2021-11-11T19:34:53.381004Z"
    },
    "execution": {
     "iopub.execute_input": "2021-11-29T01:32:49.563119Z",
     "iopub.status.busy": "2021-11-29T01:32:49.562011Z",
     "iopub.status.idle": "2021-11-29T01:32:51.067262Z",
     "shell.execute_reply": "2021-11-29T01:32:51.067765Z",
     "shell.execute_reply.started": "2021-11-12T02:22:17.382854Z"
    },
    "papermill": {
     "duration": 1.553687,
     "end_time": "2021-11-29T01:32:51.068078",
     "exception": false,
     "start_time": "2021-11-29T01:32:49.514391",
     "status": "completed"
    },
    "tags": []
   },
   "outputs": [],
   "source": [
    "import numpy as np\n",
    "import pandas as pd\n",
    "\n",
    "import matplotlib.pyplot as plt\n",
    "import seaborn as sns\n",
    "from scikitplot import metrics as mt\n",
    "\n",
    "from sklearn.preprocessing import RobustScaler, StandardScaler, OrdinalEncoder\n",
    "from sklearn.neighbors import KNeighborsClassifier\n",
    "from sklearn.model_selection import GridSearchCV, RandomizedSearchCV, cross_val_score, train_test_split\n",
    "from sklearn.metrics import accuracy_score, classification_report,recall_score,f1_score,roc_auc_score, plot_precision_recall_curve, precision_score,roc_curve\n",
    "from sklearn.svm import SVC\n",
    "from sklearn.ensemble import RandomForestClassifier\n",
    "from xgboost import XGBClassifier\n",
    "from sklearn.neural_network import MLPClassifier\n",
    "\n",
    "from scipy.stats import loguniform as sp_loguniform\n",
    "\n",
    "import warnings\n",
    "warnings.filterwarnings('ignore')"
   ]
  },
  {
   "cell_type": "markdown",
   "id": "a1596fa0",
   "metadata": {
    "papermill": {
     "duration": 0.044479,
     "end_time": "2021-11-29T01:32:51.218793",
     "exception": false,
     "start_time": "2021-11-29T01:32:51.174314",
     "status": "completed"
    },
    "tags": []
   },
   "source": [
    "## 2. Loading Dataset"
   ]
  },
  {
   "cell_type": "code",
   "execution_count": null,
   "id": "11552e88",
   "metadata": {
    "ExecuteTime": {
     "end_time": "2021-11-11T19:35:29.568718Z",
     "start_time": "2021-11-11T19:35:28.682229Z"
    },
    "execution": {
     "iopub.execute_input": "2021-11-29T01:32:51.314771Z",
     "iopub.status.busy": "2021-11-29T01:32:51.314103Z",
     "iopub.status.idle": "2021-11-29T01:32:52.077493Z",
     "shell.execute_reply": "2021-11-29T01:32:52.077965Z",
     "shell.execute_reply.started": "2021-11-12T02:22:52.962882Z"
    },
    "papermill": {
     "duration": 0.813142,
     "end_time": "2021-11-29T01:32:52.078178",
     "exception": false,
     "start_time": "2021-11-29T01:32:51.265036",
     "status": "completed"
    },
    "tags": []
   },
   "outputs": [],
   "source": [
    "train = pd.read_csv('../input/adult-pmr3508/train_data.csv', \n",
    "                    sep=r'\\s*,\\s*',\n",
    "                    engine='python',\n",
    "                    na_values=\"?\")\n",
    "test = pd.read_csv('../input/adult-pmr3508/test_data.csv', \n",
    "                   sep=r'\\s*,\\s*',\n",
    "                    engine='python',\n",
    "                    na_values=\"?\")"
   ]
  },
  {
   "cell_type": "code",
   "execution_count": null,
   "id": "720ffb80",
   "metadata": {
    "ExecuteTime": {
     "end_time": "2021-11-11T19:35:29.615517Z",
     "start_time": "2021-11-11T19:35:29.571629Z"
    },
    "execution": {
     "iopub.execute_input": "2021-11-29T01:32:52.174109Z",
     "iopub.status.busy": "2021-11-29T01:32:52.173483Z",
     "iopub.status.idle": "2021-11-29T01:32:52.188571Z",
     "shell.execute_reply": "2021-11-29T01:32:52.189032Z",
     "shell.execute_reply.started": "2021-11-12T02:22:56.567629Z"
    },
    "papermill": {
     "duration": 0.067399,
     "end_time": "2021-11-29T01:32:52.189197",
     "exception": false,
     "start_time": "2021-11-29T01:32:52.121798",
     "status": "completed"
    },
    "tags": []
   },
   "outputs": [],
   "source": [
    "train.head()"
   ]
  },
  {
   "cell_type": "code",
   "execution_count": null,
   "id": "d13b2a2e",
   "metadata": {
    "ExecuteTime": {
     "end_time": "2021-11-11T19:35:29.64643Z",
     "start_time": "2021-11-11T19:35:29.617506Z"
    },
    "execution": {
     "iopub.execute_input": "2021-11-29T01:32:52.280979Z",
     "iopub.status.busy": "2021-11-29T01:32:52.280358Z",
     "iopub.status.idle": "2021-11-29T01:32:52.295452Z",
     "shell.execute_reply": "2021-11-29T01:32:52.294906Z"
    },
    "papermill": {
     "duration": 0.061723,
     "end_time": "2021-11-29T01:32:52.295607",
     "exception": false,
     "start_time": "2021-11-29T01:32:52.233884",
     "status": "completed"
    },
    "tags": []
   },
   "outputs": [],
   "source": [
    "test.head()"
   ]
  },
  {
   "cell_type": "markdown",
   "id": "73688b6c",
   "metadata": {
    "papermill": {
     "duration": 0.044236,
     "end_time": "2021-11-29T01:32:52.385254",
     "exception": false,
     "start_time": "2021-11-29T01:32:52.341018",
     "status": "completed"
    },
    "tags": []
   },
   "source": [
    "We see from the datasets that the income column is the target of the problem and that's what we want to predict.\n",
    "\n",
    "## 3. Data Description\n",
    "\n",
    "In this section we will see a overview of the datasets, considering these subsections:\n",
    "\n",
    "* Data Dimensions\n",
    "* Data Types\n",
    "* Check missing values\n",
    "* Fillout missing values\n",
    "* Descriptive Statistical\n",
    "\n",
    "### 3.1. Data Dimensions"
   ]
  },
  {
   "cell_type": "code",
   "execution_count": null,
   "id": "7ee4fd74",
   "metadata": {
    "ExecuteTime": {
     "end_time": "2021-11-11T19:35:29.6624Z",
     "start_time": "2021-11-11T19:35:29.648423Z"
    },
    "execution": {
     "iopub.execute_input": "2021-11-29T01:32:52.480050Z",
     "iopub.status.busy": "2021-11-29T01:32:52.479314Z",
     "iopub.status.idle": "2021-11-29T01:32:52.482313Z",
     "shell.execute_reply": "2021-11-29T01:32:52.483007Z"
    },
    "papermill": {
     "duration": 0.053372,
     "end_time": "2021-11-29T01:32:52.483228",
     "exception": false,
     "start_time": "2021-11-29T01:32:52.429856",
     "status": "completed"
    },
    "tags": []
   },
   "outputs": [],
   "source": [
    "print(f\"Training data shape: {train.shape}\")\n",
    "print(f\"Testing data shape: {test.shape}\")"
   ]
  },
  {
   "cell_type": "markdown",
   "id": "21a1737c",
   "metadata": {
    "papermill": {
     "duration": 0.044743,
     "end_time": "2021-11-29T01:32:52.574526",
     "exception": false,
     "start_time": "2021-11-29T01:32:52.529783",
     "status": "completed"
    },
    "tags": []
   },
   "source": [
    "### 3.2. Data Types\n",
    "\n",
    "We can see that the income label is categorical, thus we have a classification problem."
   ]
  },
  {
   "cell_type": "code",
   "execution_count": null,
   "id": "a21096b7",
   "metadata": {
    "ExecuteTime": {
     "end_time": "2021-11-11T19:35:29.677383Z",
     "start_time": "2021-11-11T19:35:29.664381Z"
    },
    "execution": {
     "iopub.execute_input": "2021-11-29T01:32:52.668732Z",
     "iopub.status.busy": "2021-11-29T01:32:52.667777Z",
     "iopub.status.idle": "2021-11-29T01:32:52.675611Z",
     "shell.execute_reply": "2021-11-29T01:32:52.674994Z"
    },
    "papermill": {
     "duration": 0.05614,
     "end_time": "2021-11-29T01:32:52.675757",
     "exception": false,
     "start_time": "2021-11-29T01:32:52.619617",
     "status": "completed"
    },
    "tags": []
   },
   "outputs": [],
   "source": [
    "train.dtypes"
   ]
  },
  {
   "cell_type": "markdown",
   "id": "2a0b4796",
   "metadata": {
    "papermill": {
     "duration": 0.046291,
     "end_time": "2021-11-29T01:32:52.768160",
     "exception": false,
     "start_time": "2021-11-29T01:32:52.721869",
     "status": "completed"
    },
    "tags": []
   },
   "source": [
    "### 3.3. Check and fill missing values\n",
    "\n",
    "From the training data, there are missing data in occupation, workclass and native.country. We will fill them out with their most common values."
   ]
  },
  {
   "cell_type": "code",
   "execution_count": null,
   "id": "e2715ad8",
   "metadata": {
    "ExecuteTime": {
     "end_time": "2021-11-11T19:35:29.708264Z",
     "start_time": "2021-11-11T19:35:29.679341Z"
    },
    "execution": {
     "iopub.execute_input": "2021-11-29T01:32:52.864096Z",
     "iopub.status.busy": "2021-11-29T01:32:52.863136Z",
     "iopub.status.idle": "2021-11-29T01:32:52.885021Z",
     "shell.execute_reply": "2021-11-29T01:32:52.885559Z"
    },
    "papermill": {
     "duration": 0.071685,
     "end_time": "2021-11-29T01:32:52.885743",
     "exception": false,
     "start_time": "2021-11-29T01:32:52.814058",
     "status": "completed"
    },
    "tags": []
   },
   "outputs": [],
   "source": [
    "train.isna().sum().sort_values(ascending = False)"
   ]
  },
  {
   "cell_type": "code",
   "execution_count": null,
   "id": "45ffd8bf",
   "metadata": {
    "ExecuteTime": {
     "end_time": "2021-11-11T19:35:29.740272Z",
     "start_time": "2021-11-11T19:35:29.711274Z"
    },
    "execution": {
     "iopub.execute_input": "2021-11-29T01:32:52.980943Z",
     "iopub.status.busy": "2021-11-29T01:32:52.980024Z",
     "iopub.status.idle": "2021-11-29T01:32:52.993894Z",
     "shell.execute_reply": "2021-11-29T01:32:52.994304Z"
    },
    "papermill": {
     "duration": 0.06307,
     "end_time": "2021-11-29T01:32:52.994482",
     "exception": false,
     "start_time": "2021-11-29T01:32:52.931412",
     "status": "completed"
    },
    "tags": []
   },
   "outputs": [],
   "source": [
    "test.isna().sum().sort_values(ascending = False)"
   ]
  },
  {
   "cell_type": "code",
   "execution_count": null,
   "id": "a4e86e95",
   "metadata": {
    "ExecuteTime": {
     "end_time": "2021-11-11T19:35:29.770177Z",
     "start_time": "2021-11-11T19:35:29.744249Z"
    },
    "execution": {
     "iopub.execute_input": "2021-11-29T01:32:53.117323Z",
     "iopub.status.busy": "2021-11-29T01:32:53.114781Z",
     "iopub.status.idle": "2021-11-29T01:32:53.120082Z",
     "shell.execute_reply": "2021-11-29T01:32:53.120862Z"
    },
    "papermill": {
     "duration": 0.080743,
     "end_time": "2021-11-29T01:32:53.121156",
     "exception": false,
     "start_time": "2021-11-29T01:32:53.040413",
     "status": "completed"
    },
    "tags": []
   },
   "outputs": [],
   "source": [
    "# fill nans\n",
    "occupation_mc = train.loc[:, 'occupation'].mode()[0]\n",
    "workclass_mc = train.loc[:, 'workclass'].mode()[0]\n",
    "native_country_mc = train.loc[:, 'native.country'].mode()[0]\n",
    "\n",
    "print(f'occupation most common attribute: {occupation_mc}')\n",
    "print(f'workclass most common attribute: {workclass_mc}')\n",
    "print(f'native.country most common attribute: {native_country_mc}')\n",
    "\n",
    "train.loc[:, 'occupation'].fillna(occupation_mc, inplace = True)\n",
    "train.loc[:, 'workclass'].fillna(workclass_mc, inplace = True)\n",
    "train.loc[:, 'native.country'].fillna(native_country_mc, inplace = True)\n",
    "\n",
    "test.loc[:, 'occupation'].fillna(occupation_mc, inplace = True)\n",
    "test.loc[:, 'workclass'].fillna(workclass_mc, inplace = True)\n",
    "test.loc[:, 'native.country'].fillna(native_country_mc, inplace = True)"
   ]
  },
  {
   "cell_type": "code",
   "execution_count": null,
   "id": "6c33e696",
   "metadata": {
    "ExecuteTime": {
     "end_time": "2021-11-11T19:35:29.802096Z",
     "start_time": "2021-11-11T19:35:29.772173Z"
    },
    "execution": {
     "iopub.execute_input": "2021-11-29T01:32:53.221433Z",
     "iopub.status.busy": "2021-11-29T01:32:53.220835Z",
     "iopub.status.idle": "2021-11-29T01:32:53.240400Z",
     "shell.execute_reply": "2021-11-29T01:32:53.240887Z"
    },
    "papermill": {
     "duration": 0.071069,
     "end_time": "2021-11-29T01:32:53.241054",
     "exception": false,
     "start_time": "2021-11-29T01:32:53.169985",
     "status": "completed"
    },
    "tags": []
   },
   "outputs": [],
   "source": [
    "# checking missing values again - train\n",
    "train.isna().sum().sort_values(ascending = False)"
   ]
  },
  {
   "cell_type": "code",
   "execution_count": null,
   "id": "2f5c6e2a",
   "metadata": {
    "ExecuteTime": {
     "end_time": "2021-11-11T19:35:29.817054Z",
     "start_time": "2021-11-11T19:35:29.803091Z"
    },
    "execution": {
     "iopub.execute_input": "2021-11-29T01:32:53.338281Z",
     "iopub.status.busy": "2021-11-29T01:32:53.337650Z",
     "iopub.status.idle": "2021-11-29T01:32:53.351255Z",
     "shell.execute_reply": "2021-11-29T01:32:53.351696Z"
    },
    "papermill": {
     "duration": 0.064221,
     "end_time": "2021-11-29T01:32:53.351876",
     "exception": false,
     "start_time": "2021-11-29T01:32:53.287655",
     "status": "completed"
    },
    "tags": []
   },
   "outputs": [],
   "source": [
    "# checking missing values again - test\n",
    "test.isna().sum().sort_values(ascending = False)"
   ]
  },
  {
   "cell_type": "markdown",
   "id": "056b8396",
   "metadata": {
    "papermill": {
     "duration": 0.047592,
     "end_time": "2021-11-29T01:32:53.446800",
     "exception": false,
     "start_time": "2021-11-29T01:32:53.399208",
     "status": "completed"
    },
    "tags": []
   },
   "source": [
    "### 3.4. Descriptive statistical\n",
    "\n",
    "In this section we will have a statistical overview in the training dataset, considering numerical and categorical variables."
   ]
  },
  {
   "cell_type": "code",
   "execution_count": null,
   "id": "ea84c530",
   "metadata": {
    "ExecuteTime": {
     "end_time": "2021-11-11T19:35:29.847975Z",
     "start_time": "2021-11-11T19:35:29.819051Z"
    },
    "execution": {
     "iopub.execute_input": "2021-11-29T01:32:53.556949Z",
     "iopub.status.busy": "2021-11-29T01:32:53.544462Z",
     "iopub.status.idle": "2021-11-29T01:32:53.560084Z",
     "shell.execute_reply": "2021-11-29T01:32:53.560645Z"
    },
    "papermill": {
     "duration": 0.066439,
     "end_time": "2021-11-29T01:32:53.560823",
     "exception": false,
     "start_time": "2021-11-29T01:32:53.494384",
     "status": "completed"
    },
    "tags": []
   },
   "outputs": [],
   "source": [
    "num_attributes = train.select_dtypes(include = ['int64','float64']).drop(columns = 'Id')\n",
    "cat_attributes = train.select_dtypes(exclude = ['int64','float64'])"
   ]
  },
  {
   "cell_type": "markdown",
   "id": "cf1e19ff",
   "metadata": {
    "papermill": {
     "duration": 0.047846,
     "end_time": "2021-11-29T01:32:53.656964",
     "exception": false,
     "start_time": "2021-11-29T01:32:53.609118",
     "status": "completed"
    },
    "tags": []
   },
   "source": [
    "#### 3.4.1. Numerical Attributes"
   ]
  },
  {
   "cell_type": "code",
   "execution_count": null,
   "id": "c9010cc4",
   "metadata": {
    "ExecuteTime": {
     "end_time": "2021-11-11T19:35:29.895395Z",
     "start_time": "2021-11-11T19:35:29.849964Z"
    },
    "execution": {
     "iopub.execute_input": "2021-11-29T01:32:53.756016Z",
     "iopub.status.busy": "2021-11-29T01:32:53.755040Z",
     "iopub.status.idle": "2021-11-29T01:32:53.788831Z",
     "shell.execute_reply": "2021-11-29T01:32:53.789359Z"
    },
    "papermill": {
     "duration": 0.084901,
     "end_time": "2021-11-29T01:32:53.789525",
     "exception": false,
     "start_time": "2021-11-29T01:32:53.704624",
     "status": "completed"
    },
    "tags": []
   },
   "outputs": [],
   "source": [
    "num_attributes.describe()"
   ]
  },
  {
   "cell_type": "markdown",
   "id": "a216bb43",
   "metadata": {
    "papermill": {
     "duration": 0.047993,
     "end_time": "2021-11-29T01:32:53.887438",
     "exception": false,
     "start_time": "2021-11-29T01:32:53.839445",
     "status": "completed"
    },
    "tags": []
   },
   "source": [
    "Although education.num is a numeric variable, it represents the category relative to the person education level, so it will be treated as a categorical variable.\n",
    "\n",
    "#### 3.4.2. Categorical Attributes\n",
    "\n",
    "Here we can see how many categories each variable has, showing that native.country is the feature with most categories."
   ]
  },
  {
   "cell_type": "code",
   "execution_count": null,
   "id": "e4469a24",
   "metadata": {
    "ExecuteTime": {
     "end_time": "2021-11-11T19:35:29.911353Z",
     "start_time": "2021-11-11T19:35:29.897391Z"
    },
    "execution": {
     "iopub.execute_input": "2021-11-29T01:32:53.989666Z",
     "iopub.status.busy": "2021-11-29T01:32:53.988642Z",
     "iopub.status.idle": "2021-11-29T01:32:54.001985Z",
     "shell.execute_reply": "2021-11-29T01:32:54.002476Z"
    },
    "papermill": {
     "duration": 0.065284,
     "end_time": "2021-11-29T01:32:54.002677",
     "exception": false,
     "start_time": "2021-11-29T01:32:53.937393",
     "status": "completed"
    },
    "tags": []
   },
   "outputs": [],
   "source": [
    "# inserting education.num to categorical variables\n",
    "new_cat_variables = list(cat_attributes.columns) + ['education.num']\n",
    "cat_attributes = train[new_cat_variables].copy()\n",
    "\n",
    "# removing education.num from numerical variables\n",
    "num_attributes = num_attributes.drop(columns = 'education.num')"
   ]
  },
  {
   "cell_type": "code",
   "execution_count": null,
   "id": "6a69150d",
   "metadata": {
    "ExecuteTime": {
     "end_time": "2021-11-11T19:35:29.989704Z",
     "start_time": "2021-11-11T19:35:29.914346Z"
    },
    "execution": {
     "iopub.execute_input": "2021-11-29T01:32:54.105343Z",
     "iopub.status.busy": "2021-11-29T01:32:54.104417Z",
     "iopub.status.idle": "2021-11-29T01:32:54.131583Z",
     "shell.execute_reply": "2021-11-29T01:32:54.131062Z"
    },
    "papermill": {
     "duration": 0.080918,
     "end_time": "2021-11-29T01:32:54.131735",
     "exception": false,
     "start_time": "2021-11-29T01:32:54.050817",
     "status": "completed"
    },
    "tags": []
   },
   "outputs": [],
   "source": [
    "cat_attributes.apply(lambda x: x.unique().shape[0])"
   ]
  },
  {
   "cell_type": "markdown",
   "id": "fbd71c07",
   "metadata": {
    "papermill": {
     "duration": 0.04812,
     "end_time": "2021-11-29T01:32:54.228625",
     "exception": false,
     "start_time": "2021-11-29T01:32:54.180505",
     "status": "completed"
    },
    "tags": []
   },
   "source": [
    "## 4. Exploratory Data Analysis\n",
    "\n",
    "Here the data characteristics will be summarized and understood from plots and statistical inferences.\n",
    "\n",
    "### 4.1. Univariate Analysis\n",
    "\n",
    "#### 4.1.1. Response Variable (income)\n",
    "\n",
    "Plotting a barplot to understand how the target variable is distributed. It is possible to see that the training dataset is unbalanced relative to the target labels, as the people who have a income <=50K is the majority when compared to those who have income >50K."
   ]
  },
  {
   "cell_type": "code",
   "execution_count": null,
   "id": "45caec3b",
   "metadata": {
    "ExecuteTime": {
     "end_time": "2021-11-11T19:35:30.861436Z",
     "start_time": "2021-11-11T19:35:29.993726Z"
    },
    "execution": {
     "iopub.execute_input": "2021-11-29T01:32:54.329082Z",
     "iopub.status.busy": "2021-11-29T01:32:54.328155Z",
     "iopub.status.idle": "2021-11-29T01:32:54.651422Z",
     "shell.execute_reply": "2021-11-29T01:32:54.652068Z"
    },
    "papermill": {
     "duration": 0.375054,
     "end_time": "2021-11-29T01:32:54.652249",
     "exception": false,
     "start_time": "2021-11-29T01:32:54.277195",
     "status": "completed"
    },
    "tags": []
   },
   "outputs": [],
   "source": [
    "_ = sns.catplot(x = 'income', kind = 'count', data = train)"
   ]
  },
  {
   "cell_type": "markdown",
   "id": "980e48d9",
   "metadata": {
    "papermill": {
     "duration": 0.049338,
     "end_time": "2021-11-29T01:32:54.751758",
     "exception": false,
     "start_time": "2021-11-29T01:32:54.702420",
     "status": "completed"
    },
    "tags": []
   },
   "source": [
    "#### 4.1.2. Numerical Variable\n",
    "\n",
    "We can infere some informations from the graphs:\n",
    "\n",
    "* **age**: most part of the people have less than 60 years\n",
    "* **fnlwgt**: almost all the data concentrated in values less than $0.75 * 10^{6}$, despite some outliers\n",
    "* **capital.gain** and **capital.loss**: values are concentrated near 0, despite some outliers\n",
    "* **hours.per.week**: values are concentrated near 40, an it has a lot of outliers"
   ]
  },
  {
   "cell_type": "code",
   "execution_count": null,
   "id": "ad009ba1",
   "metadata": {
    "ExecuteTime": {
     "end_time": "2021-11-11T19:35:32.928168Z",
     "start_time": "2021-11-11T19:35:30.862432Z"
    },
    "execution": {
     "iopub.execute_input": "2021-11-29T01:32:54.858305Z",
     "iopub.status.busy": "2021-11-29T01:32:54.857629Z",
     "iopub.status.idle": "2021-11-29T01:32:56.710064Z",
     "shell.execute_reply": "2021-11-29T01:32:56.709512Z"
    },
    "papermill": {
     "duration": 1.907429,
     "end_time": "2021-11-29T01:32:56.710202",
     "exception": false,
     "start_time": "2021-11-29T01:32:54.802773",
     "status": "completed"
    },
    "tags": []
   },
   "outputs": [],
   "source": [
    "fig, ax = plt.subplots(1, 5, figsize = (25,7))\n",
    "for index, column in enumerate(num_attributes.columns):\n",
    "    _ = sns.boxplot(y = num_attributes[column], ax = ax[index], orient = 'v')\n",
    "    \n",
    "_ = num_attributes.hist(bins = 25, figsize = (20, 7))\n",
    "_ = plt.tight_layout()"
   ]
  },
  {
   "cell_type": "markdown",
   "id": "2c53852b",
   "metadata": {
    "papermill": {
     "duration": 0.052118,
     "end_time": "2021-11-29T01:32:56.813518",
     "exception": false,
     "start_time": "2021-11-29T01:32:56.761400",
     "status": "completed"
    },
    "tags": []
   },
   "source": [
    "#### 4.1.3. Categorical Variable\n",
    "\n",
    "From the data, we can infere:\n",
    "\n",
    "* **workclass**: the majority of the public studied in private schools\n",
    "* **education**: the most significant categories are HS-grad, Bachelors and Some College\n",
    "* **marital.status**: Married-civ-spouse and Never-married are predominant\n",
    "* **occupation**: this features has a well distributed data\n",
    "* **relationship**: Husband predominates\n",
    "* **race**: most part of the public is white\n",
    "* **sex**: more men were asked than women\n",
    "* **native.country**: clear predominance of american people\n",
    "* **education.num**: class 9 predominates"
   ]
  },
  {
   "cell_type": "code",
   "execution_count": null,
   "id": "2b63f30d",
   "metadata": {
    "ExecuteTime": {
     "end_time": "2021-11-11T19:35:37.403446Z",
     "start_time": "2021-11-11T19:35:32.930128Z"
    },
    "execution": {
     "iopub.execute_input": "2021-11-29T01:32:56.924260Z",
     "iopub.status.busy": "2021-11-29T01:32:56.923578Z",
     "iopub.status.idle": "2021-11-29T01:33:00.108342Z",
     "shell.execute_reply": "2021-11-29T01:33:00.108854Z"
    },
    "papermill": {
     "duration": 3.244226,
     "end_time": "2021-11-29T01:33:00.109026",
     "exception": false,
     "start_time": "2021-11-29T01:32:56.864800",
     "status": "completed"
    },
    "tags": []
   },
   "outputs": [],
   "source": [
    "fig, axes = plt.subplots(5, 2, figsize = (30,15), constrained_layout=True)\n",
    "axes = axes.flatten()\n",
    "\n",
    "for index, column in enumerate(cat_attributes.columns):\n",
    "    _ = sns.countplot(cat_attributes[column], ax = axes[index], order = cat_attributes[column].value_counts().index)\n",
    "    axes[index].tick_params(axis='x', rotation=90)"
   ]
  },
  {
   "cell_type": "markdown",
   "id": "8753d53e",
   "metadata": {
    "papermill": {
     "duration": 0.055839,
     "end_time": "2021-11-29T01:33:00.219909",
     "exception": false,
     "start_time": "2021-11-29T01:33:00.164070",
     "status": "completed"
    },
    "tags": []
   },
   "source": [
    "### 4.2. Bivariate Analysis\n",
    "\n",
    "Now, some features will be evaluated relative to their relation to the target variable income.\n",
    "\n",
    "#### 4.2.1. sex - income comparison\n",
    "\n",
    "From the graphs we see that the proportion between men and woman is different when the income is considered. While there are, proportionaly more men than women in the >50K class, this proportion reduces when the class <=50K is considered, evidencing that men are more prone to have a income bigger than 50K."
   ]
  },
  {
   "cell_type": "code",
   "execution_count": null,
   "id": "82d478cc",
   "metadata": {
    "ExecuteTime": {
     "end_time": "2021-11-11T19:35:37.700758Z",
     "start_time": "2021-11-11T19:35:37.406354Z"
    },
    "execution": {
     "iopub.execute_input": "2021-11-29T01:33:00.340679Z",
     "iopub.status.busy": "2021-11-29T01:33:00.339988Z",
     "iopub.status.idle": "2021-11-29T01:33:00.670668Z",
     "shell.execute_reply": "2021-11-29T01:33:00.670110Z"
    },
    "papermill": {
     "duration": 0.396292,
     "end_time": "2021-11-29T01:33:00.670819",
     "exception": false,
     "start_time": "2021-11-29T01:33:00.274527",
     "status": "completed"
    },
    "tags": []
   },
   "outputs": [],
   "source": [
    "# separating publics by income\n",
    "less_income = train[train['income'] == '<=50K']\n",
    "less_income = less_income[['sex','income']].groupby(\"sex\").count().reset_index()\n",
    "\n",
    "more_income = train[train['income'] == '>50K']\n",
    "more_income = more_income[['sex','income']].groupby(\"sex\").count().reset_index()\n",
    "\n",
    "# plot 1 - income <=50K\n",
    "plt.subplot(1,2,1)\n",
    "_ = sns.barplot(x = 'sex', y = 'income', data = less_income)\n",
    "_ = plt.title(\"Income <=50K\")\n",
    "\n",
    "#plot2 - gender x cardio (bar plot)\n",
    "plt.subplot(1,2,2)\n",
    "_ = sns.barplot(x = 'sex', y = 'income', data = more_income)\n",
    "_ = plt.title(\"Income >50K\")\n",
    "\n",
    "_ = plt.tight_layout()"
   ]
  },
  {
   "cell_type": "markdown",
   "id": "e244f453",
   "metadata": {
    "papermill": {
     "duration": 0.055131,
     "end_time": "2021-11-29T01:33:00.784800",
     "exception": false,
     "start_time": "2021-11-29T01:33:00.729669",
     "status": "completed"
    },
    "tags": []
   },
   "source": [
    "#### 4.2.2. age - income comparison\n",
    "\n",
    "Although the correlation between age and income is quite low, it is possible to see a slight trend that older people have higher incomes."
   ]
  },
  {
   "cell_type": "code",
   "execution_count": null,
   "id": "2bc3b0c2",
   "metadata": {
    "ExecuteTime": {
     "end_time": "2021-11-11T19:35:38.088791Z",
     "start_time": "2021-11-11T19:35:37.702684Z"
    },
    "execution": {
     "iopub.execute_input": "2021-11-29T01:33:00.914072Z",
     "iopub.status.busy": "2021-11-29T01:33:00.912369Z",
     "iopub.status.idle": "2021-11-29T01:33:01.462135Z",
     "shell.execute_reply": "2021-11-29T01:33:01.461602Z"
    },
    "papermill": {
     "duration": 0.621195,
     "end_time": "2021-11-29T01:33:01.462274",
     "exception": false,
     "start_time": "2021-11-29T01:33:00.841079",
     "status": "completed"
    },
    "tags": []
   },
   "outputs": [],
   "source": [
    "# plot 1 - boxplot\n",
    "plt.subplot(1,2,1)\n",
    "_ = sns.boxplot(x = 'income', y = 'age', data = train)\n",
    "_ = plt.title(\"Age x Income\")\n",
    "\n",
    "# plot 2 - correlation\n",
    "plt.subplot(1,2,2)\n",
    "df_corr = train[['age', 'income']]\n",
    "df_corr['income'] = df_corr['income'].map({'<=50K' : 0, '>50K' : 1})\n",
    "_ = sns.heatmap(df_corr[['age', 'income']].corr(method = 'pearson'), annot = True)"
   ]
  },
  {
   "cell_type": "markdown",
   "id": "835760a1",
   "metadata": {
    "papermill": {
     "duration": 0.056479,
     "end_time": "2021-11-29T01:33:01.576048",
     "exception": false,
     "start_time": "2021-11-29T01:33:01.519569",
     "status": "completed"
    },
    "tags": []
   },
   "source": [
    "#### 4.2.3. education - income comparison\n",
    "\n",
    "From the data, we see that the majority of people with income less than 50K has only completed High School or some college, while people with bachelor dominates in the higher income public."
   ]
  },
  {
   "cell_type": "code",
   "execution_count": null,
   "id": "75e4d38d",
   "metadata": {
    "ExecuteTime": {
     "end_time": "2021-11-11T19:35:38.668229Z",
     "start_time": "2021-11-11T19:35:38.091776Z"
    },
    "execution": {
     "iopub.execute_input": "2021-11-29T01:33:01.700432Z",
     "iopub.status.busy": "2021-11-29T01:33:01.699744Z",
     "iopub.status.idle": "2021-11-29T01:33:02.345062Z",
     "shell.execute_reply": "2021-11-29T01:33:02.344519Z"
    },
    "papermill": {
     "duration": 0.712338,
     "end_time": "2021-11-29T01:33:02.345205",
     "exception": false,
     "start_time": "2021-11-29T01:33:01.632867",
     "status": "completed"
    },
    "tags": []
   },
   "outputs": [],
   "source": [
    "# separating publics by income\n",
    "less_income = train[train['income'] == '<=50K']\n",
    "less_income = less_income[['education','income']].groupby(\"education\").count().sort_values('income').reset_index()\n",
    "\n",
    "more_income = train[train['income'] == '>50K']\n",
    "more_income = more_income[['education','income']].groupby(\"education\").count().sort_values('income').reset_index()\n",
    "\n",
    "fig, axes = plt.subplots(1,2,figsize = (25, 5))\n",
    "\n",
    "# plot 1 - income <=50K\n",
    "_ = sns.barplot(x = 'education', y = 'income', data = less_income, ax = axes[0])\n",
    "_ = axes[0].set_title(\"Income <=50K\")\n",
    "_ = axes[0].tick_params(axis='x', rotation=90)\n",
    "\n",
    "#plot2 - gender x cardio (bar plot)\n",
    "_ = sns.barplot(x = 'education', y = 'income', data = more_income, ax = axes[1])\n",
    "_ = axes[1].set_title(\"Income >50K\")\n",
    "_ = axes[1].tick_params(axis='x', rotation=90)\n",
    "\n",
    "_ = plt.tight_layout()"
   ]
  },
  {
   "cell_type": "markdown",
   "id": "78277879",
   "metadata": {
    "papermill": {
     "duration": 0.057124,
     "end_time": "2021-11-29T01:33:02.460265",
     "exception": false,
     "start_time": "2021-11-29T01:33:02.403141",
     "status": "completed"
    },
    "tags": []
   },
   "source": [
    "### 4.3. Multivariate Analysis\n",
    "\n",
    "From the multivariate analysis, we look for features that are not correlated to others features and features that are somehow correlated to the target, in order to predict the result more accurately basing on those correlations. From the heatmap, we see that none of the features have a high correlation to each other and age, education.num, capital.gain and hours.per.week have decent correlation to the target variable income, indicating that they are good variables to the model."
   ]
  },
  {
   "cell_type": "code",
   "execution_count": null,
   "id": "9ffe6275",
   "metadata": {
    "ExecuteTime": {
     "end_time": "2021-11-11T19:35:39.619721Z",
     "start_time": "2021-11-11T19:35:38.671212Z"
    },
    "execution": {
     "iopub.execute_input": "2021-11-29T01:33:02.581118Z",
     "iopub.status.busy": "2021-11-29T01:33:02.580466Z",
     "iopub.status.idle": "2021-11-29T01:33:03.280965Z",
     "shell.execute_reply": "2021-11-29T01:33:03.281411Z"
    },
    "papermill": {
     "duration": 0.76382,
     "end_time": "2021-11-29T01:33:03.281600",
     "exception": false,
     "start_time": "2021-11-29T01:33:02.517780",
     "status": "completed"
    },
    "tags": []
   },
   "outputs": [],
   "source": [
    "#exclude non-numerical variables\n",
    "df_corr = train.copy()\n",
    "df_corr['income'] = df_corr['income'].map({'<=50K' : 0, '>50K' : 1})\n",
    "aux1 = df_corr.select_dtypes(exclude = ['object'])\n",
    "\n",
    "#plot correlation plot to our numerical variables\n",
    "fig, ax = plt.subplots(figsize = (20, 8))\n",
    "_ = sns.heatmap(aux1.corr(method = 'pearson'), annot = True, ax = ax)"
   ]
  },
  {
   "cell_type": "markdown",
   "id": "7adb0a62",
   "metadata": {
    "papermill": {
     "duration": 0.059295,
     "end_time": "2021-11-29T01:33:03.400727",
     "exception": false,
     "start_time": "2021-11-29T01:33:03.341432",
     "status": "completed"
    },
    "tags": []
   },
   "source": [
    "## 5. Feature Engineering\n",
    "\n",
    "We will create a variable called \"capital\", which is calculated by capital.gain - capital.loss:"
   ]
  },
  {
   "cell_type": "code",
   "execution_count": null,
   "id": "758f69c2",
   "metadata": {
    "ExecuteTime": {
     "end_time": "2021-11-11T19:35:39.667177Z",
     "start_time": "2021-11-11T19:35:39.627698Z"
    },
    "execution": {
     "iopub.execute_input": "2021-11-29T01:33:03.528026Z",
     "iopub.status.busy": "2021-11-29T01:33:03.526367Z",
     "iopub.status.idle": "2021-11-29T01:33:03.531495Z",
     "shell.execute_reply": "2021-11-29T01:33:03.530866Z"
    },
    "papermill": {
     "duration": 0.070623,
     "end_time": "2021-11-29T01:33:03.531656",
     "exception": false,
     "start_time": "2021-11-29T01:33:03.461033",
     "status": "completed"
    },
    "tags": []
   },
   "outputs": [],
   "source": [
    "train['capital'] = train['capital.gain'] - train['capital.loss']\n",
    "test['capital'] = test['capital.gain'] - test['capital.loss']"
   ]
  },
  {
   "cell_type": "code",
   "execution_count": null,
   "id": "eb7b9242",
   "metadata": {
    "ExecuteTime": {
     "end_time": "2021-11-11T19:35:39.698098Z",
     "start_time": "2021-11-11T19:35:39.669174Z"
    },
    "execution": {
     "iopub.execute_input": "2021-11-29T01:33:03.656598Z",
     "iopub.status.busy": "2021-11-29T01:33:03.655912Z",
     "iopub.status.idle": "2021-11-29T01:33:03.667863Z",
     "shell.execute_reply": "2021-11-29T01:33:03.668277Z"
    },
    "papermill": {
     "duration": 0.07683,
     "end_time": "2021-11-29T01:33:03.668449",
     "exception": false,
     "start_time": "2021-11-29T01:33:03.591619",
     "status": "completed"
    },
    "tags": []
   },
   "outputs": [],
   "source": [
    "train[['capital']].describe()"
   ]
  },
  {
   "cell_type": "markdown",
   "id": "87658674",
   "metadata": {
    "papermill": {
     "duration": 0.059687,
     "end_time": "2021-11-29T01:33:03.788158",
     "exception": false,
     "start_time": "2021-11-29T01:33:03.728471",
     "status": "completed"
    },
    "tags": []
   },
   "source": [
    "## 6. Feature Selection\n",
    "\n",
    "Since the majority of the public is from United States, we will drop native.country, that will not bring a lot of information. And since we created a new variable \"capital\", we will drop \"capital.gain\" and \"capital.loss\"."
   ]
  },
  {
   "cell_type": "code",
   "execution_count": null,
   "id": "4902fc27",
   "metadata": {
    "ExecuteTime": {
     "end_time": "2021-11-11T19:35:39.72802Z",
     "start_time": "2021-11-11T19:35:39.700092Z"
    },
    "execution": {
     "iopub.execute_input": "2021-11-29T01:33:03.921965Z",
     "iopub.status.busy": "2021-11-29T01:33:03.919142Z",
     "iopub.status.idle": "2021-11-29T01:33:03.925872Z",
     "shell.execute_reply": "2021-11-29T01:33:03.926466Z"
    },
    "papermill": {
     "duration": 0.074235,
     "end_time": "2021-11-29T01:33:03.926669",
     "exception": false,
     "start_time": "2021-11-29T01:33:03.852434",
     "status": "completed"
    },
    "tags": []
   },
   "outputs": [],
   "source": [
    "train = train.drop(columns = ['native.country', 'capital.gain', 'capital.loss'])\n",
    "test = test.drop(columns = ['native.country', 'capital.gain', 'capital.loss'])"
   ]
  },
  {
   "cell_type": "markdown",
   "id": "6b8a4d9c",
   "metadata": {
    "papermill": {
     "duration": 0.059839,
     "end_time": "2021-11-29T01:33:04.046930",
     "exception": false,
     "start_time": "2021-11-29T01:33:03.987091",
     "status": "completed"
    },
    "tags": []
   },
   "source": [
    "## 7. Data Preparation"
   ]
  },
  {
   "cell_type": "code",
   "execution_count": null,
   "id": "6e0d44b2",
   "metadata": {
    "ExecuteTime": {
     "end_time": "2021-11-11T19:35:39.759004Z",
     "start_time": "2021-11-11T19:35:39.730014Z"
    },
    "execution": {
     "iopub.execute_input": "2021-11-29T01:33:04.172109Z",
     "iopub.status.busy": "2021-11-29T01:33:04.171115Z",
     "iopub.status.idle": "2021-11-29T01:33:04.191608Z",
     "shell.execute_reply": "2021-11-29T01:33:04.191011Z"
    },
    "papermill": {
     "duration": 0.083386,
     "end_time": "2021-11-29T01:33:04.191747",
     "exception": false,
     "start_time": "2021-11-29T01:33:04.108361",
     "status": "completed"
    },
    "tags": []
   },
   "outputs": [],
   "source": [
    "X = train.drop(columns = ['income', 'Id'])\n",
    "y = train['income'].copy()\n",
    "\n",
    "#split data into training and test dataset\n",
    "X_train, X_val, y_train, y_val = train_test_split(X,y, test_size = 0.20, random_state = 42)\n",
    "\n",
    "databases = [X, X_train, X_val, test]"
   ]
  },
  {
   "cell_type": "markdown",
   "id": "a277aaf2",
   "metadata": {
    "papermill": {
     "duration": 0.0599,
     "end_time": "2021-11-29T01:33:04.312419",
     "exception": false,
     "start_time": "2021-11-29T01:33:04.252519",
     "status": "completed"
    },
    "tags": []
   },
   "source": [
    "### 7.1. Rescaling\n",
    "\n",
    "Due to the outliers, we will use RobustScaler to rescale the numeric data, since it is not sensitive to outliers."
   ]
  },
  {
   "cell_type": "code",
   "execution_count": null,
   "id": "e4458ccf",
   "metadata": {
    "ExecuteTime": {
     "end_time": "2021-11-11T19:35:39.837793Z",
     "start_time": "2021-11-11T19:35:39.761996Z"
    },
    "execution": {
     "iopub.execute_input": "2021-11-29T01:33:04.445770Z",
     "iopub.status.busy": "2021-11-29T01:33:04.443184Z",
     "iopub.status.idle": "2021-11-29T01:33:04.462626Z",
     "shell.execute_reply": "2021-11-29T01:33:04.461967Z"
    },
    "papermill": {
     "duration": 0.09001,
     "end_time": "2021-11-29T01:33:04.462771",
     "exception": false,
     "start_time": "2021-11-29T01:33:04.372761",
     "status": "completed"
    },
    "tags": []
   },
   "outputs": [],
   "source": [
    "rs = RobustScaler()\n",
    "columns = X_train.drop(columns = ['education.num']).select_dtypes(include = ['int64','float64']).columns\n",
    "print(columns)\n",
    "X_train[columns] = rs.fit_transform(X_train[columns].values)\n",
    "X[columns] = rs.transform(X[columns].values)\n",
    "X_val[columns] = rs.transform(X_val[columns].values)\n",
    "test[columns] = rs.transform(test[columns].values)"
   ]
  },
  {
   "cell_type": "code",
   "execution_count": null,
   "id": "8514f345",
   "metadata": {
    "ExecuteTime": {
     "end_time": "2021-11-11T19:35:39.869708Z",
     "start_time": "2021-11-11T19:35:39.839799Z"
    },
    "execution": {
     "iopub.execute_input": "2021-11-29T01:33:04.591507Z",
     "iopub.status.busy": "2021-11-29T01:33:04.590871Z",
     "iopub.status.idle": "2021-11-29T01:33:04.605665Z",
     "shell.execute_reply": "2021-11-29T01:33:04.606093Z"
    },
    "papermill": {
     "duration": 0.078775,
     "end_time": "2021-11-29T01:33:04.606268",
     "exception": false,
     "start_time": "2021-11-29T01:33:04.527493",
     "status": "completed"
    },
    "tags": []
   },
   "outputs": [],
   "source": [
    "X_train.head()"
   ]
  },
  {
   "cell_type": "markdown",
   "id": "42c79d85",
   "metadata": {
    "papermill": {
     "duration": 0.060604,
     "end_time": "2021-11-29T01:33:04.728585",
     "exception": false,
     "start_time": "2021-11-29T01:33:04.667981",
     "status": "completed"
    },
    "tags": []
   },
   "source": [
    "### 7.2. Encoding\n",
    "\n",
    "We will apply One-Hot Encoding to the following features:\n",
    "\n",
    "* **OneHotEncoder**: sex, workclass, education, marital.status, occupation, relationship, race\n",
    "\n",
    "education.num is already encoded."
   ]
  },
  {
   "cell_type": "code",
   "execution_count": null,
   "id": "0d4f9d36",
   "metadata": {
    "ExecuteTime": {
     "end_time": "2021-11-11T19:35:39.915589Z",
     "start_time": "2021-11-11T19:35:39.873698Z"
    },
    "execution": {
     "iopub.execute_input": "2021-11-29T01:33:04.856278Z",
     "iopub.status.busy": "2021-11-29T01:33:04.855629Z",
     "iopub.status.idle": "2021-11-29T01:33:04.879191Z",
     "shell.execute_reply": "2021-11-29T01:33:04.879787Z"
    },
    "papermill": {
     "duration": 0.089848,
     "end_time": "2021-11-29T01:33:04.880036",
     "exception": false,
     "start_time": "2021-11-29T01:33:04.790188",
     "status": "completed"
    },
    "tags": []
   },
   "outputs": [],
   "source": [
    "X_train.select_dtypes(include = 'object').apply(lambda x: x.unique().shape[0])"
   ]
  },
  {
   "cell_type": "code",
   "execution_count": null,
   "id": "789aff48",
   "metadata": {
    "ExecuteTime": {
     "end_time": "2021-11-11T19:35:40.024298Z",
     "start_time": "2021-11-11T19:35:39.917579Z"
    },
    "execution": {
     "iopub.execute_input": "2021-11-29T01:33:05.008230Z",
     "iopub.status.busy": "2021-11-29T01:33:05.007616Z",
     "iopub.status.idle": "2021-11-29T01:33:05.103363Z",
     "shell.execute_reply": "2021-11-29T01:33:05.102771Z"
    },
    "papermill": {
     "duration": 0.162077,
     "end_time": "2021-11-29T01:33:05.103499",
     "exception": false,
     "start_time": "2021-11-29T01:33:04.941422",
     "status": "completed"
    },
    "tags": []
   },
   "outputs": [],
   "source": [
    "onehot_columns = ['sex', 'workclass', 'education', 'marital.status', 'occupation', 'relationship', 'race']\n",
    "    \n",
    "# OneHotEncoder\n",
    "X = pd.get_dummies(X, prefix=onehot_columns, columns = onehot_columns, drop_first=True)\n",
    "X_train = pd.get_dummies(X_train, prefix=onehot_columns, columns = onehot_columns, drop_first=True)\n",
    "X_val = pd.get_dummies(X_val, prefix=onehot_columns, columns = onehot_columns, drop_first=True)\n",
    "test = pd.get_dummies(test, prefix=onehot_columns, columns = onehot_columns, drop_first=True)"
   ]
  },
  {
   "cell_type": "code",
   "execution_count": null,
   "id": "002d3969",
   "metadata": {
    "ExecuteTime": {
     "end_time": "2021-11-11T19:35:40.054214Z",
     "start_time": "2021-11-11T19:35:40.026289Z"
    },
    "execution": {
     "iopub.execute_input": "2021-11-29T01:33:05.235812Z",
     "iopub.status.busy": "2021-11-29T01:33:05.235181Z",
     "iopub.status.idle": "2021-11-29T01:33:05.253015Z",
     "shell.execute_reply": "2021-11-29T01:33:05.253598Z"
    },
    "papermill": {
     "duration": 0.088182,
     "end_time": "2021-11-29T01:33:05.253770",
     "exception": false,
     "start_time": "2021-11-29T01:33:05.165588",
     "status": "completed"
    },
    "tags": []
   },
   "outputs": [],
   "source": [
    "X_train.head()"
   ]
  },
  {
   "cell_type": "markdown",
   "id": "07248c8d",
   "metadata": {
    "papermill": {
     "duration": 0.062332,
     "end_time": "2021-11-29T01:33:05.378674",
     "exception": false,
     "start_time": "2021-11-29T01:33:05.316342",
     "status": "completed"
    },
    "tags": []
   },
   "source": [
    "## 8. Machine Learning Modelling and Hyperparameter Tunning\n",
    "\n",
    "In this section, different machine learning algorithms will be evaluated to classify the adult base. They will be:\n",
    "\n",
    "* KNN\n",
    "* Support Vector Classifier (SVC)\n",
    "* Random Forest Classifier\n",
    "* Extreme Gradient Boosting Classifier \n",
    "* Neural Network Classifier"
   ]
  },
  {
   "cell_type": "markdown",
   "id": "b1c65bab",
   "metadata": {
    "papermill": {
     "duration": 0.061977,
     "end_time": "2021-11-29T01:33:05.502995",
     "exception": false,
     "start_time": "2021-11-29T01:33:05.441018",
     "status": "completed"
    },
    "tags": []
   },
   "source": [
    "### 8.1. KNN\n",
    "\n",
    "From RandomizedSearchCV, we see that the best kNN estimator is the one with 14 neighbors, which has a cross-validation score of 0.861."
   ]
  },
  {
   "cell_type": "code",
   "execution_count": null,
   "id": "189c0277",
   "metadata": {
    "ExecuteTime": {
     "end_time": "2021-11-11T19:38:50.464739Z",
     "start_time": "2021-11-11T19:35:40.057205Z"
    },
    "execution": {
     "iopub.execute_input": "2021-11-29T01:33:05.632519Z",
     "iopub.status.busy": "2021-11-29T01:33:05.631926Z",
     "iopub.status.idle": "2021-11-29T01:38:04.760950Z",
     "shell.execute_reply": "2021-11-29T01:38:04.760307Z"
    },
    "papermill": {
     "duration": 299.195903,
     "end_time": "2021-11-29T01:38:04.761127",
     "exception": false,
     "start_time": "2021-11-29T01:33:05.565224",
     "status": "completed"
    },
    "tags": []
   },
   "outputs": [],
   "source": [
    "# model definition\n",
    "knn = KNeighborsClassifier()\n",
    "\n",
    "# RandomizedSearchCV\n",
    "parameters = {'n_neighbors' : np.arange(5, 31)}\n",
    "knn_grid_cv = RandomizedSearchCV(knn, parameters, verbose = True, scoring='accuracy', cv = 5, n_iter = 50, n_jobs = -1, random_state = 42)\n",
    "%timeit -n 1 -r 1 knn_grid_cv.fit(X_train, y_train)\n",
    "\n",
    "print(f'Best estimator: {knn_grid_cv.best_estimator_}')\n",
    "print(f'Best score: {knn_grid_cv.best_score_}')\n",
    "\n",
    "# predict\n",
    "y_predict_knn = knn_grid_cv.predict(X_val)"
   ]
  },
  {
   "cell_type": "markdown",
   "id": "ee2e15e3",
   "metadata": {
    "papermill": {
     "duration": 0.063484,
     "end_time": "2021-11-29T01:38:04.891498",
     "exception": false,
     "start_time": "2021-11-29T01:38:04.828014",
     "status": "completed"
    },
    "tags": []
   },
   "source": [
    "### 8.2. Support Vector Classifier (SVC)\n",
    "\n",
    "From RandomizedSearchCV, we see that the best SVC estimator is the one with the following parameters:\n",
    "\n",
    "* C = 8.985102040816326\n",
    "* gamma = 'auto'\n",
    "\n",
    "This set of parameters gives a cross-validation score of 0.869."
   ]
  },
  {
   "cell_type": "code",
   "execution_count": null,
   "id": "cdd78cff",
   "metadata": {
    "ExecuteTime": {
     "end_time": "2021-11-11T21:55:36.930124Z",
     "start_time": "2021-11-11T19:38:50.534555Z"
    },
    "execution": {
     "iopub.execute_input": "2021-11-29T01:38:05.027315Z",
     "iopub.status.busy": "2021-11-29T01:38:05.026519Z",
     "iopub.status.idle": "2021-11-29T04:32:50.968531Z",
     "shell.execute_reply": "2021-11-29T04:32:50.969224Z"
    },
    "papermill": {
     "duration": 10486.012972,
     "end_time": "2021-11-29T04:32:50.969779",
     "exception": false,
     "start_time": "2021-11-29T01:38:04.956807",
     "status": "completed"
    },
    "tags": []
   },
   "outputs": [],
   "source": [
    "# model definition\n",
    "svc = SVC(random_state=42, probability=True)\n",
    "\n",
    "# RandomizedSearchCV\n",
    "parameters = {'C': np.linspace(1e-2, 20),\n",
    "              'gamma': ['scale', 'auto']}\n",
    "svc_grid_cv = RandomizedSearchCV(svc, parameters, verbose = True, scoring='accuracy', cv = 5, n_iter = 30, n_jobs = -1, random_state = 42)\n",
    "%timeit -n 1 -r 1 svc_grid_cv.fit(X_train, y_train)\n",
    "\n",
    "print(f'Best estimator: {svc_grid_cv.best_estimator_}')\n",
    "print(f'Best score: {svc_grid_cv.best_score_}')\n",
    "\n",
    "# predict\n",
    "y_predict_svc = svc_grid_cv.predict(X_val)"
   ]
  },
  {
   "cell_type": "markdown",
   "id": "1c015e56",
   "metadata": {
    "papermill": {
     "duration": 0.067168,
     "end_time": "2021-11-29T04:32:51.105047",
     "exception": false,
     "start_time": "2021-11-29T04:32:51.037879",
     "status": "completed"
    },
    "tags": []
   },
   "source": [
    "### 8.3. Random Forest Classifier\n",
    "\n",
    "From RandomizedSearchCV, we see that the best Random Forest Classifier estimator is the one with the following parameters:\n",
    "\n",
    "* criterion = 'entropy'\n",
    "* max_depth = 20\n",
    "* n_estimators = 380\n",
    "\n",
    "This set of parameters gives a cross-validation score of 0.861."
   ]
  },
  {
   "cell_type": "code",
   "execution_count": null,
   "id": "a1be7010",
   "metadata": {
    "ExecuteTime": {
     "end_time": "2021-11-11T22:26:51.278754Z",
     "start_time": "2021-11-11T22:22:31.45269Z"
    },
    "execution": {
     "iopub.execute_input": "2021-11-29T04:32:51.248951Z",
     "iopub.status.busy": "2021-11-29T04:32:51.242677Z",
     "iopub.status.idle": "2021-11-29T04:39:54.688900Z",
     "shell.execute_reply": "2021-11-29T04:39:54.688364Z"
    },
    "papermill": {
     "duration": 423.516808,
     "end_time": "2021-11-29T04:39:54.689067",
     "exception": false,
     "start_time": "2021-11-29T04:32:51.172259",
     "status": "completed"
    },
    "tags": []
   },
   "outputs": [],
   "source": [
    "# model definition\n",
    "rfc = RandomForestClassifier(random_state=42)\n",
    "\n",
    "# RandomizedSearchCV\n",
    "parameters = {'n_estimators': np.arange(100, 500),\n",
    "               'criterion': ['gini', 'entropy'],\n",
    "               'max_depth': np.arange(1, 50),}\n",
    "rfc_grid_cv = RandomizedSearchCV(rfc, parameters, verbose = True, scoring='accuracy', cv = 5, n_iter = 30, n_jobs = -1, random_state = 42)\n",
    "%timeit -n 1 -r 1 rfc_grid_cv.fit(X_train, y_train)\n",
    "\n",
    "print(f'Best estimator: {rfc_grid_cv.best_estimator_}')\n",
    "print(f'Best score: {rfc_grid_cv.best_score_}')\n",
    "\n",
    "# predict\n",
    "y_predict_rfc = rfc_grid_cv.predict(X_val)"
   ]
  },
  {
   "cell_type": "markdown",
   "id": "4d75c86e",
   "metadata": {
    "papermill": {
     "duration": 0.066075,
     "end_time": "2021-11-29T04:39:54.822323",
     "exception": false,
     "start_time": "2021-11-29T04:39:54.756248",
     "status": "completed"
    },
    "tags": []
   },
   "source": [
    "### 8.4. Extreme Gradient Boosting Classifier\n",
    "\n",
    "From RandomizedSearchCV, we see that the best Extreme Gradient Boosting Classifier estimator is the one with the following parameters:\n",
    "\n",
    "* n_estimators = 179\n",
    "* learning_rate = 0.42914285714285716\n",
    "* max_depth = 2\n",
    "* reg_alpha = 0.013237491476160993\n",
    "* reg_lambda = 3.169978726120134e-05\n",
    "\n",
    "This set of parameters gives a cross-validation score of 0.871."
   ]
  },
  {
   "cell_type": "code",
   "execution_count": null,
   "id": "eff0fab8",
   "metadata": {
    "ExecuteTime": {
     "end_time": "2021-11-11T22:34:54.011251Z",
     "start_time": "2021-11-11T22:26:51.28212Z"
    },
    "execution": {
     "iopub.execute_input": "2021-11-29T04:39:54.970978Z",
     "iopub.status.busy": "2021-11-29T04:39:54.961394Z",
     "iopub.status.idle": "2021-11-29T08:00:26.147250Z",
     "shell.execute_reply": "2021-11-29T08:00:26.148413Z"
    },
    "papermill": {
     "duration": 12031.259283,
     "end_time": "2021-11-29T08:00:26.149597",
     "exception": false,
     "start_time": "2021-11-29T04:39:54.890314",
     "status": "completed"
    },
    "tags": []
   },
   "outputs": [],
   "source": [
    "# model definition\n",
    "xgb = XGBClassifier(random_state=42)\n",
    "\n",
    "# RandomizedSearchCV\n",
    "parameters = {'n_estimators': np.arange(10, 500),\n",
    "               'learning_rate': np.linspace(1e-3, 1),\n",
    "               'max_depth': np.arange(1, 20),\n",
    "               'reg_alpha': sp_loguniform(1e-14, 1e1),\n",
    "               'reg_lambda': sp_loguniform(1e-14, 1e1),}\n",
    "xgb_grid_cv = RandomizedSearchCV(xgb, parameters, verbose = True, cv = 5, n_iter = 30, n_jobs = -1, random_state = 42)\n",
    "%timeit -n 1 -r 1 xgb_grid_cv.fit(X_train, y_train)\n",
    "\n",
    "print(f'Best estimator: {xgb_grid_cv.best_estimator_}')\n",
    "print(f'Best score: {xgb_grid_cv.best_score_}')\n",
    "\n",
    "# predict\n",
    "y_predict_xgb = xgb_grid_cv.predict(X_val)"
   ]
  },
  {
   "cell_type": "markdown",
   "id": "93548162",
   "metadata": {
    "papermill": {
     "duration": 0.080698,
     "end_time": "2021-11-29T08:00:26.333137",
     "exception": false,
     "start_time": "2021-11-29T08:00:26.252439",
     "status": "completed"
    },
    "tags": []
   },
   "source": [
    "### 8.5. Neural Network Classifier\n",
    "\n",
    "From RandomizedSearchCV, we see that the best Neural Network Classifier estimator is the one with the following parameters:\n",
    "\n",
    "* hidden_layer_sizes = (32, 128)\n",
    "* alpha = 2.3488812958533118e-07\n",
    "* learning_rate = constant\n",
    "\n",
    "This set of parameters gives a cross-validation score of 0.854."
   ]
  },
  {
   "cell_type": "code",
   "execution_count": null,
   "id": "2a4dbf28",
   "metadata": {
    "ExecuteTime": {
     "end_time": "2021-11-11T22:11:15.464697Z",
     "start_time": "2021-11-11T22:08:57.264477Z"
    },
    "execution": {
     "iopub.execute_input": "2021-11-29T08:00:26.501813Z",
     "iopub.status.busy": "2021-11-29T08:00:26.495604Z",
     "iopub.status.idle": "2021-11-29T08:04:50.879612Z",
     "shell.execute_reply": "2021-11-29T08:04:50.880566Z"
    },
    "papermill": {
     "duration": 264.468426,
     "end_time": "2021-11-29T08:04:50.880910",
     "exception": false,
     "start_time": "2021-11-29T08:00:26.412484",
     "status": "completed"
    },
    "tags": []
   },
   "outputs": [],
   "source": [
    "# model definition\n",
    "mlp = MLPClassifier(random_state=42, early_stopping=True)\n",
    "\n",
    "# RandomizedSearchCV\n",
    "parameters = {'hidden_layer_sizes': [(2 ** i, 2 ** j) for j in np.arange(5, 8) for i in np.arange(4, 7)],\n",
    "               'alpha': sp_loguniform(1e-10, 1e-1),\n",
    "               'learning_rate': ['constant','adaptive']}\n",
    "mlp_grid_cv = RandomizedSearchCV(mlp, parameters, verbose = True, scoring='accuracy', cv = 5, n_iter = 30, n_jobs = -1, random_state = 42)\n",
    "%timeit -n 1 -r 1 mlp_grid_cv.fit(X_train, y_train)\n",
    "\n",
    "print(f'Best estimator: {mlp_grid_cv.best_estimator_}')\n",
    "print(f'Best score: {mlp_grid_cv.best_score_}')\n",
    "\n",
    "# predict\n",
    "y_predict_mlp = mlp_grid_cv.predict(X_val)"
   ]
  },
  {
   "cell_type": "markdown",
   "id": "d53cbe1f",
   "metadata": {
    "papermill": {
     "duration": 0.074593,
     "end_time": "2021-11-29T08:04:51.084801",
     "exception": false,
     "start_time": "2021-11-29T08:04:51.010208",
     "status": "completed"
    },
    "tags": []
   },
   "source": [
    "It can be seen that Extreme Gradient Boosting Classifier returned the best cross validation score between all the classifiers. Thus, it will be used as the final model to predict the test dataset."
   ]
  },
  {
   "cell_type": "markdown",
   "id": "ef45a50e",
   "metadata": {
    "papermill": {
     "duration": 0.073451,
     "end_time": "2021-11-29T08:04:51.231685",
     "exception": false,
     "start_time": "2021-11-29T08:04:51.158234",
     "status": "completed"
    },
    "tags": []
   },
   "source": [
    "## 9. Models Performance\n",
    "\n",
    "This section will evaluate each model trained with some specific metrics, such as precision, recall, f1-score and its respectives confusion matrix."
   ]
  },
  {
   "cell_type": "markdown",
   "id": "3896e2f3",
   "metadata": {
    "papermill": {
     "duration": 0.071843,
     "end_time": "2021-11-29T08:04:51.375399",
     "exception": false,
     "start_time": "2021-11-29T08:04:51.303556",
     "status": "completed"
    },
    "tags": []
   },
   "source": [
    "### 9.1. KNN\n"
   ]
  },
  {
   "cell_type": "code",
   "execution_count": null,
   "id": "f6397eec",
   "metadata": {
    "ExecuteTime": {
     "end_time": "2021-11-12T01:48:57.584503Z",
     "start_time": "2021-11-12T01:48:57.56956Z"
    },
    "execution": {
     "iopub.execute_input": "2021-11-29T08:04:51.527038Z",
     "iopub.status.busy": "2021-11-29T08:04:51.524852Z",
     "iopub.status.idle": "2021-11-29T08:04:51.533453Z",
     "shell.execute_reply": "2021-11-29T08:04:51.534056Z"
    },
    "papermill": {
     "duration": 0.0874,
     "end_time": "2021-11-29T08:04:51.534222",
     "exception": false,
     "start_time": "2021-11-29T08:04:51.446822",
     "status": "completed"
    },
    "tags": []
   },
   "outputs": [],
   "source": [
    "# accuracy_score\n",
    "dict_map = {'<=50K' : 0, '>50K' : 1}\n",
    "accuracy_knn = accuracy_score(pd.Series(y_val).map(dict_map), pd.Series(y_predict_knn).map(dict_map))\n",
    "\n",
    "print(f\"Accuracy Score for KNN: {accuracy_knn}\")"
   ]
  },
  {
   "cell_type": "code",
   "execution_count": null,
   "id": "8fb2ec6e",
   "metadata": {
    "ExecuteTime": {
     "end_time": "2021-11-11T22:34:54.230947Z",
     "start_time": "2021-11-11T22:34:54.015239Z"
    },
    "execution": {
     "iopub.execute_input": "2021-11-29T08:04:51.682394Z",
     "iopub.status.busy": "2021-11-29T08:04:51.681399Z",
     "iopub.status.idle": "2021-11-29T08:04:51.882353Z",
     "shell.execute_reply": "2021-11-29T08:04:51.881785Z"
    },
    "papermill": {
     "duration": 0.277298,
     "end_time": "2021-11-29T08:04:51.882497",
     "exception": false,
     "start_time": "2021-11-29T08:04:51.605199",
     "status": "completed"
    },
    "tags": []
   },
   "outputs": [],
   "source": [
    "#classification_report\n",
    "print(classification_report(y_val, y_predict_knn))"
   ]
  },
  {
   "cell_type": "code",
   "execution_count": null,
   "id": "c0b2392e",
   "metadata": {
    "ExecuteTime": {
     "end_time": "2021-11-12T01:46:07.582033Z",
     "start_time": "2021-11-12T01:46:07.561089Z"
    },
    "execution": {
     "iopub.execute_input": "2021-11-29T08:04:52.032154Z",
     "iopub.status.busy": "2021-11-29T08:04:52.031128Z",
     "iopub.status.idle": "2021-11-29T08:04:52.044037Z",
     "shell.execute_reply": "2021-11-29T08:04:52.044675Z"
    },
    "papermill": {
     "duration": 0.089286,
     "end_time": "2021-11-29T08:04:52.044855",
     "exception": false,
     "start_time": "2021-11-29T08:04:51.955569",
     "status": "completed"
    },
    "tags": []
   },
   "outputs": [],
   "source": [
    "dict_map = {'<=50K' : 0, '>50K' : 1}\n",
    "roc_auc_knn = roc_auc_score(pd.Series(y_val).map(dict_map), pd.Series(y_predict_knn).map(dict_map))\n",
    "\n",
    "print(f\"ROC-AUC Score for KNN: {roc_auc_knn}\")"
   ]
  },
  {
   "cell_type": "code",
   "execution_count": null,
   "id": "9ee1a7ed",
   "metadata": {
    "ExecuteTime": {
     "end_time": "2021-11-11T22:34:54.511232Z",
     "start_time": "2021-11-11T22:34:54.233943Z"
    },
    "execution": {
     "iopub.execute_input": "2021-11-29T08:04:52.405090Z",
     "iopub.status.busy": "2021-11-29T08:04:52.404117Z",
     "iopub.status.idle": "2021-11-29T08:04:52.815046Z",
     "shell.execute_reply": "2021-11-29T08:04:52.814047Z"
    },
    "papermill": {
     "duration": 0.698223,
     "end_time": "2021-11-29T08:04:52.815192",
     "exception": false,
     "start_time": "2021-11-29T08:04:52.116969",
     "status": "completed"
    },
    "tags": []
   },
   "outputs": [],
   "source": [
    "#confusion_matrix\n",
    "_ = mt.plot_confusion_matrix(y_val,y_predict_knn, normalize = False, figsize = (12,12))"
   ]
  },
  {
   "cell_type": "markdown",
   "id": "6983d885",
   "metadata": {
    "papermill": {
     "duration": 0.072919,
     "end_time": "2021-11-29T08:04:52.963734",
     "exception": false,
     "start_time": "2021-11-29T08:04:52.890815",
     "status": "completed"
    },
    "tags": []
   },
   "source": [
    "### 9.2. Support Vector Classifier (SVC)"
   ]
  },
  {
   "cell_type": "code",
   "execution_count": null,
   "id": "aba1bc35",
   "metadata": {
    "ExecuteTime": {
     "end_time": "2021-11-12T01:49:22.376639Z",
     "start_time": "2021-11-12T01:49:22.353703Z"
    },
    "execution": {
     "iopub.execute_input": "2021-11-29T08:04:53.116813Z",
     "iopub.status.busy": "2021-11-29T08:04:53.116148Z",
     "iopub.status.idle": "2021-11-29T08:04:53.124746Z",
     "shell.execute_reply": "2021-11-29T08:04:53.125167Z"
    },
    "papermill": {
     "duration": 0.087711,
     "end_time": "2021-11-29T08:04:53.125336",
     "exception": false,
     "start_time": "2021-11-29T08:04:53.037625",
     "status": "completed"
    },
    "tags": []
   },
   "outputs": [],
   "source": [
    "# accuracy_score\n",
    "dict_map = {'<=50K' : 0, '>50K' : 1}\n",
    "accuracy_svc = accuracy_score(pd.Series(y_val).map(dict_map), pd.Series(y_predict_svc).map(dict_map))\n",
    "\n",
    "print(f\"Accuracy Score for SVC: {accuracy_svc}\")"
   ]
  },
  {
   "cell_type": "code",
   "execution_count": null,
   "id": "c7ab738f",
   "metadata": {
    "ExecuteTime": {
     "end_time": "2021-11-11T22:34:54.683826Z",
     "start_time": "2021-11-11T22:34:54.513195Z"
    },
    "execution": {
     "iopub.execute_input": "2021-11-29T08:04:53.282306Z",
     "iopub.status.busy": "2021-11-29T08:04:53.276948Z",
     "iopub.status.idle": "2021-11-29T08:04:53.473374Z",
     "shell.execute_reply": "2021-11-29T08:04:53.472897Z"
    },
    "papermill": {
     "duration": 0.27488,
     "end_time": "2021-11-29T08:04:53.473521",
     "exception": false,
     "start_time": "2021-11-29T08:04:53.198641",
     "status": "completed"
    },
    "tags": []
   },
   "outputs": [],
   "source": [
    "#classification_report\n",
    "print(classification_report(y_val, y_predict_svc))"
   ]
  },
  {
   "cell_type": "code",
   "execution_count": null,
   "id": "7a7b5607",
   "metadata": {
    "ExecuteTime": {
     "end_time": "2021-11-12T01:46:04.066704Z",
     "start_time": "2021-11-12T01:46:04.051744Z"
    },
    "execution": {
     "iopub.execute_input": "2021-11-29T08:04:53.629886Z",
     "iopub.status.busy": "2021-11-29T08:04:53.624433Z",
     "iopub.status.idle": "2021-11-29T08:04:53.636353Z",
     "shell.execute_reply": "2021-11-29T08:04:53.635875Z"
    },
    "papermill": {
     "duration": 0.08954,
     "end_time": "2021-11-29T08:04:53.636503",
     "exception": false,
     "start_time": "2021-11-29T08:04:53.546963",
     "status": "completed"
    },
    "tags": []
   },
   "outputs": [],
   "source": [
    "dict_map = {'<=50K' : 0, '>50K' : 1}\n",
    "roc_auc_svc = roc_auc_score(pd.Series(y_val).map(dict_map), pd.Series(y_predict_svc).map(dict_map))\n",
    "\n",
    "print(f\"ROC-AUC Score for SVC: {roc_auc_svc}\")"
   ]
  },
  {
   "cell_type": "code",
   "execution_count": null,
   "id": "1a21dab0",
   "metadata": {
    "ExecuteTime": {
     "end_time": "2021-11-11T22:34:54.918234Z",
     "start_time": "2021-11-11T22:34:54.685851Z"
    },
    "execution": {
     "iopub.execute_input": "2021-11-29T08:04:53.822360Z",
     "iopub.status.busy": "2021-11-29T08:04:53.811830Z",
     "iopub.status.idle": "2021-11-29T08:04:54.120400Z",
     "shell.execute_reply": "2021-11-29T08:04:54.119874Z"
    },
    "papermill": {
     "duration": 0.409348,
     "end_time": "2021-11-29T08:04:54.120571",
     "exception": false,
     "start_time": "2021-11-29T08:04:53.711223",
     "status": "completed"
    },
    "tags": []
   },
   "outputs": [],
   "source": [
    "#confusion_matrix\n",
    "_ = mt.plot_confusion_matrix(y_val,y_predict_svc, normalize = False, figsize = (12,12))"
   ]
  },
  {
   "cell_type": "markdown",
   "id": "a5476f20",
   "metadata": {
    "papermill": {
     "duration": 0.074424,
     "end_time": "2021-11-29T08:04:54.269861",
     "exception": false,
     "start_time": "2021-11-29T08:04:54.195437",
     "status": "completed"
    },
    "tags": []
   },
   "source": [
    "### 9.3. Random Forest Classifier"
   ]
  },
  {
   "cell_type": "code",
   "execution_count": null,
   "id": "366bcb8d",
   "metadata": {
    "ExecuteTime": {
     "end_time": "2021-11-12T01:49:43.713719Z",
     "start_time": "2021-11-12T01:49:43.70174Z"
    },
    "execution": {
     "iopub.execute_input": "2021-11-29T08:04:54.425826Z",
     "iopub.status.busy": "2021-11-29T08:04:54.425167Z",
     "iopub.status.idle": "2021-11-29T08:04:54.432306Z",
     "shell.execute_reply": "2021-11-29T08:04:54.431705Z"
    },
    "papermill": {
     "duration": 0.087883,
     "end_time": "2021-11-29T08:04:54.432451",
     "exception": false,
     "start_time": "2021-11-29T08:04:54.344568",
     "status": "completed"
    },
    "tags": []
   },
   "outputs": [],
   "source": [
    "# accuracy_score\n",
    "dict_map = {'<=50K' : 0, '>50K' : 1}\n",
    "accuracy_rfc = accuracy_score(pd.Series(y_val).map(dict_map), pd.Series(y_predict_rfc).map(dict_map))\n",
    "\n",
    "print(f\"Accuracy Score for Random Forest Classifier: {accuracy_rfc}\")"
   ]
  },
  {
   "cell_type": "code",
   "execution_count": null,
   "id": "c86a7cc3",
   "metadata": {
    "ExecuteTime": {
     "end_time": "2021-11-11T22:34:55.089988Z",
     "start_time": "2021-11-11T22:34:54.920194Z"
    },
    "execution": {
     "iopub.execute_input": "2021-11-29T08:04:54.618291Z",
     "iopub.status.busy": "2021-11-29T08:04:54.607626Z",
     "iopub.status.idle": "2021-11-29T08:04:54.783331Z",
     "shell.execute_reply": "2021-11-29T08:04:54.782803Z"
    },
    "papermill": {
     "duration": 0.276027,
     "end_time": "2021-11-29T08:04:54.783469",
     "exception": false,
     "start_time": "2021-11-29T08:04:54.507442",
     "status": "completed"
    },
    "tags": []
   },
   "outputs": [],
   "source": [
    "#classification_report\n",
    "print(classification_report(y_val, y_predict_rfc))"
   ]
  },
  {
   "cell_type": "code",
   "execution_count": null,
   "id": "230f3c34",
   "metadata": {
    "ExecuteTime": {
     "end_time": "2021-11-12T01:45:46.961202Z",
     "start_time": "2021-11-12T01:45:46.939261Z"
    },
    "execution": {
     "iopub.execute_input": "2021-11-29T08:04:54.942722Z",
     "iopub.status.busy": "2021-11-29T08:04:54.942039Z",
     "iopub.status.idle": "2021-11-29T08:04:54.952574Z",
     "shell.execute_reply": "2021-11-29T08:04:54.953124Z"
    },
    "papermill": {
     "duration": 0.092884,
     "end_time": "2021-11-29T08:04:54.953297",
     "exception": false,
     "start_time": "2021-11-29T08:04:54.860413",
     "status": "completed"
    },
    "tags": []
   },
   "outputs": [],
   "source": [
    "dict_map = {'<=50K' : 0, '>50K' : 1}\n",
    "roc_auc_rfc = roc_auc_score(pd.Series(y_val).map(dict_map), pd.Series(y_predict_rfc).map(dict_map))\n",
    "\n",
    "print(f\"ROC-AUC Score for Random Forest Classifier: {roc_auc_rfc}\")"
   ]
  },
  {
   "cell_type": "code",
   "execution_count": null,
   "id": "a63ed032",
   "metadata": {
    "ExecuteTime": {
     "end_time": "2021-11-11T22:34:55.356503Z",
     "start_time": "2021-11-11T22:34:55.092019Z"
    },
    "execution": {
     "iopub.execute_input": "2021-11-29T08:04:55.109419Z",
     "iopub.status.busy": "2021-11-29T08:04:55.108740Z",
     "iopub.status.idle": "2021-11-29T08:04:55.456566Z",
     "shell.execute_reply": "2021-11-29T08:04:55.457100Z"
    },
    "papermill": {
     "duration": 0.428514,
     "end_time": "2021-11-29T08:04:55.457273",
     "exception": false,
     "start_time": "2021-11-29T08:04:55.028759",
     "status": "completed"
    },
    "tags": []
   },
   "outputs": [],
   "source": [
    "#confusion_matrix\n",
    "_ = mt.plot_confusion_matrix(y_val,y_predict_rfc, normalize = False, figsize = (12,12))"
   ]
  },
  {
   "cell_type": "markdown",
   "id": "abb21d21",
   "metadata": {
    "papermill": {
     "duration": 0.077709,
     "end_time": "2021-11-29T08:04:55.612355",
     "exception": false,
     "start_time": "2021-11-29T08:04:55.534646",
     "status": "completed"
    },
    "tags": []
   },
   "source": [
    "### 9.4. Extreme Gradient Boosting Classifier"
   ]
  },
  {
   "cell_type": "code",
   "execution_count": null,
   "id": "02a3338b",
   "metadata": {
    "ExecuteTime": {
     "end_time": "2021-11-12T01:50:04.01038Z",
     "start_time": "2021-11-12T01:50:03.989436Z"
    },
    "execution": {
     "iopub.execute_input": "2021-11-29T08:04:55.778289Z",
     "iopub.status.busy": "2021-11-29T08:04:55.772929Z",
     "iopub.status.idle": "2021-11-29T08:04:55.782355Z",
     "shell.execute_reply": "2021-11-29T08:04:55.783003Z"
    },
    "papermill": {
     "duration": 0.090875,
     "end_time": "2021-11-29T08:04:55.783180",
     "exception": false,
     "start_time": "2021-11-29T08:04:55.692305",
     "status": "completed"
    },
    "tags": []
   },
   "outputs": [],
   "source": [
    "# accuracy_score\n",
    "dict_map = {'<=50K' : 0, '>50K' : 1}\n",
    "accuracy_xgb = accuracy_score(pd.Series(y_val).map(dict_map), pd.Series(y_predict_xgb).map(dict_map))\n",
    "\n",
    "print(f\"Accuracy Score for Extreme Gradient Boosting Classifier: {accuracy_xgb}\")"
   ]
  },
  {
   "cell_type": "code",
   "execution_count": null,
   "id": "9c402f8b",
   "metadata": {
    "ExecuteTime": {
     "end_time": "2021-11-11T22:34:55.527137Z",
     "start_time": "2021-11-11T22:34:55.359423Z"
    },
    "execution": {
     "iopub.execute_input": "2021-11-29T08:04:55.949274Z",
     "iopub.status.busy": "2021-11-29T08:04:55.943185Z",
     "iopub.status.idle": "2021-11-29T08:04:56.142791Z",
     "shell.execute_reply": "2021-11-29T08:04:56.142064Z"
    },
    "papermill": {
     "duration": 0.282572,
     "end_time": "2021-11-29T08:04:56.142936",
     "exception": false,
     "start_time": "2021-11-29T08:04:55.860364",
     "status": "completed"
    },
    "tags": []
   },
   "outputs": [],
   "source": [
    "#classification_report\n",
    "print(classification_report(y_val, y_predict_xgb))"
   ]
  },
  {
   "cell_type": "code",
   "execution_count": null,
   "id": "7e26ca8f",
   "metadata": {
    "ExecuteTime": {
     "end_time": "2021-11-12T01:46:39.709215Z",
     "start_time": "2021-11-12T01:46:39.691263Z"
    },
    "execution": {
     "iopub.execute_input": "2021-11-29T08:04:56.305310Z",
     "iopub.status.busy": "2021-11-29T08:04:56.304372Z",
     "iopub.status.idle": "2021-11-29T08:04:56.315510Z",
     "shell.execute_reply": "2021-11-29T08:04:56.316027Z"
    },
    "papermill": {
     "duration": 0.095536,
     "end_time": "2021-11-29T08:04:56.316202",
     "exception": false,
     "start_time": "2021-11-29T08:04:56.220666",
     "status": "completed"
    },
    "tags": []
   },
   "outputs": [],
   "source": [
    "dict_map = {'<=50K' : 0, '>50K' : 1}\n",
    "roc_auc_xgb = roc_auc_score(pd.Series(y_val).map(dict_map), pd.Series(y_predict_xgb).map(dict_map))\n",
    "\n",
    "print(f\"ROC-AUC Score for Extreme Gradient Boosting Classifier: {roc_auc_xgb}\")"
   ]
  },
  {
   "cell_type": "code",
   "execution_count": null,
   "id": "bb3c8f88",
   "metadata": {
    "ExecuteTime": {
     "end_time": "2021-11-11T22:34:55.792433Z",
     "start_time": "2021-11-11T22:34:55.528169Z"
    },
    "execution": {
     "iopub.execute_input": "2021-11-29T08:04:56.490278Z",
     "iopub.status.busy": "2021-11-29T08:04:56.488568Z",
     "iopub.status.idle": "2021-11-29T08:04:56.814293Z",
     "shell.execute_reply": "2021-11-29T08:04:56.813626Z"
    },
    "papermill": {
     "duration": 0.421253,
     "end_time": "2021-11-29T08:04:56.814441",
     "exception": false,
     "start_time": "2021-11-29T08:04:56.393188",
     "status": "completed"
    },
    "tags": []
   },
   "outputs": [],
   "source": [
    "#confusion_matrix\n",
    "_ = mt.plot_confusion_matrix(y_val,y_predict_xgb, normalize = False, figsize = (12,12))"
   ]
  },
  {
   "cell_type": "markdown",
   "id": "2a38f6fd",
   "metadata": {
    "papermill": {
     "duration": 0.078062,
     "end_time": "2021-11-29T08:04:56.972445",
     "exception": false,
     "start_time": "2021-11-29T08:04:56.894383",
     "status": "completed"
    },
    "tags": []
   },
   "source": [
    "### 9.5. Neural Network Classifier"
   ]
  },
  {
   "cell_type": "code",
   "execution_count": null,
   "id": "8c9e7295",
   "metadata": {
    "ExecuteTime": {
     "end_time": "2021-11-12T01:50:21.056358Z",
     "start_time": "2021-11-12T01:50:21.045398Z"
    },
    "execution": {
     "iopub.execute_input": "2021-11-29T08:04:57.136588Z",
     "iopub.status.busy": "2021-11-29T08:04:57.135643Z",
     "iopub.status.idle": "2021-11-29T08:04:57.145598Z",
     "shell.execute_reply": "2021-11-29T08:04:57.146057Z"
    },
    "papermill": {
     "duration": 0.094408,
     "end_time": "2021-11-29T08:04:57.146218",
     "exception": false,
     "start_time": "2021-11-29T08:04:57.051810",
     "status": "completed"
    },
    "tags": []
   },
   "outputs": [],
   "source": [
    "# accuracy_score\n",
    "dict_map = {'<=50K' : 0, '>50K' : 1}\n",
    "accuracy_mlp = accuracy_score(pd.Series(y_val).map(dict_map), pd.Series(y_predict_mlp).map(dict_map))\n",
    "\n",
    "print(f\"Accuracy Score for Neural Network Classifier: {accuracy_mlp}\")"
   ]
  },
  {
   "cell_type": "code",
   "execution_count": null,
   "id": "91b3e0e2",
   "metadata": {
    "ExecuteTime": {
     "end_time": "2021-11-11T22:34:55.949219Z",
     "start_time": "2021-11-11T22:34:55.794457Z"
    },
    "execution": {
     "iopub.execute_input": "2021-11-29T08:04:57.312505Z",
     "iopub.status.busy": "2021-11-29T08:04:57.311876Z",
     "iopub.status.idle": "2021-11-29T08:04:57.474498Z",
     "shell.execute_reply": "2021-11-29T08:04:57.473995Z"
    },
    "papermill": {
     "duration": 0.249756,
     "end_time": "2021-11-29T08:04:57.474675",
     "exception": false,
     "start_time": "2021-11-29T08:04:57.224919",
     "status": "completed"
    },
    "scrolled": true,
    "tags": []
   },
   "outputs": [],
   "source": [
    "#classification_report\n",
    "print(classification_report(y_val, y_predict_mlp))"
   ]
  },
  {
   "cell_type": "code",
   "execution_count": null,
   "id": "92c4094d",
   "metadata": {
    "ExecuteTime": {
     "end_time": "2021-11-12T01:47:01.330986Z",
     "start_time": "2021-11-12T01:47:01.314032Z"
    },
    "execution": {
     "iopub.execute_input": "2021-11-29T08:04:57.642364Z",
     "iopub.status.busy": "2021-11-29T08:04:57.641706Z",
     "iopub.status.idle": "2021-11-29T08:04:57.648236Z",
     "shell.execute_reply": "2021-11-29T08:04:57.648832Z"
    },
    "papermill": {
     "duration": 0.095532,
     "end_time": "2021-11-29T08:04:57.649002",
     "exception": false,
     "start_time": "2021-11-29T08:04:57.553470",
     "status": "completed"
    },
    "tags": []
   },
   "outputs": [],
   "source": [
    "dict_map = {'<=50K' : 0, '>50K' : 1}\n",
    "roc_auc_mlp = roc_auc_score(pd.Series(y_val).map(dict_map), pd.Series(y_predict_mlp).map(dict_map))\n",
    "\n",
    "print(f\"ROC-AUC Score for Neural Network Classifier: {roc_auc_mlp}\")"
   ]
  },
  {
   "cell_type": "code",
   "execution_count": null,
   "id": "6dffa789",
   "metadata": {
    "ExecuteTime": {
     "end_time": "2021-11-11T22:34:56.214685Z",
     "start_time": "2021-11-11T22:34:55.951176Z"
    },
    "execution": {
     "iopub.execute_input": "2021-11-29T08:04:57.813079Z",
     "iopub.status.busy": "2021-11-29T08:04:57.812105Z",
     "iopub.status.idle": "2021-11-29T08:04:58.153617Z",
     "shell.execute_reply": "2021-11-29T08:04:58.152886Z"
    },
    "papermill": {
     "duration": 0.425259,
     "end_time": "2021-11-29T08:04:58.153754",
     "exception": false,
     "start_time": "2021-11-29T08:04:57.728495",
     "status": "completed"
    },
    "tags": []
   },
   "outputs": [],
   "source": [
    "#confusion_matrix\n",
    "_ = mt.plot_confusion_matrix(y_val,y_predict_mlp, normalize = False, figsize = (12,12))"
   ]
  },
  {
   "cell_type": "markdown",
   "id": "f4381e65",
   "metadata": {
    "papermill": {
     "duration": 0.080745,
     "end_time": "2021-11-29T08:04:58.315530",
     "exception": false,
     "start_time": "2021-11-29T08:04:58.234785",
     "status": "completed"
    },
    "tags": []
   },
   "source": [
    "### 9.6. Score Summarization\n",
    "\n",
    "To compare each classifier, a consolidated table is elaborated with the pertinent metrics for the validation dataset metrics."
   ]
  },
  {
   "cell_type": "code",
   "execution_count": null,
   "id": "3dfff9ef",
   "metadata": {
    "ExecuteTime": {
     "end_time": "2021-11-12T02:04:41.514277Z",
     "start_time": "2021-11-12T02:04:41.492336Z"
    },
    "execution": {
     "iopub.execute_input": "2021-11-29T08:04:58.488976Z",
     "iopub.status.busy": "2021-11-29T08:04:58.488312Z",
     "iopub.status.idle": "2021-11-29T08:04:58.498800Z",
     "shell.execute_reply": "2021-11-29T08:04:58.498264Z"
    },
    "papermill": {
     "duration": 0.10172,
     "end_time": "2021-11-29T08:04:58.498985",
     "exception": false,
     "start_time": "2021-11-29T08:04:58.397265",
     "status": "completed"
    },
    "tags": []
   },
   "outputs": [],
   "source": [
    "metrics = [\n",
    "            ['KNN', 0.86317, 0.82, 0.79, 0.80, 0.786],\n",
    "            ['SVC', 0.87134, 0.84, 0.78, 0.80, 0.779],\n",
    "            ['Random Forest Classifier', 0.86379, 0.83, 0.77, 0.80, 0.775],\n",
    "            ['Extreme Gradient Boosting Classifier', 0.8736, 0.84, 0.80, 0.81, 0.797],\n",
    "            ['Neural Network Classifier', 0.85549, 0.81, 0.77, 0.78, 0.765],\n",
    "          ]\n",
    "\n",
    "df_metrics = pd.DataFrame(metrics, columns = ['Classifier', 'Accuracy', 'Precision', 'Recall', 'F1-Score', 'ROC-AUC Score'])\n",
    "\n",
    "df_metrics"
   ]
  },
  {
   "cell_type": "markdown",
   "id": "1fe8efc1",
   "metadata": {
    "papermill": {
     "duration": 0.081502,
     "end_time": "2021-11-29T08:04:58.661878",
     "exception": false,
     "start_time": "2021-11-29T08:04:58.580376",
     "status": "completed"
    },
    "tags": []
   },
   "source": [
    "From the metrics in the validation dataset, it can be seen that the best model is the Extreme Gradient Boosting Classifier, which will then be used to predict values on the test dataset."
   ]
  },
  {
   "cell_type": "markdown",
   "id": "92ba4658",
   "metadata": {
    "papermill": {
     "duration": 0.0811,
     "end_time": "2021-11-29T08:04:58.826580",
     "exception": false,
     "start_time": "2021-11-29T08:04:58.745480",
     "status": "completed"
    },
    "tags": []
   },
   "source": [
    "## 10. Fitting the model using all the data, best model and best parameters"
   ]
  },
  {
   "cell_type": "code",
   "execution_count": null,
   "id": "0577af0e",
   "metadata": {
    "ExecuteTime": {
     "end_time": "2021-11-11T22:37:15.558662Z",
     "start_time": "2021-11-11T22:37:14.145446Z"
    },
    "execution": {
     "iopub.execute_input": "2021-11-29T08:04:58.996441Z",
     "iopub.status.busy": "2021-11-29T08:04:58.995793Z",
     "iopub.status.idle": "2021-11-29T08:05:02.497995Z",
     "shell.execute_reply": "2021-11-29T08:05:02.498520Z"
    },
    "papermill": {
     "duration": 3.588321,
     "end_time": "2021-11-29T08:05:02.498716",
     "exception": false,
     "start_time": "2021-11-29T08:04:58.910395",
     "status": "completed"
    },
    "tags": []
   },
   "outputs": [],
   "source": [
    "# model definition\n",
    "best_model = XGBClassifier(base_score=0.5, booster='gbtree', colsample_bylevel=1,\n",
    "              colsample_bynode=1, colsample_bytree=1, gamma=0, gpu_id=-1,\n",
    "              importance_type='gain', interaction_constraints='',\n",
    "              learning_rate=0.42914285714285716, max_delta_step=0, max_depth=2,\n",
    "              min_child_weight=1, monotone_constraints='()',\n",
    "              n_estimators=179, n_jobs=0, num_parallel_tree=1, random_state=42,\n",
    "              reg_alpha=0.013237491476160993, reg_lambda=3.169978726120134e-05,\n",
    "              scale_pos_weight=1, subsample=1, tree_method='exact',\n",
    "              validate_parameters=1, verbosity=None)\n",
    "\n",
    "# fitting model\n",
    "best_model.fit(X, y)"
   ]
  },
  {
   "cell_type": "markdown",
   "id": "265d727a",
   "metadata": {
    "papermill": {
     "duration": 0.090256,
     "end_time": "2021-11-29T08:05:02.677596",
     "exception": false,
     "start_time": "2021-11-29T08:05:02.587340",
     "status": "completed"
    },
    "tags": []
   },
   "source": [
    "## 11. Predicting"
   ]
  },
  {
   "cell_type": "code",
   "execution_count": null,
   "id": "c4e50ab0",
   "metadata": {
    "ExecuteTime": {
     "end_time": "2021-11-11T22:37:19.330852Z",
     "start_time": "2021-11-11T22:37:18.936366Z"
    },
    "execution": {
     "iopub.execute_input": "2021-11-29T08:05:02.858783Z",
     "iopub.status.busy": "2021-11-29T08:05:02.857761Z",
     "iopub.status.idle": "2021-11-29T08:05:02.909778Z",
     "shell.execute_reply": "2021-11-29T08:05:02.910245Z"
    },
    "papermill": {
     "duration": 0.143845,
     "end_time": "2021-11-29T08:05:02.910527",
     "exception": false,
     "start_time": "2021-11-29T08:05:02.766682",
     "status": "completed"
    },
    "tags": []
   },
   "outputs": [],
   "source": [
    "# predict\n",
    "test['income'] = best_model.predict(test.drop(columns = 'Id'))\n",
    "\n",
    "test.head()"
   ]
  },
  {
   "cell_type": "markdown",
   "id": "96d6be6d",
   "metadata": {
    "papermill": {
     "duration": 0.083747,
     "end_time": "2021-11-29T08:05:03.078149",
     "exception": false,
     "start_time": "2021-11-29T08:05:02.994402",
     "status": "completed"
    },
    "tags": []
   },
   "source": [
    "## 9. Exporting result"
   ]
  },
  {
   "cell_type": "code",
   "execution_count": null,
   "id": "3cc00264",
   "metadata": {
    "ExecuteTime": {
     "end_time": "2021-11-11T22:37:20.649898Z",
     "start_time": "2021-11-11T22:37:20.539025Z"
    },
    "execution": {
     "iopub.execute_input": "2021-11-29T08:05:03.255221Z",
     "iopub.status.busy": "2021-11-29T08:05:03.254272Z",
     "iopub.status.idle": "2021-11-29T08:05:03.286732Z",
     "shell.execute_reply": "2021-11-29T08:05:03.287391Z"
    },
    "papermill": {
     "duration": 0.124934,
     "end_time": "2021-11-29T08:05:03.287621",
     "exception": false,
     "start_time": "2021-11-29T08:05:03.162687",
     "status": "completed"
    },
    "tags": []
   },
   "outputs": [],
   "source": [
    "export_path = \"submission.csv\"\n",
    "test[['Id', 'income']].to_csv(export_path, index = False)"
   ]
  }
 ],
 "metadata": {
  "kernelspec": {
   "display_name": "Python 3 (ipykernel)",
   "language": "python",
   "name": "python3"
  },
  "language_info": {
   "codemirror_mode": {
    "name": "ipython",
    "version": 3
   },
   "file_extension": ".py",
   "mimetype": "text/x-python",
   "name": "python",
   "nbconvert_exporter": "python",
   "pygments_lexer": "ipython3",
   "version": "3.9.7"
  },
  "papermill": {
   "default_parameters": {},
   "duration": 23543.520854,
   "end_time": "2021-11-29T08:05:04.723967",
   "environment_variables": {},
   "exception": null,
   "input_path": "__notebook__.ipynb",
   "output_path": "__notebook__.ipynb",
   "parameters": {},
   "start_time": "2021-11-29T01:32:41.203113",
   "version": "2.3.3"
  }
 },
 "nbformat": 4,
 "nbformat_minor": 5
}
