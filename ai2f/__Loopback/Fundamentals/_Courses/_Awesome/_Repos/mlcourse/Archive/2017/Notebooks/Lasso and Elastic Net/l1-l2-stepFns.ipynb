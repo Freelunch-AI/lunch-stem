{
 "cells": [
  {
   "cell_type": "code",
   "execution_count": 17,
   "metadata": {
    "collapsed": false
   },
   "outputs": [],
   "source": [
    "import numpy as np\n",
    "from bqplot import pyplot as plt"
   ]
  },
  {
   "cell_type": "code",
   "execution_count": 18,
   "metadata": {
    "collapsed": true
   },
   "outputs": [],
   "source": [
    "def sigmoid_array(x, a=10):                                        \n",
    "    return 1 / (1 + np.exp(-a*x))"
   ]
  },
  {
   "cell_type": "code",
   "execution_count": 19,
   "metadata": {
    "collapsed": false
   },
   "outputs": [],
   "source": [
    "points = [0., 0.2, 0.7, 1.]#np.array(list(np.linspace(0, 1, 4)))# + list(np.linspace(0, 1, 4)[1:-1]))\n",
    "x = np.linspace(-1, 1, 100)\n",
    "y = sigmoid_array(x)\n",
    "x = np.array([0,1, 2]) / 2.\n",
    "y = np.array([0,1, 2]) / 2."
   ]
  },
  {
   "cell_type": "code",
   "execution_count": 20,
   "metadata": {
    "collapsed": true
   },
   "outputs": [],
   "source": [
    "dom_x = np.array([0, 1, 2]) / 2.\n",
    "dom_y = np.array([0, 1, 2]) / 2."
   ]
  },
  {
   "cell_type": "code",
   "execution_count": 21,
   "metadata": {
    "collapsed": false
   },
   "outputs": [],
   "source": [
    "def get_function(beta, x=dom_x, points=points):\n",
    "    tem=[]\n",
    "    for i in points:\n",
    "        tem.append((x > i))\n",
    "    return np.sum(beta[:, np.newaxis] * np.array(tem), axis=0)"
   ]
  },
  {
   "cell_type": "code",
   "execution_count": 22,
   "metadata": {
    "collapsed": true
   },
   "outputs": [],
   "source": [
    "def fit_function(coeffs, lam1= 0., lam2=0., y=y, x=x, points=points):\n",
    "    return np.sum((np.array(dom_y)-get_function(np.array(coeffs)))**2) + lam1 * np.sum(np.abs(coeffs)) + lam2 * np.sum(coeffs**2)"
   ]
  },
  {
   "cell_type": "code",
   "execution_count": 23,
   "metadata": {
    "collapsed": true
   },
   "outputs": [],
   "source": [
    "from scipy.optimize import fmin"
   ]
  },
  {
   "cell_type": "code",
   "execution_count": 24,
   "metadata": {
    "collapsed": true
   },
   "outputs": [],
   "source": [
    "from ipywidgets import FloatSlider, VBox, Label, HBox"
   ]
  },
  {
   "cell_type": "code",
   "execution_count": 25,
   "metadata": {
    "collapsed": true
   },
   "outputs": [],
   "source": [
    "initial_guesses = [ 0.] * len(points)"
   ]
  },
  {
   "cell_type": "code",
   "execution_count": 26,
   "metadata": {
    "collapsed": true
   },
   "outputs": [],
   "source": [
    "lam1_slid = FloatSlider(description='Lambda 1', min=0, max=3, value=0)\n",
    "lam2_slid = FloatSlider(description='Lambda 2', min=0, max=3, value=0)\n",
    "lab = Label(value='Error = 7.877')\n",
    "lab_l1 = Label(value='L1 Norm = ')\n",
    "lab_l2 = Label(value='L2 Norm = ')"
   ]
  },
  {
   "cell_type": "code",
   "execution_count": null,
   "metadata": {
    "collapsed": true
   },
   "outputs": [],
   "source": [
    "layout = VBox([lam1_slid, lam2_slid, VBox([lab, lab_l1, lab_l2])])"
   ]
  },
  {
   "cell_type": "code",
   "execution_count": null,
   "metadata": {
    "collapsed": false,
    "scrolled": true
   },
   "outputs": [],
   "source": [
    "fig = plt.figure(title='Sigmoid Fit')\n",
    "plt.scatter(x, y)\n",
    "fit_line = plt.plot(dom_x, get_function(fmin(fit_function, initial_guesses, args=(0, 0), disp=False)), colors=['Red'],\n",
    "                   interpolation='step-before')\n",
    "#plt.show()"
   ]
  },
  {
   "cell_type": "code",
   "execution_count": null,
   "metadata": {
    "collapsed": false
   },
   "outputs": [],
   "source": [
    "def slid_changed(new):\n",
    "    coeffs = fmin(fit_function, initial_guesses, args=(lam1_slid.value, lam2_slid.value), disp=False)\n",
    "    fit_line.y = get_function(coeffs)\n",
    "    lab.value = 'Error = ' + str(fit_function(coeffs))\n",
    "    lab_l1.value = 'L1 Norm = ' + str(np.sum(np.abs(coeffs)))\n",
    "    lab_l2.value = 'L2 Norm = ' + str(np.sum(coeffs**2))"
   ]
  },
  {
   "cell_type": "code",
   "execution_count": null,
   "metadata": {
    "collapsed": true
   },
   "outputs": [],
   "source": [
    "lam1_slid.observe(slid_changed, 'value')\n",
    "lam2_slid.observe(slid_changed, 'value')"
   ]
  },
  {
   "cell_type": "code",
   "execution_count": null,
   "metadata": {
    "collapsed": false
   },
   "outputs": [],
   "source": [
    "HBox([fig, layout])"
   ]
  },
  {
   "cell_type": "code",
   "execution_count": null,
   "metadata": {
    "collapsed": true
   },
   "outputs": [],
   "source": []
  }
 ],
 "metadata": {
  "input_collapsed": true,
  "kernelspec": {
   "display_name": "Python 2",
   "language": "python",
   "name": "python2"
  },
  "language_info": {
   "codemirror_mode": {
    "name": "ipython",
    "version": 2
   },
   "file_extension": ".py",
   "mimetype": "text/x-python",
   "name": "python",
   "nbconvert_exporter": "python",
   "pygments_lexer": "ipython2",
   "version": "2.7.13"
  },
  "widgets": {
   "state": {
    "1202fc0650eb4eefaeb8a7185aebb67a": {
     "views": [
      {
       "cell_index": 3
      }
     ]
    },
    "bac05e1f2a4840b4ab97c55b1e7557fb": {
     "views": [
      {
       "cell_index": 8
      }
     ]
    }
   },
   "version": "1.2.0"
  }
 },
 "nbformat": 4,
 "nbformat_minor": 0
}
