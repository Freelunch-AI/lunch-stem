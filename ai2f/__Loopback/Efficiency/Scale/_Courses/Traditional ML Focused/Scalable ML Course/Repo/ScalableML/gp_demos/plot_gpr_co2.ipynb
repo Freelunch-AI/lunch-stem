{
 "cells": [
  {
   "cell_type": "code",
   "execution_count": 1,
   "metadata": {},
   "outputs": [
    {
     "name": "stdout",
     "output_type": "stream",
     "text": [
      "The scikit-learn version is 0.20.0.\n"
     ]
    }
   ],
   "source": [
    "import sklearn\n",
    "print('The scikit-learn version is {}.'.format(sklearn.__version__))\n"
   ]
  },
  {
   "cell_type": "code",
   "execution_count": 2,
   "metadata": {},
   "outputs": [
    {
     "name": "stdout",
     "output_type": "stream",
     "text": [
      "\n",
      "========================================================\n",
      "Gaussian process regression (GPR) on Mauna Loa CO2 data.\n",
      "========================================================\n",
      "This example is based on Section 5.4.3 of \"Gaussian Processes for Machine\n",
      "Learning\" [RW2006]. It illustrates an example of complex kernel engineering and\n",
      "hyperparameter optimization using gradient ascent on the\n",
      "log-marginal-likelihood. The data consists of the monthly average atmospheric\n",
      "CO2 concentrations (in parts per million by volume (ppmv)) collected at the\n",
      "Mauna Loa Observatory in Hawaii, between 1958 and 2001. The objective is to\n",
      "model the CO2 concentration as a function of the time t.\n",
      "The kernel is composed of several terms that are responsible for explaining\n",
      "different properties of the signal:\n",
      "- a long term, smooth rising trend is to be explained by an RBF kernel. The\n",
      "  RBF kernel with a large length-scale enforces this component to be smooth;\n",
      "  it is not enforced that the trend is rising which leaves this choice to the\n",
      "  GP. The specific length-scale and the amplitude are free hyperparameters.\n",
      "- a seasonal component, which is to be explained by the periodic\n",
      "  ExpSineSquared kernel with a fixed periodicity of 1 year. The length-scale\n",
      "  of this periodic component, controlling its smoothness, is a free parameter.\n",
      "  In order to allow decaying away from exact periodicity, the product with an\n",
      "  RBF kernel is taken. The length-scale of this RBF component controls the\n",
      "  decay time and is a further free parameter.\n",
      "- smaller, medium term irregularities are to be explained by a\n",
      "  RationalQuadratic kernel component, whose length-scale and alpha parameter,\n",
      "  which determines the diffuseness of the length-scales, are to be determined.\n",
      "  According to [RW2006], these irregularities can better be explained by\n",
      "  a RationalQuadratic than an RBF kernel component, probably because it can\n",
      "  accommodate several length-scales.\n",
      "- a \"noise\" term, consisting of an RBF kernel contribution, which shall\n",
      "  explain the correlated noise components such as local weather phenomena,\n",
      "  and a WhiteKernel contribution for the white noise. The relative amplitudes\n",
      "  and the RBF's length scale are further free parameters.\n",
      "Maximizing the log-marginal-likelihood after subtracting the target's mean\n",
      "yields the following kernel with an LML of -83.214::\n",
      "   34.4**2 * RBF(length_scale=41.8)\n",
      "   + 3.27**2 * RBF(length_scale=180) * ExpSineSquared(length_scale=1.44,\n",
      "                                                      periodicity=1)\n",
      "   + 0.446**2 * RationalQuadratic(alpha=17.7, length_scale=0.957)\n",
      "   + 0.197**2 * RBF(length_scale=0.138) + WhiteKernel(noise_level=0.0336)\n",
      "Thus, most of the target signal (34.4ppm) is explained by a long-term rising\n",
      "trend (length-scale 41.8 years). The periodic component has an amplitude of\n",
      "3.27ppm, a decay time of 180 years and a length-scale of 1.44. The long decay\n",
      "time indicates that we have a locally very close to periodic seasonal\n",
      "component. The correlated noise has an amplitude of 0.197ppm with a length\n",
      "scale of 0.138 years and a white-noise contribution of 0.197ppm. Thus, the\n",
      "overall noise level is very small, indicating that the data can be very well\n",
      "explained by the model. The figure shows also that the model makes very\n",
      "confident predictions until around 2015.\n",
      "\n"
     ]
    }
   ],
   "source": [
    "\"\"\"\n",
    "========================================================\n",
    "Gaussian process regression (GPR) on Mauna Loa CO2 data.\n",
    "========================================================\n",
    "This example is based on Section 5.4.3 of \"Gaussian Processes for Machine\n",
    "Learning\" [RW2006]. It illustrates an example of complex kernel engineering and\n",
    "hyperparameter optimization using gradient ascent on the\n",
    "log-marginal-likelihood. The data consists of the monthly average atmospheric\n",
    "CO2 concentrations (in parts per million by volume (ppmv)) collected at the\n",
    "Mauna Loa Observatory in Hawaii, between 1958 and 2001. The objective is to\n",
    "model the CO2 concentration as a function of the time t.\n",
    "The kernel is composed of several terms that are responsible for explaining\n",
    "different properties of the signal:\n",
    "- a long term, smooth rising trend is to be explained by an RBF kernel. The\n",
    "  RBF kernel with a large length-scale enforces this component to be smooth;\n",
    "  it is not enforced that the trend is rising which leaves this choice to the\n",
    "  GP. The specific length-scale and the amplitude are free hyperparameters.\n",
    "- a seasonal component, which is to be explained by the periodic\n",
    "  ExpSineSquared kernel with a fixed periodicity of 1 year. The length-scale\n",
    "  of this periodic component, controlling its smoothness, is a free parameter.\n",
    "  In order to allow decaying away from exact periodicity, the product with an\n",
    "  RBF kernel is taken. The length-scale of this RBF component controls the\n",
    "  decay time and is a further free parameter.\n",
    "- smaller, medium term irregularities are to be explained by a\n",
    "  RationalQuadratic kernel component, whose length-scale and alpha parameter,\n",
    "  which determines the diffuseness of the length-scales, are to be determined.\n",
    "  According to [RW2006], these irregularities can better be explained by\n",
    "  a RationalQuadratic than an RBF kernel component, probably because it can\n",
    "  accommodate several length-scales.\n",
    "- a \"noise\" term, consisting of an RBF kernel contribution, which shall\n",
    "  explain the correlated noise components such as local weather phenomena,\n",
    "  and a WhiteKernel contribution for the white noise. The relative amplitudes\n",
    "  and the RBF's length scale are further free parameters.\n",
    "Maximizing the log-marginal-likelihood after subtracting the target's mean\n",
    "yields the following kernel with an LML of -83.214::\n",
    "   34.4**2 * RBF(length_scale=41.8)\n",
    "   + 3.27**2 * RBF(length_scale=180) * ExpSineSquared(length_scale=1.44,\n",
    "                                                      periodicity=1)\n",
    "   + 0.446**2 * RationalQuadratic(alpha=17.7, length_scale=0.957)\n",
    "   + 0.197**2 * RBF(length_scale=0.138) + WhiteKernel(noise_level=0.0336)\n",
    "Thus, most of the target signal (34.4ppm) is explained by a long-term rising\n",
    "trend (length-scale 41.8 years). The periodic component has an amplitude of\n",
    "3.27ppm, a decay time of 180 years and a length-scale of 1.44. The long decay\n",
    "time indicates that we have a locally very close to periodic seasonal\n",
    "component. The correlated noise has an amplitude of 0.197ppm with a length\n",
    "scale of 0.138 years and a white-noise contribution of 0.197ppm. Thus, the\n",
    "overall noise level is very small, indicating that the data can be very well\n",
    "explained by the model. The figure shows also that the model makes very\n",
    "confident predictions until around 2015.\n",
    "\"\"\"\n",
    "\n",
    "print(__doc__)\n",
    "\n",
    "# Authors: Jan Hendrik Metzen <jhm@informatik.uni-bremen.de>\n",
    "#\n",
    "# License: BSD 3 clause\n",
    "\n"
   ]
  },
  {
   "cell_type": "code",
   "execution_count": 3,
   "metadata": {},
   "outputs": [],
   "source": [
    "from __future__ import division, print_function\n",
    "\n",
    "import numpy as np\n",
    "\n",
    "from matplotlib import pyplot as plt\n",
    "from sklearn.datasets import fetch_openml\n",
    "from sklearn.gaussian_process import GaussianProcessRegressor\n",
    "from sklearn.gaussian_process.kernels \\\n",
    "    import RBF, WhiteKernel, RationalQuadratic, ExpSineSquared\n"
   ]
  },
  {
   "cell_type": "code",
   "execution_count": 4,
   "metadata": {},
   "outputs": [],
   "source": [
    "def load_mauna_loa_atmospheric_co2():\n",
    "    ml_data = fetch_openml(data_id=41187)\n",
    "    months = []\n",
    "    ppmv_sums = []\n",
    "    counts = []\n",
    "\n",
    "    y = ml_data.data[:, 0]\n",
    "    m = ml_data.data[:, 1]\n",
    "    month_float = y + (m - 1) / 12\n",
    "    ppmvs = ml_data.target\n",
    "\n",
    "    for month, ppmv in zip(month_float, ppmvs):\n",
    "        if not months or month != months[-1]:\n",
    "            months.append(month)\n",
    "            ppmv_sums.append(ppmv)\n",
    "            counts.append(1)\n",
    "        else:\n",
    "            # aggregate monthly sum to produce average\n",
    "            ppmv_sums[-1] += ppmv\n",
    "            counts[-1] += 1\n",
    "\n",
    "    months = np.asarray(months).reshape(-1, 1)\n",
    "    avg_ppmvs = np.asarray(ppmv_sums) / counts\n",
    "    return months, avg_ppmvs\n"
   ]
  },
  {
   "cell_type": "code",
   "execution_count": 5,
   "metadata": {},
   "outputs": [],
   "source": [
    "X, y = load_mauna_loa_atmospheric_co2()\n"
   ]
  },
  {
   "cell_type": "code",
   "execution_count": 6,
   "metadata": {},
   "outputs": [],
   "source": [
    "# Kernel with parameters given in GPML book\n",
    "k1 = 66.0**2 * RBF(length_scale=67.0)  # long term smooth rising trend\n",
    "k2 = 2.4**2 * RBF(length_scale=90.0) \\\n",
    "    * ExpSineSquared(length_scale=1.3, periodicity=1.0)  # seasonal component\n",
    "# medium term irregularity\n",
    "k3 = 0.66**2 \\\n",
    "    * RationalQuadratic(length_scale=1.2, alpha=0.78)\n",
    "k4 = 0.18**2 * RBF(length_scale=0.134) \\\n",
    "    + WhiteKernel(noise_level=0.19**2)  # noise terms\n",
    "kernel_gpml = k1 + k2 + k3 + k4\n",
    "\n"
   ]
  },
  {
   "cell_type": "code",
   "execution_count": 7,
   "metadata": {},
   "outputs": [
    {
     "name": "stdout",
     "output_type": "stream",
     "text": [
      "GPML kernel: 66**2 * RBF(length_scale=67) + 2.4**2 * RBF(length_scale=90) * ExpSineSquared(length_scale=1.3, periodicity=1) + 0.66**2 * RationalQuadratic(alpha=0.78, length_scale=1.2) + 0.18**2 * RBF(length_scale=0.134) + WhiteKernel(noise_level=0.0361)\n",
      "Log-marginal-likelihood: -117.023\n"
     ]
    }
   ],
   "source": [
    "gp = GaussianProcessRegressor(kernel=kernel_gpml, alpha=0,\n",
    "                              optimizer=None, normalize_y=True)\n",
    "gp.fit(X, y)\n",
    "\n",
    "print(\"GPML kernel: %s\" % gp.kernel_)\n",
    "print(\"Log-marginal-likelihood: %.3f\"\n",
    "      % gp.log_marginal_likelihood(gp.kernel_.theta))\n"
   ]
  },
  {
   "cell_type": "code",
   "execution_count": 8,
   "metadata": {},
   "outputs": [],
   "source": [
    "# Kernel with optimized parameters\n",
    "k1 = 50.0**2 * RBF(length_scale=50.0)  # long term smooth rising trend\n",
    "k2 = 2.0**2 * RBF(length_scale=100.0) \\\n",
    "    * ExpSineSquared(length_scale=1.0, periodicity=1.0,\n",
    "                     periodicity_bounds=\"fixed\")  # seasonal component\n",
    "# medium term irregularities\n",
    "k3 = 0.5**2 * RationalQuadratic(length_scale=1.0, alpha=1.0)\n",
    "k4 = 0.1**2 * RBF(length_scale=0.1) \\\n",
    "    + WhiteKernel(noise_level=0.1**2,\n",
    "                  noise_level_bounds=(1e-3, np.inf))  # noise terms\n",
    "kernel = k1 + k2 + k3 + k4"
   ]
  },
  {
   "cell_type": "code",
   "execution_count": 9,
   "metadata": {},
   "outputs": [
    {
     "name": "stdout",
     "output_type": "stream",
     "text": [
      "\n",
      "Learned kernel: 44.8**2 * RBF(length_scale=51.6) + 2.64**2 * RBF(length_scale=91.5) * ExpSineSquared(length_scale=1.48, periodicity=1) + 0.536**2 * RationalQuadratic(alpha=2.89, length_scale=0.968) + 0.188**2 * RBF(length_scale=0.122) + WhiteKernel(noise_level=0.0367)\n",
      "Log-marginal-likelihood: -115.050\n"
     ]
    }
   ],
   "source": [
    "gp = GaussianProcessRegressor(kernel=kernel, alpha=0,\n",
    "                              normalize_y=True)\n",
    "gp.fit(X, y)\n",
    "\n",
    "print(\"\\nLearned kernel: %s\" % gp.kernel_)\n",
    "print(\"Log-marginal-likelihood: %.3f\"\n",
    "      % gp.log_marginal_likelihood(gp.kernel_.theta))\n"
   ]
  },
  {
   "cell_type": "code",
   "execution_count": 10,
   "metadata": {},
   "outputs": [],
   "source": [
    "X_ = np.linspace(X.min(), X.max() + 30, 1000)[:, np.newaxis]\n",
    "y_pred, y_std = gp.predict(X_, return_std=True)\n"
   ]
  },
  {
   "cell_type": "code",
   "execution_count": 11,
   "metadata": {},
   "outputs": [
    {
     "data": {
      "image/png": "[encoded data removed]",
      "text/plain": [
       "<Figure size 432x288 with 1 Axes>"
      ]
     },
     "metadata": {},
     "output_type": "display_data"
    }
   ],
   "source": [
    "# Illustration\n",
    "plt.scatter(X, y, c='k')\n",
    "plt.plot(X_, y_pred)\n",
    "plt.fill_between(X_[:, 0], y_pred - y_std, y_pred + y_std,\n",
    "                 alpha=0.5, color='k')\n",
    "plt.xlim(X_.min(), X_.max())\n",
    "plt.xlabel(\"Year\")\n",
    "plt.ylabel(r\"CO$_2$ in ppm\")\n",
    "plt.title(r\"Atmospheric CO$_2$ concentration at Mauna Loa\")\n",
    "plt.tight_layout()\n",
    "plt.show()"
   ]
  },
  {
   "cell_type": "code",
   "execution_count": null,
   "metadata": {},
   "outputs": [],
   "source": []
  }
 ],
 "metadata": {
  "kernelspec": {
   "display_name": "Environment (conda_python3)",
   "language": "python",
   "name": "conda_python3"
  },
  "language_info": {
   "codemirror_mode": {
    "name": "ipython",
    "version": 3
   },
   "file_extension": ".py",
   "mimetype": "text/x-python",
   "name": "python",
   "nbconvert_exporter": "python",
   "pygments_lexer": "ipython3",
   "version": "3.6.5"
  }
 },
 "nbformat": 4,
 "nbformat_minor": 2
}
