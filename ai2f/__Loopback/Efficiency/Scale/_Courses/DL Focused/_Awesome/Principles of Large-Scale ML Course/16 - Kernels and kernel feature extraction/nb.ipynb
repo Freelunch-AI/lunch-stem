// 20220522155242
// https://www.cs.cornell.edu/courses/cs4787/2021sp/notebooks/Slides16.ipynb

{
  "cells": [
    {
      "cell_type": "markdown",
      "metadata": {
        "slideshow": {
          "slide_type": "slide"
        }
      },
      "source": [
        "# Lecture 16: Kernels and Feature Extraction\n",
        "\n",
        "## CS4787 â€” Principles of Large-Scale Machine Learning Systems\n",
        "\n",
        "$\\newcommand{\\N}{\\mathbb{N}}$\n",
        "$\\newcommand{\\Z}{\\mathbb{Z}}$\n",
        "$\\newcommand{\\R}{\\mathbb{R}}$\n",
        "$\\newcommand{\\C}{\\mathbb{C}}$\n",
        "$\\newcommand{\\norm}[1]{\\left\\| #1 \\right\\|}$\n",
        "$\\newcommand{\\Exv}[2][]{\\mathbf{E}_{#1}\\left[ #2 \\right]}$"
      ]
    },
    {
      "cell_type": "markdown",
      "metadata": {
        "slideshow": {
          "slide_type": "slide"
        }
      },
      "source": [
        "Today we'll talk about a **powerful method** for scaling and improving the expressiveness of linear models: kernel methods."
      ]
    },
    {
      "cell_type": "markdown",
      "metadata": {
        "slideshow": {
          "slide_type": "subslide"
        }
      },
      "source": [
        "### Kernel Methods: The Essential Idea\n",
        "\n",
        "Imagine we are training a (simple 2-class) linear model with $w \\in \\mathbb{R}^d$ and total loss\n",
        "\n",
        "$$f(w) = \\frac{1}{n} \\sum_{i=1}^n \\ell(x_i^T w; y_i).$$\n",
        "\n",
        "SGD for this task has an update step at time $t$ that samples $\\tilde i_t$ uniformly at random and sets\n",
        "\n",
        "$$w_{t+1} = w_t - \\alpha_t \\ell'(x_{\\tilde i_t}^T w_t; y_{\\tilde i_t}) x_{\\tilde i_t}.$$\n",
        "\n",
        "<span class=\"question\">What is the computational cost of running $T$ of these updates?</span>"
      ]
    },
    {
      "cell_type": "markdown",
      "metadata": {
        "slideshow": {
          "slide_type": "fragment"
        }
      },
      "source": [
        "Sometimes, $d$ is very large, with $d \\gg n$ $\\rightarrow$ very expensive to compute!\n",
        "\n",
        "**Goal: lower this cost.**"
      ]
    },
    {
      "cell_type": "markdown",
      "metadata": {
        "slideshow": {
          "slide_type": "-"
        }
      },
      "source": [
        "runtime: $O(Td)$"
      ]
    },
    {
      "cell_type": "markdown",
      "metadata": {
        "slideshow": {
          "slide_type": "subslide"
        }
      },
      "source": [
        "Let's look at the update of SGD again\n",
        "\n",
        "$$w_{t+1} = w_t - \\alpha_t \\ell'(x_{\\tilde i_t}^T w_t; y_{\\tilde i_t}) x_{\\tilde i_t}.$$\n",
        "\n",
        "One thing that we notice is that (if we initialize $w_0 = 0$), $w_t$ is always in the span of the $x_i$. That is, it can always be written as a linear combination of the $x_i$. That is, for some constants $u_{i,t} \\in \\mathbb{R}$, we can always write\n",
        "\n",
        "$$w_t = \\sum_{i=1}^n u_{i,t} x_i.$$\n",
        "\n",
        "With this setup, the SGD update looks like\n",
        "\n",
        "\\begin{align*}\n",
        "u_{\\tilde i_t, t+1} \n",
        "&= \n",
        "u_{\\tilde i_t, t} - \\alpha_t \\ell'(x_{\\tilde i_t}^T w_t; y_{\\tilde i_t}) \\\\\n",
        "&= \n",
        "u_{\\tilde i_t, t} - \\alpha_t \\ell'\\left(x_{\\tilde i_t}^T \\left( \\sum_{i=1}^n u_{i,t} x_i \\right); y_{\\tilde i_t} \\right) \\\\\n",
        "&= \n",
        "u_{\\tilde i_t, t} - \\alpha_t \\ell'\\left( \\sum_{i=1}^n u_{i,t} x_{\\tilde i_t}^T x_i; y_{\\tilde i_t} \\right)\n",
        "\\end{align*}\n",
        "\n",
        "with $u_{i,t+1} = u_{i,t}$ for $i \\ne \\tilde i_t$."
      ]
    },
    {
      "cell_type": "markdown",
      "metadata": {
        "slideshow": {
          "slide_type": "fragment"
        }
      },
      "source": [
        "<span class=\"question\">If we just run this naively, what is the computational cost of running $T$ of these updates?</span>"
      ]
    },
    {
      "cell_type": "markdown",
      "metadata": {
        "slideshow": {
          "slide_type": "-"
        }
      },
      "source": [
        "O(nTd)"
      ]
    },
    {
      "cell_type": "markdown",
      "metadata": {
        "slideshow": {
          "slide_type": "subslide"
        }
      },
      "source": [
        "So this update doesn't seem to be faster...but is there something clever we can do to speed it up?\n",
        "\n",
        "Let's look at the update again.\n",
        "\n",
        "$$u_{\\tilde i_t, t+1} \n",
        "=\n",
        "u_{\\tilde i_t, t} - \\alpha_t \\ell'\\left( \\sum_{i=1}^n u_{i,t} {\\color{red}{x_{\\tilde i_t}^T x_i}}; y_{\\tilde i_t} \\right)$$\n",
        "\n",
        "Most of the work is happening in this red dot product between two examples. **But these dot products are going to repeat many times!** In fact there are only $n^2$ of them. So, we can pre-compute them and cache them.\n",
        "\n",
        "Let $G$ be the matrix defined by $G_{i,j} = x_i^T x_j$. This is usually called the **Gram matrix**. Then we can write our update as\n",
        "\n",
        "$$u_{\\tilde i_t, t+1} \n",
        "=\n",
        "u_{\\tilde i_t, t} - \\alpha_t \\ell'\\left( \\sum_{i=1}^n G_{\\tilde i_t, i} u_{i,t}; y_{\\tilde i_t} \\right).$$"
      ]
    },
    {
      "cell_type": "markdown",
      "metadata": {
        "slideshow": {
          "slide_type": "fragment"
        }
      },
      "source": [
        "<span class=\"question\">If we just run this naively, what is the computational cost of pre-computing the Gram matrix and running $T$ of these updates?</span>"
      ]
    },
    {
      "cell_type": "markdown",
      "metadata": {
        "slideshow": {
          "slide_type": "-"
        }
      },
      "source": [
        "It is indeed $O(d n^2 + Tn)$\n",
        "\n",
        "$G_{i,j} = x_i^T x_j$\n",
        "\n",
        "What's the computational cost of computing **1** entry of the gram matrix? A: $O(d)$\n",
        "\n",
        "$G \\in \\R^{n \\times n}$: for all of $G$, $O(n^2 d)$\n"
      ]
    },
    {
      "cell_type": "markdown",
      "metadata": {
        "slideshow": {
          "slide_type": "fragment"
        }
      },
      "source": [
        "**Takeaway: If $T \\gg n^2$ and $d \\gg n$, this approach can be faster.**"
      ]
    },
    {
      "cell_type": "markdown",
      "metadata": {
        "slideshow": {
          "slide_type": "subslide"
        }
      },
      "source": [
        "When can we make this **even faster**?\n",
        "\n",
        "* A: When we have a way of computing $x_i^T x_j$ in time less than proportional to $d$.\n",
        "\n",
        "This commonly happens when we have some examples $x_i$ that aren't necessarily stored as vectors in $\\mathbb{R}^d$, but are stored in some format that we can map to vectors.\n",
        "\n",
        "* i.e. we have not done feature extraction yet, but just have our original data examples (text, images, etc.) not mapped into a vector space yet\n",
        "\n",
        "* Here, we want to run a linear model on vectors $\\phi(x_i)$, where $\\phi$ represents the _feature embedding_ from the \"raw\" example space into the feature vector space $\\mathbb{R}^d$\n",
        "\n",
        "* In some cases, we can compute $\\phi(x_i)^T \\phi(x_j)$ directly as some function $K(x_i, x_j)$. This function is called a kernel!\n",
        "\n",
        "* If it is faster for us to compute the kernel $K$ than to compute the feature mappings $\\phi$ and the dot products in $\\R^d$, then we can get a speedup by computing the kernel function!"
      ]
    },
    {
      "cell_type": "markdown",
      "metadata": {
        "slideshow": {
          "slide_type": "slide"
        }
      },
      "source": [
        "### Learning with kernels\n",
        "\n",
        "In this pre-feature-embedding setting, we effectively want to solve the learning problem\n",
        "\n",
        "$$f(w) = \\frac{1}{n} \\sum_{i=1}^n \\ell(w^T \\phi(x_i); y_i).$$\n",
        "\n",
        "We can do this with the Gram matrix by pre-computing $G$ such that $G_{i,j} = K(x_i, x_j)$ and using SGD update\n",
        "\n",
        "$$u_{\\tilde i_t, t+1} = u_{\\tilde i_t, t} - \\alpha_t \\ell'\\left( \\sum_{i=1}^n G_{\\tilde i_t, i} u_{i,t}; y_{\\tilde i_t} \\right).$$\n",
        "\n",
        "This approach is sometimes called the **kernel trick**."
      ]
    },
    {
      "cell_type": "markdown",
      "metadata": {
        "slideshow": {
          "slide_type": "slide"
        }
      },
      "source": [
        "### Designing learning tasks with kernels\n",
        "\n",
        "Usually, rather than reasoning about (and designing and computing) feature embeddings $\\phi$, we reason directly about kernel functions $K$.\n",
        "\n",
        "**Which functions $K$ are kernels?** A kernel (also sometimes called a positive definite kernel) over a set $\\mathcal{X}$ ($\\mathcal{X}$ here represents the set that the \"raw\" examples live in) is a symmetric function $K(x, y): \\mathcal{X} \\times \\mathcal{X} \\rightarrow \\R$.\n",
        "By symmetric, we mean that $K(x, y) = K(y, x)$ for all $x$ and $y$ in $\\mathcal{X}$.\n",
        "\n",
        "To be a kernel, $K$ must satisfy the condition that for any $x_1, x_2, \\ldots, x_n \\in \\mathcal{X}$, and for any scalars $c_1, c_2, \\ldots, c_n \\in \\R$\n",
        "$$\\sum_{i=1}^n \\sum_{j=1}^n c_i c_j K(x_i, x_j) \\ge 0.$$\n",
        "This is equivalent to saying that if we define the matrix $\\mathbf{K} \\in \\R^{n \\times n}$ by\n",
        "$\\mathbf{K}_{i,j} = K(x_i, x_j)$,\n",
        "then $K$ will be positive semidefinite matrix. (Occasionally you will see authors distinguish between positve definite kernels and positive semidefinite kernels, which correspond to positive definite and positive semidefinite matrices respectively in this condition. But for this class and for most practical machine learning we won't depend on this distinction.)\n",
        "\n",
        "* i.e. for any vector $c \\in \\R^n$, $c^T \\mathbf{K} c \\ge 0$.\n",
        "\n",
        "* This is also equivalent to saying that any eigenvalue of $\\mathbf{K}$ must be nonnegative."
      ]
    },
    {
      "cell_type": "markdown",
      "metadata": {
        "slideshow": {
          "slide_type": "slide"
        }
      },
      "source": [
        "### What do kernels represent?\n",
        "\n",
        "Usually $K(x,y)$ represents how similar $x$ and $y$ are, where more similar objects will have larger values of $K(x,y)$ and less similar objects will have smaller values.\n",
        "One very popular kernel is the **radial basis function** kernel or RBF kernel, sometimes also called the Gaussian kernel.\n",
        "The RBF kernel is over a Euclidean space $\\mathcal{X} = \\R^d$ and takes the form\n",
        "\n",
        "$$K(x, y) = \\exp\\left( -\\gamma \\norm{ x - y }^2 \\right).$$\n",
        "\n",
        "It's easy to see that $0 < K(x, y) \\le 1$ and $K(x, y) = 1$ if and only if $x = y$.\n",
        "These two properties informally mean that this kernel is expressing a similarity between $x$ and $y$ that ranges between $0$ and $1$, where $1$ is the most similar (i.e. literally identical objects $x = y$)."
      ]
    },
    {
      "cell_type": "markdown",
      "metadata": {
        "slideshow": {
          "slide_type": "fragment"
        }
      },
      "source": [
        "<span class=\"question\">Question: What other kernels have you seen or used in your work? Do these kernels have the property that $0 < K(x, y) \\le 1$ with $K(x,y) = 1$ if and only if $x = y$?</span>"
      ]
    },
    {
      "cell_type": "markdown",
      "metadata": {
        "slideshow": {
          "slide_type": "-"
        }
      },
      "source": [
        "**Grand list of Kernels**\n",
        "\n",
        "* RBF\n",
        "\n",
        "* Polynomial kernels: $(\\gamma \\cdot x^T y + r)^d$\n",
        "\n",
        "* Sigmoid: $\\tanh(\\gamma \\cdot x^T y + r)$\n",
        "\n",
        "* Linear kernel: $x^T y$\n",
        "\n",
        "* Kronecker delta: $$K(x,y) = \\begin{cases} 1 & \\text{if } x = y \\\\ 0 & \\text{otherwise} \\end{cases}$$"
      ]
    },
    {
      "cell_type": "markdown",
      "metadata": {
        
      },
      "source": [
        "### A kernel determines a feature map.\n",
        "\n",
        "Important property of kernels: for every kernel over a set $\\mathcal{X}$, there exists a real Hilbert space (A Hilbert space is just a potentially infinite-dimensional generalization of Euclidean space that supports a dot product/inner product operation with the same properties as the Euclidean dot product.) $\\mathcal{H}$ and a feature map $\\phi: \\mathcal{X} \\rightarrow \\mathcal{H}$ such that for any $x, y \\in \\mathcal{X}$,\n",
        "\n",
        "$$K(x, y) = \\phi(x)^T \\phi(y) = \\langle \\phi(x), \\phi(y) \\rangle.$$\n",
        "\n",
        "That is, every kernel is just a dot product in a (possibly infinite-dimensional) transformed space. \n",
        "This fact also holds in reverse: **every feature map determines a kernel**."
      ]
    },
    {
      "cell_type": "markdown",
      "metadata": {
        "slideshow": {
          "slide_type": "slide"
        }
      },
      "source": [
        "### Constructing kernels.\n",
        "\n",
        "An important and very useful property of kernels is that we can construct kernels by combining other kernels.\n",
        "Given any kernels $K_1$ and $K_2$ over a set $\\mathcal{X}$ with corresponding features maps $\\phi_1$ and $\\phi_2$ mapping onto sets of dimension $D_1$ and $D_2$ respectively, any positive semi-definite matrix $A$, any scalar $c \\ge 0$, and any function $f: \\mathcal{X} \\rightarrow \\R$, the following are kernels.\n",
        "\n",
        "| Our Newly Constructed Kernel Function | Corresponding Feature Map | Dimension of $\\phi$ |\n",
        "|--------|---------------------------|---------------------|\n",
        "| $K(x, y) = x^T A y$ | $\\phi(x) = \\sqrt{A} \\cdot x$ | $d$ (if $\\mathcal{X} = \\R^d$) |\n",
        "| $K(x, y) = c \\cdot K_1(x, y)$ | $\\phi(x) = \\sqrt{c} \\cdot \\phi_1(x)$ | $D_1$ |\n",
        "| $K(x, y) = K_1(x,y) + K_2(x,y)$ | $\\phi(x) = \\begin{bmatrix}\\phi_1(x) \\\\ \\phi_2(x)\\end{bmatrix}$ | $D_1 + D_2$ \n",
        "| $K(x, y) = K_1(x,y) \\cdot K_2(x,y)$ | $\\phi(x) = \\phi_1(x) \\otimes \\phi_2(x)$ | $D_1 \\cdot D_2$ |\n",
        "| $K(x, y) = f(x) \\cdot K_1(x,y) \\cdot f(y)$ | $\\phi(x) = \\phi_1(x) \\cdot f(x)$ | $D_1$ |\n",
        "| $K(x, y) = \\exp( K_1(x,y) )$ | (omitted for space) | $\\infty$ ||\n",
        "\n",
        "These rules let us easily construct a wide range of highly interpretive kernels.\n",
        "But, as a trade-off, the dimension of the feature map $\\phi$ <span class=\"problem\">quickly becomes very large</span> as we apply the rules.\n",
        "It can even become infinite!\n",
        "This can make computing directly with the mapped features costly or even impossible."
      ]
    },
    {
      "cell_type": "markdown",
      "metadata": {
        "slideshow": {
          "slide_type": "fragment"
        }
      },
      "source": [
        "* This makes using the kernel trick particularly important when we construct kernels in this way!"
      ]
    },
    {
      "cell_type": "markdown",
      "metadata": {
        "slideshow": {
          "slide_type": "slide"
        }
      },
      "source": [
        "### Tradeoffs when Learning with Kernels\n",
        "\n",
        "If we want to learn with a kernel where $K(x_i, x_j) = \\langle \\phi(x_i), \\phi(x_j) \\rangle$, then we have two broad options: to run the original SGD update step\n",
        "\n",
        "$$w_{t+1} = w_t - \\alpha_t \\ell'(w^T \\phi(x_{\\tilde i_t}); y_{\\tilde i_t}) \\cdot \\phi(x_{\\tilde i_t}),$$\n",
        "\n",
        "or the other option in terms of $u$\n",
        "\n",
        "$$u_{\\tilde i_t, t+1} - \\alpha_t \\ell'\\left( \\sum_{i=1}^n K(x_{\\tilde i_t}, x_i) \\cdot u_{i,t}; y_{\\tilde i_t} \\right).$$\n",
        "\n",
        "For each option, we can choose whether or not to cache some of the computations. This gives us four simple options:\n",
        "\n",
        "1. Transform the features on the fly and compute SGD on $w$, computing $\\phi(x_i)$ whenever it is necessary.\n",
        "\n",
        "2. Pre-compute and cache the transformed features, forming vectors $z_i = \\phi(x_i)$, and compute SGD on $w$.\n",
        "\n",
        "3. Run SGD on $u$ and compute the kernel values $K(x_j, x_i)$ on the fly as they are needed.\n",
        "\n",
        "4. Pre-compute the kernel values for each pair of examples, forming the **Gram matrix** $G$ where $G_{i,j} = K(x_i, x_j)$, store it in memory, and then use this to run SGD on $u$\n",
        "\t\n",
        "All of these methods will result in the same trained model at the end (assuming no numerical imprecision)."
      ]
    },
    {
      "cell_type": "markdown",
      "metadata": {
        "slideshow": {
          "slide_type": "fragment"
        }
      },
      "source": [
        "<span class=\"question\">What is the computational cost and memory use of each of these methods?</question>\n",
        "\n",
        "Suppose that the original examples are $x_i \\in \\R^d$, the transformed features are $\\phi(x_i) \\in \\R^D$, there are $n$ total training examples, and we run $T$ iterations of SGD.\n",
        "Also suppose that the cost of computing a single feature map $\\phi(x_i)$ is $\\Theta(d \\cdot D)$ and the cost of computing the kernel function $K(x_i, y_i)$ is $\\Theta(d)$.\n",
        "What are the computational cost and memory required for these four methods, up to a big-$\\Theta$ analysis?\n",
        "Remember to include the cost of precomputation!"
      ]
    },
    {
      "cell_type": "markdown",
      "metadata": {
        "slideshow": {
          "slide_type": "-"
        }
      },
      "source": [
        "| Approach to learning with kernels | Computational cost | Memory use |\n",
        "|-----------------------------------|--------------------|------------|\n",
        "| 1. Transform the features on the fly and compute SGD on $w$ | $O(d D T)$ | $O(D)$ + training set |\n",
        "| 2. Pre-compute and cache the transformed features, and compute SGD on $w$ | $O(n d D + TD)$ | $O(nD)$ + training set |\n",
        "| 3. Run SGD on $u$ and compute the kernel values $K(x_j, x_i)$ on the fly | $O(ndT)$ | $O(n)$ + training set |\n",
        "| 4. Pre-compute the Gram matrix, then run SGD on $u$ | $O(n^2 d + nT)$  | $O(n^2)$ + training set |\n",
        "\n",
        "| Approach to learning with kernels | Computational cost | Memory use |\n",
        "|-----------------------------------|--------------------|------------|\n",
        "| 1. Transform the features on the fly and compute SGD on $w$ | O(dDT) |  O(D) + training set |\n",
        "| 2. Pre-compute and cache the transformed features, and compute SGD on $w$ | O(ndD + DT) | O(nD) + training set |\n",
        "| 3. Run SGD on $u$ and compute the kernel values $K(x_j, x_i)$ on the fly | O(ndT) |  O(n) + training set |\n",
        "| 4. Pre-compute the Gram matrix, then run SGD on $u$ | O(n^2 d + nT) | O(n^2) + training set |"
      ]
    },
    {
      "cell_type": "markdown",
      "metadata": {
        "slideshow": {
          "slide_type": "slide"
        }
      },
      "source": [
        "### A simple demo comparing two of these options"
      ]
    },
    {
      "cell_type": "code",
      "execution_count": 1,
      "metadata": {
        "slideshow": {
          "slide_type": "-"
        }
      },
      "outputs": [
        {
          "name": "stderr",
          "output_type": "stream",
          "text": [
            "â”Œ Warning: PyPlot is using tkagg backend, which is known to cause crashes on MacOS (#410); use the MPLBACKEND environment variable to request a different backend.\n",
            "â”” @ PyPlot /Users/cdesa/.julia/packages/PyPlot/4wzW1/src/init.jl:192\n"
          ]
        }
      ],
      "source": [
        "using PyPlot\n",
        "using Statistics\n",
        "using LinearAlgebra\n",
        "using Random"
      ]
    },
    {
      "cell_type": "code",
      "execution_count": 2,
      "metadata": {
        "slideshow": {
          "slide_type": "-"
        }
      },
      "outputs": [
        
      ],
      "source": [
        "function gen_y(x::Array{Float64,1})\n",
        "    if (norm(x - [0.25, 0.75]) < 0.15) \n",
        "        return -1.0\n",
        "    elseif (norm(x - [0.75, 0.75]) < 0.15)\n",
        "        return -1.0\n",
        "    elseif (x[2] < 0.4) && (norm(x - [0.5,0.6]) < 0.5) && (norm(x - [0.5,0.55]) > 0.3)\n",
        "        return -1.0;\n",
        "    else\n",
        "        return 1.0;\n",
        "    end\n",
        "end\n",
        "\n",
        "Random.seed!(123456);\n",
        "n = 1024;\n",
        "xs = rand(2,n);\n",
        "ys = [gen_y(xs[:,i]) for i = 1:n];\n",
        "\n",
        "xs_test = rand(2,n);\n",
        "ys_test = [gen_y(xs_test[:,i]) for i = 1:n];"
      ]
    },
    {
      "cell_type": "code",
      "execution_count": 3,
      "metadata": {
        "slideshow": {
          "slide_type": "-"
        }
      },
      "outputs": [
        {
          "data": {
            "image/png": "[encoded data removed]",
            "text/plain": [
              "Figure(PyObject <Figure size 640x480 with 1 Axes>)"
            ]
          },
          "metadata": {
            
          },
          "output_type": "display_data"
        }
      ],
      "source": [
        "scatter(xs[1,:], xs[2,:], 4.0, c=ys, cmap=\"brg\");\n",
        "axis(\"square\");\n",
        "xlabel(\"\\$x_1\\$\"); ylabel(\"\\$x_2\\$\"); title(\"Training Dataset\");"
      ]
    },
    {
      "cell_type": "code",
      "execution_count": 4,
      "metadata": {
        "slideshow": {
          "slide_type": "-"
        }
      },
      "outputs": [
        {
          "data": {
            "text/plain": [
              "logistic_regression_kernelfxn (generic function with 1 method)"
            ]
          },
          "execution_count": 4,
          "metadata": {
            
          },
          "output_type": "execute_result"
        }
      ],
      "source": [
        "num_iters = 20 * n;\n",
        "alpha = 0.1;\n",
        "gamma = 100.0; # picked arbitrarily\n",
        "\n",
        "# derivative of logistic loss\n",
        "function ell_prime(wx::Float64, y::Float64)\n",
        "    return -y ./ (1 .+ exp(wx*y));\n",
        "end\n",
        "\n",
        "function kernel_function(gamma::Float64, x::Array{Float64,1}, y::Array{Float64,1})\n",
        "    acc = 0.0\n",
        "    for i = 1:length(x)\n",
        "        acc += (x[i] - y[i])^2\n",
        "    end\n",
        "    return exp(-gamma * acc);\n",
        "end\n",
        "\n",
        "function logistic_regression_gram_matrix(gamma::Float64, alpha::Float64, xs::Array{Float64,2}, ys::Array{Float64,1}, num_iters::Int64)\n",
        "    n = size(xs, 2)\n",
        "    gram_matrix = [kernel_function(gamma, xs[:,i], xs[:,j]) for i = 1:n, j = 1:n]\n",
        "    \n",
        "    u = zeros(n);\n",
        "    \n",
        "    for t = 1:num_iters\n",
        "        i = rand(1:n);\n",
        "        u[i] -= alpha * ell_prime(dot(gram_matrix[:,i], u), ys[i])\n",
        "    end\n",
        "    \n",
        "    return u;\n",
        "end\n",
        "\n",
        "function logistic_regression_kernelfxn(gamma::Float64, alpha::Float64, xs::Array{Float64,2}, ys::Array{Float64,1}, num_iters::Int64)\n",
        "    n = size(xs, 2)\n",
        "    u = zeros(n);\n",
        "    \n",
        "    for t = 1:num_iters\n",
        "        i = rand(1:n);\n",
        "        u[i] -= alpha * ell_prime(sum(u[j] * exp(-gamma*sum((xs[k,i] - xs[k,j])^2 for k = 1:size(xs,1))) for j = 1:n), ys[i])\n",
        "    end\n",
        "    \n",
        "    return u;\n",
        "end\n"
      ]
    },
    {
      "cell_type": "code",
      "execution_count": 5,
      "metadata": {
        "slideshow": {
          "slide_type": "-"
        }
      },
      "outputs": [
        {
          "name": "stdout",
          "output_type": "stream",
          "text": [
            "  0.210613 seconds (2.12 M allocations: 362.508 MiB, 15.58% gc time)\n"
          ]
        },
        {
          "data": {
            "text/plain": [
              "1024-element Array{Float64,1}:\n",
              "  0.12738374762644594\n",
              " -0.07795723402253742\n",
              "  0.20769035531666236\n",
              "  0.13004044610756366\n",
              "  0.33809523546666304\n",
              "  0.212041349818893\n",
              "  0.5609094175132032\n",
              " -0.7720800809116166\n",
              "  0.2292933463053791\n",
              "  0.10966234909821591\n",
              "  0.6543568190277762\n",
              " -0.08172116899909224\n",
              "  0.14774643122005687\n",
              "  â‹®\n",
              "  0.13420672195277883\n",
              " -0.2852043867702189\n",
              "  1.088041374215776\n",
              "  0.20946672319605658\n",
              " -0.7750031560839625\n",
              "  0.27450255846412214\n",
              "  0.21995910122094753\n",
              " -0.35968748170248416\n",
              "  0.2803035176409706\n",
              " -0.04029995291766968\n",
              "  0.14477561148672746\n",
              "  0.2741866056098512"
            ]
          },
          "execution_count": 5,
          "metadata": {
            
          },
          "output_type": "execute_result"
        }
      ],
      "source": [
        "Random.seed!(856235)\n",
        "@time u_gram = logistic_regression_gram_matrix(gamma, alpha, xs, ys, num_iters)"
      ]
    },
    {
      "cell_type": "code",
      "execution_count": 6,
      "metadata": {
        "slideshow": {
          "slide_type": "-"
        }
      },
      "outputs": [
        {
          "name": "stdout",
          "output_type": "stream",
          "text": [
            "  0.906893 seconds (42.19 M allocations: 969.978 MiB, 15.85% gc time)\n"
          ]
        },
        {
          "data": {
            "text/plain": [
              "1024-element Array{Float64,1}:\n",
              "  0.1273837476264459\n",
              " -0.07795723402253733\n",
              "  0.2076903553166623\n",
              "  0.13004044610756382\n",
              "  0.3380952354666631\n",
              "  0.2120413498188931\n",
              "  0.5609094175132033\n",
              " -0.7720800809116167\n",
              "  0.22929334630537904\n",
              "  0.10966234909821591\n",
              "  0.6543568190277764\n",
              " -0.08172116899909222\n",
              "  0.14774643122005687\n",
              "  â‹®\n",
              "  0.13420672195277877\n",
              " -0.28520438677021875\n",
              "  1.088041374215776\n",
              "  0.20946672319605664\n",
              " -0.7750031560839628\n",
              "  0.2745025584641222\n",
              "  0.21995910122094758\n",
              " -0.35968748170248416\n",
              "  0.28030351764097056\n",
              " -0.04029995291766964\n",
              "  0.14477561148672743\n",
              "  0.27418660560985103"
            ]
          },
          "execution_count": 6,
          "metadata": {
            
          },
          "output_type": "execute_result"
        }
      ],
      "source": [
        "Random.seed!(856235)\n",
        "@time u_kernel = logistic_regression_kernelfxn(gamma, alpha, xs, ys, num_iters)"
      ]
    },
    {
      "cell_type": "code",
      "execution_count": 7,
      "metadata": {
        "slideshow": {
          "slide_type": "-"
        }
      },
      "outputs": [
        {
          "data": {
            "text/plain": [
              "kernel_classifier_accuracy (generic function with 1 method)"
            ]
          },
          "execution_count": 7,
          "metadata": {
            
          },
          "output_type": "execute_result"
        }
      ],
      "source": [
        "# did this get good test accuracy?\n",
        "\n",
        "function kernel_classifier_prediction(u::Array{Float64,1}, xs_train::Array{Float64,2}, x_test::Array{Float64,1})\n",
        "    return sign(sum(u[j] * kernel_function(gamma, x_test, xs_train[:,j]) for j = 1:n));\n",
        "end\n",
        "    \n",
        "function kernel_classifier_accuracy(u::Array{Float64,1}, xs_train::Array{Float64,2}, xs_test::Array{Float64,2}, ys_test::Array{Float64,1})\n",
        "    return mean(kernel_classifier_prediction(u, xs_train, xs_test[:,i]) == ys_test[i] for i = 1:length(ys_test))\n",
        "end"
      ]
    },
    {
      "cell_type": "code",
      "execution_count": 8,
      "metadata": {
        "slideshow": {
          "slide_type": "-"
        }
      },
      "outputs": [
        {
          "name": "stdout",
          "output_type": "stream",
          "text": [
            "train accuracy: 0.9892578125\n",
            " test accuracy: 0.970703125\n"
          ]
        }
      ],
      "source": [
        "println(\"train accuracy: \", kernel_classifier_accuracy(u_gram, xs, xs, ys))\n",
        "println(\" test accuracy: \", kernel_classifier_accuracy(u_gram, xs, xs_test, ys_test))"
      ]
    },
    {
      "cell_type": "markdown",
      "metadata": {
        "slideshow": {
          "slide_type": "slide"
        }
      },
      "source": [
        "**Takeaway: This analysis shows there is a trade-off between the four different methods for kernel learning.**\n",
        "    \n",
        "No one method is better than the others in all cases, and you should reason about how your learning task scales before deciding which method to use.\n",
        "\n",
        "<span class=\"problem\">One problematic case: what if we want to use a kernel with an infinite-dimensional feature map?</span>\n",
        "\n",
        "* For example: the RBF kernel.\n",
        "\n",
        "* Then $D = \\infty$ in the analysis above, and methods (1) and (2) become impossible to run.\n",
        "\n",
        "* On the other hand, methods (1) and (2) had the best dependence on $n$, and we would want to consider running one of these when the training set size becomes large.\n",
        "\n",
        "<span class=\"question\">How can we handle the case of large $n$ and large/infinite $D$?</span>"
      ]
    },
    {
      "cell_type": "markdown",
      "metadata": {
        "slideshow": {
          "slide_type": "slide"
        }
      },
      "source": [
        "### Approximate feature maps.\n",
        "\n",
        "Also called \"feature extraction\" sometimes.\n",
        "\n",
        "Idea: approximate a possibly infinite-dimensional feature map $\\phi$ of a kernel with a finite-dimensional feature map $\\psi: \\mathcal{X} \\rightarrow \\R^D$ such that for all $x, y \\in \\mathcal{X}$\n",
        "\n",
        "$$K(x, y) = \\phi(x)^T \\phi(y) \\approx \\psi(x)^T \\psi(y).$$\n",
        "\n",
        "Then we can use the approximate feature map $\\psi$ to learn with strategy (1) or (2) above.\n",
        "\n",
        "<span class=\"question\">Question: What are we trading off when we do this?</span>"
      ]
    },
    {
      "cell_type": "markdown",
      "metadata": {
        "slideshow": {
          "slide_type": "slide"
        }
      },
      "source": [
        "### How do we construct these approximate feature maps?\n",
        "\n",
        "There are many ways to do it.\n",
        "Here, I'm going to be talking about one way we can do this for the RBF kernel, a method called **Random Fourier features** (Ali Rahimi and Ben Recht, \"Random Features for Large-Scale Kernel Machines.\" _Advances in neural information processing systems, 2008_. This paper won the test of time award at NeurIPS 2017.)\n",
        "\n",
        "The strategy is straightforward (although the math can get a little tricky).\n",
        "\n",
        "* First, we write the kernel $K(x,y)$ in terms of an expected value.\n",
        "* Second, we use our **subsampling principle** to approximate this expected value with a finite sample to within the desired level of accuracy . \n",
        "* Third, we use this finite sample to construct an approximate feature map."
      ]
    },
    {
      "cell_type": "markdown",
      "metadata": {
        "slideshow": {
          "slide_type": "slide"
        }
      },
      "source": [
        "If we sample $\\omega$ from a $d$-dimensional multivariate Gaussian distribution with mean $0$ and covariance $2 \\gamma I$, and independently sample $b$ to be uniform on $[0, 2\\pi]$, then we can show that for any $x, y \\in \\R^d$,\n",
        "\n",
        "$$K(x, y)\n",
        "\t=\n",
        "\t\\exp\\left(-\\gamma \\norm{x - y}^2 \\right)\n",
        "\t=\n",
        "\t\\Exv[\\omega, b]{2 \\cdot \\cos(\\omega^T x + b) \\cdot \\cos(\\omega^T y + b)}.$$\n",
        "    \n",
        "They did it with a proof...I'll show it in the Jupyter notebook!"
      ]
    },
    {
      "cell_type": "code",
      "execution_count": 9,
      "metadata": {
        "slideshow": {
          "slide_type": "-"
        }
      },
      "outputs": [
        
      ],
      "source": [
        "gamma = 0.1;\n",
        "\n",
        "d = 10;\n",
        "x = rand(d); y = rand(d); # get some random vectors\n",
        "\n",
        "function supposed_estimator(gamma::Float64, x::Array{Float64,1}, y::Array{Float64,1})\n",
        "    d = length(x);\n",
        "    w = randn(d) * sqrt(2*gamma)\n",
        "    b = 2 * pi * rand();\n",
        "    return 2 * cos(dot(w,x) + b) * cos(dot(w,y) + b);\n",
        "end;"
      ]
    },
    {
      "cell_type": "code",
      "execution_count": 19,
      "metadata": {
        "slideshow": {
          "slide_type": "-"
        }
      },
      "outputs": [
        {
          "name": "stdout",
          "output_type": "stream",
          "text": [
            "kernel function value: 0.9291306670680894\n",
            "      estimated value: 0.9312256793916118\n"
          ]
        }
      ],
      "source": [
        "num_samples = 100000;\n",
        "\n",
        "println(\"kernel function value: \", kernel_function(gamma, x, y));\n",
        "println(\"      estimated value: \", mean(supposed_estimator(gamma, x, y) for i = 1:num_samples));"
      ]
    },
    {
      "cell_type": "markdown",
      "metadata": {
        "slideshow": {
          "slide_type": "fragment"
        }
      },
      "source": [
        "They're pretty close! So we can believe that this is indeed an unbiased estimator of the kernel function.\n",
        "\n",
        "Now we can apply our subsampling principle to approximate this expected value with a finite sum.\n",
        "Pick some number $D$ and let $\\omega_1, b_1, \\omega_2, b_2, \\ldots, \\omega_D, b_D$ be independent random samples of $\\omega \\sim \\mathcal{N}(0,2 \\gamma I)$ and $b \\sim \\operatorname{Uniform}[0,2\\pi]$.\n",
        "Then\n",
        "\n",
        "\\begin{align*}\n",
        "\tK(x, y)\n",
        "\t&\\approx\n",
        "\t\\frac{1}{D} \\sum_{i=1}^D 2 \\cdot \\cos(\\omega_i^T x + b_i) \\cdot \\cos(\\omega_i^T y + b_i) \\\\\n",
        "\t&=\n",
        "\t\\sum_{i=1}^D \\left( \\sqrt{\\frac{2}{D}} \\cdot \\cos(\\omega_i^T x + b_i) \\right) \\cdot \\left( \\sqrt{\\frac{2}{D}} \\cdot \\cos(\\omega_i^T y + b_i) \\right).\n",
        "\\end{align*}\n",
        "\n",
        "So if we define the feature map $\\psi(x)$ such that its $i$th element is\n",
        "\n",
        "$$(\\psi(x))_i = \\sqrt{\\frac{2}{D}} \\cdot \\cos(\\omega_i^T x + b_i),$$\n",
        "\n",
        "then\n",
        "\n",
        "$$K(x,y) \\approx \\sum_{i=1}^D (\\psi(x))_i (\\psi(y))_i = \\psi(x)^T \\psi(y)$$\n",
        "\n",
        "and we have our approximate feature map!\n",
        "Note that we can also write $\\psi$ in terms of matrix multiply as\n",
        "\n",
        "$$\\psi(x) = \\sqrt{\\frac{2}{D}} \\cdot \\cos(\\Omega x + \\mathbf{b}),$$\n",
        "\n",
        "where $\\Omega$ and $\\mathbf{b}$ denote the matrix and vector\n",
        "\n",
        "$$\\Omega = \\begin{bmatrix} \\omega_1^T \\\\ \\vdots \\\\ \\omega_D^T \\end{bmatrix}\n",
        "\\hspace{2em}\\text{ and }\\hspace{2em}\n",
        "\\mathbf{b} = \\begin{bmatrix} b_1 \\\\ \\vdots \\\\ b_D \\end{bmatrix}$$\n",
        "\n",
        "and the $\\cos$ operates elementwise.\n",
        "\n",
        "**What thing that we've already seen does this look like?**"
      ]
    },
    {
      "cell_type": "markdown",
      "metadata": {
        "slideshow": {
          "slide_type": "fragment"
        }
      },
      "source": [
        "* It looks like a neural network with random weights and a cosine nonlinearity!"
      ]
    },
    {
      "cell_type": "markdown",
      "metadata": {
        "slideshow": {
          "slide_type": "slide"
        }
      },
      "source": [
        "How close will this be to the exact RBF kernel? One way to get a sense of it is to use Hoeffding's inequality.\n",
        "Since the elements of this sum are all of the form $2 \\cos(\\cdot) \\cos(\\cdot)$, they must have magnitude no greater than $2$.\n",
        "As a result, $z_{\\min} = -2$, $z_{\\max} = 2$, and we get\n",
        "\n",
        "$$\\mathbf{P}\\left(\n",
        "\t\t\\left| K(x, y) - \\psi(x)^T \\psi(y) \\right|\n",
        "\t\t\\ge\n",
        "\t\ta\n",
        "\t\\right)\n",
        "\t\\le\n",
        "\t2 \\exp\\left( - \\frac{ 2 D a^2 }{(2 - (-2))^2} \\right)\n",
        "\t=\n",
        "\t2 \\exp\\left( - \\frac{ D a^2 }{8} \\right).$$\n",
        "\n",
        "**Takeaway: We can get arbitrarily good accuracy with arbitrarily high probability by increasing $D$.** In their paper, Rahimi and Recht show how they can make a similar statement that holds **for all pairs $x, y$ in a bounded region**, as opposed to just for a specific pair."
      ]
    },
    {
      "cell_type": "markdown",
      "metadata": {
        "slideshow": {
          "slide_type": "slide"
        }
      },
      "source": [
        "This is just one example of a broad class of techniques that can be used for feature extraction for kernels.\n",
        "This adds the following extra techniques to our list of ways to do kernel learning:\n",
        "\n",
        "5. Pre-compute an approximate feature map (e.g. sample $\\Omega$ and $\\mathbf{b}$ for random Fourier features on RBF) and use it to compute approximate features on the fly to compute SGD in $w$-space.\n",
        "6. Pre-compute an approximate feature map, then also pre-compute and cache the transformed approximate features, forming vectors $z_i = \\psi(x_i)$. Then run SGD in $w$-space.\n",
        "\n",
        "Often, using an approximate feature map like this is the most efficient way of training a model.\n",
        "\n",
        " * But...not always!\n",
        "\n",
        "When learning with a kernel, we need to **keep the properties of the problem in mind** to decide how to proceed with learning most efficiently."
      ]
    }
  ],
  "metadata": {
    "@webio": {
      "lastCommId": null,
      "lastKernelId": null
    },
    "celltoolbar": "Slideshow",
    "kernelspec": {
      "display_name": "Julia 1.4.0",
      "language": "julia",
      "name": "julia-1.4"
    },
    "language_info": {
      "file_extension": ".jl",
      "mimetype": "application/julia",
      "name": "julia",
      "version": "1.4.0"
    },
    "rise": {
      "scroll": true
    }
  },
  "nbformat": 4,
  "nbformat_minor": 2
}