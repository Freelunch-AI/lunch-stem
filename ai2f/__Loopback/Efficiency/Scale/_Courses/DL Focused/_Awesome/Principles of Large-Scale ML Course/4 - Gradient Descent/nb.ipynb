// 20220522051123
// https://www.cs.cornell.edu/courses/cs4787/2021sp/notebooks/Slides4.ipynb

{
  "cells": [
    {
      "cell_type": "markdown",
      "metadata": {
        "slideshow": {
          "slide_type": "slide"
        }
      },
      "source": [
        "## Lecture 4: Gradient descent continued, and stochastic gradient descent\n",
        "\n",
        "## CS4787 â€” Principles of Large-Scale Machine Learning Systems\n",
        "\n",
        "$\\newcommand{\\R}{\\mathbb{R}}$\n",
        "$\\newcommand{\\norm}[1]{\\left\\|#1\\right\\|}$"
      ]
    },
    {
      "cell_type": "code",
      "execution_count": 1,
      "metadata": {
        "slideshow": {
          "slide_type": "skip"
        }
      },
      "outputs": [
        
      ],
      "source": [
        "import numpy\n",
        "import scipy\n",
        "import matplotlib\n",
        "from matplotlib import pyplot\n",
        "import time"
      ]
    },
    {
      "cell_type": "markdown",
      "metadata": {
        "slideshow": {
          "slide_type": "slide"
        }
      },
      "source": [
        "### Recall: from last time, we showed that...\n",
        "\n",
        "If we assume that for all $x, y \\in \\R^d$, $\\| \\nabla f(x) - \\nabla f(y) \\| \\le L \\cdot \\| x - y \\|$, then\n",
        "\n",
        "$$f(w_{t+1}) \\le\n",
        "f(w_t) \n",
        "- \\alpha \\left(1 - \\frac{1}{2} \\alpha L \\right) \\cdot \\| \\nabla f(w_t) \\|^2.$$\n",
        "\n",
        "If we choose our step size $\\alpha$ to be _small enough_ that $1 \\ge \\alpha L$, then this simplifies to\n",
        "\n",
        "$$f(w_{t+1}) \\le\n",
        "f(w_t) \n",
        "- \\frac{\\alpha}{2} \\cdot \\| \\nabla f(w_t) \\|^2.$$\n",
        "\n",
        "That is, **the objective is guaranteed to decrease at each iteration**! This matches our intuition for why gradient descent should work."
      ]
    },
    {
      "cell_type": "markdown",
      "metadata": {
        "slideshow": {
          "slide_type": "slide"
        }
      },
      "source": [
        "### An aside...why do we need sufficiently small step size?\n",
        "\n",
        "With too large a step size, we can overshoot the optimum!\n",
        "\n",
        "Consider the following case of $f(w) = \\frac{1}{2} w^2$. Here $f'(w) = \\nabla f(w) = w$ (and $f''(w) = 1$), so it's $L$-smooth with $L = 1$. Suppose we're at $w_t = 2$ as shown here:"
      ]
    },
    {
      "cell_type": "code",
      "execution_count": 2,
      "metadata": {
        "slideshow": {
          "slide_type": "-"
        }
      },
      "outputs": [
        {
          "data": {
            "text/plain": [
              "<matplotlib.collections.PathCollection at 0x7fa1d2778320>"
            ]
          },
          "execution_count": 2,
          "metadata": {
            
          },
          "output_type": "execute_result"
        },
        {
          "data": {
            "image/png": "[encoded data removed]",
            "text/plain": [
              "<Figure size 432x288 with 1 Axes>"
            ]
          },
          "metadata": {
            "needs_background": "light"
          },
          "output_type": "display_data"
        }
      ],
      "source": [
        "x = numpy.arange(-2,3,0.01)\n",
        "y = x**2 / 2\n",
        "pyplot.plot(x,y);\n",
        "pyplot.scatter([2.0],[2.0**2/2], c=\"r\", zorder=10)"
      ]
    },
    {
      "cell_type": "markdown",
      "metadata": {
        "slideshow": {
          "slide_type": "-"
        }
      },
      "source": [
        "Here our GD update will be $w_{t+1} = w_t - \\alpha f(w_t) = 2 - \\alpha \\cdot 2$. If we step with $\\alpha = 1$, we go directly to the optimum at $w = 0$. But! If we step with a larger $\\alpha$, we overshoot, and for $\\alpha > 2$ our loss $f(w)$ actually increases. This illustrates why having _sufficiently small steps_ is necessary for our proof."
      ]
    },
    {
      "cell_type": "markdown",
      "metadata": {
        "slideshow": {
          "slide_type": "slide"
        }
      },
      "source": [
        "### Why is our L-smoothness assumption necessary?\n",
        "\n",
        "We can also use a simple example to illustrate why assuming some sort of smoothness is necessary to show this result. Consider the (dumb) example of $f(w) = \\sqrt{|w|}$."
      ]
    },
    {
      "cell_type": "code",
      "execution_count": 3,
      "metadata": {
        "slideshow": {
          "slide_type": "-"
        }
      },
      "outputs": [
        
      ],
      "source": [
        "x = numpy.arange(-3,3,0.01)\n",
        "y = numpy.sqrt(numpy.abs(x))\n",
        "w = 2;\n",
        "prev_w = numpy.array(w)\n",
        "alpha = 0.5;"
      ]
    },
    {
      "cell_type": "code",
      "execution_count": 22,
      "metadata": {
        "slideshow": {
          "slide_type": "-"
        }
      },
      "outputs": [
        {
          "data": {
            "image/png": "[encoded data removed]",
            "text/plain": [
              "<Figure size 432x288 with 1 Axes>"
            ]
          },
          "metadata": {
            "needs_background": "light"
          },
          "output_type": "display_data"
        }
      ],
      "source": [
        "for it in range(100):\n",
        "    w = w - alpha * numpy.sign(w)/(2*numpy.sqrt(numpy.abs(w)))\n",
        "    prev_w = numpy.append(prev_w,w)\n",
        "pyplot.plot(x,y);\n",
        "pyplot.scatter(prev_w, numpy.sqrt(numpy.abs(prev_w)), [30], c=\"g\", zorder=100)\n",
        "pyplot.scatter([w], [numpy.sqrt(numpy.abs(w))], [100], c=\"r\", zorder=100)\n",
        "prev_w = numpy.append(prev_w,w)"
      ]
    },
    {
      "cell_type": "code",
      "execution_count": 23,
      "metadata": {
        "slideshow": {
          "slide_type": "fragment"
        }
      },
      "outputs": [
        {
          "data": {
            "text/plain": [
              "[<matplotlib.lines.Line2D at 0x7fa1d286f208>]"
            ]
          },
          "execution_count": 23,
          "metadata": {
            
          },
          "output_type": "execute_result"
        },
        {
          "data": {
            "image/png": "[encoded data removed]",
            "text/plain": [
              "<Figure size 432x288 with 1 Axes>"
            ]
          },
          "metadata": {
            "needs_background": "light"
          },
          "output_type": "display_data"
        }
      ],
      "source": [
        "pyplot.plot(prev_w)"
      ]
    },
    {
      "cell_type": "markdown",
      "metadata": {
        "slideshow": {
          "slide_type": "slide"
        }
      },
      "source": [
        "## Returning to our proof from Monday...\n",
        "\n",
        "Said that $f(w_T) \\ge f^*$, so $-f(w_T) \\le -f^*$\n",
        "\n",
        "$$f(w_0) - f(w_T) \\le f(w_0) - f^*$$\n",
        "\n",
        "Now, if we sum this up across $T$ iterations of gradient descent, we get\n",
        "\n",
        "$$\n",
        "  \\frac{1}{2} \\alpha \\sum_{t = 0}^{T-1} \\norm{ \\nabla f(w_t) }^2\n",
        "  \\le\n",
        "  \\sum_{t = 0}^{T-1} \\left(\n",
        "    f(w_t)\n",
        "    -\n",
        "    f(w_{t+1})\n",
        "  \\right)\n",
        "  =\n",
        "  f(w_0) - f(w_T)\n",
        "  \\le\n",
        "  f(w_0) - f^*\n",
        "$$\n",
        "\n",
        "where $f^*$ is the global minimum value of the loss function $f$.\n",
        "From here, we can get\n",
        "\n",
        "$$\n",
        "  \\min_{t \\in \\{0, \\ldots, T-1\\}} \\norm{ \\nabla f(w_t) }^2\n",
        "  \\le\n",
        "  \\frac{1}{T} \\sum_{t = 0}^{T-1} \\norm{ \\nabla f(w_t) }^2\n",
        "  \\le\n",
        "  \\frac{2 (f(w_0) - f^*)}{\\alpha T}.\n",
        "$$\n",
        "\n",
        "\n",
        "This means that the smallest gradient we observe after $T$ iterations is getting smaller proportional to $1/T$.\n",
        "So gradient descent converges...\n",
        "* as long as we look at the smallest observed gradient\n",
        "* and we care about finding a point where the gradient is small"
      ]
    },
    {
      "cell_type": "markdown",
      "metadata": {
        "slideshow": {
          "slide_type": "fragment"
        }
      },
      "source": [
        "<div style=\"text-align:center;color:ForestGreen;font-size:larger;font-weight:bold;\">Question: does this ensure that gradient descent converges to the global optimum (i.e. the value of $w$ that minimizes $f$ over all $w \\in \\R^d$)?</div>"
      ]
    },
    {
      "cell_type": "markdown",
      "metadata": {
        "slideshow": {
          "slide_type": "-"
        }
      },
      "source": [
        "..."
      ]
    },
    {
      "cell_type": "markdown",
      "metadata": {
        "slideshow": {
          "slide_type": "slide"
        }
      },
      "source": [
        "### When can we ensure that gradient descent _does_ converge to the unique global optimum?\n",
        "\n",
        "Certainly, we can do this when there is only one global optimum.\n",
        "\n",
        "The simplest case of this is the case of **convex objectives**."
      ]
    },
    {
      "cell_type": "markdown",
      "metadata": {
        "slideshow": {
          "slide_type": "slide"
        }
      },
      "source": [
        "## Convex Functions\n",
        "\n",
        "A function $f: \\R^d \\rightarrow \\R$ is convex if for all $x, y \\in \\R^d$, and all $\\eta \\in [0,1]$\n",
        "\n",
        "$$f(\\eta x + (1 - \\eta) y) \\le \\eta f(x) + (1 - \\eta) f(y).$$\n",
        "\n",
        "What this means graphically is that if we draw a line segment between any two points in the graph of the function, that line segment will lie above the function.\n",
        "There are a bunch of equivalent conditions that work if the function is differentiable.\n",
        "In terms of the gradient, for all $x, y \\in \\R^d$,\n",
        "\n",
        "$$(x - y)^T \\left( \\nabla f(x) - \\nabla f(y) \\right) \\ge 0,$$\n",
        "\n",
        "and in terms of the Hessian, for all $x \\in \\R^d$ and all $u \\in \\R^d$\n",
        "\n",
        "$$u^T \\nabla^2 f(x) u \\ge 0;$$\n",
        "\n",
        "this is equivalent to saying that the Hessian is positive semidefinite."
      ]
    },
    {
      "cell_type": "markdown",
      "metadata": {
        "slideshow": {
          "slide_type": "fragment"
        }
      },
      "source": [
        "<div style=\"text-align:center;color:ForestGreen;font-size:larger;font-weight:bold;\">Question: What are some examples of hypotheses and loss functions that result in a convex objective??</div>"
      ]
    },
    {
      "cell_type": "markdown",
      "metadata": {
        "slideshow": {
          "slide_type": "-"
        }
      },
      "source": [
        "* cross-entropy loss\n",
        "* least squares/mean square\n",
        "* hinge loss\n",
        "* huber loss\n",
        "* constant loss\n",
        "* linear function\n",
        "\n",
        "** Not CONVEX:**\n",
        "\n",
        "* sqrt\n",
        "* log (is concave)\n",
        "* step function\n",
        "* neural networks (UNFORTUNATELY!)"
      ]
    },
    {
      "cell_type": "markdown",
      "metadata": {
        "slideshow": {
          "slide_type": "slide"
        }
      },
      "source": [
        "An even easier case than convexity: **strong convexity**.\n",
        "    \n",
        "A function is strongly convex with parameter $\\mu > 0$ if for all $x, y \\in \\R^d$,\n",
        "\n",
        "$$f(y) \\ge f(x) + \\nabla f(x)^T (y - x) + \\frac{\\mu}{2} \\norm{x - y}^2$$\n",
        "\n",
        "or equivalently, for all $x \\in \\R^d$ and all $u \\in \\R^d$\n",
        "\n",
        "$$u^T \\nabla^2 f(x) u \\ge \\mu \\norm{u}^2.$$\n",
        "\n",
        "One (somewhat weaker) condition that is implied by strong convexity is\n",
        "\n",
        "$$\\norm{\\nabla f(x)}^2 \\ge 2 \\mu \\left( f(x) - f^* \\right);$$\n",
        "\n",
        "this is sometimes called the _Polyak-Lojasiewicz condition_.\n",
        "* A useful note: you can make any convex objective strongly convex by adding $\\ell_2$ regularization."
      ]
    },
    {
      "cell_type": "markdown",
      "metadata": {
        "slideshow": {
          "slide_type": "slide"
        }
      },
      "source": [
        "### Gradient descent on strongly convex objectives.\n",
        "\n",
        "As before, let's look at how the objective changes over time as we run gradient descent with a fixed step size.\n",
        "* This is a standard approach when analyzing an iterative algorithm like gradient descent.\n",
        "From our proof before, we had (as long as $1 \\ge \\alpha L$)\n",
        "\n",
        "$$f(w_{t+1}) \\le\n",
        "f(w_t) \n",
        "- \\frac{\\alpha}{2} \\cdot \\| \\nabla f(w_t) \\|^2.$$\n",
        "\n",
        "Now applying the Polyak-Lojasiewicz condition condition to this gives us\n",
        "\n",
        "$$  f(w_{t+1})\n",
        "  \\le\n",
        "  f(w_t)\n",
        "  -\n",
        "  \\alpha \\mu \\left( f(w_t) - f^* \\right).$$\n",
        "  \n",
        "  \n",
        "Subtracting the global optimum $f^*$ from both sides produces\n",
        "\n",
        "$$\n",
        "  f(w_{t+1})\n",
        "  - \n",
        "  f^*\n",
        "  \\le\n",
        "  f(w_t)\n",
        "  - \n",
        "  f^*\n",
        "  -\n",
        "  \\alpha \\mu \\left( f(w_t) - f^* \\right)\n",
        "  =\n",
        "  (1 - \\alpha \\mu) \\left( f(w_t) - f^* \\right).\n",
        "$$"
      ]
    },
    {
      "cell_type": "markdown",
      "metadata": {
        "slideshow": {
          "slide_type": "slide"
        }
      },
      "source": [
        "So we got that\n",
        "\n",
        "$$f(w_{t+1}) - f^* \\le (1 - \\alpha \\mu) \\left( f(w_t) - f^* \\right).$$\n",
        "\n",
        "But this means that\n",
        "\n",
        "\\begin{align*}\n",
        "f(w_{t+2}) - f^* &\\le (1 - \\alpha \\mu) \\left( f(w_{t+1}) - f^* \\right)\n",
        "\\\\&\\le (1 - \\alpha \\mu) \\left( (1 - \\alpha \\mu) \\left( f(w_t) - f^* \\right) \\right)\n",
        "\\\\&\\le (1 - \\alpha \\mu)^2 \\left( f(w_t) - f^* \\right).\n",
        "\\end{align*}"
      ]
    },
    {
      "cell_type": "markdown",
      "metadata": {
        "slideshow": {
          "slide_type": "fragment"
        }
      },
      "source": [
        "Applying this inductively, after $K$ total steps\n",
        "\n",
        "$$f(w_K) - f^*\n",
        "  \\le\n",
        "  (1 - \\alpha \\mu)^K \\left( f(w_0) - f^* \\right)\n",
        "  \\le\n",
        "  \\exp(-\\alpha \\mu K) \\cdot \\left( f(w_0) - f^* \\right).$$\n",
        "\n",
        "This shows that, for strongly convex functions, **gradient descent with a constant step size converges exponentially quickly to the optimum**.\n",
        "This is sometimes called _convergence at a linear rate_."
      ]
    },
    {
      "cell_type": "markdown",
      "metadata": {
        "slideshow": {
          "slide_type": "slide"
        }
      },
      "source": [
        "If we use the largest step size that satisfies our earlier assumption that $1 \\ge \\alpha L$ (i.e. $\\alpha = 1/L$), then this rate becomes\n",
        "\n",
        "$$  f(w_K) - f^*\n",
        "  \\le\n",
        "  \\exp\\left(-\\frac{\\mu K}{L} \\right) \\cdot \\left( f(w_0) - f^* \\right).$$\n",
        "  \n",
        "Equivalently, in order to ensure that $f(w_K) - f^*$ for some target error $\\epsilon > 0$, it suffices to set the number of iterations $K$ large enough that\n",
        "\n",
        "$$K\n",
        "  \\ge\n",
        "  \\frac{L}{\\mu}\n",
        "  \\cdot\n",
        "  \\log\\left( \\frac{f(w_0) - f^*}{\\epsilon} \\right).$$"
      ]
    },
    {
      "cell_type": "markdown",
      "metadata": {
        "slideshow": {
          "slide_type": "fragment"
        }
      },
      "source": [
        "The main thing that affects how large $K$ needs to be here is the ratio $L / \\mu$, which is a function just of the problem itself and not of how we initialize or how accurate we want our solutions to be.\n",
        "We call the ratio\n",
        "\n",
        "$$\\kappa = \\frac{L}{\\mu}$$\n",
        "\n",
        "the <span style=\"font-weight:bold;color:blue\">condition number of the problem</span>.\n",
        "The condition number encodes _how hard a strongly convex problem is to solve_.\n",
        "\n",
        "* Observe that this ration is invariant to scaling of the objective function $f$.\n",
        "\n",
        "When the condition number is very large, the problem can be very hard to solve, and take many iterations of gradient descent to get close to the optimum.\n",
        "Even if the cost of running gradient descent is tractible as we scale, **if scaling a problem causes the condition number to blow up, this can cause issues**!"
      ]
    },
    {
      "cell_type": "markdown",
      "metadata": {
        "slideshow": {
          "slide_type": "slide"
        }
      },
      "source": [
        "<div style=\"text-align:center;color:Navy;font-size:larger;font-weight:bold;\">What affects the condition number? What can we do to make the condition number smaller?</div>\n",
        "\n",
        "<div style=\"text-align:center;color:Navy;font-size:larger;font-weight:bold;\">DEMO.</div>"
      ]
    },
    {
      "cell_type": "markdown",
      "metadata": {
        "slideshow": {
          "slide_type": "slide"
        }
      },
      "source": [
        "### Stochastic Gradient Descent\n",
        "\n",
        "Basic idea: **in gradient descent, just replace the full gradient (which is a sum) with a single gradient example**. Initialize the parameters at some value $w_0 \\in \\R^d$, and decrease the value of the empirical risk iteratively by sampling a random index $\\tilde i_t$ uniformly from $\\{1, \\ldots, n\\}$ and then updating\n",
        "\n",
        "$w_{t+1} = w_t - \\alpha_t \\cdot \\nabla f_{\\tilde i_t}(w_t)$\n",
        "\n",
        "where as usual $w_t$ is the value of the parameter vector at time $t$, $\\alpha_t$ is the _learning rate_ or _step size_, and $\\nabla f_i$ denotes the gradient of the loss function of the $i$th training example.\n",
        "Compared with gradient descent and Newton's method, SGD is simple to implement and runs each iteration faster."
      ]
    },
    {
      "cell_type": "markdown",
      "metadata": {
        "slideshow": {
          "slide_type": "slide"
        }
      },
      "source": [
        "### A potential objection!\n",
        "\n",
        "**This is not necessarily going to be decreasing the loss at every step!**\n",
        "\n",
        "* Because we're just moving in a direction that will decrease the loss _for one particular example_: this won't necessarily decrease the total loss!\n",
        "\n",
        "* So we can't demonstrate convergence by using a proof like the one we used for gradient descent, where we showed that the loss decreases at every iteration of the algorithm.\n",
        "\n",
        "* The fact that SGD doesn't always improve the loss at each iteration motivates the question: **does SGD even work? And if so, why does SGD work?**"
      ]
    },
    {
      "cell_type": "code",
      "execution_count": null,
      "metadata": {
        
      },
      "outputs": [
        
      ],
      "source": [
        
      ]
    }
  ],
  "metadata": {
    "@webio": {
      "lastCommId": null,
      "lastKernelId": null
    },
    "celltoolbar": "Slideshow",
    "kernelspec": {
      "display_name": "Python 3",
      "language": "python",
      "name": "python3"
    },
    "language_info": {
      "codemirror_mode": {
        "name": "ipython",
        "version": 3
      },
      "file_extension": ".py",
      "mimetype": "text/x-python",
      "name": "python",
      "nbconvert_exporter": "python",
      "pygments_lexer": "ipython3",
      "version": "3.6.5"
    },
    "rise": {
      "scroll": true,
      "transition": "none"
    }
  },
  "nbformat": 4,
  "nbformat_minor": 2
}