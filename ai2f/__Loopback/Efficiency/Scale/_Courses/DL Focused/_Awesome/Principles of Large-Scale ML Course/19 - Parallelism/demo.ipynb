// 20220522155408
// https://www.cs.cornell.edu/courses/cs4787/2021sp/notebooks/Notebook19.ipynb

{
  "cells": [
    {
      "cell_type": "markdown",
      "metadata": {
        
      },
      "source": [
        "## A simple demonstration of the effects of writing code that takes parallelism into account"
      ]
    },
    {
      "cell_type": "code",
      "execution_count": 40,
      "metadata": {
        
      },
      "outputs": [
        
      ],
      "source": [
        "using LinearAlgebra;\n",
        "\n",
        "n = 1024;\n",
        "m = 1024;\n",
        "p = 1024;\n",
        "\n",
        "A = randn(Float32,m,n);\n",
        "B = randn(Float32,n,p);\n",
        "\n",
        "# array to hold result of multiply\n",
        "C = zeros(Float32,m,p);"
      ]
    },
    {
      "cell_type": "code",
      "execution_count": 52,
      "metadata": {
        
      },
      "outputs": [
        {
          "name": "stdout",
          "output_type": "stream",
          "text": [
            "  0.011916 seconds (4 allocations: 160 bytes)\n"
          ]
        }
      ],
      "source": [
        "@time mul!(C, A, B);"
      ]
    },
    {
      "cell_type": "code",
      "execution_count": 53,
      "metadata": {
        
      },
      "outputs": [
        {
          "data": {
            "text/plain": [
              "my_mul! (generic function with 2 methods)"
            ]
          },
          "execution_count": 53,
          "metadata": {
            
          },
          "output_type": "execute_result"
        }
      ],
      "source": [
        "function my_mul!(C::Matrix{Float32}, A::Matrix{Float32}, B::Matrix{Float32})\n",
        "    (m,n) = size(A);\n",
        "    (n,p) = size(B);\n",
        "    for i = 1:m\n",
        "        for k = 1:p\n",
        "            acc = 0.0;\n",
        "            for j = 1:n\n",
        "                acc += A[i,j] * B[j,k];\n",
        "            end\n",
        "            C[i,k] = acc;\n",
        "        end\n",
        "    end\n",
        "    return C;\n",
        "end"
      ]
    },
    {
      "cell_type": "code",
      "execution_count": 56,
      "metadata": {
        
      },
      "outputs": [
        {
          "name": "stdout",
          "output_type": "stream",
          "text": [
            "  2.036659 seconds (4 allocations: 160 bytes)\n"
          ]
        }
      ],
      "source": [
        "@time my_mul!(C, A, B);"
      ]
    },
    {
      "cell_type": "code",
      "execution_count": null,
      "metadata": {
        
      },
      "outputs": [
        
      ],
      "source": [
        
      ]
    },
    {
      "cell_type": "code",
      "execution_count": null,
      "metadata": {
        
      },
      "outputs": [
        
      ],
      "source": [
        
      ]
    }
  ],
  "metadata": {
    "kernelspec": {
      "display_name": "Julia 1.0.0",
      "language": "julia",
      "name": "julia-1.0"
    },
    "language_info": {
      "file_extension": ".jl",
      "mimetype": "application/julia",
      "name": "julia",
      "version": "1.0.0"
    }
  },
  "nbformat": 4,
  "nbformat_minor": 2
}