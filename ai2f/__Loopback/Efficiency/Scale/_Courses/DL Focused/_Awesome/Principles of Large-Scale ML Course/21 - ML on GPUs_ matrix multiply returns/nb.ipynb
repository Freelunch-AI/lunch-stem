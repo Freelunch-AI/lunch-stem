// 20220522155546
// https://www.cs.cornell.edu/courses/cs4787/2021sp/notebooks/Slides21.ipynb

{
  "cells": [
    {
      "cell_type": "markdown",
      "metadata": {
        "slideshow": {
          "slide_type": "slide"
        }
      },
      "source": [
        "# Lecture 21: GPU Computing\n",
        "\n",
        "## CS4787 â€” Principles of Large-Scale Machine Learning Systems\n",
        "\n",
        "$\\newcommand{\\R}{\\mathbb{R}}$"
      ]
    },
    {
      "cell_type": "markdown",
      "metadata": {
        "slideshow": {
          "slide_type": "slide"
        }
      },
      "source": [
        "* Over the past three lectures, we've been talking about the architecture of the CPU and how it affects performance of machine learning models.\n",
        "\n",
        "* However, the CPU is not the only type of hardware that machine learning models are trained or run on.\n",
        "\n",
        "* In fact, most modern DNN training happens not on CPUs but on **GPUs**.\n",
        "\n",
        "<img src=\"https://www.nvidia.com/content/dam/en-zz/es_em/Solutions/geforce/TITAN/TITANV/nvidia-titan-xp-shop-625-ud.jpg\" style=\"display: block; margin-left: auto; margin-right: auto; width: 60%;\" />\n",
        "\n",
        "* In this lecture, we'll look at why GPUs became dominant for machine learning training, and we'll explore what makes their architecture uniquely well-suited to large-scale numerical computation."
      ]
    },
    {
      "cell_type": "markdown",
      "metadata": {
        "slideshow": {
          "slide_type": "slide"
        }
      },
      "source": [
        "### Modern ML hardware\n",
        "\n",
        "Lots of different types\n",
        "\n",
        "* CPUs\n",
        "* GPUs\n",
        "* FPGAs\n",
        "* Specialized accelerators\n",
        "\n",
        "<img src=\"./hardware.png\" style=\"display: block; margin-left: auto; margin-right: auto; width: 90%;\" />"
      ]
    },
    {
      "cell_type": "markdown",
      "metadata": {
        "slideshow": {
          "slide_type": "fragment"
        }
      },
      "source": [
        "*  Right now, **GPUs are dominant** for ML training...we'll get to why later"
      ]
    },
    {
      "cell_type": "markdown",
      "metadata": {
        "slideshow": {
          "slide_type": "slide"
        }
      },
      "source": [
        "### What does the modern ML pipeline look like?\n",
        "\n",
        "It's not just training a neural network.\n",
        "\n",
        "<img src=\"./dnn.png\" style=\"display: block; margin-left: auto; margin-right: auto; width: 30%;\" />"
      ]
    },
    {
      "cell_type": "markdown",
      "metadata": {
        "slideshow": {
          "slide_type": "slide"
        }
      },
      "source": [
        "### What does the modern ML pipeline look like?\n",
        "\n",
        "The pipeline has many different components.\n",
        "\n",
        "<img src=\"./mlpipeline.png\" style=\"display: block; margin-left: auto; margin-right: auto; width: 90%;\" />"
      ]
    },
    {
      "cell_type": "markdown",
      "metadata": {
        "slideshow": {
          "slide_type": "slide"
        }
      },
      "source": [
        "### Where can hardware help?"
      ]
    },
    {
      "cell_type": "markdown",
      "metadata": {
        "slideshow": {
          "slide_type": "fragment"
        }
      },
      "source": [
        "**Everywhere!**\n",
        "\n",
        "Thereâ€™s interest in using hardware everywhere in the pipeline\n",
        "\n",
        "* both adapting existing hardware architectures, and\n",
        "* developing new ones\n",
        "\n",
        "What improvements can we get?\n",
        "\n",
        "* Lower latency inference\n",
        "  * To be able to make real-time predictions\n",
        "* Higher throughput training\n",
        "  * To be able to train on larger datasets to produce more accurate models\n",
        "* Lower power cost\n",
        "  * Especially important as data and model sizes scale"
      ]
    },
    {
      "cell_type": "markdown",
      "metadata": {
        "slideshow": {
          "slide_type": "slide"
        }
      },
      "source": [
        "### How can hardware help?\n",
        "\n",
        "Speed up the basic building blocks of machine learning computation\n",
        "\n",
        "* Major building block: matrix-matrix multiply\n",
        "* Another major building block: convolution\n",
        "\n",
        "Add data/memory paths specialized to machine learning workloads\n",
        "* Example: having a local cache to store network weights\n",
        "* Create application-specific functional units\n",
        "* Not for general ML, but for a specific domain or application"
      ]
    },
    {
      "cell_type": "markdown",
      "metadata": {
        "slideshow": {
          "slide_type": "slide"
        }
      },
      "source": [
        "# Why are GPUs so popular for machine learning?"
      ]
    },
    {
      "cell_type": "markdown",
      "metadata": {
        "slideshow": {
          "slide_type": "slide"
        }
      },
      "source": [
        "# Why are GPUs so popular for *training deep neural networks*?\n",
        "\n",
        "To answer this...we need to look at what GPU architectures look like."
      ]
    },
    {
      "cell_type": "markdown",
      "metadata": {
        "slideshow": {
          "slide_type": "slide"
        }
      },
      "source": [
        "### A brief history of GPU computing.\n",
        "\n",
        "GPUs were originally designed to support the 3D graphics pipeline, much of which was driven for demand for videogames with ever-increasing graphical fidelity.\n",
        "\n",
        "<img src=\"https://i.ytimg.com/vi/_VfMZOdrTE8/maxresdefault.jpg\" style=\"display: block; margin-left: auto; margin-right: auto; width: 75%;\" />"
      ]
    },
    {
      "cell_type": "markdown",
      "metadata": {
        "slideshow": {
          "slide_type": "fragment"
        }
      },
      "source": [
        "Important properties of 3d graphics rendering:\n",
        "\n",
        "* Lots of opportunities for parallelism\n",
        "    * rendering different pixels/objects in the scene can be done simultaneously.\n",
        "* Lots of numerical computations\n",
        "    * 3d rendering is based on geometry.\n",
        "    * Mostly polygons in space which are transformed, animated, and shaded.\n",
        "    * All of this is numerical computation: mostly linear algebra."
      ]
    },
    {
      "cell_type": "markdown",
      "metadata": {
        "slideshow": {
          "slide_type": "slide"
        }
      },
      "source": [
        "### GPU computing (continued)\n",
        "\n",
        "The first era of GPUs ran a **fixed-function graphics pipeline**. They weren't programmed, but instead just configured to use a set of fixed functions designed for specific graphics tasks: mostly drawing and shading polygons in 3d space.\n",
        "\n",
        "In the early 2000s, there was a shift towards programmable GPUs.\n",
        "\n",
        "* Programmable GPUs allowed for people to customize certain stages in the graphics pipeline by writing small programs called **shaders** which let developers process the vertices and pixels of the polygons they wanted to render in custom ways.\n",
        "\n",
        "* These shaders were capable of very high-throughput parallel processing\n",
        "   * So that they could process and render very large numbers of polygons in a single frame of a 3d animation.\n",
        "   * Intuition: if I am rendering multiple independent objects in a scene, I can process them in parallel.\n",
        "   * And there was powerful economic incentive for hardware designers to increase the throughput of these GPUs so that game designers could render models with more polygons and higher resolution."
      ]
    },
    {
      "cell_type": "markdown",
      "metadata": {
        "slideshow": {
          "slide_type": "slide"
        }
      },
      "source": [
        "### GPU computing (continued)\n",
        "\n",
        "The GPU supported parallel programs that were **more parallel** than those of the CPU.\n",
        "\n",
        "But unlike multithreaded CPUs, which supported computing **different functions** at the same time, the GPU focused on computing **the same function** simultaneously on multiple elements of data.\n",
        "* Example application: want to render a large number of triangles, each of which is lit by the same light sources.\n",
        "* Example application: want to transform all the objects in the scene based on the motion of the player character (which controls the camera).\n",
        "That is, the GPU could run the same function on a bunch of triangles in parallel, but couldn't easily compute a different function for each triangle."
      ]
    },
    {
      "cell_type": "markdown",
      "metadata": {
        "slideshow": {
          "slide_type": "slide"
        }
      },
      "source": [
        "### GPU computing (continued)\n",
        "\n",
        "This illustrates a distinction between two types of parallelism:\n",
        "* **Data parallelism** involves the same operations being computed in parallel on many different data elements.\n",
        "* **Task parallelism** involves different operations being computed in parallel (on either the same data or different data).\n",
        "\n",
        "<span class=\"question\">How are the different types of parallelism we've discussed categorized according to this distinction?</span>\n",
        "* **SIMD/Vector parallelism?**\n",
        "* **Multi-core/multi-thread parallelism?**\n",
        "* **Distributed computing?**"
      ]
    },
    {
      "cell_type": "markdown",
      "metadata": {
        "slideshow": {
          "slide_type": "slide"
        }
      },
      "source": [
        "### The general-purpose GPU\n",
        "\n",
        "Eventually, people started to use GPUs for tasks other than graphics rendering.\n",
        "\n",
        "However, working within the structure of the graphics pipeline of the GPU placed limits on this.\n",
        "\n",
        "To better support general-purpose GPU programming, in 2007 NVIDIA released **CUDA**, a parallel programming language/computing platform for general-purpose computation on the GPU.\n",
        "* Other companies such as Intel and AMD have competing products as well.\n",
        "\n",
        "Now, programmers no longer needed to use the 3d graphics API to access the parallel computing capabilities of the GPU."
      ]
    },
    {
      "cell_type": "markdown",
      "metadata": {
        "slideshow": {
          "slide_type": "fragment"
        }
      },
      "source": [
        "This led to a revolution in GPU computing, with several major applications, including:\n",
        "* Deep neural networks (particularly training)\n",
        "* Cryptocurrencies\n",
        "\n",
        "A function executed on the GPU in a CUDA program is called a **kernel**."
      ]
    },
    {
      "cell_type": "markdown",
      "metadata": {
        "slideshow": {
          "slide_type": "slide"
        }
      },
      "source": [
        "An illustration of this from the CUDA C programming guide:"
      ]
    },
    {
      "cell_type": "markdown",
      "metadata": {
        "slideshow": {
          "slide_type": "-"
        }
      },
      "source": [
        "<div class=\"highlight\" style=\"background: #ffffff\"><pre style=\"line-height: 125%\"><span></span><span style=\"color: #888888\">// Kernel definition</span>\n",
        "__global__ <span style=\"color: #333399; font-weight: bold\">void</span> <span style=\"color: #0066BB; font-weight: bold\">VecAdd</span>(<span style=\"color: #333399; font-weight: bold\">float</span><span style=\"color: #333333\">*</span> A, <span style=\"color: #333399; font-weight: bold\">float</span><span style=\"color: #333333\">*</span> B, <span style=\"color: #333399; font-weight: bold\">float</span><span style=\"color: #333333\">*</span> C)\n",
        "{\n",
        "    <span style=\"color: #333399; font-weight: bold\">int</span> i <span style=\"color: #333333\">=</span> threadIdx.x;\n",
        "    C[i] <span style=\"color: #333333\">=</span> A[i] <span style=\"color: #333333\">+</span> B[i];\n",
        "}\n",
        "\n",
        "<span style=\"color: #333399; font-weight: bold\">int</span> <span style=\"color: #0066BB; font-weight: bold\">main</span>()\n",
        "{\n",
        "    ...\n",
        "    <span style=\"color: #888888\">// Kernel invocation with N threads</span>\n",
        "    VecAdd<span style=\"color: #333333\">&lt;&lt;&lt;</span><span style=\"color: #0000DD; font-weight: bold\">1</span>, N<span style=\"color: #333333\">&gt;&gt;&gt;</span>(A, B, C);\n",
        "    ...\n",
        "}\n",
        "</pre></div>"
      ]
    },
    {
      "cell_type": "markdown",
      "metadata": {
        "slideshow": {
          "slide_type": "-"
        }
      },
      "source": [
        "This syntax launches $N$ threads, each of which performs a single addition."
      ]
    },
    {
      "cell_type": "markdown",
      "metadata": {
        "slideshow": {
          "slide_type": "slide"
        }
      },
      "source": [
        "### The general-purpose GPU (continued)\n",
        "\n",
        "Importantly, spinning up hundreds or thousands of threads like this could be reasonably fast on a GPU, while on a CPU this would be **way** too slow due to the overhead of creating new threads.\n",
        "\n",
        "Additionally, GPUs support many many more parallel threads running than a CPU.\n",
        "* Typical thread count for a GPU: tens of thousands.\n",
        "* Typical thread count for a CPU: at most a few dozen.\n",
        "Important downside of GPU threads of this type: they're data-parallel only.\n",
        "* You can't direct each of the individual threads to \"do its own thing\" or run its own independent computation (although GPUs do support multi-task parallelism to a limited extent).\n",
        "* Importantly: more modern GPUs now support some level of task-parallelism.\n",
        "  * Threads are bound together into \"warps\" (of ~32 threads) that all execute the same instruction.\n",
        "  * But threads in different warps have limited ability to run independently.\n",
        "\n"
      ]
    },
    {
      "cell_type": "markdown",
      "metadata": {
        "slideshow": {
          "slide_type": "slide"
        }
      },
      "source": [
        "### GPUs vs CPUs\n",
        "\n",
        "CPU is a general purpose processor\n",
        "* Modern CPUs spend most of their area on deep caches\n",
        "* This makes the CPU a great choice for applications with random or non-uniform memory accesses\n",
        "\n",
        "GPU is optimized for\n",
        "* more compute intensive workloads\n",
        "* streaming memory models"
      ]
    },
    {
      "cell_type": "markdown",
      "metadata": {
        "slideshow": {
          "slide_type": "fragment"
        }
      },
      "source": [
        "**Machine learning workloads are compute intensive and often involve streaming data flows.**"
      ]
    },
    {
      "cell_type": "markdown",
      "metadata": {
        "slideshow": {
          "slide_type": "slide"
        }
      },
      "source": [
        "## FLOPS: GPU vs CPU\n",
        "\n",
        "<img src=\"./flops.png\" style=\"display: block; margin-left: auto; margin-right: auto; width: 90%;\" />"
      ]
    },
    {
      "cell_type": "markdown",
      "metadata": {
        "slideshow": {
          "slide_type": "slide"
        }
      },
      "source": [
        "## Memory Bandwidth: GPU vs CPU\n",
        "\n",
        "* GPUs have higher memory bandwidths than CPUs\n",
        "   * NVIDIA A100 80GB GPU has 2 TB/s memory bandwidth\n",
        "   * Whereas an Intel Xeon Platinum CPU has only about 120 GB/s memory bandwidth at about the same time\n",
        "\n"
      ]
    },
    {
      "cell_type": "markdown",
      "metadata": {
        "slideshow": {
          "slide_type": "fragment"
        }
      },
      "source": [
        "* But, this comparison is unfair!\n",
        "   * GPU memory bandwidth is the bandwidth to GPU memory\n",
        "   * e.g. on a PCIE2, bandwidth is only 32 GB/s for a GPU"
      ]
    },
    {
      "cell_type": "markdown",
      "metadata": {
        "slideshow": {
          "slide_type": "slide"
        }
      },
      "source": [
        "### What limits deep learning?\n",
        "\n",
        "<span class=\"question\">Is it compute bound or memory bound?</span>\n",
        "* i.e. is it more limited by the computational capabilities or memory capabilities of the hardware?"
      ]
    },
    {
      "cell_type": "markdown",
      "metadata": {
        "slideshow": {
          "slide_type": "fragment"
        }
      },
      "source": [
        "* Ideally: it's compute bound\n",
        "  * Why? Matrix-matrix multiply over $\\R^{n \\times n}$ takes $O(n^2)$ memory but $O(n^3)$ compute\n",
        "\n",
        "* But often it is memory/communication bound\n",
        "  * When we are doing convolutions with small filter sizes, compute becomes less dominant\n",
        "  * Especially when we are running at large scale on a cluster\n",
        "  * Especially when data/models do not fit in caches on the hardware\n",
        "  \n",
        "**So we have to consider both in ML systems!**"
      ]
    },
    {
      "cell_type": "markdown",
      "metadata": {
        "slideshow": {
          "slide_type": "slide"
        }
      },
      "source": [
        "### GPUs in machine learning.\n",
        "\n",
        "Because of their large amount of data parallelism, GPUs provide an ideal substrate for large-scale numerical computation.\n",
        "\n",
        "* In particular, GPUs can perform matrix multiplies very fast.\n",
        "\n",
        "* Just like BLAS on the CPU, there's an optimized library from NVIDIA \"cuBLAS\" that does matrix multiples efficiently on their GPUs.\n",
        "\n",
        "* There's even a specialized library of primitives designed for deep learning: cuDNN.\n",
        "\n",
        "* Machine learning frameworks, such as TensorFlow, are designed to support computation on GPUs.\n",
        "\n",
        "* And training a deep net on a GPU can decrease training time by an order of magnitude.\n",
        "\n",
        "<span class=\"question\">How do machine learning frameworks support GPU computing?</span>"
      ]
    },
    {
      "cell_type": "markdown",
      "metadata": {
        "slideshow": {
          "slide_type": "slide"
        }
      },
      "source": [
        "### Machine Learning Frameworks and GPUs\n",
        "\n",
        "A core feature of ML frameworks is GPU support.\n",
        "\n",
        "High-level approach:\n",
        "\n",
        "* Represent the computational graph in terms of vectorized linear-algebra operations.\n",
        "\n",
        "* For each operation, call a hand-optimized kernel that computes that op on the GPU.\n",
        "  * i.e. matrix-matrix multiply\n",
        "  * i.e. convolution for a CNN\n",
        "  * when GPU code is not available for a function, run it on the CPU\n",
        "     * but this happens rarely\n",
        "  \n",
        "* Stitch those ops together by calling them from Python\n",
        "  * and eventually make the results available back on the CPU"
      ]
    },
    {
      "cell_type": "markdown",
      "metadata": {
        "slideshow": {
          "slide_type": "slide"
        }
      },
      "source": [
        "### Challengers to the GPU\n",
        "\n",
        "* More compute-intensive CPUs\n",
        "  * Like Intelâ€™s Phi line â€” promise same level of compute performance and better handling of sparsity\n",
        "\n",
        "* Low-power devices\n",
        "  * Like mobile-device-targeted chips\n",
        "\n",
        "* Configurable hardware like FPGAs and CGRAs\n",
        "\n",
        "* Accelerators that speed up matrix-matrix multiply\n",
        "  * Like Google's Version 1 TPU\n",
        "  \n",
        "* Accelerators special-designed to accelerate ML computations beyond just matrix-matrix multiply\n",
        "  * Version 2/3 TPUs\n",
        "  * Many competitors in this space"
      ]
    },
    {
      "cell_type": "code",
      "execution_count": null,
      "metadata": {
        
      },
      "outputs": [
        
      ],
      "source": [
        
      ]
    }
  ],
  "metadata": {
    "@webio": {
      "lastCommId": null,
      "lastKernelId": null
    },
    "celltoolbar": "Slideshow",
    "kernelspec": {
      "display_name": "Julia 1.5.4",
      "language": "julia",
      "name": "julia-1.5"
    },
    "language_info": {
      "file_extension": ".jl",
      "mimetype": "application/julia",
      "name": "julia",
      "version": "1.5.4"
    },
    "rise": {
      "scroll": true
    }
  },
  "nbformat": 4,
  "nbformat_minor": 2
}