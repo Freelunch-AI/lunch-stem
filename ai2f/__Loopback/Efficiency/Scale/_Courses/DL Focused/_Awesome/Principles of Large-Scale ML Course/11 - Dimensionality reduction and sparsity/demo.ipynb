// 20220522154750
// https://www.cs.cornell.edu/courses/cs4787/2021sp/notebooks/Notebook11.ipynb

{
  "cells": [
    {
      "cell_type": "code",
      "execution_count": 1,
      "metadata": {
        
      },
      "outputs": [
        
      ],
      "source": [
        "using LinearAlgebra\n",
        "using Statistics\n",
        "using SparseArrays\n",
        "using MLDatasets\n",
        "using PyPlot"
      ]
    },
    {
      "cell_type": "markdown",
      "metadata": {
        
      },
      "source": [
        "## Test of Johnson-Lindenstrauss transform"
      ]
    },
    {
      "cell_type": "code",
      "execution_count": 2,
      "metadata": {
        
      },
      "outputs": [
        
      ],
      "source": [
        "d = 100000;\n",
        "n = 100;\n",
        "\n",
        "Xs = randn(d,n); # the dataset"
      ]
    },
    {
      "cell_type": "code",
      "execution_count": 3,
      "metadata": {
        
      },
      "outputs": [
        {
          "data": {
            "text/plain": [
              "3685"
            ]
          },
          "execution_count": 3,
          "metadata": {
            
          },
          "output_type": "execute_result"
        }
      ],
      "source": [
        "epsilon = 0.1;\n",
        "D = Int64(ceil(8 * log(n) / epsilon^2))"
      ]
    },
    {
      "cell_type": "code",
      "execution_count": 4,
      "metadata": {
        
      },
      "outputs": [
        
      ],
      "source": [
        "A = randn(D, d) / sqrt(D);"
      ]
    },
    {
      "cell_type": "code",
      "execution_count": 5,
      "metadata": {
        
      },
      "outputs": [
        {
          "data": {
            "text/plain": [
              "447.3594790493648"
            ]
          },
          "execution_count": 5,
          "metadata": {
            
          },
          "output_type": "execute_result"
        }
      ],
      "source": [
        "# let's loook at this for a single example\n",
        "norm(Xs[:,1] - Xs[:,2])"
      ]
    },
    {
      "cell_type": "code",
      "execution_count": 6,
      "metadata": {
        
      },
      "outputs": [
        {
          "data": {
            "text/plain": [
              "453.60422837944606"
            ]
          },
          "execution_count": 6,
          "metadata": {
            
          },
          "output_type": "execute_result"
        }
      ],
      "source": [
        "norm(A*Xs[:,1] - A*Xs[:,2])"
      ]
    },
    {
      "cell_type": "code",
      "execution_count": 7,
      "metadata": {
        
      },
      "outputs": [
        {
          "data": {
            "text/plain": [
              "1.0139591304589126"
            ]
          },
          "execution_count": 7,
          "metadata": {
            
          },
          "output_type": "execute_result"
        }
      ],
      "source": [
        "norm(A*Xs[:,1] - A*Xs[:,2]) / norm(Xs[:,1] - Xs[:,2])"
      ]
    },
    {
      "cell_type": "code",
      "execution_count": 8,
      "metadata": {
        
      },
      "outputs": [
        
      ],
      "source": [
        "AXs = A*Xs;"
      ]
    },
    {
      "cell_type": "code",
      "execution_count": 9,
      "metadata": {
        
      },
      "outputs": [
        {
          "data": {
            "text/plain": [
              "(0.9519405550668073, 1.046375370822268)"
            ]
          },
          "execution_count": 9,
          "metadata": {
            
          },
          "output_type": "execute_result"
        }
      ],
      "source": [
        "# over the whole dataset\n",
        "extrema((i == j) ? 1.0 : norm(AXs[:,i] - AXs[:,j]) / norm(Xs[:,i] - Xs[:,j]) for i = 1:n, j = 1:n)   "
      ]
    },
    {
      "cell_type": "code",
      "execution_count": 10,
      "metadata": {
        
      },
      "outputs": [
        {
          "data": {
            "text/plain": [
              "0.03685"
            ]
          },
          "execution_count": 10,
          "metadata": {
            
          },
          "output_type": "execute_result"
        }
      ],
      "source": [
        "# how much did we decrease the dimension?\n",
        "D/d"
      ]
    },
    {
      "cell_type": "markdown",
      "metadata": {
        
      },
      "source": [
        "## Principal Component Analysis"
      ]
    },
    {
      "cell_type": "code",
      "execution_count": 11,
      "metadata": {
        
      },
      "outputs": [
        
      ],
      "source": [
        "n = 60000;\n",
        "d = 28*28;"
      ]
    },
    {
      "cell_type": "code",
      "execution_count": 12,
      "metadata": {
        
      },
      "outputs": [
        
      ],
      "source": [
        "train_x, train_y = MNIST.traindata();"
      ]
    },
    {
      "cell_type": "code",
      "execution_count": 13,
      "metadata": {
        
      },
      "outputs": [
        
      ],
      "source": [
        "train_x = Float64.(reshape(train_x, (d, n)));"
      ]
    },
    {
      "cell_type": "code",
      "execution_count": 14,
      "metadata": {
        
      },
      "outputs": [
        
      ],
      "source": [
        "train_x_mean = mean(train_x; dims=2);"
      ]
    },
    {
      "cell_type": "code",
      "execution_count": 15,
      "metadata": {
        
      },
      "outputs": [
        
      ],
      "source": [
        "train_x_minus_mean = train_x .- train_x_mean;"
      ]
    },
    {
      "cell_type": "markdown",
      "metadata": {
        
      },
      "source": [
        "$$\\Sigma = \\frac{1}{n} \\sum_{i=1}^n \\left( x_i - \\frac{1}{n} \\sum_{j=1}^n x_j \\right) \\left( x_i - \\frac{1}{n} \\sum_{j=1}^n x_j \\right)^T$$"
      ]
    },
    {
      "cell_type": "code",
      "execution_count": 16,
      "metadata": {
        
      },
      "outputs": [
        
      ],
      "source": [
        "Sigma = (train_x_minus_mean * train_x_minus_mean')/n;"
      ]
    },
    {
      "cell_type": "code",
      "execution_count": 17,
      "metadata": {
        
      },
      "outputs": [
        {
          "data": {
            "text/plain": [
              "Eigen{Float64,Float64,Array{Float64,2},Array{Float64,1}}\n",
              "values:\n",
              "784-element Array{Float64,1}:\n",
              "  5.116787728342092\n",
              "  3.7413284788648067\n",
              "  3.2526542396844844\n",
              "  2.8415733372665466\n",
              "  2.5670749588127744\n",
              "  2.273625491620609\n",
              "  1.7251262295281955\n",
              "  1.5205348976536206\n",
              "  1.4562809808876922\n",
              "  1.2427293764173304\n",
              "  1.1120709732036005\n",
              "  1.0666227659356209\n",
              "  0.9046657547344794\n",
              "  â‹®\n",
              " -4.341596436079342e-19\n",
              " -7.816133441131003e-19\n",
              " -8.328205317261318e-19\n",
              " -9.06846445474923e-19\n",
              " -2.7674683969166128e-18\n",
              " -7.155496110387914e-18\n",
              " -1.057007120922721e-17\n",
              " -2.366763579350205e-17\n",
              " -4.458784081324597e-17\n",
              " -6.16504989725162e-17\n",
              " -6.378346028260054e-17\n",
              " -9.992685906775396e-17\n",
              "vectors:\n",
              "784Ã—784 Array{Float64,2}:\n",
              "  0.0         0.0          0.0          â€¦   0.0           0.0\n",
              "  0.0         0.0          0.0              0.0           0.0\n",
              "  0.0         0.0          0.0              0.0           0.0\n",
              "  0.0         0.0          0.0              0.0           0.0\n",
              "  0.0         0.0          0.0              0.0           0.0\n",
              "  0.0         0.0          0.0          â€¦   0.0           0.0\n",
              "  0.0         0.0          0.0              0.0           0.0\n",
              "  0.0         0.0          0.0              0.0           0.0\n",
              "  0.0         0.0          0.0              0.0           0.0\n",
              "  0.0         0.0          0.0              0.0           0.0\n",
              "  0.0         0.0          0.0          â€¦   0.0           0.0\n",
              "  0.0         0.0          0.0              0.0           0.0\n",
              " -1.13023e-6  1.79706e-6   7.96314e-7      -1.82916e-5   -1.69162e-5\n",
              "  â‹®                                     â‹±                \n",
              " -8.769e-5    0.00143078   0.00113599       1.16734e-13   8.06924e-14\n",
              " -4.5962e-5   0.000920176  0.000863292      9.46519e-14  -2.08525e-13\n",
              " -1.27477e-5  0.000500157  0.000487834     -4.86915e-13   4.10592e-13\n",
              "  1.72528e-5  0.000219159  0.000211216  â€¦   1.07941e-12  -3.80997e-13\n",
              "  5.51266e-6  0.000109011  9.13385e-5      -1.36204e-12   9.24027e-14\n",
              " -2.59364e-7  3.54844e-5   3.45235e-5       2.02711e-12  -1.66652e-13\n",
              " -4.95273e-7  2.12795e-5   1.89427e-5      -5.01332e-13   1.7726e-13\n",
              "  1.37842e-7  2.22338e-6   2.25569e-6       0.0           0.0\n",
              "  0.0         0.0          0.0          â€¦   0.0           0.0\n",
              "  0.0         0.0          0.0              0.0           0.0\n",
              "  0.0         0.0          0.0              0.0           0.0\n",
              "  0.0         0.0          0.0              0.0           0.0"
            ]
          },
          "execution_count": 17,
          "metadata": {
            
          },
          "output_type": "execute_result"
        }
      ],
      "source": [
        "# find the eigendecomposition of Sigma\n",
        "ESigma = eigen(Sigma; sortby = (x -> -x))"
      ]
    },
    {
      "cell_type": "code",
      "execution_count": 18,
      "metadata": {
        
      },
      "outputs": [
        {
          "data": {
            "text/plain": [
              "5.116787728342092"
            ]
          },
          "execution_count": 18,
          "metadata": {
            
          },
          "output_type": "execute_result"
        }
      ],
      "source": [
        "# largest eigenvalue\n",
        "ESigma.values[1]"
      ]
    },
    {
      "cell_type": "code",
      "execution_count": 19,
      "metadata": {
        
      },
      "outputs": [
        {
          "data": {
            "text/plain": [
              "784-element Array{Float64,1}:\n",
              "  0.0\n",
              "  0.0\n",
              "  0.0\n",
              "  0.0\n",
              "  0.0\n",
              "  0.0\n",
              "  0.0\n",
              "  0.0\n",
              "  0.0\n",
              "  0.0\n",
              "  0.0\n",
              "  0.0\n",
              " -1.1302299848127289e-6\n",
              "  â‹®\n",
              " -8.768996662290797e-5\n",
              " -4.596197162656801e-5\n",
              " -1.2747685973350732e-5\n",
              "  1.7252770690812103e-5\n",
              "  5.512661031686905e-6\n",
              " -2.593635886755097e-7\n",
              " -4.952733260038533e-7\n",
              "  1.3784202612423542e-7\n",
              "  0.0\n",
              "  0.0\n",
              "  0.0\n",
              "  0.0"
            ]
          },
          "execution_count": 19,
          "metadata": {
            
          },
          "output_type": "execute_result"
        }
      ],
      "source": [
        "# corresponding eigenvector\n",
        "ESigma.vectors[:, 1]"
      ]
    },
    {
      "cell_type": "code",
      "execution_count": 20,
      "metadata": {
        
      },
      "outputs": [
        {
          "data": {
            "image/png": "[encoded data removed]",
            "text/plain": [
              "Figure(PyObject <Figure size 640x480 with 1 Axes>)"
            ]
          },
          "metadata": {
            
          },
          "output_type": "display_data"
        }
      ],
      "source": [
        "imshow(reshape(ESigma.vectors[:, 1], (28,28))');"
      ]
    },
    {
      "cell_type": "code",
      "execution_count": 21,
      "metadata": {
        
      },
      "outputs": [
        {
          "data": {
            "image/png": "[encoded data removed]",
            "text/plain": [
              "Figure(PyObject <Figure size 640x480 with 1 Axes>)"
            ]
          },
          "metadata": {
            
          },
          "output_type": "display_data"
        }
      ],
      "source": [
        "imshow(reshape(ESigma.vectors[:, 2], (28,28))');"
      ]
    },
    {
      "cell_type": "code",
      "execution_count": 22,
      "metadata": {
        
      },
      "outputs": [
        {
          "data": {
            "image/png": "[encoded data removed]",
            "text/plain": [
              "Figure(PyObject <Figure size 640x480 with 1 Axes>)"
            ]
          },
          "metadata": {
            
          },
          "output_type": "display_data"
        }
      ],
      "source": [
        "imshow(reshape(ESigma.vectors[:, 3], (28,28))');"
      ]
    },
    {
      "cell_type": "code",
      "execution_count": 23,
      "metadata": {
        
      },
      "outputs": [
        {
          "data": {
            "image/png": "[encoded data removed]",
            "text/plain": [
              "Figure(PyObject <Figure size 640x480 with 1 Axes>)"
            ]
          },
          "metadata": {
            
          },
          "output_type": "display_data"
        }
      ],
      "source": [
        "imshow(reshape(ESigma.vectors[:, 4], (28,28))');"
      ]
    },
    {
      "cell_type": "code",
      "execution_count": 24,
      "metadata": {
        
      },
      "outputs": [
        {
          "ename": "LoadError",
          "evalue": "syntax: missing comma or ) in argument list",
          "output_type": "error",
          "traceback": [
            "syntax: missing comma or ) in argument list",
            "",
            "Stacktrace:",
            " [1] top-level scope at In[24]:2",
            " [2] include_string(::Function, ::Module, ::String, ::String) at ./loading.jl:1091"
          ]
        }
      ],
      "source": [
        "imshow(reshape(ESigma.vec\n",
        "tors[:, 5], (28,28))');"
      ]
    },
    {
      "cell_type": "code",
      "execution_count": 25,
      "metadata": {
        
      },
      "outputs": [
        {
          "data": {
            "image/png": "[encoded data removed]",
            "text/plain": [
              "Figure(PyObject <Figure size 640x480 with 1 Axes>)"
            ]
          },
          "metadata": {
            
          },
          "output_type": "display_data"
        }
      ],
      "source": [
        "plot(ESigma.values)\n",
        "ylabel(\"eigenvalue\")\n",
        "xlabel(\"index of eigenvalue\")\n",
        "title(\"Eigenvalues of MNIST Covariance Matrix\");"
      ]
    },
    {
      "cell_type": "markdown",
      "metadata": {
        
      },
      "source": [
        "PCA can represent objects in low dimension without losing information."
      ]
    },
    {
      "cell_type": "code",
      "execution_count": 26,
      "metadata": {
        
      },
      "outputs": [
        
      ],
      "source": [
        "D = 5;"
      ]
    },
    {
      "cell_type": "code",
      "execution_count": 27,
      "metadata": {
        
      },
      "outputs": [
        
      ],
      "source": [
        "A = ESigma.vectors[:, 1:D]';"
      ]
    },
    {
      "cell_type": "code",
      "execution_count": 28,
      "metadata": {
        
      },
      "outputs": [
        {
          "data": {
            "image/png": "[encoded data removed]",
            "text/plain": [
              "Figure(PyObject <Figure size 640x480 with 1 Axes>)"
            ]
          },
          "metadata": {
            
          },
          "output_type": "display_data"
        }
      ],
      "source": [
        "# original image\n",
        "i = 1337;\n",
        "imshow(reshape(train_x[:,i], (28,28))');"
      ]
    },
    {
      "cell_type": "code",
      "execution_count": 29,
      "metadata": {
        
      },
      "outputs": [
        {
          "data": {
            "image/png": "[encoded data removed]",
            "text/plain": [
              "Figure(PyObject <Figure size 640x480 with 1 Axes>)"
            ]
          },
          "metadata": {
            
          },
          "output_type": "display_data"
        }
      ],
      "source": [
        "# dimension-reduced image\n",
        "x_dr = A * train_x_minus_mean[:,i]\n",
        "x_recovered = A' * x_dr + train_x_mean;\n",
        "\n",
        "# original image\n",
        "imshow(reshape(x_recovered, (28,28))');"
      ]
    },
    {
      "cell_type": "markdown",
      "metadata": {
        
      },
      "source": [
        "Still enough to classify the image!"
      ]
    },
    {
      "cell_type": "code",
      "execution_count": null,
      "metadata": {
        
      },
      "outputs": [
        
      ],
      "source": [
        
      ]
    },
    {
      "cell_type": "code",
      "execution_count": 30,
      "metadata": {
        
      },
      "outputs": [
        {
          "ename": "LoadError",
          "evalue": "UndefVarError: X not defined",
          "output_type": "error",
          "traceback": [
            "UndefVarError: X not defined",
            "",
            "Stacktrace:",
            " [1] top-level scope at In[30]:1",
            " [2] include_string(::Function, ::Module, ::String, ::String) at ./loading.jl:1091"
          ]
        }
      ],
      "source": [
        "Matrix(X)"
      ]
    },
    {
      "cell_type": "markdown",
      "metadata": {
        
      },
      "source": [
        "## Sparsity"
      ]
    },
    {
      "cell_type": "code",
      "execution_count": 31,
      "metadata": {
        
      },
      "outputs": [
        
      ],
      "source": [
        "n = 4096;\n",
        "X = sprand(n,n,0.1);\n",
        "Y = sprand(n,n,0.1);"
      ]
    },
    {
      "cell_type": "code",
      "execution_count": 32,
      "metadata": {
        
      },
      "outputs": [
        {
          "data": {
            "image/png": "[encoded data removed]",
            "text/plain": [
              "Figure(PyObject <Figure size 640x480 with 2 Axes>)"
            ]
          },
          "metadata": {
            
          },
          "output_type": "display_data"
        }
      ],
      "source": [
        "# visualize part of it\n",
        "imshow(X[1:64,1:64]);\n",
        "colorbar();"
      ]
    },
    {
      "cell_type": "code",
      "execution_count": 33,
      "metadata": {
        
      },
      "outputs": [
        {
          "data": {
            "text/plain": [
              "26896696"
            ]
          },
          "execution_count": 33,
          "metadata": {
            
          },
          "output_type": "execute_result"
        }
      ],
      "source": [
        "# get the size of X in bytes\n",
        "Base.summarysize(X)"
      ]
    },
    {
      "cell_type": "code",
      "execution_count": 34,
      "metadata": {
        
      },
      "outputs": [
        {
          "data": {
            "text/plain": [
              "SparseMatrixCSC{Float64,Int64}"
            ]
          },
          "execution_count": 34,
          "metadata": {
            
          },
          "output_type": "execute_result"
        }
      ],
      "source": [
        "# type of X\n",
        "typeof(X)"
      ]
    },
    {
      "cell_type": "code",
      "execution_count": 35,
      "metadata": {
        
      },
      "outputs": [
        {
          "data": {
            "text/plain": [
              "Array{Float64,2}"
            ]
          },
          "execution_count": 35,
          "metadata": {
            
          },
          "output_type": "execute_result"
        }
      ],
      "source": [
        "Xdense = Matrix(X);\n",
        "Ydense = Matrix(Y);\n",
        "typeof(Xdense)"
      ]
    },
    {
      "cell_type": "code",
      "execution_count": 36,
      "metadata": {
        
      },
      "outputs": [
        {
          "data": {
            "text/plain": [
              "134217768"
            ]
          },
          "execution_count": 36,
          "metadata": {
            
          },
          "output_type": "execute_result"
        }
      ],
      "source": [
        "Base.summarysize(Xdense)"
      ]
    },
    {
      "cell_type": "code",
      "execution_count": 37,
      "metadata": {
        
      },
      "outputs": [
        {
          "data": {
            "text/plain": [
              "0.20039594161631416"
            ]
          },
          "execution_count": 37,
          "metadata": {
            
          },
          "output_type": "execute_result"
        }
      ],
      "source": [
        "# what's the ratio?\n",
        "Base.summarysize(X) / Base.summarysize(Xdense)"
      ]
    },
    {
      "cell_type": "code",
      "execution_count": 38,
      "metadata": {
        
      },
      "outputs": [
        {
          "data": {
            "text/plain": [
              "0.10007530450820923"
            ]
          },
          "execution_count": 38,
          "metadata": {
            
          },
          "output_type": "execute_result"
        }
      ],
      "source": [
        "# what fraction of X's entries are nonzero?\n",
        "nnz(X) / length(X)"
      ]
    },
    {
      "cell_type": "markdown",
      "metadata": {
        
      },
      "source": [
        "Why are these numbers not equal?"
      ]
    },
    {
      "cell_type": "code",
      "execution_count": 39,
      "metadata": {
        
      },
      "outputs": [
        {
          "name": "stdout",
          "output_type": "stream",
          "text": [
            "  1.312289 seconds (110.34 k allocations: 287.229 MiB, 0.31% gc time)\n"
          ]
        }
      ],
      "source": [
        "@time X * Y;"
      ]
    },
    {
      "cell_type": "code",
      "execution_count": 40,
      "metadata": {
        
      },
      "outputs": [
        {
          "data": {
            "text/plain": [
              "1.174083337"
            ]
          },
          "execution_count": 40,
          "metadata": {
            
          },
          "output_type": "execute_result"
        }
      ],
      "source": [
        "dense_mmpy_time = @elapsed Xdense * Ydense"
      ]
    },
    {
      "cell_type": "markdown",
      "metadata": {
        
      },
      "source": [
        "What happened here???"
      ]
    },
    {
      "cell_type": "code",
      "execution_count": 41,
      "metadata": {
        
      },
      "outputs": [
        {
          "name": "stdout",
          "output_type": "stream",
          "text": [
            "  0.121884 seconds (8 allocations: 94.578 MiB)\n"
          ]
        }
      ],
      "source": [
        "# make X and Y less dense\n",
        "Xsparser = sprand(n,n,0.01);\n",
        "Ysparser = sprand(n,n,0.01);\n",
        "@time Xsparser * Ysparser;"
      ]
    },
    {
      "cell_type": "code",
      "execution_count": 42,
      "metadata": {
        
      },
      "outputs": [
        
      ],
      "source": [
        "densities = [0.001, 0.003, 0.01, 0.03, 0.1, 0.3];\n",
        "sparse_mm_times = Float64[];\n",
        "for d in densities\n",
        "    Xsparse = sprand(n,n,d);\n",
        "    Ysparse = sprand(n,n,d);\n",
        "    push!(sparse_mm_times, @elapsed(Xsparse * Ysparse));\n",
        "end"
      ]
    },
    {
      "cell_type": "code",
      "execution_count": 43,
      "metadata": {
        
      },
      "outputs": [
        {
          "data": {
            "image/png": "[encoded data removed]",
            "text/plain": [
              "Figure(PyObject <Figure size 640x480 with 1 Axes>)"
            ]
          },
          "metadata": {
            
          },
          "output_type": "display_data"
        }
      ],
      "source": [
        "loglog(densities, sparse_mm_times; label=\"sparse mmpy\");\n",
        "loglog(densities, densities * 0 .+ dense_mmpy_time; label=\"dense mmpy\");\n",
        "xlabel(\"density\");\n",
        "ylabel(\"matrix multiply runtime\");\n",
        "legend();"
      ]
    },
    {
      "cell_type": "code",
      "execution_count": 46,
      "metadata": {
        
      },
      "outputs": [
        {
          "data": {
            "text/plain": [
              "4096-element SparseVector{Float64,Int64} with 427 stored entries:\n",
              "  [16  ]  =  0.494497\n",
              "  [18  ]  =  0.826087\n",
              "  [34  ]  =  0.687849\n",
              "  [59  ]  =  0.318373\n",
              "  [63  ]  =  0.543537\n",
              "  [73  ]  =  0.460325\n",
              "  [75  ]  =  0.0852525\n",
              "  [90  ]  =  0.141923\n",
              "  [108 ]  =  0.0701148\n",
              "  [116 ]  =  0.994332\n",
              "          â‹®\n",
              "  [4029]  =  0.570289\n",
              "  [4035]  =  0.54624\n",
              "  [4040]  =  0.202171\n",
              "  [4042]  =  0.403688\n",
              "  [4062]  =  0.420507\n",
              "  [4066]  =  0.538902\n",
              "  [4068]  =  0.265724\n",
              "  [4072]  =  0.191174\n",
              "  [4080]  =  0.67434\n",
              "  [4084]  =  0.384076\n",
              "  [4089]  =  0.188717"
            ]
          },
          "execution_count": 46,
          "metadata": {
            
          },
          "output_type": "execute_result"
        }
      ],
      "source": [
        "spv = X[:,1]"
      ]
    },
    {
      "cell_type": "code",
      "execution_count": 47,
      "metadata": {
        
      },
      "outputs": [
        {
          "data": {
            "text/plain": [
              "4096"
            ]
          },
          "execution_count": 47,
          "metadata": {
            
          },
          "output_type": "execute_result"
        }
      ],
      "source": [
        "spv.n"
      ]
    },
    {
      "cell_type": "code",
      "execution_count": 48,
      "metadata": {
        
      },
      "outputs": [
        {
          "data": {
            "text/plain": [
              "427-element Array{Int64,1}:\n",
              "   16\n",
              "   18\n",
              "   34\n",
              "   59\n",
              "   63\n",
              "   73\n",
              "   75\n",
              "   90\n",
              "  108\n",
              "  116\n",
              "  125\n",
              "  127\n",
              "  134\n",
              "    â‹®\n",
              " 4021\n",
              " 4029\n",
              " 4035\n",
              " 4040\n",
              " 4042\n",
              " 4062\n",
              " 4066\n",
              " 4068\n",
              " 4072\n",
              " 4080\n",
              " 4084\n",
              " 4089"
            ]
          },
          "execution_count": 48,
          "metadata": {
            
          },
          "output_type": "execute_result"
        }
      ],
      "source": [
        "spv.nzind"
      ]
    },
    {
      "cell_type": "code",
      "execution_count": 49,
      "metadata": {
        
      },
      "outputs": [
        {
          "data": {
            "text/plain": [
              "427-element Array{Float64,1}:\n",
              " 0.4944967485040994\n",
              " 0.8260867791524058\n",
              " 0.6878492561841358\n",
              " 0.31837265760532185\n",
              " 0.5435373410214652\n",
              " 0.4603252124070474\n",
              " 0.08525252863099708\n",
              " 0.14192308123381947\n",
              " 0.07011482669433211\n",
              " 0.994332364738097\n",
              " 0.07054927165346192\n",
              " 0.3335951909204913\n",
              " 0.9303865975954675\n",
              " â‹®\n",
              " 0.2442214611309792\n",
              " 0.5702885838128535\n",
              " 0.5462397434084996\n",
              " 0.20217057750630207\n",
              " 0.40368809673279826\n",
              " 0.420507447700027\n",
              " 0.5389015609303036\n",
              " 0.2657240323430008\n",
              " 0.19117367805893304\n",
              " 0.674340219210197\n",
              " 0.3840757164610593\n",
              " 0.18871747643515846"
            ]
          },
          "execution_count": 49,
          "metadata": {
            
          },
          "output_type": "execute_result"
        }
      ],
      "source": [
        "spv.nzval"
      ]
    },
    {
      "cell_type": "code",
      "execution_count": null,
      "metadata": {
        
      },
      "outputs": [
        
      ],
      "source": [
        
      ]
    }
  ],
  "metadata": {
    "@webio": {
      "lastCommId": null,
      "lastKernelId": null
    },
    "kernelspec": {
      "display_name": "Julia 1.5.3",
      "language": "julia",
      "name": "julia-1.5"
    },
    "language_info": {
      "file_extension": ".jl",
      "mimetype": "application/julia",
      "name": "julia",
      "version": "1.5.3"
    }
  },
  "nbformat": 4,
  "nbformat_minor": 2
}