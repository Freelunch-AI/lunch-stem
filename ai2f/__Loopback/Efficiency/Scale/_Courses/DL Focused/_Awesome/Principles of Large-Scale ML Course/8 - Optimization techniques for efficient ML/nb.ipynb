// 20220522154237
// https://www.cs.cornell.edu/courses/cs4787/2021sp/notebooks/Slides8.ipynb

{
  "cells": [
    {
      "cell_type": "markdown",
      "metadata": {
        "slideshow": {
          "slide_type": "slide"
        }
      },
      "source": [
        "# Lecture 8: Accelerating SGD with Momentum\n",
        "\n",
        "## CS4787 â€” Principles of Large-Scale Machine Learning Systems\n",
        "\n",
        "$\\newcommand{\\R}{\\mathbb{R}}$\n",
        "$\\newcommand{\\norm}[1]{\\left\\|#1\\right\\|}$\n",
        "$\\newcommand{\\Exv}[1]{\\mathbf{E}\\left[#1\\right]}$\n",
        "$\\newcommand{\\Prob}[1]{\\mathbf{P}\\left(#1\\right)}$\n",
        "$\\newcommand{\\Var}[1]{\\operatorname{Var}\\left(#1\\right)}$\n",
        "$\\newcommand{\\Abs}[1]{\\left|#1\\right|}$"
      ]
    },
    {
      "cell_type": "code",
      "execution_count": 15,
      "metadata": {
        "slideshow": {
          "slide_type": "skip"
        }
      },
      "outputs": [
        
      ],
      "source": [
        "import numpy\n",
        "import scipy\n",
        "import matplotlib\n",
        "from matplotlib import pyplot\n",
        "import time\n",
        "\n",
        "matplotlib.rcParams.update({'font.size': 12})"
      ]
    },
    {
      "cell_type": "markdown",
      "metadata": {
        "slideshow": {
          "slide_type": "slide"
        }
      },
      "source": [
        "## Announcements\n",
        "\n",
        "**Prelim Exam This Thursday**: Take-home, open-book, open-computer exam covering everything we've done up to that point (but with a focus on things that have appeared in problem sets and programming assignments). 24 hours, starting from the posted exam time, which is 8:30PM. (There will be a grace period after 8:30PM to submit, in case of technical errors, but please do not push it!) Submit your solutions on gradescope.\n",
        "\n",
        "Again, let me know ASAP if you have any special circumstances that need to be taken into account.\n",
        "\n",
        "I have **posted solutions to the second problem set** so you can use them as a resource to study for the prelim (and during the prelim). You can also look at these solutions to check your answers on the problem set you submitted, but please do not copy off of the solutions if you are submitting the pset late!"
      ]
    },
    {
      "cell_type": "markdown",
      "metadata": {
        "slideshow": {
          "slide_type": "slide"
        }
      },
      "source": [
        "## Recall\n",
        "\n",
        "When we analyzed gradient descent and SGD for strongly convex objectives, the convergence rate depended on the **condition number** $\\kappa = L / \\mu$.\n",
        "\n",
        "For example, the noise ball size for SGD with a constant step size was determined by\n",
        "\n",
        "$$\\Exv{ f(w_T) - f^* }\n",
        "  \\le\n",
        "  \\left(1 - \\alpha \\mu \\right)^T\n",
        "  \\cdot\n",
        "  (f(w_0) - f^*)\n",
        "  +\n",
        "  \\frac{\\alpha \\sigma^2 \\kappa}{2}$$\n",
        "  \n",
        "and for gradient descent with constant step size, the convergence rate was\n",
        "\n",
        "$$\n",
        "  f(w_T) - f^*\n",
        "  \\le\n",
        "  \\exp\\left(-\\frac{T}{\\kappa} \\right) \\cdot \\left( f(w_0) - f^* \\right).$$\n",
        "  \n",
        "**Takeaway: when the condition number is high, convergence can become slow. Motivates the question: How can we speed up gradient descent when the condition is high?**\n",
        "\n",
        "* Spoiler: handling a large condition number is what **momentum** is designed to do, and momentum is probably the most common acceleration technique used with GD and SGD in machine learning...so I had to teach you about conditioning to give you the intuition to understand momentum."
      ]
    },
    {
      "cell_type": "markdown",
      "metadata": {
        "slideshow": {
          "slide_type": "slide"
        }
      },
      "source": [
        "### Simple quadratic\n",
        "\n",
        "To build our intuition about the condition number, let's look at the simplest possible setting with a non-1 condition number: a 2D quadratic.\n",
        "\n",
        "$$f(w) = f(w_1, w_2) = \\frac{L}{2} w_1^2 + \\frac{\\mu}{2} w_2^2 = \\frac{1}{2} \\begin{bmatrix} w_1 \\\\ w_2 \\end{bmatrix}^T \\begin{bmatrix} L & 0 \\\\ 0 & \\mu \\end{bmatrix} \\begin{bmatrix} w_1 \\\\ w_2 \\end{bmatrix}.$$\n",
        "\n",
        "The optimum value occurs at $w^* = 0$ (where $f(w^*) = 0$), and the second derivative matrix is the constant\n",
        "\n",
        "$$\\nabla^2 f(w) = \\begin{bmatrix} L & 0 \\\\ 0 & \\mu \\end{bmatrix},$$"
      ]
    },
    {
      "cell_type": "markdown",
      "metadata": {
        "slideshow": {
          "slide_type": "slide"
        }
      },
      "source": [
        "Let's think about what gradient descent (with constant learning rate) is going to do on this problem.\n",
        "The update rule will be\"\n",
        "\\begin{align*}\n",
        "  (w_{t+1})_1 &= (w_{t})_1 - \\alpha L (w_t)_1 \\\\\n",
        "  (w_{t+1})_2 &= (w_{t})_2 - \\alpha \\mu (w_t)_2.\n",
        "\\end{align*}\n",
        "This means that\n",
        "\\begin{align*}\n",
        "  \\left( (w_T)_1 \\right)^2 &= (1 - \\alpha L)^{2T} \\left( (w_0)_1 \\right)^2 \\\\\n",
        "  \\left( (w_T)_2 \\right)^2 &= (1 - \\alpha \\mu)^{2T} \\left( (w_0)_2 \\right)^2\n",
        "\\end{align*}"
      ]
    },
    {
      "cell_type": "markdown",
      "metadata": {
        "slideshow": {
          "slide_type": "fragment"
        }
      },
      "source": [
        "and so\n",
        "\n",
        "$$f(w_T) = \\frac{L}{2} (1 - \\alpha L)^{2T} \\left( (w_0)_1 \\right)^2 + \\frac{\\mu}{2} (1 - \\alpha \\mu)^{2T} \\left( (w_0)_2 \\right)^2.$$\n",
        "\n",
        "<div style=\"font-size:150%;color:forestgreen;font-weight:bold;text-align:center\">What will dominate this loss asymptotically as $T$ increases?</div>"
      ]
    },
    {
      "cell_type": "markdown",
      "metadata": {
        "slideshow": {
          "slide_type": "fragment"
        }
      },
      "source": [
        "<div style=\"font-size:150%;color:blue;font-weight:bold;text-align:left\">Answer: It's dominated by whichever term grows more slowly.</div>\n",
        "\n",
        "$$f(w_T) = \\mathcal{O}\\left( \\max(\\Abs{1 - \\alpha L}, \\Abs{1 - \\alpha \\mu})^{2T}  \\right).$$"
      ]
    },
    {
      "cell_type": "markdown",
      "metadata": {
        "slideshow": {
          "slide_type": "slide"
        }
      },
      "source": [
        "So we have this expression for our quadratic...\n",
        "$$f(w_T) = \\mathcal{O}\\left( \\max(\\Abs{1 - \\alpha L}, \\Abs{1 - \\alpha \\mu})^{2T}  \\right).$$\n",
        "Let's look at this inner max term as a function of $\\alpha$."
      ]
    },
    {
      "cell_type": "code",
      "execution_count": 16,
      "metadata": {
        "slideshow": {
          "slide_type": "-"
        }
      },
      "outputs": [
        {
          "data": {
            "image/png": "[encoded data removed]",
            "text/plain": [
              "<Figure size 432x288 with 1 Axes>"
            ]
          },
          "metadata": {
            "needs_background": "light"
          },
          "output_type": "display_data"
        }
      ],
      "source": [
        "mu = 1.0\n",
        "L = 2.0\n",
        "alpha = numpy.arange(0,1.5,0.01)\n",
        "alpha_opt = 2 / (L + mu);\n",
        "pyplot.plot(alpha, numpy.abs(1 - mu * alpha), label = \"$|1 - \\\\mu \\\\alpha|$\");\n",
        "pyplot.plot(alpha, numpy.abs(1 - L * alpha), label = \"$|1 - L \\\\alpha|$\");\n",
        "pyplot.plot(alpha, numpy.maximum(numpy.abs(1 - L * alpha),numpy.abs(1 - mu * alpha)), \"--\", label = \"$\\\\max(|1 - L \\\\alpha|,|1 - \\\\mu \\\\alpha|)$\");\n",
        "pyplot.plot([alpha_opt], [numpy.abs(1 - mu * alpha_opt)], \"o\", label = \"optimal point\")\n",
        "pyplot.title(\"Convergence Rate of GD on Quadratic Objective\");\n",
        "pyplot.xlabel(\"step size $\\\\alpha$\");\n",
        "pyplot.legend();"
      ]
    },
    {
      "cell_type": "markdown",
      "metadata": {
        "slideshow": {
          "slide_type": "-"
        }
      },
      "source": [
        "So while we would **want** to pick a smaller learning rate for the $L$ term, and a larger learning rate for the $\\mu$ term, we're forced to pick something in the middle.\n",
        "(Incidentally, this optimal learning rate occurs at\n",
        "\n",
        "$$\\alpha = \\frac{2}{L + \\mu}\n",
        "  \\hspace{1em}\n",
        "  \\Rightarrow\n",
        "  \\hspace{1em}\n",
        "  \\max(\\Abs{1 - \\alpha L}, \\Abs{1 - \\alpha \\mu}) = \\frac{L - \\mu}{L + \\mu} = \\frac{\\kappa - 1}{\\kappa + 1} = 1 - \\frac{2}{\\kappa + 1}.$$\n",
        "  \n",
        "but it's not super important to know this.)\n",
        "That is, weâ€™d like to **set the step size larger for dimension with less curvature, and smaller for the dimension with more curvature**.\n",
        "\n",
        "But we <span style=\"color:red;font-weight:bold\">can't do this with plain GD or SGD, because there is only one step-size parameter</span>."
      ]
    },
    {
      "cell_type": "markdown",
      "metadata": {
        "slideshow": {
          "slide_type": "slide"
        }
      },
      "source": [
        "### What can we do about this problem?\n",
        "\n",
        "Three common solutions:\n",
        "\n",
        "* Momentum (this lecture)\n",
        "* Adaptive learning rates (next week)\n",
        "* Preconditioning (next week)"
      ]
    },
    {
      "cell_type": "markdown",
      "metadata": {
        "slideshow": {
          "slide_type": "slide"
        }
      },
      "source": [
        "## Momentum\n",
        "\n",
        "Motivation: try to tell the difference between more and less curved directions using information already available in gradient descent.\n",
        "\n",
        "Idea: in the one-dimensional case, if the gradients **are reversing sign**, then the step size is too large, because we're overshooting the optimum.\n",
        "\n",
        "Conversely, if the gradients are staying in the same direction, then the step size is too small.\n",
        "\n",
        "**Can we use this to make steps smaller when gradients reverse sign and larger when gradients are consistently in the same direction?**"
      ]
    },
    {
      "cell_type": "markdown",
      "metadata": {
        "slideshow": {
          "slide_type": "slide"
        }
      },
      "source": [
        "### Polyak momentum step.\n",
        "\n",
        "Adds an extra **momentum term** to gradient descent.\n",
        "\n",
        "$$w_{t+1} = w_t - \\alpha \\nabla f(w_t) + \\beta (w_t - w_{t-1}).$$\n",
        " \n",
        "Intuition:\n",
        "* If the current gradient is in the same direction as the previous step, move a little further in the same direction.\n",
        "* If it's in the opposite direction, move a little less far.\n",
        "\n",
        "This is also known as the **heavy ball method** because it approximately simulates the dynamics of a ball that has physical momentum sliding through the space we want to optimize over.\n"
      ]
    },
    {
      "cell_type": "markdown",
      "metadata": {
        "slideshow": {
          "slide_type": "slide"
        }
      },
      "source": [
        "### Analysis of Polyak Momentum.\n",
        "\n",
        "Rather than showing you the full analysis for convex functions, we'll look at a simple case that lets us build intuition: the case of **1D quadratics**.\n",
        "\n",
        "$$f(w) = \\frac{\\lambda}{2} w^2.$$\n",
        "\n",
        "Using this, Polyak momentum's update step looks like\n",
        "\n",
        "\\begin{align*}\n",
        "  w_{t+1} \n",
        "  &=\n",
        "  w_t - \\alpha \\lambda w_t + \\beta (w_t - w_{t-1}) \\\\\n",
        "  &=\n",
        "  (1 + \\beta - \\alpha \\lambda) w_t - \\beta w_{t-1}.\n",
        "\\end{align*}"
      ]
    },
    {
      "cell_type": "markdown",
      "metadata": {
        "slideshow": {
          "slide_type": "fragment"
        }
      },
      "source": [
        "We can write this in terms of a matrix multiplication as\n",
        "\n",
        "$$\\begin{bmatrix} w_{t+1} \\\\ w_t \\end{bmatrix}\n",
        "  =\n",
        "  \\begin{bmatrix}  (1 + \\beta - \\alpha \\lambda) & -\\beta \\\\ 1 & 0 \\end{bmatrix}\n",
        "  \\begin{bmatrix} w_t \\\\ w_{t-1} \\end{bmatrix}.$$\n",
        "  \n",
        "  This is sometimes called the **companion matrix** of the process."
      ]
    },
    {
      "cell_type": "markdown",
      "metadata": {
        "slideshow": {
          "slide_type": "fragment"
        }
      },
      "source": [
        "If we call this matrix $M \\in \\R^{2 \\times 2}$, then by induction we get\n",
        "\n",
        "$$\\begin{bmatrix} w_{K+1} \\\\ w_K \\end{bmatrix}\n",
        "  =\n",
        "  M\n",
        "  \\begin{bmatrix} w_K \\\\ w_{K-1} \\end{bmatrix}\n",
        "  =\n",
        "  M^2\n",
        "  \\begin{bmatrix} w_{K-1} \\\\ w_{K-2} \\end{bmatrix}\n",
        "  =\n",
        "  \\cdots\n",
        "  =\n",
        "  M^K\n",
        "  \\begin{bmatrix} w_1 \\\\ w_0 \\end{bmatrix}.$$"
      ]
    },
    {
      "cell_type": "markdown",
      "metadata": {
        "slideshow": {
          "slide_type": "slide"
        }
      },
      "source": [
        "### Analysis of Polyak Momentum, continued...\n",
        "\n",
        "We need to learn some things about $M$ to make sense of this expression $M^K$.\n",
        "\n",
        "* Whenever we see a matrix raised to a power...it might be a good idea to use eigenvalues.\n",
        "\n",
        "Let's assume (without checking) that $M$ is diagonalizable, and it has two eigenvectors $u_1$ and $u_2$ with eigenvalues $\\chi_1$ and $\\chi_2$. I.e.\n",
        "\n",
        "$$M u_1 = \\chi_1 u_1$$\n",
        "\n",
        "and similarly for $u_2$. Then,\n",
        "\n",
        "$$M^K u_1 = M \\cdot M \\cdots M u_1 = \\chi_1 \\cdot \\chi_1 \\cdots \\chi_1 u_1 = \\chi_1^K u_1$$,\n",
        "\n",
        "and so in particular if our input is $\\begin{bmatrix}w_1 \\\\ w_0\\end{bmatrix} = c_1 u_1 + c_2 u_2$, for some constants $c_1$ and $c_2$, then\n",
        "\n",
        "$$M^K \\begin{bmatrix}w_1 \\\\ w_0\\end{bmatrix} = c_1 \\chi_1^K u_1 + c_2 \\chi_2^K u_2 = \\mathcal{O}\\left( \\max(|\\chi_1|,|\\chi_2|)^K \\right).$$"
      ]
    },
    {
      "cell_type": "markdown",
      "metadata": {
        "slideshow": {
          "slide_type": "fragment"
        }
      },
      "source": [
        "So (barring issues with $M$ not being diagonalizable) this algorithm is going to converge at a linear rate determined by the maximum absolute value of an eigenvalue of $M$.\n",
        "\n",
        "To understand how Polyak momentum converges **we need to understand the eigenvalues of $M$**."
      ]
    },
    {
      "cell_type": "markdown",
      "metadata": {
        "slideshow": {
          "slide_type": "slide"
        }
      },
      "source": [
        "### Onward to get the eigenvalues\n",
        "\n",
        "Recall: the eigenvalues of a matrix are the zeros of its characteristic polynomial.\n",
        "\n",
        "\\begin{align*}\n",
        "|\\chi I - M|\n",
        " & =\n",
        "  \\left| \\begin{bmatrix}  \\chi - (1 + \\beta - \\alpha \\lambda) & \\beta \\\\ -1 & \\chi \\end{bmatrix} \\right|\n",
        " \\\\& =\n",
        "  \\chi \\left( \\chi - (1 + \\beta - \\alpha \\lambda) \\right) + \\beta\n",
        " \\\\& =\n",
        "  \\chi^2 - (1 + \\beta - \\alpha \\lambda) \\chi + \\beta.\n",
        "\\end{align*}"
      ]
    },
    {
      "cell_type": "markdown",
      "metadata": {
        "slideshow": {
          "slide_type": "fragment"
        }
      },
      "source": [
        "So, by the quadratic formula, the eigenvalues of $M$ are going to be\n",
        "\n",
        "$$\\chi\n",
        "  =\n",
        "  \\frac{\n",
        "    (1 + \\beta - \\alpha \\lambda)\n",
        "    \\pm\n",
        "    \\sqrt{\n",
        "      (1 + \\beta - \\alpha \\lambda)^2\n",
        "      -\n",
        "      4 \\beta\n",
        "    }\n",
        "  }{\n",
        "    2\n",
        "  }.$$"
      ]
    },
    {
      "cell_type": "markdown",
      "metadata": {
        "slideshow": {
          "slide_type": "fragment"
        }
      },
      "source": [
        "Now we make **an important observation** that will simplify our lives. If\n",
        "\n",
        "$$(1 + \\beta - \\alpha \\lambda)^2 - 4 \\beta < 0$$\n",
        "\n",
        "which is equivalent to\n",
        "\n",
        "$$-1 \\le \\frac{1 + \\beta - \\alpha \\lambda}{2 \\sqrt{\\beta}} \\le 1,$$\n",
        "\n",
        "then the term in the square root will be negative.\n",
        "\n",
        "In this case: \n",
        "\n",
        "* the eigenvalues are complex, \n",
        "* and in particular they must be complex conjugates of each other.\n",
        "* So they must have the same absolute value\n",
        "  * because a complex number and its conjugate have the same absolute value\n",
        "* and the square of their absolute value must be equal to their product\n",
        "  * because a complex number's absolute value is the square root of itself times its conjugate.\n"
      ]
    },
    {
      "cell_type": "markdown",
      "metadata": {
        "slideshow": {
          "slide_type": "fragment"
        }
      },
      "source": [
        "Explicitly:\n",
        "\n",
        "$$\\chi_1^* = \\chi_2\n",
        "  \\hspace{2em}\\text{and}\\hspace{2em}\n",
        "  \\Abs{\\chi_1}^2 = \\Abs{\\chi_2}^2 = \\chi_1^* \\chi_1 = \\chi_1 \\chi_2.$$\n",
        "  \n",
        "  But this last term is just the product of the eigenvalues of $M$. And we know what the product of the eigenvalues of $M$ is: that's just the determinant of $M$, which is $\\beta$.\n",
        "  \n",
        "* It's also the constant term in the characteristic polynomial.\n",
        "\n",
        "This means that\n",
        "\n",
        "$$\\Abs{\\chi_1} = \\Abs{\\chi_2} = \\sqrt{\\Abs{\\chi_1 \\chi_2}} = \\sqrt{\\beta}.$$"
      ]
    },
    {
      "cell_type": "markdown",
      "metadata": {
        "slideshow": {
          "slide_type": "slide"
        }
      },
      "source": [
        "### So, we've got our convergence rate!\n",
        "\n",
        "Since $\\Abs{\\chi} = \\sqrt{\\beta}$, this means that the iterates $w_t$ of momentum converge at a rate of $\\sqrt{\\beta}$ in this case!\n",
        "\n",
        "* Or, equivalently, $f(w_t) = \\lambda w_t^2 / 2$ will be approaching zero at a linear rate of $\\beta^t$, since it's the square\n",
        "\n",
        "Note that this happens no matter what the step size is, as long as our condition is satisfied that\n",
        "\n",
        "$$-1 \\le \\frac{1 + \\beta - \\alpha \\lambda}{2 \\sqrt{\\beta}} \\le 1.$$\n"
      ]
    },
    {
      "cell_type": "markdown",
      "metadata": {
        "slideshow": {
          "slide_type": "slide"
        }
      },
      "source": [
        "<div style=\"font-size:300%;color:darkviolet;text-align:center\">DEMO</div>"
      ]
    },
    {
      "cell_type": "markdown",
      "metadata": {
        "slideshow": {
          "slide_type": "slide"
        }
      },
      "source": [
        "### What does this mean for multidimensional quadratics?\n",
        "\n",
        "For a multidimensional quadratic, we'll see the same dynamics as the single-dimension quadratic along each of the eigenvectors of the second derivative matrix.\n",
        "\n",
        "* Why?\n"
      ]
    },
    {
      "cell_type": "markdown",
      "metadata": {
        "slideshow": {
          "slide_type": "fragment"
        }
      },
      "source": [
        "Importantly, they will all converge **at the same rate of** $\\beta^t$, even for directions of different curvature!\n",
        "\n",
        "This will happen as long as the condition\n",
        "\n",
        "$$ -1 \\le \\frac{1 + \\beta - \\alpha \\lambda}{2 \\sqrt{\\beta}} \\le 1$$\n",
        "\n",
        "is satisfied for *all* the directions' curvatures $\\lambda$."
      ]
    },
    {
      "cell_type": "markdown",
      "metadata": {
        "slideshow": {
          "slide_type": "fragment"
        }
      },
      "source": [
        "Since $\\mu \\le \\lambda \\le L$, this will hold if and only if\n",
        "\n",
        "$$-1 \\le \\frac{1 + \\beta - \\alpha L}{2 \\sqrt{\\beta}}\n",
        "  \\hspace{1em}\\text{ and }\\hspace{1em}\n",
        "  \\frac{1 + \\beta - \\alpha \\mu}{2 \\sqrt{\\beta}} \\le 1.$$"
      ]
    },
    {
      "cell_type": "markdown",
      "metadata": {
        "slideshow": {
          "slide_type": "slide"
        }
      },
      "source": [
        "## Choosing $\\beta$\n",
        "\n",
        "Now, we want to make $\\beta$ as small as possible to converge as fast as possible.\n",
        "How small can we make $\\beta$ to guarantee that our conditions hold for a quadratic?\n",
        "\n",
        "This smallest value of $\\beta$ will result in our inequalities holding with equality, so we'll get\n",
        "\n",
        "$$-1 = \\frac{1 + \\beta - \\alpha L}{2 \\sqrt{\\beta}}\n",
        "  \\hspace{1em}\\text{ and }\\hspace{1em}\n",
        "  \\frac{1 + \\beta - \\alpha \\mu}{2 \\sqrt{\\beta}} = 1.$$"
      ]
    },
    {
      "cell_type": "markdown",
      "metadata": {
        "slideshow": {
          "slide_type": "fragment"
        }
      },
      "source": [
        "...and when we solve this for $\\alpha$ and $\\beta$ (two equations, two unknowns), we get\n",
        "\n",
        "$$\\alpha = \\frac{2 + 2 \\beta}{L + \\mu}\n",
        "  \\hspace{1em}\\text{ and }\\hspace{1em}\n",
        "  \\sqrt{\\beta}\n",
        "  =\n",
        "  \\frac{\\sqrt{\\kappa} - 1}{\\sqrt{\\kappa} + 1}\n",
        "  =\n",
        "  1 - \\frac{2}{\\sqrt{\\kappa} + 1}.$$\n",
        "\n",
        "<span style=\"color:forestgreen;font-weight:bold\">How does this compare to the rate that we got for gradient descent without momentum?</span>"
      ]
    },
    {
      "cell_type": "markdown",
      "metadata": {
        "slideshow": {
          "slide_type": "-"
        }
      },
      "source": [
        "GD w/o Momentum: Converges like $\\left(1 - \\frac{1}{\\kappa}\\right)^T \\approx \\exp\\left(- \\frac{T}{\\kappa}\\right)$\n",
        "\n",
        "GD with Momentum: Converges like $\\left(1 - \\frac{2}{\\sqrt{\\kappa} + 1}\\right)^T \\approx \\exp\\left(- \\frac{2T}{\\sqrt{\\kappa} + 1}\\right)$"
      ]
    },
    {
      "cell_type": "markdown",
      "metadata": {
        "slideshow": {
          "slide_type": "fragment"
        }
      },
      "source": [
        "<span style=\"color:forestgreen;font-weight:bold\">Activity: What is the additional computational cost of running momentum? What is the memory requirement?</span>"
      ]
    },
    {
      "cell_type": "markdown",
      "metadata": {
        "slideshow": {
          "slide_type": "-"
        }
      },
      "source": [
        "..."
      ]
    },
    {
      "cell_type": "markdown",
      "metadata": {
        "slideshow": {
          "slide_type": "slide"
        }
      },
      "source": [
        "### How do we set the momentum for machine learning?\n",
        "\n",
        "* Often, just set it to be $\\beta = 0.9$ or $\\beta = 0.99$\n",
        "* Can also use a **hyperparameter optimization** method (which we'll cover later)"
      ]
    },
    {
      "cell_type": "markdown",
      "metadata": {
        "slideshow": {
          "slide_type": "slide"
        }
      },
      "source": [
        "**Takeaways:**\n",
        "\n",
        "* We needed a lot more than we did for the one-hypothesis case.\n",
        "* This seems to be a problem for training where we want to validate potentially thousands of models across potentially hundreds of epochs.\n",
        "* The problem with Chebyshev's inequality: the probabilities we are getting are not that small. Since we know that the sums are approaching something like a Gaussian distribution, we'd expect the probability of diverging some amount from the expected value to decrease exponentially as $a$ increases, since this is what happens for a Gaussian. But Chebyshev's inequality only gives us a polynomial decrease."
      ]
    },
    {
      "cell_type": "markdown",
      "metadata": {
        "slideshow": {
          "slide_type": "slide"
        }
      },
      "source": [
        "## Nesterov Momentum\n",
        "\n",
        "Slightly different from Polyak momentum; guaranteed to work for convex functions.\n",
        "\n",
        "* Whereas Polyak momentum is only guaranteed to have this nice acceleration for quadratics, Nesterov Momentum works for general strongly convex objectives.\n",
        "\n",
        "\\begin{align*}\n",
        "  v_{t+1} &= w_t - \\alpha \\nabla f(w_t) \\\\\n",
        "  w_{t+1} &= v_{t+1} + \\beta (v_{t+1} - v_t).\n",
        "\\end{align*}\n",
        "\n",
        "Main difference: separate the momentum state from the point that we are calculating the gradient at."
      ]
    },
    {
      "cell_type": "markdown",
      "metadata": {
        "slideshow": {
          "slide_type": "slide"
        }
      },
      "source": [
        "### Using Momentum With SGD\n",
        "\n",
        "\n",
        "Usually we run something like this:\n",
        "\n",
        "\\begin{align*}\n",
        "  v_{t+1} &= \\beta v_t - \\alpha \\nabla f_{\\tilde i_t}(w_t) \\\\\n",
        "  w_{t+1} &= w_t + v_{t+1}.\n",
        "\\end{align*}\n",
        "\n",
        "* But we give up the nice theoretical analysis!"
      ]
    },
    {
      "cell_type": "markdown",
      "metadata": {
        "slideshow": {
          "slide_type": "slide"
        }
      },
      "source": [
        "<div style=\"font-size:300%;color:darkviolet;text-align:center\">DEMO</div>"
      ]
    },
    {
      "cell_type": "code",
      "execution_count": null,
      "metadata": {
        
      },
      "outputs": [
        
      ],
      "source": [
        
      ]
    },
    {
      "cell_type": "code",
      "execution_count": null,
      "metadata": {
        
      },
      "outputs": [
        
      ],
      "source": [
        
      ]
    }
  ],
  "metadata": {
    "@webio": {
      "lastCommId": null,
      "lastKernelId": null
    },
    "celltoolbar": "Slideshow",
    "kernelspec": {
      "display_name": "Python 3",
      "language": "python",
      "name": "python3"
    },
    "language_info": {
      "codemirror_mode": {
        "name": "ipython",
        "version": 3
      },
      "file_extension": ".py",
      "mimetype": "text/x-python",
      "name": "python",
      "nbconvert_exporter": "python",
      "pygments_lexer": "ipython3",
      "version": "3.6.5"
    },
    "rise": {
      "scroll": true,
      "transition": "none"
    }
  },
  "nbformat": 4,
  "nbformat_minor": 2
}