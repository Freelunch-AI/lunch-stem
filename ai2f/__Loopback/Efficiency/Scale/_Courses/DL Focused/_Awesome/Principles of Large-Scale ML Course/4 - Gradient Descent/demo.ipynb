// 20220522051125
// https://www.cs.cornell.edu/courses/cs4787/2021sp/notebooks/Notebook4.ipynb

{
  "cells": [
    {
      "cell_type": "code",
      "execution_count": 1,
      "metadata": {
        
      },
      "outputs": [
        
      ],
      "source": [
        "import numpy\n",
        "import scipy\n",
        "import matplotlib\n",
        "from matplotlib import pyplot\n",
        "import http.client\n",
        "matplotlib.rcParams['figure.figsize'] = (10, 7)\n",
        "matplotlib.rcParams['font.size'] = 16"
      ]
    },
    {
      "cell_type": "code",
      "execution_count": 3,
      "metadata": {
        
      },
      "outputs": [
        
      ],
      "source": [
        "def process_libsvmdataset_line(line, num_features):\n",
        "    (label_str, features_string) = line.split(\" \",maxsplit=1)\n",
        "    label = float(label_str)\n",
        "    features = numpy.zeros(num_features)\n",
        "    for f in features_string.split(\" \"):\n",
        "        (i,v) = f.split(\":\");\n",
        "        features[int(i)-1] = float(v);\n",
        "    return (label,features)\n",
        "\n",
        "def get_cpusmall_dataset():\n",
        "    num_features = 12\n",
        "    conn = http.client.HTTPSConnection(\"www.csie.ntu.edu.tw\")\n",
        "    conn.request(\"GET\", \"/~cjlin/libsvmtools/datasets/regression/cpusmall\")\n",
        "    r = conn.getresponse()\n",
        "    assert(r.status == 200)\n",
        "    cpusmall_dataset_bytes = r.read()\n",
        "    cpusmall_dataset_str = cpusmall_dataset_bytes.decode(\"utf-8\")\n",
        "    cpusmall_dataset_lines = cpusmall_dataset_str.strip().split(\"\\n\")\n",
        "    num_examples = len(cpusmall_dataset_lines)\n",
        "    labels = numpy.zeros(num_examples)\n",
        "    features = numpy.zeros((num_examples, num_features+1)) #add one extra feature that's always 1, for the constant offset\n",
        "    for i in range(num_examples):\n",
        "        (label,feats) = process_libsvmdataset_line(cpusmall_dataset_lines[i], num_features)\n",
        "        labels[i] = label\n",
        "        features[i,0:num_features] = feats\n",
        "        features[i,num_features] = 1.0\n",
        "    return (labels, features)"
      ]
    },
    {
      "cell_type": "code",
      "execution_count": 4,
      "metadata": {
        
      },
      "outputs": [
        
      ],
      "source": [
        "# load the CPUsmall dataset from the libsvm datasets website\n",
        "(cpusmall_labels, cpusmall_examples) = get_cpusmall_dataset();"
      ]
    },
    {
      "cell_type": "code",
      "execution_count": 11,
      "metadata": {
        
      },
      "outputs": [
        {
          "data": {
            "text/plain": [
              "array([90., 88., 85., ..., 92., 96., 80.])"
            ]
          },
          "execution_count": 11,
          "metadata": {
            
          },
          "output_type": "execute_result"
        }
      ],
      "source": [
        "cpusmall_labels"
      ]
    },
    {
      "cell_type": "markdown",
      "metadata": {
        
      },
      "source": [
        "This is a linear regression task, which has empirical risk\n",
        "$$\n",
        "R(w) = \\frac{1}{n} \\sum_{i=1}^n (x_i^T w - y_i)^2.\n",
        "$$\n",
        "The gradient is\n",
        "$$\n",
        "\\nabla R(w) = \\frac{2}{n} \\sum_{i=1}^n x_i (x_i^T w - y_i).\n",
        "$$"
      ]
    },
    {
      "cell_type": "code",
      "execution_count": 12,
      "metadata": {
        
      },
      "outputs": [
        
      ],
      "source": [
        "# loss of linear regression task\n",
        "def linreg_loss(w, Xs, Ys):\n",
        "    return numpy.mean((Xs @ w - Ys)**2)\n",
        "\n",
        "# gradient of linear regression task\n",
        "def linreg_grad(w, Xs, Ys):\n",
        "    return (Xs.T @ (Xs @ w - Ys)) * (2/len(Ys))\n",
        "\n",
        "def linreg_gradient_descent(Xs, Ys, alpha, w0, num_iters):\n",
        "    w = w0;\n",
        "    losses = numpy.zeros(num_iters + 1)\n",
        "    for k in range(num_iters):\n",
        "        losses[k] = linreg_loss(w, Xs, Ys)\n",
        "        w = w - alpha * linreg_grad(w, Xs, Ys)\n",
        "    losses[num_iters] = linreg_loss(w, Xs, Ys)\n",
        "    return (w, losses);\n"
      ]
    },
    {
      "cell_type": "code",
      "execution_count": 13,
      "metadata": {
        
      },
      "outputs": [
        {
          "name": "stdout",
          "output_type": "stream",
          "text": [
            "optimal loss: 96.3657526859297\n"
          ]
        }
      ],
      "source": [
        "# we can find the exact solution as follows\n",
        "w_optimal = numpy.linalg.inv(cpusmall_examples.T @ cpusmall_examples) @ cpusmall_examples.T @ cpusmall_labels;\n",
        "loss_optimal = linreg_loss(w_optimal, cpusmall_examples, cpusmall_labels);\n",
        "\n",
        "print(f\"optimal loss: {loss_optimal}\");"
      ]
    },
    {
      "cell_type": "code",
      "execution_count": 14,
      "metadata": {
        
      },
      "outputs": [
        
      ],
      "source": [
        "w0 = numpy.zeros(13)\n",
        "alpha = 1e-13 # setting the step size larger results in divergence!\n",
        "num_iters = 50\n",
        "\n",
        "(w_gd, losses_gd) = linreg_gradient_descent(cpusmall_examples, cpusmall_labels, alpha, w0, num_iters)"
      ]
    },
    {
      "cell_type": "code",
      "execution_count": 15,
      "metadata": {
        
      },
      "outputs": [
        {
          "data": {
            "image/png": "[encoded data removed]",
            "text/plain": [
              "<Figure size 432x288 with 1 Axes>"
            ]
          },
          "metadata": {
            "needs_background": "light"
          },
          "output_type": "display_data"
        }
      ],
      "source": [
        "pyplot.plot(range(num_iters+1), losses_gd);\n",
        "pyplot.xlabel(\"iteration of gradient descent\");\n",
        "pyplot.ylabel(\"loss\");\n",
        "pyplot.title(\"Convergence of Gradient Descent on CPUsmall Linear Regression\");"
      ]
    },
    {
      "cell_type": "markdown",
      "metadata": {
        
      },
      "source": [
        "# Did gradient descent converge well on this example? Can we tell from this figure?\n",
        "\n",
        ".\n",
        "\n",
        ".\n",
        "\n",
        ".\n",
        "\n",
        ".\n",
        "\n",
        ".\n",
        "\n",
        ".\n",
        "\n",
        ".\n",
        "\n",
        ".\n",
        "\n",
        ".\n",
        "\n",
        ".\n",
        "\n",
        ".\n",
        "\n",
        ".\n",
        "\n",
        ".\n",
        "\n",
        ".\n",
        "\n",
        ".\n",
        "\n",
        ".\n",
        "\n",
        ".\n",
        "\n",
        ".\n",
        "\n"
      ]
    },
    {
      "cell_type": "code",
      "execution_count": 16,
      "metadata": {
        
      },
      "outputs": [
        {
          "data": {
            "image/png": "[encoded data removed]",
            "text/plain": [
              "<Figure size 432x288 with 1 Axes>"
            ]
          },
          "metadata": {
            "needs_background": "light"
          },
          "output_type": "display_data"
        }
      ],
      "source": [
        "pyplot.plot(range(num_iters+1), losses_gd, label=\"gradient descent\");\n",
        "pyplot.plot(range(num_iters+1), 0 * losses_gd + loss_optimal, linestyle=\":\", c=\"k\", label=\"optimal\");\n",
        "pyplot.xlabel(\"iteration of gradient descent\")\n",
        "pyplot.ylabel(\"loss\")\n",
        "pyplot.title(\"Convergence of Gradient Descent on CPUsmall Linear Regression\")\n",
        "pyplot.legend();"
      ]
    },
    {
      "cell_type": "markdown",
      "metadata": {
        
      },
      "source": [
        "# What went wrong? How could we fix this?\n",
        "\n",
        ".\n",
        "\n",
        ".\n",
        "\n",
        ".\n",
        "\n",
        ".\n",
        "\n",
        ".\n",
        "\n",
        ".\n",
        "\n",
        ".\n",
        "\n",
        ".\n",
        "\n",
        ".\n",
        "\n",
        ".\n",
        "\n",
        ".\n",
        "\n",
        ".\n",
        "\n",
        ".\n",
        "\n",
        ".\n",
        "\n",
        ".\n",
        "\n",
        ".\n",
        "\n",
        ".\n",
        "\n",
        ".\n",
        "\n",
        "## Maybe looking at the dataset would help!"
      ]
    },
    {
      "cell_type": "code",
      "execution_count": 20,
      "metadata": {
        
      },
      "outputs": [
        {
          "name": "stdout",
          "output_type": "stream",
          "text": [
            "62.0\n",
            "77.0\n",
            "3806.0\n",
            "258.0\n",
            "166.0\n",
            "1.4\n",
            "1.4\n",
            "492142.0\n",
            "268706.0\n",
            "5.2\n",
            "256.0\n",
            "1314590.0\n",
            "1.0\n"
          ]
        }
      ],
      "source": [
        "for i in range(13):\n",
        "    print(cpusmall_examples[2,i])"
      ]
    },
    {
      "cell_type": "markdown",
      "metadata": {
        
      },
      "source": [
        "## Does this give any new insights?\n",
        "\n",
        ".\n",
        "\n",
        ".\n",
        "\n",
        ".\n",
        "\n",
        ".\n",
        "\n",
        ".\n",
        "\n",
        ".\n",
        "\n",
        ".\n",
        "\n",
        ".\n",
        "\n",
        ".\n",
        "\n",
        ".\n",
        "\n",
        ".\n",
        "\n",
        ".\n",
        "\n",
        ".\n",
        "\n",
        ".\n"
      ]
    },
    {
      "cell_type": "code",
      "execution_count": 21,
      "metadata": {
        
      },
      "outputs": [
        
      ],
      "source": [
        "# normalize the examples in two ways\n",
        "\n",
        "# mean = 0, variance = 1\n",
        "cpusmall_mean = numpy.mean(cpusmall_examples, axis=0)\n",
        "cpusmall_mean[12] = 0.0 # keep the bias term\n",
        "cpusmall_var = numpy.mean((cpusmall_examples - cpusmall_mean)**2, axis=0)\n",
        "cpusmall_normalized1 = (cpusmall_examples - cpusmall_mean) / numpy.sqrt(cpusmall_var)\n",
        "\n",
        "# scale by max all features lie in [-1,1]\n",
        "cpusmall_max = numpy.max(numpy.abs(cpusmall_examples), axis=0)\n",
        "cpusmall_normalized2 = cpusmall_examples / cpusmall_max"
      ]
    },
    {
      "cell_type": "code",
      "execution_count": 22,
      "metadata": {
        
      },
      "outputs": [
        {
          "name": "stdout",
          "output_type": "stream",
          "text": [
            "optimal loss (without normalization): 96.3657526859297\n",
            "optimal loss (with  normalization 1): 96.3657526859297\n",
            "optimal loss (with  normalization 2): 96.3657526859297\n"
          ]
        }
      ],
      "source": [
        "# we can find the exact solution as follows\n",
        "w_opt_normalized1 = numpy.linalg.inv(cpusmall_normalized1.T @ cpusmall_normalized1) @ cpusmall_normalized1.T @ cpusmall_labels\n",
        "loss_opt_normalized1 = linreg_loss(w_opt_normalized1, cpusmall_normalized1, cpusmall_labels)\n",
        "\n",
        "w_opt_normalized2 = numpy.linalg.inv(cpusmall_normalized2.T @ cpusmall_normalized2) @ cpusmall_normalized2.T @ cpusmall_labels;\n",
        "loss_opt_normalized2 = linreg_loss(w_opt_normalized2, cpusmall_normalized2, cpusmall_labels)\n",
        "\n",
        "# should all be the same\n",
        "print(f\"optimal loss (without normalization): {loss_optimal}\");\n",
        "print(f\"optimal loss (with  normalization 1): {loss_opt_normalized1}\");\n",
        "print(f\"optimal loss (with  normalization 2): {loss_opt_normalized2}\");"
      ]
    },
    {
      "cell_type": "code",
      "execution_count": 23,
      "metadata": {
        
      },
      "outputs": [
        
      ],
      "source": [
        "w0 = numpy.zeros(13)\n",
        "alpha = 0.1 # setting the step size larger results in divergence!\n",
        "(w_gdn, losses_gdn1) = linreg_gradient_descent(cpusmall_normalized1, cpusmall_labels, alpha, w0, num_iters)\n",
        "\n",
        "w0 = numpy.zeros(13)\n",
        "alpha = 0.5 # setting the step size larger results in divergence!\n",
        "(w_gdn, losses_gdn2) = linreg_gradient_descent(cpusmall_normalized2, cpusmall_labels, alpha, w0, num_iters)"
      ]
    },
    {
      "cell_type": "code",
      "execution_count": 24,
      "metadata": {
        
      },
      "outputs": [
        {
          "data": {
            "image/png": "[encoded data removed]",
            "text/plain": [
              "<Figure size 432x288 with 1 Axes>"
            ]
          },
          "metadata": {
            "needs_background": "light"
          },
          "output_type": "display_data"
        }
      ],
      "source": [
        "pyplot.plot(range(num_iters+1), losses_gdn1, label=\"GD (var-normalized)\");\n",
        "pyplot.plot(range(num_iters+1), losses_gdn2, label=\"GD (max-normalized)\");\n",
        "pyplot.plot(range(num_iters+1), losses_gd, label=\"GD (unnormalized)\");\n",
        "pyplot.plot(range(num_iters+1), 0 * losses_gd + loss_optimal, linestyle=\":\", c=\"k\", label=\"optimal\");\n",
        "pyplot.xlabel(\"iteration of gradient descent\");\n",
        "pyplot.ylabel(\"loss\");\n",
        "pyplot.title(\"Convergence of Gradient Descent on CPUsmall Linear Regression\");\n",
        "pyplot.ylim((-100,2000))\n",
        "pyplot.legend();"
      ]
    },
    {
      "cell_type": "markdown",
      "metadata": {
        
      },
      "source": [
        "Can we interpret this in terms of the condition number?\n",
        "\n",
        "For linear regression, $$\\nabla^2 R(w) = 2 \\frac{1}{n} \\sum_{i=1}^n x_i x_i^T = \\frac{2}{n} X^T X.$$"
      ]
    },
    {
      "cell_type": "code",
      "execution_count": 25,
      "metadata": {
        
      },
      "outputs": [
        
      ],
      "source": [
        "D2R_unnormalized = (cpusmall_examples.T @ cpusmall_examples) * 2 / len(cpusmall_labels);\n",
        "D2R_normalized1 = (cpusmall_normalized1.T @ cpusmall_normalized1) * 2 / len(cpusmall_labels);\n",
        "D2R_normalized2 = (cpusmall_normalized2.T @ cpusmall_normalized2) * 2 / len(cpusmall_labels);"
      ]
    },
    {
      "cell_type": "code",
      "execution_count": 27,
      "metadata": {
        
      },
      "outputs": [
        
      ],
      "source": [
        "def condition_number(H):\n",
        "    # make sure H is symmetric for the eigendecomposition\n",
        "    H = (H + H.T) / 2;\n",
        "    ev = numpy.linalg.eigvals(H);\n",
        "    mu = numpy.min(ev);\n",
        "    L = numpy.max(ev);\n",
        "    kappa = L / mu;\n",
        "    return kappa;"
      ]
    },
    {
      "cell_type": "code",
      "execution_count": 28,
      "metadata": {
        
      },
      "outputs": [
        {
          "name": "stdout",
          "output_type": "stream",
          "text": [
            "unnormalized, kappa = 49943068260030.8\n"
          ]
        }
      ],
      "source": [
        "print(f\"unnormalized, kappa = {(condition_number(D2R_unnormalized))}\")"
      ]
    },
    {
      "cell_type": "code",
      "execution_count": 29,
      "metadata": {
        
      },
      "outputs": [
        {
          "name": "stdout",
          "output_type": "stream",
          "text": [
            "var normalized, kappa = 43.805303354607034\n"
          ]
        }
      ],
      "source": [
        "print(f\"var normalized, kappa = {(condition_number(D2R_normalized1))}\")"
      ]
    },
    {
      "cell_type": "code",
      "execution_count": 30,
      "metadata": {
        
      },
      "outputs": [
        {
          "name": "stdout",
          "output_type": "stream",
          "text": [
            "max normalized, kappa = 14128.211688196854\n"
          ]
        }
      ],
      "source": [
        "print(f\"max normalized, kappa = {(condition_number(D2R_normalized2))}\")"
      ]
    },
    {
      "cell_type": "markdown",
      "metadata": {
        
      },
      "source": [
        "# What can we conclude from this demo?"
      ]
    },
    {
      "cell_type": "code",
      "execution_count": null,
      "metadata": {
        
      },
      "outputs": [
        
      ],
      "source": [
        
      ]
    }
  ],
  "metadata": {
    "@webio": {
      "lastCommId": null,
      "lastKernelId": null
    },
    "kernelspec": {
      "display_name": "Python 3",
      "language": "python",
      "name": "python3"
    },
    "language_info": {
      "codemirror_mode": {
        "name": "ipython",
        "version": 3
      },
      "file_extension": ".py",
      "mimetype": "text/x-python",
      "name": "python",
      "nbconvert_exporter": "python",
      "pygments_lexer": "ipython3",
      "version": "3.6.5"
    }
  },
  "nbformat": 4,
  "nbformat_minor": 2
}