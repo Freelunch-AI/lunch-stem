// 20220522160110
// https://www.cs.cornell.edu/courses/cs4787/2021sp/notebooks/Slides26.ipynb

{
  "cells": [
    {
      "cell_type": "markdown",
      "metadata": {
        "slideshow": {
          "slide_type": "slide"
        }
      },
      "source": [
        "# Lecture 26: ML Accelerators\n",
        "\n",
        "## CS4787 â€” Principles of Large-Scale Machine Learning Systems"
      ]
    },
    {
      "cell_type": "code",
      "execution_count": 1,
      "metadata": {
        "slideshow": {
          "slide_type": "skip"
        }
      },
      "outputs": [
        
      ],
      "source": [
        "using PyPlot\n",
        "using LinearAlgebra\n",
        "using Statistics"
      ]
    },
    {
      "cell_type": "markdown",
      "metadata": {
        "slideshow": {
          "slide_type": "slide"
        }
      },
      "source": [
        "## Final Exam Logistics\n",
        "\n",
        "Scheduled for release at 5/18/2020 at 9:30 AM, and due 48 hours later."
      ]
    },
    {
      "cell_type": "markdown",
      "metadata": {
        "slideshow": {
          "slide_type": "slide"
        }
      },
      "source": [
        "So far, we've talked about machine learning running on two types of classical hardware: **CPUs** and **GPUs**.\n",
        "\n",
        "But these are not the only options for training and inferring ML models.\n",
        "\n",
        "An **exciting new generation of computer processors** is being developed to accelerate machine learning calculations.\n",
        "\n",
        "<div style=\"display: block; margin-left: auto; margin-right: auto; text-align: center\"><img src=\"https://cloud.google.com/images/products/tpu/cloud-tpu-v3-img.png\" style=\"display: inline; height: 256px;\" />  <img src=\"https://cloud.google.com/images/products/edge-tpu/edge-tpu-board-fpo.png\" style=\"display: inline; height: 256px;\" /> <img src=\"https://habana.ai/wp-content/uploads/2019/06/HL205card.jpg\" style=\"display: inline; height: 256px;\" /></div>\n",
        "\n",
        "These so-called **machine learning accelerators** (also called AI accelerators) have the potential to greatly increase the efficiency of ML tasks (usually deep neural network tasks), for both training and inference.\n",
        "\n",
        "* Beyond this, even the traditional-style CPU/GPU architectures are being modified to better support ML and AI applications.\n",
        "\n",
        "* Today, we'll talk about some of these trends."
      ]
    },
    {
      "cell_type": "markdown",
      "metadata": {
        "slideshow": {
          "slide_type": "slide"
        }
      },
      "source": [
        "## Overview of hardware in ML.\n",
        "\n",
        "As we saw in the first lecture, the ML pipeline has many different components.\n",
        "\n",
        "* Data collection, cleaning, labeling, and maintenance\n",
        "* Training\n",
        "* Hyperparameter optimization\n",
        "* Testing and validation\n",
        "* Inference and deployment\n",
        "* ...et cetera"
      ]
    },
    {
      "cell_type": "markdown",
      "metadata": {
        "slideshow": {
          "slide_type": "fragment"
        }
      },
      "source": [
        "Hardware can help improve performance pretty much everywhere in the pipeline, and there's interest from hardware vendors in designing better hardware for pretty much every aspect of the ML pipeline.\n",
        "Two main ways to do this:\n",
        "* Adapt existing architectures to ML tasks.\n",
        "* Develop brand-new architectures for ML.\n",
        "\n",
        "Both of these methods have seen significant use in recent years."
      ]
    },
    {
      "cell_type": "markdown",
      "metadata": {
        "slideshow": {
          "slide_type": "fragment"
        }
      },
      "source": [
        "<span class=\"question\">What improvements can we hope to get from better hardware in the ML pipeline? How can hardware make our ML systems better?</span>"
      ]
    },
    {
      "cell_type": "markdown",
      "metadata": {
        "slideshow": {
          "slide_type": "-"
        }
      },
      "source": [
        "* Power efficiency â€” especially for edge deviced\n",
        "\n",
        "* Better throughput â€” handle larger datasets, train better at scale\n",
        "\n",
        "* Better latency\n",
        "\n",
        "* More (fast) memory â€” scale up models with more parameters without destroying performance"
      ]
    },
    {
      "cell_type": "markdown",
      "metadata": {
        "slideshow": {
          "slide_type": "-"
        }
      },
      "source": [
        "<span class=\"question\">What does this mean for the statistical performance of our algorithms?</span>"
      ]
    },
    {
      "cell_type": "markdown",
      "metadata": {
        "slideshow": {
          "slide_type": "slide"
        }
      },
      "source": [
        "### Effect of Hardware on Statistical Performance\n",
        "\n",
        "Sometimes, when we move to a different hardware device, we expect to get the same results: same learned model, same accuracy.\n",
        "\n",
        "But this is not always the case. Why?"
      ]
    },
    {
      "cell_type": "markdown",
      "metadata": {
        "slideshow": {
          "slide_type": "fragment"
        }
      },
      "source": [
        "* One reason: floating point arithmetic is not associative, so reordering to get better performance on different hardware can change the results slightly!"
      ]
    },
    {
      "cell_type": "code",
      "execution_count": 2,
      "metadata": {
        "slideshow": {
          "slide_type": "-"
        }
      },
      "outputs": [
        {
          "data": {
            "text/plain": [
              "0.6000000000000001"
            ]
          },
          "execution_count": 2,
          "metadata": {
            
          },
          "output_type": "execute_result"
        }
      ],
      "source": [
        "x = (0.1 + 0.2) + 0.3"
      ]
    },
    {
      "cell_type": "code",
      "execution_count": 3,
      "metadata": {
        "slideshow": {
          "slide_type": "-"
        }
      },
      "outputs": [
        {
          "data": {
            "text/plain": [
              "0.6"
            ]
          },
          "execution_count": 3,
          "metadata": {
            
          },
          "output_type": "execute_result"
        }
      ],
      "source": [
        "y = 0.1 + (0.2 + 0.3)"
      ]
    },
    {
      "cell_type": "code",
      "execution_count": 4,
      "metadata": {
        "slideshow": {
          "slide_type": "-"
        }
      },
      "outputs": [
        {
          "data": {
            "text/plain": [
              "false"
            ]
          },
          "execution_count": 4,
          "metadata": {
            
          },
          "output_type": "execute_result"
        }
      ],
      "source": [
        "x == y"
      ]
    },
    {
      "cell_type": "code",
      "execution_count": 5,
      "metadata": {
        
      },
      "outputs": [
        {
          "data": {
            "text/plain": [
              "1.1102230246251565e-16"
            ]
          },
          "execution_count": 5,
          "metadata": {
            
          },
          "output_type": "execute_result"
        }
      ],
      "source": [
        "abs(x - y)"
      ]
    },
    {
      "cell_type": "markdown",
      "metadata": {
        "slideshow": {
          "slide_type": "fragment"
        }
      },
      "source": [
        "* Another reason: randomness.\n",
        "  * Different hardware platforms could use different random generators or use random numbers in a different order. If we use different hardware with a different pseudorandom number generator (PRNG) then our results could be different."
      ]
    },
    {
      "cell_type": "markdown",
      "metadata": {
        "slideshow": {
          "slide_type": "fragment"
        }
      },
      "source": [
        "* Another reason: hardware can do approximation to trade-off precision for hardware efficiency.\n",
        "  * For example, if the hardware runs on 16-bit floats, it can give different results."
      ]
    },
    {
      "cell_type": "markdown",
      "metadata": {
        "slideshow": {
          "slide_type": "fragment"
        }
      },
      "source": [
        "**Generally, we expect specilized ML hardware to produce learned models that are similar in quality, but not necessarily exactly the same, as baseline chips (CPU/GPU).**"
      ]
    },
    {
      "cell_type": "markdown",
      "metadata": {
        "slideshow": {
          "slide_type": "slide"
        }
      },
      "source": [
        "### Programming ML Hardware\n",
        "\n",
        "One major issue when developing new hardware for ML, and the question we should always be asking: **how is the device programmed?**\n",
        "* To be useful for DNN applications, we should be able to map a high-level program written in something like TensorFlow/PyTorch/MxNet/Keras to run on the hardware.\n",
        "* Ideal scenario: users don't need to reason about the hardware that their code is running on. They just see the speedup.\n",
        "* Current state-of-the-art: users still need to give some thought to the hardware.\n",
        "  * For example, if the accelerator uses low-precision arithmetic, the performance of an algorithm in full precision on a CPU may differ from the performance of the algorithm in low-precision on the accelerator.\n",
        "  * But it is possible to get TensorFlow code to run on an accelerator with minimal modifications!"
      ]
    },
    {
      "cell_type": "markdown",
      "metadata": {
        "slideshow": {
          "slide_type": "slide"
        }
      },
      "source": [
        "## GPU as ML accelerator\n",
        "\n",
        "One important thing to realize is that the only real distinction between GPUs and ML accelerators is that GPUs weren't originally designed for AI/ML.\n",
        "\n",
        "But there's nothing in the architecture itself that particularly separates GPUs from all more purpose-built ML accelerators.\n",
        "* ...although individual accelerators do usually have features that GPUs lack.\n",
        "\n",
        "In fact, as machine learning tasks capture more of the market for GPUs, GPU designers have been adjusting their architectures to fit ML applications.\n",
        "\n",
        "* For example, by supporting low-precision arithmetic.\n",
        "\n",
        "* For example, by creating specialized compute paths for tasks common to DNN architectures.\n",
        "\n",
        "* For example, by making it easier for multiple GPUs to communicate with each other so as to collaborate together on a single training task.\n",
        "\n",
        "As GPU architectures become more specialized to AI tasks, it becomes more accurate to think of them as ML accelerators."
      ]
    },
    {
      "cell_type": "markdown",
      "metadata": {
        "slideshow": {
          "slide_type": "slide"
        }
      },
      "source": [
        "## FPGA as ML accelerator.\n",
        "\n",
        "All computer processors are basically integrated circuit: electronic circuits etched on a single piece of silicon.\n",
        "\n",
        "Usually this circuit is fixed when the chip is designed. \n",
        "\n",
        "A **field-programmable gate array** or FPGA is a type of chip that allows the end-user to reconfigure the circuit it computes in the field (hence the name).\n",
        "\n",
        "* You can program it by specifying the circuit you want it to compute in terms of logic gates: basic AND, OR, NOT, etc.\n",
        "  * Although in practice higher-level languages like Verilog are used.\n",
        "\n",
        "* Note that this doesn't actually involve physical changes to the circuit that's actually etched on the physical silicon of the FPGA: that's fixed. Rather, the FPGA constructs a logical circuit that is reconfigurable by connecting or disconnecting various parts of the circuit that is etched on its silicon.\n",
        "\n",
        "* FPGAs were used historically for circuit simulation.\n",
        "\n",
        "FPGAs consist of an array of programmable circuits that can each individually do a small amount of computation, as well as a programmable **interconnect** that connects these circuits together.\n",
        "The large number of programmable gates in the FPGA makes it a naturally highly parallel device."
      ]
    },
    {
      "cell_type": "markdown",
      "metadata": {
        
      },
      "source": [
        "### Why would we want to use an FPGA instead of a GPU/GPU?\n",
        "\n",
        "* An important property of FPGAs that distinguishes them from CPUs/GPUs: you can choose to **have data flow through the chip however you want!**\n",
        "\n",
        "  * Unlike CPUs which are tied to their cache-heirarchy-based data model, or GPUs which perform best under a streaming model.\n",
        "\n",
        "* FPGAs often use less power to accomplish the same work compared with other architectures.\n",
        "\n",
        "  * But they are also typically slower."
      ]
    },
    {
      "cell_type": "markdown",
      "metadata": {
        "slideshow": {
          "slide_type": "subslide"
        }
      },
      "source": [
        "### Why would we want to use an FPGA instead of an ASIC?\n",
        "\n",
        "When would we want to use an FPGA vs. building our own **application-specific integrated circuit** (ASIC) from scratch for our ML application?\n",
        "\n",
        "* Pro for FPGA: Much cheaper to program and FPGA than the design an ASIC.\n",
        "* Pro for FPGA: A single FPGA costs much less than the first ASIC you synthesize.\n",
        "* Pro for FPGA: FPGA designs can be adjusted on the fly."
      ]
    },
    {
      "cell_type": "markdown",
      "metadata": {
        "slideshow": {
          "slide_type": "fragment"
        }
      },
      "source": [
        "* Pro for ASIC: The marginal cost of producing an additional ASIC is lower if you really want to synthesize millions or billions of them.\n",
        "* Pro for ASIC: ASICs can typically achieve higher speed and lower power."
      ]
    },
    {
      "cell_type": "markdown",
      "metadata": {
        "slideshow": {
          "slide_type": "subslide"
        }
      },
      "source": [
        "## Who uses FPGAs in machine learning?\n",
        "\n",
        "Main one is Microsoft's Project Capatult/Project Brainwave (https://www.microsoft.com/en-us/research/project/project-catapult/). For example, their website milestone from 2017 says:\n",
        "\n",
        "<quote>_MSR and Bing launched hardware microservices, enabling one web-scale service to leverage multiple FPGA-accelerated applications distributed across a datacenter. Bing deployed the first FPGA-accelerated Deep Neural Network (DNN). MSR demonstrated that FPGAs can enable real-time AI, beating GPUs in ultra-low latency, even without batching inference requests._</quote>\n",
        "\n",
        "And from the paper _\"Serving DNNs in RealTime at Datacenter Scale with Project Brainwave\"_:\n",
        "\n",
        "<img src=\"./catapult.png\" style=\"display: block; margin-left: auto; margin-right: auto; width: 80%;\" />"
      ]
    },
    {
      "cell_type": "markdown",
      "metadata": {
        "slideshow": {
          "slide_type": "slide"
        }
      },
      "source": [
        "### The Tensor Processing Unit\n",
        "\n",
        "Google's Tensor Processing Unit (TPU) made a splash in 2015 as one of the first specialized architectures for machine learning and AI applications.\n",
        "\n",
        "The original version focused on fast inference via high-throughput 8-bit arithmetic.\n",
        "* Most of the chip is dedicated to accelerating 8-bit integer dense-matrix-dense-matrix multiplies\n",
        "  * Note that even though the numbers it multiples are in 8-bit, it uses 32-bit accumulators to sum up the results.\n",
        "  * This larger accumulator is common in ML architectures that use low precision. \n",
        "* ...with a little bit of logic on the side to apply activation functions.\n",
        "The second- and third-generation TPUs are designed to also support training and can calculate in floating point.\n",
        "\n",
        "This is now a real product you can buy and use yourself, both on the cloud (from https://cloud.google.com/tpu)\n",
        "\n",
        "<img src=\"./cloudtpu.png\" style=\"display: block; margin-left: auto; margin-right: auto; width: 70%;\" />\n",
        "\n",
        "and in physical hardware\n",
        "\n",
        "<img src=\"https://lh3.googleusercontent.com/83lPm0ffoxJZX63HX9EzMDKKtgLhzR4ym4iKOpudD5LuMQd329olIfkV3gcGRSb71NrPabWyKpo52YZpzO5_4Iic1AGYvFp9l7tAnGk=w2000-rw\" style=\"display: block; margin-left: auto; margin-right: auto; width: 70%;\" />\n",
        "\n",
        "This was not the case for ML accelerator hardware even three years ago!\n",
        "\n",
        "* Shows how much the market has changed and expanded."
      ]
    },
    {
      "cell_type": "markdown",
      "metadata": {
        "slideshow": {
          "slide_type": "subslide"
        }
      },
      "source": [
        "## How do we program a TPU?\n",
        "\n",
        "* Google supports running TensorFlow code on TPUs. This makes it (relatively) easy to train and infer deep neural networks using tools you're already familiar with."
      ]
    },
    {
      "cell_type": "markdown",
      "metadata": {
        "slideshow": {
          "slide_type": "subslide"
        }
      },
      "source": [
        "## Why might we use a TPU instead of a CPU/GPU?\n",
        "\n",
        "*  Pro for TPU: Google has some evidence that the TPU outperforms GPUs and other accelerators on benchmark tasks. From Google's blog: (https://cloud.google.com/blog/products/ai-machine-learning/mlperf-benchmark-establishes-that-google-cloud-offers-the-most-accessible-scale-for-machine-learning-training) \n",
        "\n",
        "   * \"For example, itâ€™s possible to achieve a 19\\% speed-up with a TPU v3 Pod on a chip-to-chip basis versus the current best-in-class on-premise system when tested on ResNet-50\"\n",
        "  \n",
        "   * But other hardware manufacturers make claims that their hardware is better...so you'll need to do some research to determine what is likely to be the best for your task and for the price point you care about.\n",
        "\t\n",
        "* Pro for TPU: Seems to have better power and somewhat better scalability than other options. E.g. you can scale up to 256 v3 TPUs in a pod.\n",
        "\n",
        "* Con for TPU: It can tie you to Google's Cloud Platform.\n",
        "\n",
        "* Con for TPU: Still might be a bit harder to program than GPUs/CPUs.\n",
        "\n",
        "   * For example, if you are writing your code in PyTorch"
      ]
    },
    {
      "cell_type": "markdown",
      "metadata": {
        "slideshow": {
          "slide_type": "slide"
        }
      },
      "source": [
        "### Other ML accelerators.\n",
        "\n",
        "Intel's **Nirvana Neural Network Processor**(NNP). (https://www.intel.ai/intel-nervana-neural-network-processors-nnp-redefine-ai-silicon/)\n",
        "\n",
        "* New AI hardware devices such as the neural compute stick\n",
        "\n",
        "<img src=\"https://software.intel.com/content/dam/develop/public/us/en/images/hardware/hardware-banner-ncs2-16x9.png.rendition.intel.web.720.405.png\" style=\"display: block; margin-left: auto; margin-right: auto; width: 30%;\" />\n",
        "\n",
        "* New class of hardware called \"Vision Processing Units\" (VPU) for computer vision on edge devices\n",
        "\n",
        "* Intel acquired Habana Labs recently and has been building new AI processors\n",
        "\n",
        "* **Main take-away here: there's buy-in for the idea of ML accelerator hardware from the biggest players in the computer processor space.**"
      ]
    },
    {
      "cell_type": "markdown",
      "metadata": {
        "slideshow": {
          "slide_type": "fragment"
        }
      },
      "source": [
        "**Apple's Neural Engine** within the A11 Bionic system-on-a-chip (and subsequent chips) for neural networks on iPhones.\n",
        "\n",
        "* General buy-in from device manufacturers that support for neural networks is needed in hardware for mobile devices."
      ]
    },
    {
      "cell_type": "markdown",
      "metadata": {
        "slideshow": {
          "slide_type": "fragment"
        }
      },
      "source": [
        "**Many start-ups in the ML hardware space** developing innovative new architectures.\n",
        "\n",
        "* There are too many chips to list...and unlike even last year we're now seeing many of these chips ready to buy on the market or use in the cloud."
      ]
    },
    {
      "cell_type": "markdown",
      "metadata": {
        "slideshow": {
          "slide_type": "-"
        }
      },
      "source": [
        "<span class=\"question\">Questions?</span>"
      ]
    },
    {
      "cell_type": "markdown",
      "metadata": {
        "slideshow": {
          "slide_type": "slide"
        }
      },
      "source": [
        "## Course Summary and Open Questions\n",
        "\n",
        "Scaling machine learning methods is increasingly important.\n",
        "\n",
        "In this course, we addressed the high-level question:\n",
        "**What principles underlie the methods that allow us to scale machine learning?**\n",
        "\n",
        "To answer this question, we used techniques from three broad areas: statistics, optimization, and systems.\n",
        "\n",
        "We articulated three broad principles, one in each area.\n",
        "\n",
        "* **Statistics Principle: Make it easier to process a large dataset by processing a small random subsample instead.**\n",
        "\n",
        "* **Optimization Principle: Write your learning task as an optimization problem, and solve it via fast general algorithms that update the model iteratively.**\n",
        "\n",
        "* **Systems Principle: Use algorithms that fit your hardware, and use hardware that fits your algorithms.**\n",
        "\n",
        "Now, some open questions in scalable ML that relate to the principles."
      ]
    },
    {
      "cell_type": "markdown",
      "metadata": {
        "slideshow": {
          "slide_type": "slide"
        }
      },
      "source": [
        "### Open problem: Reproducibility and debugging of machine learning systems.\n",
        "\n",
        "* Most of the algorithms we discussed in class are randomized, and random algorithms are hard to reproduce.\n",
        "  * Even when we don't use explicitly randomized methods, floating point imprecision can still make results difficult to reproduce exactly.\n",
        "    * For hardware efficiency, the compiler loves to reorder floating point operations (this is sometimes called fast math mode) which can introduce slight differences in the output of an ML system.\n",
        "\t* As a result, even running the same learning algorithm on the same data on different ML frameworks _can_ result in different learned models!\n",
        "* Reproducibility is also made more challenging when hyperparameter optimization is used.\n",
        "  * Unless you have the random seed, it's impossible to reproduce someone else's random search.\n",
        "  * Hyperparameter optimization provides lots of opportunity for (possibly unintentional) cheating, where the test set is used improperly.\n",
        "* ML models are difficult to debug because they often **learn around bugs**."
      ]
    },
    {
      "cell_type": "markdown",
      "metadata": {
        "slideshow": {
          "slide_type": "slide"
        }
      },
      "source": [
        "### Open problem: More scalable distributed machine learning\n",
        "\n",
        "* Distributed machine learning has this fundamental tradeoff with the batch size.\n",
        "  * Larger batch size good for systems because there's more parallelism.\n",
        "  * Smaller batch size good for statistics because we can make more \"progress\" per gradient sample. (For the same reason that SGD is generally better than gradient descent.)\n",
        "* Communication among workers is expensive in distributed learning.\n",
        "  * Need provably robust ways of compressing this communication to use fewer bits.\n",
        "* The datacenters of the future will likely have many heterogeneous workers available.\n",
        "  *  How can we best distribute a learning workload across heterogeneous workers? \n",
        "* When running many workers in parallel, the performance will start to be bound by **stragglers**, workers that take longer to work than their counterparts. How can we deal with this while still retaining performance guarantees?"
      ]
    },
    {
      "cell_type": "markdown",
      "metadata": {
        "slideshow": {
          "slide_type": "slide"
        }
      },
      "source": [
        "### Open problem: Robustness to adversarial examples.\n",
        "\n",
        "* It's easy to construct examples that fool a deep neural network.\n",
        "* How can we make our scalable ML methods provably robust to these type of attacks?"
      ]
    },
    {
      "cell_type": "markdown",
      "metadata": {
        "slideshow": {
          "slide_type": "slide"
        }
      },
      "source": [
        "# Thank you!\n",
        "\n",
        "### That's all for this course. You all have been a pleasure to work with, even though the challenges remote learning has presented."
      ]
    },
    {
      "cell_type": "code",
      "execution_count": null,
      "metadata": {
        
      },
      "outputs": [
        
      ],
      "source": [
        
      ]
    }
  ],
  "metadata": {
    "celltoolbar": "Slideshow",
    "kernelspec": {
      "display_name": "Julia 1.4.0",
      "language": "julia",
      "name": "julia-1.4"
    },
    "language_info": {
      "file_extension": ".jl",
      "mimetype": "application/julia",
      "name": "julia",
      "version": "1.4.0"
    },
    "rise": {
      "scroll": true
    }
  },
  "nbformat": 4,
  "nbformat_minor": 2
}