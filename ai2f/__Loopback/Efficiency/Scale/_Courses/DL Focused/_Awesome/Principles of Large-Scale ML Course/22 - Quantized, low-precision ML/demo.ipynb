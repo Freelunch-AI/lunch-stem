// 20220522155638
// https://www.cs.cornell.edu/courses/cs4787/2021sp/notebooks/Notebook22.ipynb

{
  "cells": [
    {
      "cell_type": "markdown",
      "metadata": {
        
      },
      "source": [
        "## Let's look at the binary representation of floating point numbers"
      ]
    },
    {
      "cell_type": "code",
      "execution_count": 1,
      "metadata": {
        
      },
      "outputs": [
        {
          "data": {
            "text/plain": [
              "binary_as_float32 (generic function with 1 method)"
            ]
          },
          "execution_count": 1,
          "metadata": {
            
          },
          "output_type": "execute_result"
        }
      ],
      "source": [
        "function float32_as_binary(x::Float32)\n",
        "    bs = bitstring(x);\n",
        "    println(\" \", bs[1:1], \"    \", bs[2:9], \"    \", bs[10:32]);\n",
        "    println(\"sgn   exponent           mantissa\");\n",
        "end\n",
        "\n",
        "function binary_as_float32(sgn::String, exponent::String, mantissa::String)\n",
        "    @assert(length(sgn)==1);\n",
        "    @assert(length(exponent)==8);\n",
        "    @assert(length(mantissa)==23);\n",
        "    return reinterpret(Float32,parse(UInt32,sgn*exponent*mantissa;base=2));\n",
        "end"
      ]
    },
    {
      "cell_type": "code",
      "execution_count": 2,
      "metadata": {
        
      },
      "outputs": [
        {
          "data": {
            "text/plain": [
              "3.0f0"
            ]
          },
          "execution_count": 2,
          "metadata": {
            
          },
          "output_type": "execute_result"
        }
      ],
      "source": [
        "x = Float32(3.0)"
      ]
    },
    {
      "cell_type": "markdown",
      "metadata": {
        
      },
      "source": [
        "$3 = 11_b = 1.1_b \\times 10_b^1 = 1.1_b \\times 10_b^{128 - 127} = 1.1_b \\times 10_b^{10000000_b - 127}$"
      ]
    },
    {
      "cell_type": "markdown",
      "metadata": {
        
      },
      "source": [
        "(sign) (exponent) (mantissa)\n",
        "0 10000000 100000000000...0"
      ]
    },
    {
      "cell_type": "code",
      "execution_count": 3,
      "metadata": {
        
      },
      "outputs": [
        {
          "name": "stdout",
          "output_type": "stream",
          "text": [
            " 0    10000000    10000000000000000000000\n",
            "sgn   exponent           mantissa\n"
          ]
        }
      ],
      "source": [
        "float32_as_binary(x)"
      ]
    },
    {
      "cell_type": "code",
      "execution_count": 4,
      "metadata": {
        
      },
      "outputs": [
        {
          "name": "stdout",
          "output_type": "stream",
          "text": [
            " 0    10000000    11000000000000000000000\n",
            "sgn   exponent           mantissa\n"
          ]
        }
      ],
      "source": [
        "float32_as_binary(Float32(3.5))"
      ]
    },
    {
      "cell_type": "code",
      "execution_count": 18,
      "metadata": {
        
      },
      "outputs": [
        {
          "data": {
            "text/plain": [
              "1.0f-45"
            ]
          },
          "execution_count": 18,
          "metadata": {
            
          },
          "output_type": "execute_result"
        }
      ],
      "source": [
        "binary_as_float32(\"0\",\"00000000\",\"00000000000000000000001\")"
      ]
    },
    {
      "cell_type": "code",
      "execution_count": 22,
      "metadata": {
        
      },
      "outputs": [
        {
          "data": {
            "text/plain": [
              "5.0e-324"
            ]
          },
          "execution_count": 22,
          "metadata": {
            
          },
          "output_type": "execute_result"
        }
      ],
      "source": [
        "reinterpret(Float64, UInt64(1))"
      ]
    },
    {
      "cell_type": "code",
      "execution_count": 23,
      "metadata": {
        
      },
      "outputs": [
        {
          "data": {
            "text/plain": [
              "Inf32"
            ]
          },
          "execution_count": 23,
          "metadata": {
            
          },
          "output_type": "execute_result"
        }
      ],
      "source": [
        "Float32(1.0) / Float32(0.0)"
      ]
    },
    {
      "cell_type": "code",
      "execution_count": 24,
      "metadata": {
        
      },
      "outputs": [
        {
          "data": {
            "text/plain": [
              "NaN32"
            ]
          },
          "execution_count": 24,
          "metadata": {
            
          },
          "output_type": "execute_result"
        }
      ],
      "source": [
        "Float32(0.0) / Float32(0.0)"
      ]
    },
    {
      "cell_type": "code",
      "execution_count": 27,
      "metadata": {
        
      },
      "outputs": [
        {
          "ename": "DomainError",
          "evalue": "DomainError with -1.0:\nsqrt will only return a complex result if called with a complex argument. Try sqrt(Complex(x)).",
          "output_type": "error",
          "traceback": [
            "DomainError with -1.0:\nsqrt will only return a complex result if called with a complex argument. Try sqrt(Complex(x)).",
            "",
            "Stacktrace:",
            " [1] throw_complex_domainerror(::Symbol, ::Float32) at ./math.jl:33",
            " [2] sqrt(::Float32) at ./math.jl:557",
            " [3] top-level scope at In[27]:1"
          ]
        }
      ],
      "source": [
        "sqrt(Float32(-1.0))"
      ]
    },
    {
      "cell_type": "code",
      "execution_count": 28,
      "metadata": {
        
      },
      "outputs": [
        {
          "data": {
            "text/plain": [
              "NaN32"
            ]
          },
          "execution_count": 28,
          "metadata": {
            
          },
          "output_type": "execute_result"
        }
      ],
      "source": [
        "Float32(1.0) / Float32(0.0) - Float32(1.0) / Float32(0.0)"
      ]
    },
    {
      "cell_type": "code",
      "execution_count": 29,
      "metadata": {
        
      },
      "outputs": [
        {
          "data": {
            "text/plain": [
              "-0.0f0"
            ]
          },
          "execution_count": 29,
          "metadata": {
            
          },
          "output_type": "execute_result"
        }
      ],
      "source": [
        "neg0 = binary_as_float32(\"1\",\"00000000\",\"00000000000000000000000\")"
      ]
    },
    {
      "cell_type": "code",
      "execution_count": 37,
      "metadata": {
        
      },
      "outputs": [
        {
          "data": {
            "text/plain": [
              "-Inf32"
            ]
          },
          "execution_count": 37,
          "metadata": {
            
          },
          "output_type": "execute_result"
        }
      ],
      "source": [
        "Float32(1.0) / neg0"
      ]
    },
    {
      "cell_type": "code",
      "execution_count": 38,
      "metadata": {
        
      },
      "outputs": [
        {
          "data": {
            "text/plain": [
              "-0.0f0"
            ]
          },
          "execution_count": 38,
          "metadata": {
            
          },
          "output_type": "execute_result"
        }
      ],
      "source": [
        "-Float32(0.0)"
      ]
    },
    {
      "cell_type": "markdown",
      "metadata": {
        
      },
      "source": [
        "If $x = y$, does that mean that $f(x) = f(y)$?"
      ]
    },
    {
      "cell_type": "code",
      "execution_count": 31,
      "metadata": {
        
      },
      "outputs": [
        {
          "data": {
            "text/plain": [
              "true"
            ]
          },
          "execution_count": 31,
          "metadata": {
            
          },
          "output_type": "execute_result"
        }
      ],
      "source": [
        "x = -Float32(0.0);\n",
        "y = Float32(0.0);\n",
        "x == y"
      ]
    },
    {
      "cell_type": "code",
      "execution_count": 36,
      "metadata": {
        
      },
      "outputs": [
        {
          "data": {
            "text/plain": [
              "false"
            ]
          },
          "execution_count": 36,
          "metadata": {
            
          },
          "output_type": "execute_result"
        }
      ],
      "source": [
        "x / x == x / x"
      ]
    },
    {
      "cell_type": "code",
      "execution_count": 39,
      "metadata": {
        
      },
      "outputs": [
        {
          "data": {
            "text/plain": [
              "0.33333334f0"
            ]
          },
          "execution_count": 39,
          "metadata": {
            
          },
          "output_type": "execute_result"
        }
      ],
      "source": [
        "Float32(1.0) / Float32(3.0)"
      ]
    },
    {
      "cell_type": "code",
      "execution_count": 42,
      "metadata": {
        
      },
      "outputs": [
        {
          "name": "stdout",
          "output_type": "stream",
          "text": [
            " 0    01111101    01010101010101010101011\n",
            "sgn   exponent           mantissa\n"
          ]
        }
      ],
      "source": [
        "float32_as_binary(0.33333334f0)"
      ]
    },
    {
      "cell_type": "code",
      "execution_count": 40,
      "metadata": {
        
      },
      "outputs": [
        {
          "name": "stdout",
          "output_type": "stream",
          "text": [
            " 0    01111101    01010101010101010101011\n",
            "sgn   exponent           mantissa\n"
          ]
        }
      ],
      "source": [
        "float32_as_binary(Float32(1.0) / Float32(3.0))"
      ]
    },
    {
      "cell_type": "code",
      "execution_count": 43,
      "metadata": {
        
      },
      "outputs": [
        {
          "data": {
            "text/plain": [
              "0.3333333432674408"
            ]
          },
          "execution_count": 43,
          "metadata": {
            
          },
          "output_type": "execute_result"
        }
      ],
      "source": [
        "Float64(Float32(1.0) / Float32(3.0))"
      ]
    },
    {
      "cell_type": "code",
      "execution_count": 45,
      "metadata": {
        
      },
      "outputs": [
        {
          "data": {
            "text/plain": [
              "0.1f0"
            ]
          },
          "execution_count": 45,
          "metadata": {
            
          },
          "output_type": "execute_result"
        }
      ],
      "source": [
        "0.1f0"
      ]
    },
    {
      "cell_type": "code",
      "execution_count": 46,
      "metadata": {
        
      },
      "outputs": [
        {
          "data": {
            "text/plain": [
              "0.10000000149011612"
            ]
          },
          "execution_count": 46,
          "metadata": {
            
          },
          "output_type": "execute_result"
        }
      ],
      "source": [
        "Float64(0.1f0)"
      ]
    },
    {
      "cell_type": "code",
      "execution_count": 48,
      "metadata": {
        
      },
      "outputs": [
        {
          "data": {
            "text/plain": [
              "2.9802322443206464e-8"
            ]
          },
          "execution_count": 48,
          "metadata": {
            
          },
          "output_type": "execute_result"
        }
      ],
      "source": [
        "abs(Float32(1.0) / Float32(3.0) - Float64(1.0) / Float64(3.0)) / (Float64(1/3))"
      ]
    },
    {
      "cell_type": "markdown",
      "metadata": {
        
      },
      "source": [
        "machine epsilion: $1.2 \\times 10^{-7}$"
      ]
    },
    {
      "cell_type": "markdown",
      "metadata": {
        
      },
      "source": [
        ".\n",
        "\n",
        ".\n",
        "\n",
        ".\n",
        "\n",
        ".\n",
        "\n",
        ".\n",
        "\n",
        ".\n",
        "\n",
        ".\n",
        "\n",
        ".\n",
        "\n",
        ".\n",
        "\n",
        ".\n",
        "\n",
        ".\n",
        "\n",
        ".\n",
        "\n",
        ".\n",
        "\n",
        ".\n",
        "\n",
        ".\n",
        "\n",
        "."
      ]
    },
    {
      "cell_type": "code",
      "execution_count": null,
      "metadata": {
        
      },
      "outputs": [
        
      ],
      "source": [
        
      ]
    },
    {
      "cell_type": "markdown",
      "metadata": {
        
      },
      "source": [
        "## Why randomized rounding?\n",
        "\n",
        "Randomized rounding often does a better job of preserving the mean of a large vector than nearest-neighbor rounding.\n",
        "\n",
        "Let's suppose we have a dataset, we're going to quantize it into an 8-bit integer, and then measure the resulting mean."
      ]
    },
    {
      "cell_type": "code",
      "execution_count": null,
      "metadata": {
        
      },
      "outputs": [
        
      ],
      "source": [
        "using Statistics"
      ]
    },
    {
      "cell_type": "code",
      "execution_count": null,
      "metadata": {
        
      },
      "outputs": [
        
      ],
      "source": [
        "N = 1024;\n",
        "X_original = 0.1 * randn(N) .+ 3.4;"
      ]
    },
    {
      "cell_type": "code",
      "execution_count": null,
      "metadata": {
        
      },
      "outputs": [
        
      ],
      "source": [
        "mean(X_original)"
      ]
    },
    {
      "cell_type": "code",
      "execution_count": null,
      "metadata": {
        
      },
      "outputs": [
        
      ],
      "source": [
        "X_8bit_nearest = Int8.(round.(X_original));"
      ]
    },
    {
      "cell_type": "code",
      "execution_count": null,
      "metadata": {
        
      },
      "outputs": [
        
      ],
      "source": [
        "mean(X_8bit_nearest)"
      ]
    },
    {
      "cell_type": "code",
      "execution_count": null,
      "metadata": {
        
      },
      "outputs": [
        
      ],
      "source": [
        "X_8bit_randomized = Int8.(floor.(X_original .+ rand(N)));"
      ]
    },
    {
      "cell_type": "code",
      "execution_count": null,
      "metadata": {
        
      },
      "outputs": [
        
      ],
      "source": [
        "mean(X_8bit_randomized)"
      ]
    },
    {
      "cell_type": "code",
      "execution_count": null,
      "metadata": {
        
      },
      "outputs": [
        
      ],
      "source": [
        "abs(mean(X_8bit_randomized) - mean(X_original))"
      ]
    },
    {
      "cell_type": "code",
      "execution_count": null,
      "metadata": {
        
      },
      "outputs": [
        
      ],
      "source": [
        "abs(mean(X_8bit_nearest) - mean(X_original))"
      ]
    },
    {
      "cell_type": "code",
      "execution_count": null,
      "metadata": {
        
      },
      "outputs": [
        
      ],
      "source": [
        
      ]
    },
    {
      "cell_type": "code",
      "execution_count": null,
      "metadata": {
        
      },
      "outputs": [
        
      ],
      "source": [
        
      ]
    },
    {
      "cell_type": "code",
      "execution_count": null,
      "metadata": {
        
      },
      "outputs": [
        
      ],
      "source": [
        
      ]
    }
  ],
  "metadata": {
    "@webio": {
      "lastCommId": null,
      "lastKernelId": null
    },
    "kernelspec": {
      "display_name": "Julia 1.4.0",
      "language": "julia",
      "name": "julia-1.4"
    },
    "language_info": {
      "file_extension": ".jl",
      "mimetype": "application/julia",
      "name": "julia",
      "version": "1.4.0"
    }
  },
  "nbformat": 4,
  "nbformat_minor": 2
}