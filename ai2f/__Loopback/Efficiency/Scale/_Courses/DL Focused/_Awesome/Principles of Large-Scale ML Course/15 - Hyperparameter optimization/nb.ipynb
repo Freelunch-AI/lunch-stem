// 20220522155148
// https://www.cs.cornell.edu/courses/cs4787/2021sp/notebooks/Slides15.ipynb

{
  "cells": [
    {
      "cell_type": "code",
      "execution_count": 1,
      "metadata": {
        "slideshow": {
          "slide_type": "skip"
        }
      },
      "outputs": [
        {
          "name": "stderr",
          "output_type": "stream",
          "text": [
            "â”Œ Warning: PyPlot is using tkagg backend, which is known to cause crashes on MacOS (#410); use the MPLBACKEND environment variable to request a different backend.\n",
            "â”” @ PyPlot /Users/cdesa/.julia/packages/PyPlot/4wzW1/src/init.jl:192\n"
          ]
        }
      ],
      "source": [
        "using PyPlot\n",
        "using LinearAlgebra\n",
        "using Statistics\n",
        "using Random"
      ]
    },
    {
      "cell_type": "markdown",
      "metadata": {
        "slideshow": {
          "slide_type": "slide"
        }
      },
      "source": [
        "# Lecture 15: Hyperparameter Optimization\n",
        "\n",
        "### CS4787 --- Principles of Large-Scale Machine Learning Systems\n",
        "\n",
        "$$\\newcommand{\\Exv}[2][]{\\mathbf{E}_{#1}\\left[ #2 \\right]}$$"
      ]
    },
    {
      "cell_type": "markdown",
      "metadata": {
        "slideshow": {
          "slide_type": "slide"
        }
      },
      "source": [
        "So far in class we've talked about:\n",
        "\n",
        "* learning algorithms, such as SGD;\n",
        "* ways to accelerate these learning algorithms, such as momentum;\n",
        "* and deep learning.\n",
        "\n",
        "Each one of these methods introduces many **hyperparameters** that we need to set for the algorithms to run efficiently.\n",
        "\n",
        "And we saw that <span class=\"problem\">setting the hyperparameters suboptimally can lead to slow convergence!<span>"
      ]
    },
    {
      "cell_type": "markdown",
      "metadata": {
        "slideshow": {
          "slide_type": "slide"
        }
      },
      "source": [
        "Formally: what is a hyperparameter?\n",
        "\n",
        ">A **hyperparameter** is a parameter that is set before the main learning algorithm is run, in contrast to other model parameters that are assigned during learning.\n",
        "\n",
        "<span class=\"question\">Question: What hyperparameters have we seen so far in this course? What bad things can happen if we set them inefficiently?</span>"
      ]
    },
    {
      "cell_type": "markdown",
      "metadata": {
        "slideshow": {
          "slide_type": "fragment"
        }
      },
      "source": [
        "<div class=\"breakout\">Breakout Discussion</div>"
      ]
    },
    {
      "cell_type": "markdown",
      "metadata": {
        "slideshow": {
          "slide_type": "subslide"
        }
      },
      "source": [
        "**Examples of hyperparameters:**"
      ]
    },
    {
      "cell_type": "markdown",
      "metadata": {
        "slideshow": {
          "slide_type": "-"
        }
      },
      "source": [
        "* step size $\\alpha$\n",
        "* momentum $\\beta$\n",
        "* batch size $B$\n",
        "* etc."
      ]
    },
    {
      "cell_type": "markdown",
      "metadata": {
        "slideshow": {
          "slide_type": "slide"
        }
      },
      "source": [
        "One way to get a feeling for what hyperparameters do is **theory**. We've seen some amount of theory in this course.\n",
        "One thing that theory can do is **give us a recipe for assigning hyperparameters**.\n",
        "\n",
        "* For example, theory can tell us how to set hyperparameters for strongly convex optimization if we know the strong convexity constant $\\mu$ and the Lipschitz constant $L$.\n",
        "\n",
        "   * e.g. $\\alpha = \\frac{1}{L}$ for gradient descent\n",
        "\n",
        "* Setting hyperparameters according to theory generally gives us the right asymptotic rate.\n",
        "* And it gives us a good sense of what order of magnitude the hyperparameters should probably have, and how they should scale with problem parameters and other hyperparameters. \n",
        "* We can even (sometimes) get the *optimal* setting of hyperparameters for a given problem class. For example, for convex optimzation, we can find the best setting of hyperparameters that makes the algorithm converge for any strongly convex, Lipschitz continuous function with that $\\mu$ and $L$.\n",
        "* <span class=\"problem\">But it can be loose relative to the best setting of the hyperparameters for a particular problem/dataset!</span>"
      ]
    },
    {
      "cell_type": "markdown",
      "metadata": {
        "slideshow": {
          "slide_type": "slide"
        }
      },
      "source": [
        "<div class=\"demo\">DEMO</div>\n",
        "\n",
        "Let's look at using stochastic gradient descent with various methods to optimize logistic regression.\n",
        "First, we'll generate a training set at random from the generative model associated with logistic regression."
      ]
    },
    {
      "cell_type": "code",
      "execution_count": 2,
      "metadata": {
        "slideshow": {
          "slide_type": "fragment"
        }
      },
      "outputs": [
        
      ],
      "source": [
        "# generate the data\n",
        "Random.seed!(424242)\n",
        "d = 20;\n",
        "N = 10000;\n",
        "wtrue = randn(d);\n",
        "wtrue = d^2 * wtrue / norm(wtrue);\n",
        "X = randn(N, d);\n",
        "X ./= sqrt.(sum(X.^2; dims=2)); # initialize such that each example x_i has norm 1\n",
        "Y = (1 ./ (1 .+ exp.(-X * wtrue)) .>= rand(N)) * 2.0 .- 1.0;\n",
        "gamma = 0.001;"
      ]
    },
    {
      "cell_type": "markdown",
      "metadata": {
        "slideshow": {
          "slide_type": "fragment"
        }
      },
      "source": [
        "Let's do logistic regression with regularization here. We want to minimize\n",
        "\n",
        "$$f(w) = \\frac{1}{n} \\sum_{i=1}^n f_i(w)$$\n",
        "\n",
        "where our objective samples are of the form\n",
        "\n",
        "$$f_i(w) = \\log \\left( 1 + \\exp(-y_i x_i^T w) \\right) + \\frac{\\gamma}{2} \\| w \\|^2$$\n",
        "\n",
        "and the SGD updates will look like\n",
        "\n",
        "$$w_{t+1} = w_t + \\alpha_t \\left( \\frac{y_i x_i}{1 + \\exp(y_i x_i^T w_t)} - \\gamma w_t \\right).$$\n",
        "\n",
        "Let's look at the constants of strong convexity and Lipschitz continuity for this problem, to get a handle on the theory/optimal parameters. If we differentiate the objective twice, we get\n",
        "\n",
        "$$\\nabla^2 f_i(w) = \\frac{x_i x_i^T}{(1 + \\exp(y_i x_i^T w_t)) (1 + \\exp(-y_i x_i^T w_t))} + \\gamma I.$$\n",
        "\n",
        "It's pretty easy to see that, for any $u \\in \\mathbb{R}$,\n",
        "\n",
        "$$0 < \\frac{1}{(1 + \\exp(u)) (1 + \\exp(-u))} \\le \\frac{1}{4},$$"
      ]
    },
    {
      "cell_type": "code",
      "execution_count": 3,
      "metadata": {
        "slideshow": {
          "slide_type": "fragment"
        }
      },
      "outputs": [
        {
          "data": {
            "image/png": "[encoded data removed]",
            "text/plain": [
              "Figure(PyObject <Figure size 640x480 with 1 Axes>)"
            ]
          },
          "metadata": {
            
          },
          "output_type": "display_data"
        }
      ],
      "source": [
        "# visually\n",
        "us = collect(-5:0.01:5);\n",
        "plot(us, 1 ./ ((1 .+ exp.(us)).*(1 .+ exp.(-us))));"
      ]
    },
    {
      "cell_type": "markdown",
      "metadata": {
        "slideshow": {
          "slide_type": "fragment"
        }
      },
      "source": [
        "...and so since we initialized such that $\\| x_i \\|^2 = 1$, from the way we generated the examples, we can approximate \n",
        "\n",
        "$$\\gamma I \\preceq \\nabla^2 f_i(w) \\preceq \\left(\\gamma + \\frac{1}{4} \\right) I.$$\n",
        "\n",
        "So we can set $\\mu = \\gamma$ and $L = \\gamma + \\frac{1}{4}$.\n",
        "What about bounding the variance of the gradient samples?  \n",
        "\n",
        "\\begin{align*}\n",
        "    &\\hspace{-2em}\\mathbf{E}\\left[\\left\\| \\nabla f_i(w) - \\mathbf{E}\\left[ \\nabla f_i(w) \\right] \\right\\|^2 \\right] \\\\\n",
        "    &=\n",
        "    \\mathbf{E}\\left[\\left\\| \\frac{-y_i x_i}{1 + \\exp(y_i x_i^T w_t)} + \\gamma w_t - \\mathbf{E}\\left[ \\frac{-y_i x_i}{1 + \\exp(y_i x_i^T w_t)} + \\gamma w_t \\right] \\right\\|^2 \\right] \\\\\n",
        "    &=\n",
        "    \\mathbf{E}\\left[\\left\\| \\frac{y_i x_i}{1 + \\exp(y_i x_i^T w_t)} - \\mathbf{E}\\left[ \\frac{y_i x_i}{1 + \\exp(y_i x_i^T w_t)} \\right] \\right\\|^2 \\right] \\\\\n",
        "    &=\n",
        "    \\mathbf{E}\\left[\\left\\| \\frac{y_i x_i}{1 + \\exp(y_i x_i^T w_t)} \\right\\|^2 \\right]\n",
        "    - \\left\\| \\mathbf{E}\\left[ \\frac{y_i x_i}{1 + \\exp(y_i x_i^T w_t)} \\right] \\right\\|^2 \\\\\n",
        "    &\\le\n",
        "    \\mathbf{E}\\left[\\left\\| \\frac{y_i x_i}{1 + \\exp(y_i x_i^T w_t)} \\right\\|^2 \\right] \\\\\n",
        "    &=\n",
        "    \\mathbf{E}\\left[\\left| \\frac{y_i}{1 + \\exp(y_i x_i^T w_t)} \\right|^2 \\cdot \\| x_i \\|^2 \\right] \\\\\n",
        "    &\\le\n",
        "    \\mathbf{E}\\left[ \\left\\| x_i \\right\\|^2 \\right] \\\\\n",
        "    &\\le\n",
        "    1\n",
        "\\end{align*}\n",
        "\n",
        "where this last line happens because we sampled $x_i$ uniformly from the unit ball. So we can set $\\sigma = 1$."
      ]
    },
    {
      "cell_type": "code",
      "execution_count": 4,
      "metadata": {
        "slideshow": {
          "slide_type": "fragment"
        }
      },
      "outputs": [
        
      ],
      "source": [
        "mu = gamma;\n",
        "L = gamma + 0.25;\n",
        "sigma = 1;"
      ]
    },
    {
      "cell_type": "markdown",
      "metadata": {
        "slideshow": {
          "slide_type": "fragment"
        }
      },
      "source": [
        "How can we derive an \"optimal\" step size for SGD under these conditions?\n",
        "Well, from Lecture 9, we had that the \"optimal\" from-theory diminishing step size scheme for SGD was\n",
        "$$\\alpha_T\n",
        "    =\n",
        "    \\frac{2 \\mu (f(w_0) - f^*)}{\n",
        "        2 \\sigma^2 L\n",
        "        +\n",
        "        \\mu^2 \\cdot (f(w_0) - f^*) \\cdot T\n",
        "    }.$$\n",
        "We got this from minimizing the upper bound on our objective gap at each step.\n",
        "\n",
        "Here, this corresponds to a step size scheme of the form\n",
        "$$\\alpha_T = \\frac{\\alpha_0}{1 + \\eta T},$$\n",
        "where\n",
        "$$\\alpha_0 = \\frac{\\mu (f(w_0) - f^*)}{\\sigma^2 L}$$\n",
        "and\n",
        "$$\\eta = \\frac{\\mu^2 \\cdot (f(w_0) - f^*)}{2 \\sigma^2 L}.$$"
      ]
    },
    {
      "cell_type": "code",
      "execution_count": 5,
      "metadata": {
        "slideshow": {
          "slide_type": "fragment"
        }
      },
      "outputs": [
        
      ],
      "source": [
        "w0 = randn(d);"
      ]
    },
    {
      "cell_type": "code",
      "execution_count": 6,
      "metadata": {
        "slideshow": {
          "slide_type": "-"
        }
      },
      "outputs": [
        {
          "data": {
            "text/plain": [
              "logreg_loss (generic function with 1 method)"
            ]
          },
          "execution_count": 6,
          "metadata": {
            
          },
          "output_type": "execute_result"
        }
      ],
      "source": [
        "function logreg_loss(w::Array{Float64,1}, X::Array{Float64,2}, Y::Array{Float64,1}, gamma::Float64)\n",
        "    return mean(log.(1 .+ exp.(-Y .* (X * w)))) + (gamma / 2) * norm(w)^2;\n",
        "end"
      ]
    },
    {
      "cell_type": "code",
      "execution_count": 7,
      "metadata": {
        "slideshow": {
          "slide_type": "-"
        }
      },
      "outputs": [
        {
          "data": {
            "text/plain": [
              "sgd_logreg (generic function with 1 method)"
            ]
          },
          "execution_count": 7,
          "metadata": {
            
          },
          "output_type": "execute_result"
        }
      ],
      "source": [
        "function sgd_logreg(w0::Array{Float64,1}, alpha0::Float64, eta::Float64, X::Array{Float64,2}, Y::Array{Float64,1}, gamma::Float64, niters::Int64, wopt::Array{Float64,1})\n",
        "    w = w0\n",
        "    (N, d) = size(X)\n",
        "    dist_to_optimum = zeros(niters)\n",
        "    for k = 1:niters\n",
        "        alpha = alpha0 / (1 + eta * (k-1));\n",
        "        i = rand(1:N)\n",
        "        xi = X[i,:];\n",
        "        yi = Y[i];\n",
        "        w = (1 - alpha * gamma) * w + alpha * xi * yi / (1 + exp(yi * dot(xi, w)));\n",
        "        dist_to_optimum[k] = norm(w - wopt);\n",
        "    end\n",
        "    return (w, dist_to_optimum);\n",
        "end"
      ]
    },
    {
      "cell_type": "code",
      "execution_count": 8,
      "metadata": {
        "slideshow": {
          "slide_type": "-"
        }
      },
      "outputs": [
        {
          "data": {
            "text/plain": [
              "newton_logreg (generic function with 1 method)"
            ]
          },
          "execution_count": 8,
          "metadata": {
            
          },
          "output_type": "execute_result"
        }
      ],
      "source": [
        "# find the true minimum\n",
        "function newton_logreg(w0, X, Y, gamma, niters)\n",
        "    N = size(X, 1);\n",
        "    d = size(X, 2);\n",
        "    w = w0;\n",
        "    for k = 1:niters\n",
        "        g = -X' * (Y ./ (1 .+ exp.(Y .* (X * w)))) + N * gamma * w;\n",
        "        H = X' * ((1 ./ ((1 .+ exp.(Y .* (X * w))) .* (1 .+ exp.(-Y .* (X * w))))) .* X) + N * gamma * I;\n",
        "        w = w - H \\ g;\n",
        "        println(\"gradient norm: $(norm(g))\")\n",
        "    end\n",
        "    return w\n",
        "end"
      ]
    },
    {
      "cell_type": "code",
      "execution_count": 9,
      "metadata": {
        "slideshow": {
          "slide_type": "fragment"
        }
      },
      "outputs": [
        {
          "name": "stdout",
          "output_type": "stream",
          "text": [
            "gradient norm: 4000.0143011621494\n",
            "gradient norm: 897.3056519964077\n",
            "gradient norm: 233.1829505201235\n",
            "gradient norm: 59.11585397232122\n",
            "gradient norm: 5.912513207989782\n",
            "gradient norm: 0.06801933640344747\n",
            "gradient norm: 9.136508292096821e-6\n",
            "gradient norm: 1.7241302462688477e-13\n",
            "gradient norm: 5.164864426886177e-14\n",
            "gradient norm: 5.6426423075409946e-14\n"
          ]
        }
      ],
      "source": [
        "wopt = newton_logreg(wtrue, X, Y, gamma, 10);"
      ]
    },
    {
      "cell_type": "code",
      "execution_count": 10,
      "metadata": {
        "slideshow": {
          "slide_type": "-"
        }
      },
      "outputs": [
        
      ],
      "source": [
        "# even though we don't usually know the initial loss gap, let's cheat and use it here\n",
        "optimal_loss = logreg_loss(wopt, X, Y, gamma);\n",
        "initial_loss_gap = logreg_loss(w0, X, Y, gamma) - logreg_loss(wopt, X, Y, gamma);\n",
        "alpha0 = mu * initial_loss_gap / (sigma^2 * L);\n",
        "eta = mu^2 * initial_loss_gap / (2 * sigma^2 * L);"
      ]
    },
    {
      "cell_type": "code",
      "execution_count": 11,
      "metadata": {
        "slideshow": {
          "slide_type": "-"
        }
      },
      "outputs": [
        
      ],
      "source": [
        "n_iters = 100000;\n",
        "Random.seed!(123456);\n",
        "(w, dto) = sgd_logreg(w0, alpha0, eta, X, Y, gamma, n_iters, wopt);"
      ]
    },
    {
      "cell_type": "code",
      "execution_count": 12,
      "metadata": {
        "slideshow": {
          "slide_type": "-"
        }
      },
      "outputs": [
        {
          "data": {
            "image/png": "[encoded data removed]",
            "text/plain": [
              "Figure(PyObject <Figure size 640x480 with 1 Axes>)"
            ]
          },
          "metadata": {
            
          },
          "output_type": "display_data"
        }
      ],
      "source": [
        "plot(dto)\n",
        "xlabel(\"iteration\");\n",
        "ylabel(\"distance to optimum\");"
      ]
    },
    {
      "cell_type": "markdown",
      "metadata": {
        "slideshow": {
          "slide_type": "fragment"
        }
      },
      "source": [
        "Is this actually optimal, though? Let's try some other step sizes!"
      ]
    },
    {
      "cell_type": "code",
      "execution_count": 13,
      "metadata": {
        "slideshow": {
          "slide_type": "fragment"
        }
      },
      "outputs": [
        
      ],
      "source": [
        "Random.seed!(123456);\n",
        "(w2, dto2) = sgd_logreg(w0, 5*alpha0, eta, X, Y, gamma, n_iters, wopt);\n",
        "Random.seed!(123456);\n",
        "(w3, dto3) = sgd_logreg(w0, 25*alpha0, 100*eta, X, Y, gamma, n_iters, wopt);"
      ]
    },
    {
      "cell_type": "code",
      "execution_count": 14,
      "metadata": {
        "slideshow": {
          "slide_type": "-"
        }
      },
      "outputs": [
        {
          "data": {
            "image/png": "[encoded data removed]",
            "text/plain": [
              "Figure(PyObject <Figure size 640x480 with 1 Axes>)"
            ]
          },
          "metadata": {
            
          },
          "output_type": "display_data"
        }
      ],
      "source": [
        "plot(dto; label = \"\\\"optimal\\\" step size\")\n",
        "plot(dto2; label = \"5x optimal\")\n",
        "plot(dto3; label = \"25x optimal, different \\$\\\\eta\\$\")\n",
        "xlabel(\"iteration\");\n",
        "ylabel(\"distance to optimum\");\n",
        "legend();"
      ]
    },
    {
      "cell_type": "markdown",
      "metadata": {
        "slideshow": {
          "slide_type": "fragment"
        }
      },
      "source": [
        "<span class=\"question\">What is the best assignment of the step size, in terms of the loss, after 20000 iterations?</span>"
      ]
    },
    {
      "cell_type": "code",
      "execution_count": 15,
      "metadata": {
        "slideshow": {
          "slide_type": "fragment"
        }
      },
      "outputs": [
        
      ],
      "source": [
        "scale_factors = exp.(collect(-1:0.2:7));\n",
        "dists = Float64[];\n",
        "losses = Float64[]\n",
        "for scale_factor in scale_factors\n",
        "    Random.seed!(123456);\n",
        "    (w, sgd_dists) = sgd_logreg(w0, scale_factor*alpha0, eta, X, Y, gamma, 20000, wopt);\n",
        "    append!(dists, sgd_dists[end]);\n",
        "    append!(losses, logreg_loss(w, X, Y, gamma));\n",
        "end"
      ]
    },
    {
      "cell_type": "code",
      "execution_count": 16,
      "metadata": {
        "slideshow": {
          "slide_type": "-"
        }
      },
      "outputs": [
        {
          "data": {
            "image/png": "[encoded data removed]",
            "text/plain": [
              "Figure(PyObject <Figure size 640x480 with 1 Axes>)"
            ]
          },
          "metadata": {
            
          },
          "output_type": "display_data"
        }
      ],
      "source": [
        "loglog(scale_factors, dists);\n",
        "scatter(scale_factors[6], dists[6]);\n",
        "(_, imin) = findmin(dists);\n",
        "scatter(scale_factors[imin], dists[imin]; color=\"red \");\n",
        "xlabel(\"step size scaled by\");\n",
        "ylabel(\"distance to optimum after 20000 steps\");"
      ]
    },
    {
      "cell_type": "code",
      "execution_count": 17,
      "metadata": {
        "slideshow": {
          "slide_type": "-"
        }
      },
      "outputs": [
        {
          "data": {
            "image/png": "[encoded data removed]",
            "text/plain": [
              "Figure(PyObject <Figure size 640x480 with 1 Axes>)"
            ]
          },
          "metadata": {
            
          },
          "output_type": "display_data"
        }
      ],
      "source": [
        "loglog(scale_factors, losses .- optimal_loss);\n",
        "scatter(scale_factors[6], losses[6] - optimal_loss);\n",
        "(_, imin) = findmin(losses);\n",
        "scatter(scale_factors[imin], losses[imin] - optimal_loss; color=\"red\");\n",
        "xlabel(\"step size scaled by\");\n",
        "ylabel(\"loss gap after 20000 steps\");"
      ]
    },
    {
      "cell_type": "markdown",
      "metadata": {
        "slideshow": {
          "slide_type": "fragment"
        }
      },
      "source": [
        "**Takeaway: the theory gave us something passable (at least it converged!), but not the best.**"
      ]
    },
    {
      "cell_type": "markdown",
      "metadata": {
        "slideshow": {
          "slide_type": "slide"
        }
      },
      "source": [
        "**Summary:** the theory I showed you is doing something like\n",
        "$$\\arg \\min_{\\text{hyperparams}} \\max_{\\text{data}} \\hspace{1em} \\text{objective}.$$\n",
        "It's finding a good set of hyperparameters that will work no matter what the data is, as long as the assumptions we made are satisfied.\n",
        "\n",
        "**Key point:** This theoretical analysis does not use the training data at all to set the parameters. (Other than perhaps using it to calculate parameters like $\\mu$ and $L$).\n",
        "\n",
        "**Second key point:**  Theory only minimizes an upper bound on the objective...but the actual algorithm could do much better than the bound.\n",
        "\n",
        "Motivating question: <span class=\"question\">Can we use the data to improve our choice of parameters?</span>"
      ]
    },
    {
      "cell_type": "markdown",
      "metadata": {
        "slideshow": {
          "slide_type": "slide"
        }
      },
      "source": [
        "## Hyperparameter Optimization\n",
        "\n",
        "Any method that chooses hyperparameters automatically can be called hyperparameter optimization.\n",
        "\n",
        "* This is also sometimes called \"metaparameter optimization\" or \"tuning.\""
      ]
    },
    {
      "cell_type": "markdown",
      "metadata": {
        "slideshow": {
          "slide_type": "fragment"
        }
      },
      "source": [
        "<span class=\"question\">Question: What's the difference between hyperparameter optimization and regular training? To put it another way, when we use hyperparameter optimization to choose the hyperparameters based on the data, what's the difference between the model parameters and the hyperparameters?</span>"
      ]
    },
    {
      "cell_type": "markdown",
      "metadata": {
        "slideshow": {
          "slide_type": "fragment"
        }
      },
      "source": [
        "<div class=\"breakout\">Breakout Discussion</div>"
      ]
    },
    {
      "cell_type": "markdown",
      "metadata": {
        "slideshow": {
          "slide_type": "-"
        }
      },
      "source": [
        "Model parameters are...\n",
        "\n",
        "* More like outputs of the system\n",
        "* Affect the hypothesis (i.e. $h_W(x)$ depends on $W$)\n",
        "* Usually set by some sort of continuous optimization \n",
        "\n",
        "Hyperparameters are...\n",
        "\n",
        "* More like inputs to the system\n",
        "* Usually don't affect the hypothesis/learned model (but sometimes do)\n",
        "* Usually don't have a gradient\n",
        "* Usually involve some sort of search to set\n",
        "* Very expensive to find good ones; take \"absurd amounts\" of time to compute"
      ]
    },
    {
      "cell_type": "markdown",
      "metadata": {
        "slideshow": {
          "slide_type": "slide"
        }
      },
      "source": [
        "**Many possible goals of hyperparameter optimization:**\n",
        "\n",
        "* Simplest setting: we just care about the accuracy of the model we are going to learn, so we just want to minimize the validation error.\n",
        "* When we care about performance of our training process on hardware, we also need to factor in the cost of running training! This is especially important when we want to use hyperparameter optimization to select systems properties like the number of cores used for parallel training.\n",
        "* When we care about performance of later inference with the learned model, we also need to factor in this cost of inference.\n",
        "\n",
        "There are many ways to do hyperparameter optimization. Here are a few major categories."
      ]
    },
    {
      "cell_type": "markdown",
      "metadata": {
        "slideshow": {
          "slide_type": "subslide"
        }
      },
      "source": [
        "### The simplest strategy: hyperparameters from folklore.\n",
        "\n",
        "Idea: just set the hyperparameters by following what people have done in previous work on similar applications.\n",
        "\n",
        "* Or, even what you can remember off the top of your head.\n",
        "\n",
        "<span class=\"question\">Examples?</span>\n",
        "\n",
        "* Momentum $\\beta \\in \\{0.9, 0.99\\}$\n",
        "* Adam $\\rho_1 = 0.9$, $\\rho_2 = 0.999$\n",
        "* RMSProp $\\rho = 0.9$"
      ]
    },
    {
      "cell_type": "markdown",
      "metadata": {
        "slideshow": {
          "slide_type": "fragment"
        }
      },
      "source": [
        "### Tradeoffs of using hyperparameters set from folklore:\n",
        "\n",
        "* <span class=\"problem\">Folklore can lead you astray.</span> It's relatively easy to find tasks for which the standard hyperparameter settings are wrong or suboptimal."
      ]
    },
    {
      "cell_type": "markdown",
      "metadata": {
        "slideshow": {
          "slide_type": "fragment"
        }
      },
      "source": [
        "* **...but folklore is folklore for a reason.** These are hyperparameter settings that people have found empirically get good results. So it's likely that you will also get good results for your application if it's representitive of the type of applications for which others have observed these good results.\n",
        "\n",
        "* Main benefit of using hyperparameters from previous work: you don't have to find the hyperparameters yourself! Minimizes your computational cost."
      ]
    },
    {
      "cell_type": "markdown",
      "metadata": {
        "slideshow": {
          "slide_type": "subslide"
        }
      },
      "source": [
        "### The most complicated strategy: manual hyperparameter tuning.\n",
        "\n",
        "Idea: just fiddle with the hyperparameters by hand until you either get the results you want or give up.\n",
        "\n",
        "* Preferably this should be an expert human, but even non-experts can do good work here.\n",
        "* This is probably the most common type of hyperparameter optimization used in practice (and you've done it before yourself in the programming assignments for this course). \n",
        "   * Also known (pejoratively) as \"graduate student descent.\""
      ]
    },
    {
      "cell_type": "markdown",
      "metadata": {
        "slideshow": {
          "slide_type": "fragment"
        }
      },
      "source": [
        "### Tradeoffs of tuning by hand:\n",
        "\n",
        "* <span class=\"upside\">Upside: Results are generally of high quality.</span> Humans are smart, and expert humans in particular can usually tease out good results if they are there.\n",
        "\n",
        "* <span class=\"upside\">Subsumes all other types of hyperparameter optimization.</span> A human tuner can always choose to use any other tuning method as input to their hand-tuning process.\n",
        "\n",
        "* <span class=\"upside\">There are a lot of humans.</span> And the vast majority of human time is as yet unused for hyperparameter optimization for machine learning models!"
      ]
    },
    {
      "cell_type": "markdown",
      "metadata": {
        "slideshow": {
          "slide_type": "fragment"
        }
      },
      "source": [
        "* <span class=\"problem\">Downside: Human effort doesn't scale.</span> Especially expert human effort.\n",
        "\n",
        "* <span class=\"problem\">And it's a lot of effort.</span> Most humans would rather be doing something else.\n",
        "\n",
        "* <span class=\"problem\">And there's no theoretical guarantees.</span> Even if there is a good hyperparameter setting, there's no guarantee a particular human researcher will find it.\n",
        "\n",
        "* <span class=\"problem\">And it's hard to repeat the tuning process on a different dataset or problem.</span> Makes it difficult to replicate previous work."
      ]
    },
    {
      "cell_type": "markdown",
      "metadata": {
        "slideshow": {
          "slide_type": "subslide"
        }
      },
      "source": [
        "### One automated method: Grid search.\n",
        "\n",
        "* Idea: define some set of values you want to consider for each parameter.\n",
        "\n",
        "* Form a grid from the Cartesian product of these sets.\n",
        "\n",
        "* Then try all the parameter values in the grid, by running the whole system for each setting of the parameters.\n",
        "\n",
        "* Then choose the setting that gives the best results (depending on the metric we care about).\n",
        "\n",
        "The thing that we just did with plotting the performance of logistic-regression-SGD for many different step sizes and then picking the best one **is an instance of grid search**!"
      ]
    },
    {
      "cell_type": "markdown",
      "metadata": {
        "slideshow": {
          "slide_type": "fragment"
        }
      },
      "source": [
        "### Example of a grid for grid search on momentum SGD\n",
        "\n",
        "Grid search would run the training algorithm for **all** of the circles in this diagram.\n",
        "\n",
        "<center><img class=\"diagram\" src=\"GridDiagram.png\"></center>"
      ]
    },
    {
      "cell_type": "markdown",
      "metadata": {
        "slideshow": {
          "slide_type": "fragment"
        }
      },
      "source": [
        "### Tradeoffs of grid search:\n",
        "\n",
        "* <span class=\"upside\">Upside: Is guaranteed to explore the space.</span> Or at least it's guaranteed to explore the grid you told it to explore.\n",
        "\n",
        "* <span class=\"upside\">Highly replicable.</span> Anyone else can re-run your hyperparameter optimization algorithm easily.\n",
        "\n",
        "* <span class=\"problem\">Downside: Cost increases exponentially with the number of parameters.</span> This is the curse of dimensionality.\n",
        "\n",
        "* <span class=\"problem\">We still need some way to choose the grid properly.</span> Sometimes this can be almost as hard as the original hyperparameter optimization problem.\n",
        "\n",
        "* <span class=\"problem\">No way to take advantage of insight you have about the system</span> or about how the hyperparameters could interact."
      ]
    },
    {
      "cell_type": "markdown",
      "metadata": {
        "slideshow": {
          "slide_type": "fragment"
        }
      },
      "source": [
        "### How can we make grid search fast?\n",
        "\n",
        "Two simple tricks I'll mention here:\n",
        "\n",
        "* **Early stopping.** Can abort some of the runs in the grid early if it becomes clear that they will be suboptimal.\n",
        "\n",
        "* **Parallelism.** Grid search is an embarassingly parallel method. We can evaluate the grid points independently on parallel machines and get near-linear speedup. "
      ]
    },
    {
      "cell_type": "markdown",
      "metadata": {
        "slideshow": {
          "slide_type": "subslide"
        }
      },
      "source": [
        "### Can we use one of our principles of large-scale machine learning to improve grid search?\n",
        "\n",
        "Recall the two major principles we've discussed so far."
      ]
    },
    {
      "cell_type": "markdown",
      "metadata": {
        "slideshow": {
          "slide_type": "subslide"
        }
      },
      "source": [
        "### $\\blacktriangleright$ Combine grid search with subsampling. \n",
        "\n",
        "**The resulting method: Random search.**\n",
        "\n",
        "* Idea: define some distribution over each parameter you want to explore.\n",
        "\n",
        "* Take some number $N$ of random samples from the joint distribution of all the parameters.\n",
        "\n",
        "* Try all those sampled values, by running the whole system for each setting of the parameters.\n",
        "\n",
        "* Then choose the setting that gives the best results."
      ]
    },
    {
      "cell_type": "markdown",
      "metadata": {
        "slideshow": {
          "slide_type": "fragment"
        }
      },
      "source": [
        "### Tradeoffs of random search vs grid search:\n",
        "\n",
        "* <span class=\"upside\">Upside: Solves the curse of dimensionality.</span> We often don't need to increase the number of sample points exponentially as the number of dimensions increases.\n",
        "\n",
        "* <span class=\"problem\">Downside: Not as replicable.</span> Results depend on a random seed.\n",
        "\n",
        "* <span class=\"problem\">Downside: Not necessarily going to go anywhere near the optimal parameters in a finite sample.</span>\n",
        "\n",
        "* Same downsides as grid search: needing to choose the search space and no way of taking advantage of insight about the system."
      ]
    },
    {
      "cell_type": "markdown",
      "metadata": {
        "slideshow": {
          "slide_type": "fragment"
        }
      },
      "source": [
        "### When does random search work better than grid search?\n",
        "\n",
        "A quote:\n",
        "\n",
        "> In this work we show that random search is more efficient than grid search in high-dimensional\n",
        "spaces because functions $\\Psi$ of interest have a low effective dimensionality; essentially, $\\Psi$ of interest\n",
        "are more sensitive to changes in some dimensions than others (Caflisch et al., 1997). In particular, if\n",
        "a function $f$ of two variables could be approximated by another function of one variable ($f(x_1, x_2) \\approx\n",
        "g(x_1)$), we could say that $f$ has a low effective dimension.\n",
        "\n",
        "from _\"Random Search for Hyper-Parameter Optimization\", Bergstra and Bengio_\n"
      ]
    },
    {
      "cell_type": "markdown",
      "metadata": {
        "slideshow": {
          "slide_type": "subslide"
        }
      },
      "source": [
        "### $\\blacktriangleright$ Do hyperparameter search with optimization.\n",
        "\n",
        "**One resulting method: Derivative-free optimization (DFO).**\n",
        "\n",
        "* Idea: usually in hyperparameter optimization problems we can't automatically differentiate with respect to the hyperparameters (if the objective is even differentiable with respect to the hyperparameters at all).\n",
        "  * Although sometimes we can, in which case gradient-based hyperparameter optimization methods are an option.\n",
        "\n",
        "* But usually we can't use powerful large-scale optimization methods like GD and SGD.\n",
        "\n",
        "* One class of methods that we can use is called **derivative-free optimization** methods.\n",
        "\n",
        "* These methods solve an optimization problem without using derivative information.\n",
        "\n",
        "* Instead they just use objective values (rather than objective gradients) to optimize.\n",
        "\n",
        "* Just like SGD and GD, they (usually) operate by iteratively updating a value for the parameters by moving them in a direction that seems to decrease the loss.\n",
        "\n",
        "Derivative free optimization is generally slow relative to other methods that can be used.\n",
        "(In particular, it's often asymptotically slower than gradient-based methods when they can be used, which is why it isn't usually used for differentiable objective.)\n",
        "But it still sees occasional use for hyperparameter optimization, as well as for cases where we want to minimize a loss that is not differentiable."
      ]
    },
    {
      "cell_type": "markdown",
      "metadata": {
        "slideshow": {
          "slide_type": "subslide"
        }
      },
      "source": [
        "<span class=\"question\">Question: how can we incorporate our own knowledge and insights about the problem into an optimization method?</span>\n",
        "\n",
        "$\\blacktriangleright$ One way to do this: **Bayesian Optimization.**\n",
        "\n",
        "* Basically a \"smart search\" of the space that decides which hyperparameter setting to evaluate next based on past observations.\n",
        "\n",
        "* Will search more nearby points observed to do well in the past."
      ]
    },
    {
      "cell_type": "markdown",
      "metadata": {
        "slideshow": {
          "slide_type": "slide"
        }
      },
      "source": [
        "# Summary\n",
        "\n",
        "We learned about hyperparameter optimization, which describes techniques used to set hyperparameters.\n",
        "We discussed why theoretical settings of hyperparameters aren't necessarily the ones we want to use in practice.\n",
        "We discussed several methods for hyperparameter optimization:\n",
        "\n",
        "* Hyperparameters from folklore\n",
        "\n",
        "* Manual tuning\n",
        "\n",
        "* Grid search\n",
        "\n",
        "* Random search\n",
        "\n",
        "* Bayesian optimization/derivative-free optimization\n",
        "\n",
        "### Next time...a specific example: Scaling kernel machines!"
      ]
    }
  ],
  "metadata": {
    "@webio": {
      "lastCommId": null,
      "lastKernelId": null
    },
    "celltoolbar": "Slideshow",
    "kernelspec": {
      "display_name": "Julia 1.4.0",
      "language": "julia",
      "name": "julia-1.4"
    },
    "language_info": {
      "file_extension": ".jl",
      "mimetype": "application/julia",
      "name": "julia",
      "version": "1.4.0"
    },
    "rise": {
      "scroll": true
    }
  },
  "nbformat": 4,
  "nbformat_minor": 2
}